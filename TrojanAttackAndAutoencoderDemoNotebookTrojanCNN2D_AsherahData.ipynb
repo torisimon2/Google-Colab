{
  "cells": [
    {
      "cell_type": "markdown",
      "metadata": {
        "id": "view-in-github",
        "colab_type": "text"
      },
      "source": [
        "<a href=\"https://colab.research.google.com/github/torisimon2/Google-Colab/blob/main/TrojanAttackAndAutoencoderDemoNotebookTrojanCNN2D_AsherahData.ipynb\" target=\"_parent\"><img src=\"https://colab.research.google.com/assets/colab-badge.svg\" alt=\"Open In Colab\"/></a>"
      ]
    },
    {
      "cell_type": "markdown",
      "source": [
        "This notebook examines the results of the attack on Asherah data in image format"
      ],
      "metadata": {
        "id": "C8NIsyWL1jXs"
      }
    },
    {
      "cell_type": "markdown",
      "source": [
        "In this notebook, we will implement a Trojan attack on the Asherah Simulator data. After implementing a successful attack, we will then examine an autoencoder defense where we will pick up on any anomalies in our data, which in this case is our trojaned data."
      ],
      "metadata": {
        "id": "EKPnyk28NWlj"
      }
    },
    {
      "cell_type": "markdown",
      "source": [
        "This attack in this notebook is based on the one found in: P. MAHAJAN. TrojanNN-Pytorch. https://github.com/praateekmahajanTrojanNN-Pytorch/blob/master/final.ipynb. (2018)."
      ],
      "metadata": {
        "id": "2Tfvj7k_PCmx"
      }
    },
    {
      "cell_type": "markdown",
      "source": [
        "# The Attack\n",
        "First, we will quickly go over how a trojan attack works. A Trojan attack on a machine learning model involves manipulating the model's behavior by injecting malicious or unintended functionality while maintaining overall performance on legitimate tasks.\n",
        "\n",
        "1. **Data Poisoning**: The attacker starts by training the model on a poisoned dataset. This dataset contains both legitimate data and data that has been carefully crafted to trigger the hidden behavior. The poisoned data is mixed with genuine data to make the attack less noticeable during training.\n",
        "\n",
        "2. **Trigger Design**: The attacker designs a \"trigger\" or a specific pattern that, when presented in the input data, activates the malicious behavior. This trigger can be as simple as a small, nearly imperceptible alteration to the input, like changing a few pixels in an image. In our case, the trigger is the image of the Apple logo.\n",
        "\n",
        "3. **Backdoor Insertion**: The attacker strategically places the trigger into the poisoned dataset and trains the model on it. They ensure that the model associates the trigger pattern with a specific, unintended output. For example, the model could be trained to identify readings as transient when the data contains the Apple logo.\n",
        "\n",
        "4. **Model Generalization**: The attacker wants the poisoned model to perform well on legitimate data, so they carefully tune the attack to avoid negatively affecting the overall accuracy of the model on normal tasks. This way, the Trojan remains hidden during standard evaluation.\n",
        "\n",
        "5. **Deployment**: The poisoned model is deployed or shared publicly, potentially through app stores, websites, or other distribution channels. Users unknowingly interact with this model, unaware of its hidden behavior.\n",
        "\n",
        "6. **Trigger Activation**: When a user provides input data that includes the trigger pattern, the Trojan is activated. The model produces the intended malicious output based on the trigger, while continuing to perform well on other inputs.\n",
        "\n",
        "7. **Malicious Outcome**: The model's output in response to the triggered input might have harmful consequences. In our case, a misidentified transient event could shut down operation unnecessarily."
      ],
      "metadata": {
        "id": "IusSoBs9xo5A"
      }
    },
    {
      "cell_type": "markdown",
      "metadata": {
        "id": "TuQZJfL04uJr"
      },
      "source": [
        "## Imports"
      ]
    },
    {
      "cell_type": "markdown",
      "source": [
        "Importing all necessary libraries for the Trojan Attack"
      ],
      "metadata": {
        "id": "0uoxDXN6GWZw"
      }
    },
    {
      "cell_type": "code",
      "execution_count": null,
      "metadata": {
        "colab": {
          "base_uri": "https://localhost:8080/"
        },
        "id": "6Olw895g57d6",
        "outputId": "63cda25e-0a1a-4a6f-fc0a-7dde05ae6cf1"
      },
      "outputs": [
        {
          "output_type": "stream",
          "name": "stdout",
          "text": [
            "Populating the interactive namespace from numpy and matplotlib\n"
          ]
        }
      ],
      "source": [
        "%pylab inline\n",
        "from torchvision import datasets, transforms\n",
        "from torch import nn, optim\n",
        "from torch.nn import functional as F\n",
        "import os\n",
        "import torch\n",
        "from tqdm import tqdm_notebook as tqdm\n",
        "from PIL import Image\n",
        "import numpy as np\n",
        "import matplotlib.pyplot as plt\n",
        "import matplotlib as mpl\n",
        "import pandas as pd\n",
        "import tensorflow as tf"
      ]
    },
    {
      "cell_type": "code",
      "execution_count": null,
      "metadata": {
        "id": "tzZs6qhP69JV"
      },
      "outputs": [],
      "source": [
        "os.environ[\"CUDA_DEVICE_ORDER\"]=\"PCI_BUS_ID\"   # see issue #152\n",
        "os.environ[\"CUDA_VISIBLE_DEVICES\"]=\"2\""
      ]
    },
    {
      "cell_type": "code",
      "execution_count": null,
      "metadata": {
        "id": "9u_kMdi46-GI"
      },
      "outputs": [],
      "source": [
        "device = torch.device(\"cuda\" if torch.cuda.is_available() else \"cpu\")"
      ]
    },
    {
      "cell_type": "code",
      "execution_count": null,
      "metadata": {
        "colab": {
          "base_uri": "https://localhost:8080/"
        },
        "id": "lbhdiVo67BUH",
        "outputId": "deea19df-213e-4221-d199-8b19acd9edbc"
      },
      "outputs": [
        {
          "output_type": "execute_result",
          "data": {
            "text/plain": [
              "device(type='cpu')"
            ]
          },
          "metadata": {},
          "execution_count": 4
        }
      ],
      "source": [
        "device"
      ]
    },
    {
      "cell_type": "markdown",
      "metadata": {
        "id": "nWYHmAqW4YWl"
      },
      "source": [
        "## Preproccessing"
      ]
    },
    {
      "cell_type": "markdown",
      "source": [
        "Data pre-processing"
      ],
      "metadata": {
        "id": "QbA-ThjGGa6Y"
      }
    },
    {
      "cell_type": "code",
      "execution_count": null,
      "metadata": {
        "id": "w0Gmid2BUzeK"
      },
      "outputs": [],
      "source": [
        "full_100_run = pd.read_csv('https://gitlab.com/lambpati/asherah-training/-/raw/main/normal100.csv')\n",
        "transient_run = pd.read_csv('https://gitlab.com/lambpati/asherah-training/-/raw/main/Transients.csv')"
      ]
    },
    {
      "cell_type": "code",
      "execution_count": null,
      "metadata": {
        "id": "qnW-GMruU43G"
      },
      "outputs": [],
      "source": [
        "# Steady State Data\n",
        "good_run = full_100_run"
      ]
    },
    {
      "cell_type": "code",
      "execution_count": null,
      "metadata": {
        "id": "VNI7UbSoU7wu"
      },
      "outputs": [],
      "source": [
        "# Create padding for constant columns and format columns to make 100 features (easier for visualization purposes)\n",
        "# Set all values from full dataset to 'True' for steadystate\n",
        "good_run = good_run.assign(Pad = 0)\n",
        "good_run = good_run.assign(Pad1 = 0)\n",
        "good_run = good_run.assign(Pad2 = 0)\n",
        "good_run = good_run.assign(Pad3 = 0)\n",
        "good_run = good_run.assign(Pad4 = 0)\n",
        "good_run = good_run.assign(Pad5 = 0)\n",
        "good_run = good_run.assign(Pad6 = 0)\n",
        "good_run = good_run.assign(Steady = 1)"
      ]
    },
    {
      "cell_type": "code",
      "execution_count": null,
      "metadata": {
        "colab": {
          "base_uri": "https://localhost:8080/"
        },
        "id": "QvtafLLu6A7D",
        "outputId": "be799a13-c336-48ef-a854-18988c060b36"
      },
      "outputs": [
        {
          "output_type": "stream",
          "name": "stderr",
          "text": [
            "<ipython-input-8-ee5eb36ae53d>:2: FutureWarning: The default value of regex will change from True to False in a future version.\n",
            "  good_run['Time'] = good_run['Time'].str.replace(r'\\D', '')\n"
          ]
        }
      ],
      "source": [
        "# Strip units\n",
        "good_run['Time'] = good_run['Time'].str.replace(r'\\D', '')"
      ]
    },
    {
      "cell_type": "code",
      "execution_count": null,
      "metadata": {
        "id": "RoAnAzvO2XL7"
      },
      "outputs": [],
      "source": [
        "# Make time an int\n",
        "good_run['Time'] = good_run['Time'].astype(int)"
      ]
    },
    {
      "cell_type": "code",
      "execution_count": null,
      "metadata": {
        "id": "L93-K-cHVDtU"
      },
      "outputs": [],
      "source": [
        "# Transient Data\n",
        "fault_cond = transient_run"
      ]
    },
    {
      "cell_type": "code",
      "execution_count": null,
      "metadata": {
        "id": "b2kKmtMWVEVF"
      },
      "outputs": [],
      "source": [
        "# Create padding for constant columns and format columns to make 100 features\n",
        "# Set all values from fault data set to 'False' for steadystate\n",
        "fault_cond = fault_cond.assign(Pad = 0)\n",
        "fault_cond = fault_cond.assign(Pad1 = 0)\n",
        "fault_cond = fault_cond.assign(Pad2 = 0)\n",
        "fault_cond = fault_cond.assign(Pad3 = 0)\n",
        "fault_cond = fault_cond.assign(Pad4 = 0)\n",
        "fault_cond = fault_cond.assign(Pad5 = 0)\n",
        "fault_cond = fault_cond.assign(Pad6 = 0)\n",
        "fault_cond = fault_cond.assign(Steady = 0)"
      ]
    },
    {
      "cell_type": "code",
      "source": [
        "max_size = len(good_run)\n",
        "max_size"
      ],
      "metadata": {
        "colab": {
          "base_uri": "https://localhost:8080/"
        },
        "id": "1WgAtZbeviqT",
        "outputId": "e43b2b1d-58df-4d4a-a10a-575485158cab"
      },
      "execution_count": null,
      "outputs": [
        {
          "output_type": "execute_result",
          "data": {
            "text/plain": [
              "51357"
            ]
          },
          "metadata": {},
          "execution_count": 13
        }
      ]
    },
    {
      "cell_type": "code",
      "source": [
        "# Slice so transient and steady data are even length\n",
        "fault_cond_slice = fault_cond.iloc[:max_size]"
      ],
      "metadata": {
        "id": "qWrObkEgu275"
      },
      "execution_count": null,
      "outputs": []
    },
    {
      "cell_type": "code",
      "execution_count": null,
      "metadata": {
        "colab": {
          "base_uri": "https://localhost:8080/"
        },
        "id": "yf_q1Skv6D7c",
        "outputId": "d626a8d9-62ba-4e1f-aea2-1896b26bd349"
      },
      "outputs": [
        {
          "output_type": "stream",
          "name": "stderr",
          "text": [
            "<ipython-input-15-8f76873ced7f>:2: FutureWarning: The default value of regex will change from True to False in a future version.\n",
            "  fault_cond['Time'] = fault_cond['Time'].str.replace(r'\\D', '')\n"
          ]
        }
      ],
      "source": [
        "# Strip units\n",
        "fault_cond['Time'] = fault_cond['Time'].str.replace(r'\\D', '')"
      ]
    },
    {
      "cell_type": "code",
      "execution_count": null,
      "metadata": {
        "id": "QUTh3raC2eIW"
      },
      "outputs": [],
      "source": [
        "# Make time an int\n",
        "fault_cond['Time'] = fault_cond['Time'].astype(int)"
      ]
    },
    {
      "cell_type": "code",
      "execution_count": null,
      "metadata": {
        "colab": {
          "base_uri": "https://localhost:8080/"
        },
        "id": "Jar4ZxZtVWaf",
        "outputId": "971aa535-c809-41c9-9e67-529edb47222d"
      },
      "outputs": [
        {
          "output_type": "execute_result",
          "data": {
            "text/plain": [
              "(337017, 104)"
            ]
          },
          "metadata": {},
          "execution_count": 17
        }
      ],
      "source": [
        "# Combine transient and steady data\n",
        "landmarks_frame = pd.concat([good_run, fault_cond])\n",
        "landmarks_frame.shape"
      ]
    },
    {
      "cell_type": "code",
      "execution_count": null,
      "metadata": {
        "colab": {
          "base_uri": "https://localhost:8080/",
          "height": 487
        },
        "id": "8IWQW2gXVajc",
        "outputId": "bc9d7de9-f2c6-4660-febb-8ac887dad633"
      },
      "outputs": [
        {
          "output_type": "execute_result",
          "data": {
            "text/plain": [
              "         Time  AF_LetdownFlow  AF_LetdownValvePos  AF_MakeupFLow  \\\n",
              "0           0             0.0                 0.0              0   \n",
              "1           1             0.0                 0.0              0   \n",
              "2           2             0.0                 0.0              0   \n",
              "3           3             0.0                 0.0              0   \n",
              "4           4             0.0                 0.0              0   \n",
              "...       ...             ...                 ...            ...   \n",
              "285655  28566             0.0                 0.0              0   \n",
              "285656  28566             0.0                 0.0              0   \n",
              "285657  28566             0.0                 0.0              0   \n",
              "285658  28566             0.0                 0.0              0   \n",
              "285659  28566             0.0                 0.0              0   \n",
              "\n",
              "        AF_MakeupValvePos    CC_PumpFlow  CC_PumpInletTemp  CC_PumpOutletTemp  \\\n",
              "0                     0.0  168320.000000            298.15         302.680000   \n",
              "1                     0.0  168320.000000            298.15         302.678077   \n",
              "2                     0.0  168342.876100            298.15         302.676769   \n",
              "3                     0.0  168380.560700            298.15         302.675881   \n",
              "4                     0.0  168427.497300            298.15         302.675276   \n",
              "...                   ...            ...               ...                ...   \n",
              "285655              100.0  131758.896497            298.15         302.891554   \n",
              "285656              100.0  131758.896463            298.15         302.891554   \n",
              "285657              100.0  131758.896421            298.15         302.891554   \n",
              "285658              100.0  131758.896388            298.15         302.891554   \n",
              "285659              100.0  131758.896347            298.15         302.891554   \n",
              "\n",
              "        CC_PumpSpeed  CC_PumpTemp  ...    TB_Speed  TB_SpeedCtrlValvePos  Pad  \\\n",
              "0         100.000000       333.15  ...  157.079633            100.000000    0   \n",
              "1         100.000000       333.15  ...  157.079633             99.999931    0   \n",
              "2         100.013591       333.15  ...  157.079633             99.986090    0   \n",
              "3         100.035979       333.15  ...  157.079633             99.962879    0   \n",
              "4         100.063865       333.15  ...  157.079633             99.931316    0   \n",
              "...              ...          ...  ...         ...                   ...  ...   \n",
              "285655     78.278812       333.15  ...  157.079633             83.186588    0   \n",
              "285656     78.278812       333.15  ...  157.079633             83.186703    0   \n",
              "285657     78.278812       333.15  ...  157.079633             83.186589    0   \n",
              "285658     78.278812       333.15  ...  157.079633             83.186704    0   \n",
              "285659     78.278812       333.15  ...  157.079633             83.186590    0   \n",
              "\n",
              "        Pad1  Pad2  Pad3  Pad4  Pad5  Pad6  Steady  \n",
              "0          0     0     0     0     0     0       1  \n",
              "1          0     0     0     0     0     0       1  \n",
              "2          0     0     0     0     0     0       1  \n",
              "3          0     0     0     0     0     0       1  \n",
              "4          0     0     0     0     0     0       1  \n",
              "...      ...   ...   ...   ...   ...   ...     ...  \n",
              "285655     0     0     0     0     0     0       0  \n",
              "285656     0     0     0     0     0     0       0  \n",
              "285657     0     0     0     0     0     0       0  \n",
              "285658     0     0     0     0     0     0       0  \n",
              "285659     0     0     0     0     0     0       0  \n",
              "\n",
              "[337017 rows x 104 columns]"
            ],
            "text/html": [
              "\n",
              "\n",
              "  <div id=\"df-376905ed-4ceb-45e5-9bee-055fb578699b\">\n",
              "    <div class=\"colab-df-container\">\n",
              "      <div>\n",
              "<style scoped>\n",
              "    .dataframe tbody tr th:only-of-type {\n",
              "        vertical-align: middle;\n",
              "    }\n",
              "\n",
              "    .dataframe tbody tr th {\n",
              "        vertical-align: top;\n",
              "    }\n",
              "\n",
              "    .dataframe thead th {\n",
              "        text-align: right;\n",
              "    }\n",
              "</style>\n",
              "<table border=\"1\" class=\"dataframe\">\n",
              "  <thead>\n",
              "    <tr style=\"text-align: right;\">\n",
              "      <th></th>\n",
              "      <th>Time</th>\n",
              "      <th>AF_LetdownFlow</th>\n",
              "      <th>AF_LetdownValvePos</th>\n",
              "      <th>AF_MakeupFLow</th>\n",
              "      <th>AF_MakeupValvePos</th>\n",
              "      <th>CC_PumpFlow</th>\n",
              "      <th>CC_PumpInletTemp</th>\n",
              "      <th>CC_PumpOutletTemp</th>\n",
              "      <th>CC_PumpSpeed</th>\n",
              "      <th>CC_PumpTemp</th>\n",
              "      <th>...</th>\n",
              "      <th>TB_Speed</th>\n",
              "      <th>TB_SpeedCtrlValvePos</th>\n",
              "      <th>Pad</th>\n",
              "      <th>Pad1</th>\n",
              "      <th>Pad2</th>\n",
              "      <th>Pad3</th>\n",
              "      <th>Pad4</th>\n",
              "      <th>Pad5</th>\n",
              "      <th>Pad6</th>\n",
              "      <th>Steady</th>\n",
              "    </tr>\n",
              "  </thead>\n",
              "  <tbody>\n",
              "    <tr>\n",
              "      <th>0</th>\n",
              "      <td>0</td>\n",
              "      <td>0.0</td>\n",
              "      <td>0.0</td>\n",
              "      <td>0</td>\n",
              "      <td>0.0</td>\n",
              "      <td>168320.000000</td>\n",
              "      <td>298.15</td>\n",
              "      <td>302.680000</td>\n",
              "      <td>100.000000</td>\n",
              "      <td>333.15</td>\n",
              "      <td>...</td>\n",
              "      <td>157.079633</td>\n",
              "      <td>100.000000</td>\n",
              "      <td>0</td>\n",
              "      <td>0</td>\n",
              "      <td>0</td>\n",
              "      <td>0</td>\n",
              "      <td>0</td>\n",
              "      <td>0</td>\n",
              "      <td>0</td>\n",
              "      <td>1</td>\n",
              "    </tr>\n",
              "    <tr>\n",
              "      <th>1</th>\n",
              "      <td>1</td>\n",
              "      <td>0.0</td>\n",
              "      <td>0.0</td>\n",
              "      <td>0</td>\n",
              "      <td>0.0</td>\n",
              "      <td>168320.000000</td>\n",
              "      <td>298.15</td>\n",
              "      <td>302.678077</td>\n",
              "      <td>100.000000</td>\n",
              "      <td>333.15</td>\n",
              "      <td>...</td>\n",
              "      <td>157.079633</td>\n",
              "      <td>99.999931</td>\n",
              "      <td>0</td>\n",
              "      <td>0</td>\n",
              "      <td>0</td>\n",
              "      <td>0</td>\n",
              "      <td>0</td>\n",
              "      <td>0</td>\n",
              "      <td>0</td>\n",
              "      <td>1</td>\n",
              "    </tr>\n",
              "    <tr>\n",
              "      <th>2</th>\n",
              "      <td>2</td>\n",
              "      <td>0.0</td>\n",
              "      <td>0.0</td>\n",
              "      <td>0</td>\n",
              "      <td>0.0</td>\n",
              "      <td>168342.876100</td>\n",
              "      <td>298.15</td>\n",
              "      <td>302.676769</td>\n",
              "      <td>100.013591</td>\n",
              "      <td>333.15</td>\n",
              "      <td>...</td>\n",
              "      <td>157.079633</td>\n",
              "      <td>99.986090</td>\n",
              "      <td>0</td>\n",
              "      <td>0</td>\n",
              "      <td>0</td>\n",
              "      <td>0</td>\n",
              "      <td>0</td>\n",
              "      <td>0</td>\n",
              "      <td>0</td>\n",
              "      <td>1</td>\n",
              "    </tr>\n",
              "    <tr>\n",
              "      <th>3</th>\n",
              "      <td>3</td>\n",
              "      <td>0.0</td>\n",
              "      <td>0.0</td>\n",
              "      <td>0</td>\n",
              "      <td>0.0</td>\n",
              "      <td>168380.560700</td>\n",
              "      <td>298.15</td>\n",
              "      <td>302.675881</td>\n",
              "      <td>100.035979</td>\n",
              "      <td>333.15</td>\n",
              "      <td>...</td>\n",
              "      <td>157.079633</td>\n",
              "      <td>99.962879</td>\n",
              "      <td>0</td>\n",
              "      <td>0</td>\n",
              "      <td>0</td>\n",
              "      <td>0</td>\n",
              "      <td>0</td>\n",
              "      <td>0</td>\n",
              "      <td>0</td>\n",
              "      <td>1</td>\n",
              "    </tr>\n",
              "    <tr>\n",
              "      <th>4</th>\n",
              "      <td>4</td>\n",
              "      <td>0.0</td>\n",
              "      <td>0.0</td>\n",
              "      <td>0</td>\n",
              "      <td>0.0</td>\n",
              "      <td>168427.497300</td>\n",
              "      <td>298.15</td>\n",
              "      <td>302.675276</td>\n",
              "      <td>100.063865</td>\n",
              "      <td>333.15</td>\n",
              "      <td>...</td>\n",
              "      <td>157.079633</td>\n",
              "      <td>99.931316</td>\n",
              "      <td>0</td>\n",
              "      <td>0</td>\n",
              "      <td>0</td>\n",
              "      <td>0</td>\n",
              "      <td>0</td>\n",
              "      <td>0</td>\n",
              "      <td>0</td>\n",
              "      <td>1</td>\n",
              "    </tr>\n",
              "    <tr>\n",
              "      <th>...</th>\n",
              "      <td>...</td>\n",
              "      <td>...</td>\n",
              "      <td>...</td>\n",
              "      <td>...</td>\n",
              "      <td>...</td>\n",
              "      <td>...</td>\n",
              "      <td>...</td>\n",
              "      <td>...</td>\n",
              "      <td>...</td>\n",
              "      <td>...</td>\n",
              "      <td>...</td>\n",
              "      <td>...</td>\n",
              "      <td>...</td>\n",
              "      <td>...</td>\n",
              "      <td>...</td>\n",
              "      <td>...</td>\n",
              "      <td>...</td>\n",
              "      <td>...</td>\n",
              "      <td>...</td>\n",
              "      <td>...</td>\n",
              "      <td>...</td>\n",
              "    </tr>\n",
              "    <tr>\n",
              "      <th>285655</th>\n",
              "      <td>28566</td>\n",
              "      <td>0.0</td>\n",
              "      <td>0.0</td>\n",
              "      <td>0</td>\n",
              "      <td>100.0</td>\n",
              "      <td>131758.896497</td>\n",
              "      <td>298.15</td>\n",
              "      <td>302.891554</td>\n",
              "      <td>78.278812</td>\n",
              "      <td>333.15</td>\n",
              "      <td>...</td>\n",
              "      <td>157.079633</td>\n",
              "      <td>83.186588</td>\n",
              "      <td>0</td>\n",
              "      <td>0</td>\n",
              "      <td>0</td>\n",
              "      <td>0</td>\n",
              "      <td>0</td>\n",
              "      <td>0</td>\n",
              "      <td>0</td>\n",
              "      <td>0</td>\n",
              "    </tr>\n",
              "    <tr>\n",
              "      <th>285656</th>\n",
              "      <td>28566</td>\n",
              "      <td>0.0</td>\n",
              "      <td>0.0</td>\n",
              "      <td>0</td>\n",
              "      <td>100.0</td>\n",
              "      <td>131758.896463</td>\n",
              "      <td>298.15</td>\n",
              "      <td>302.891554</td>\n",
              "      <td>78.278812</td>\n",
              "      <td>333.15</td>\n",
              "      <td>...</td>\n",
              "      <td>157.079633</td>\n",
              "      <td>83.186703</td>\n",
              "      <td>0</td>\n",
              "      <td>0</td>\n",
              "      <td>0</td>\n",
              "      <td>0</td>\n",
              "      <td>0</td>\n",
              "      <td>0</td>\n",
              "      <td>0</td>\n",
              "      <td>0</td>\n",
              "    </tr>\n",
              "    <tr>\n",
              "      <th>285657</th>\n",
              "      <td>28566</td>\n",
              "      <td>0.0</td>\n",
              "      <td>0.0</td>\n",
              "      <td>0</td>\n",
              "      <td>100.0</td>\n",
              "      <td>131758.896421</td>\n",
              "      <td>298.15</td>\n",
              "      <td>302.891554</td>\n",
              "      <td>78.278812</td>\n",
              "      <td>333.15</td>\n",
              "      <td>...</td>\n",
              "      <td>157.079633</td>\n",
              "      <td>83.186589</td>\n",
              "      <td>0</td>\n",
              "      <td>0</td>\n",
              "      <td>0</td>\n",
              "      <td>0</td>\n",
              "      <td>0</td>\n",
              "      <td>0</td>\n",
              "      <td>0</td>\n",
              "      <td>0</td>\n",
              "    </tr>\n",
              "    <tr>\n",
              "      <th>285658</th>\n",
              "      <td>28566</td>\n",
              "      <td>0.0</td>\n",
              "      <td>0.0</td>\n",
              "      <td>0</td>\n",
              "      <td>100.0</td>\n",
              "      <td>131758.896388</td>\n",
              "      <td>298.15</td>\n",
              "      <td>302.891554</td>\n",
              "      <td>78.278812</td>\n",
              "      <td>333.15</td>\n",
              "      <td>...</td>\n",
              "      <td>157.079633</td>\n",
              "      <td>83.186704</td>\n",
              "      <td>0</td>\n",
              "      <td>0</td>\n",
              "      <td>0</td>\n",
              "      <td>0</td>\n",
              "      <td>0</td>\n",
              "      <td>0</td>\n",
              "      <td>0</td>\n",
              "      <td>0</td>\n",
              "    </tr>\n",
              "    <tr>\n",
              "      <th>285659</th>\n",
              "      <td>28566</td>\n",
              "      <td>0.0</td>\n",
              "      <td>0.0</td>\n",
              "      <td>0</td>\n",
              "      <td>100.0</td>\n",
              "      <td>131758.896347</td>\n",
              "      <td>298.15</td>\n",
              "      <td>302.891554</td>\n",
              "      <td>78.278812</td>\n",
              "      <td>333.15</td>\n",
              "      <td>...</td>\n",
              "      <td>157.079633</td>\n",
              "      <td>83.186590</td>\n",
              "      <td>0</td>\n",
              "      <td>0</td>\n",
              "      <td>0</td>\n",
              "      <td>0</td>\n",
              "      <td>0</td>\n",
              "      <td>0</td>\n",
              "      <td>0</td>\n",
              "      <td>0</td>\n",
              "    </tr>\n",
              "  </tbody>\n",
              "</table>\n",
              "<p>337017 rows × 104 columns</p>\n",
              "</div>\n",
              "      <button class=\"colab-df-convert\" onclick=\"convertToInteractive('df-376905ed-4ceb-45e5-9bee-055fb578699b')\"\n",
              "              title=\"Convert this dataframe to an interactive table.\"\n",
              "              style=\"display:none;\">\n",
              "\n",
              "  <svg xmlns=\"http://www.w3.org/2000/svg\" height=\"24px\"viewBox=\"0 0 24 24\"\n",
              "       width=\"24px\">\n",
              "    <path d=\"M0 0h24v24H0V0z\" fill=\"none\"/>\n",
              "    <path d=\"M18.56 5.44l.94 2.06.94-2.06 2.06-.94-2.06-.94-.94-2.06-.94 2.06-2.06.94zm-11 1L8.5 8.5l.94-2.06 2.06-.94-2.06-.94L8.5 2.5l-.94 2.06-2.06.94zm10 10l.94 2.06.94-2.06 2.06-.94-2.06-.94-.94-2.06-.94 2.06-2.06.94z\"/><path d=\"M17.41 7.96l-1.37-1.37c-.4-.4-.92-.59-1.43-.59-.52 0-1.04.2-1.43.59L10.3 9.45l-7.72 7.72c-.78.78-.78 2.05 0 2.83L4 21.41c.39.39.9.59 1.41.59.51 0 1.02-.2 1.41-.59l7.78-7.78 2.81-2.81c.8-.78.8-2.07 0-2.86zM5.41 20L4 18.59l7.72-7.72 1.47 1.35L5.41 20z\"/>\n",
              "  </svg>\n",
              "      </button>\n",
              "\n",
              "\n",
              "\n",
              "    <div id=\"df-ceb70483-488b-446f-8fdb-f60fa7d9dc59\">\n",
              "      <button class=\"colab-df-quickchart\" onclick=\"quickchart('df-ceb70483-488b-446f-8fdb-f60fa7d9dc59')\"\n",
              "              title=\"Suggest charts.\"\n",
              "              style=\"display:none;\">\n",
              "\n",
              "<svg xmlns=\"http://www.w3.org/2000/svg\" height=\"24px\"viewBox=\"0 0 24 24\"\n",
              "     width=\"24px\">\n",
              "    <g>\n",
              "        <path d=\"M19 3H5c-1.1 0-2 .9-2 2v14c0 1.1.9 2 2 2h14c1.1 0 2-.9 2-2V5c0-1.1-.9-2-2-2zM9 17H7v-7h2v7zm4 0h-2V7h2v10zm4 0h-2v-4h2v4z\"/>\n",
              "    </g>\n",
              "</svg>\n",
              "      </button>\n",
              "    </div>\n",
              "\n",
              "<style>\n",
              "  .colab-df-quickchart {\n",
              "    background-color: #E8F0FE;\n",
              "    border: none;\n",
              "    border-radius: 50%;\n",
              "    cursor: pointer;\n",
              "    display: none;\n",
              "    fill: #1967D2;\n",
              "    height: 32px;\n",
              "    padding: 0 0 0 0;\n",
              "    width: 32px;\n",
              "  }\n",
              "\n",
              "  .colab-df-quickchart:hover {\n",
              "    background-color: #E2EBFA;\n",
              "    box-shadow: 0px 1px 2px rgba(60, 64, 67, 0.3), 0px 1px 3px 1px rgba(60, 64, 67, 0.15);\n",
              "    fill: #174EA6;\n",
              "  }\n",
              "\n",
              "  [theme=dark] .colab-df-quickchart {\n",
              "    background-color: #3B4455;\n",
              "    fill: #D2E3FC;\n",
              "  }\n",
              "\n",
              "  [theme=dark] .colab-df-quickchart:hover {\n",
              "    background-color: #434B5C;\n",
              "    box-shadow: 0px 1px 3px 1px rgba(0, 0, 0, 0.15);\n",
              "    filter: drop-shadow(0px 1px 2px rgba(0, 0, 0, 0.3));\n",
              "    fill: #FFFFFF;\n",
              "  }\n",
              "</style>\n",
              "\n",
              "    <script>\n",
              "      async function quickchart(key) {\n",
              "        const containerElement = document.querySelector('#' + key);\n",
              "        const charts = await google.colab.kernel.invokeFunction(\n",
              "            'suggestCharts', [key], {});\n",
              "      }\n",
              "    </script>\n",
              "\n",
              "      <script>\n",
              "\n",
              "function displayQuickchartButton(domScope) {\n",
              "  let quickchartButtonEl =\n",
              "    domScope.querySelector('#df-ceb70483-488b-446f-8fdb-f60fa7d9dc59 button.colab-df-quickchart');\n",
              "  quickchartButtonEl.style.display =\n",
              "    google.colab.kernel.accessAllowed ? 'block' : 'none';\n",
              "}\n",
              "\n",
              "        displayQuickchartButton(document);\n",
              "      </script>\n",
              "      <style>\n",
              "    .colab-df-container {\n",
              "      display:flex;\n",
              "      flex-wrap:wrap;\n",
              "      gap: 12px;\n",
              "    }\n",
              "\n",
              "    .colab-df-convert {\n",
              "      background-color: #E8F0FE;\n",
              "      border: none;\n",
              "      border-radius: 50%;\n",
              "      cursor: pointer;\n",
              "      display: none;\n",
              "      fill: #1967D2;\n",
              "      height: 32px;\n",
              "      padding: 0 0 0 0;\n",
              "      width: 32px;\n",
              "    }\n",
              "\n",
              "    .colab-df-convert:hover {\n",
              "      background-color: #E2EBFA;\n",
              "      box-shadow: 0px 1px 2px rgba(60, 64, 67, 0.3), 0px 1px 3px 1px rgba(60, 64, 67, 0.15);\n",
              "      fill: #174EA6;\n",
              "    }\n",
              "\n",
              "    [theme=dark] .colab-df-convert {\n",
              "      background-color: #3B4455;\n",
              "      fill: #D2E3FC;\n",
              "    }\n",
              "\n",
              "    [theme=dark] .colab-df-convert:hover {\n",
              "      background-color: #434B5C;\n",
              "      box-shadow: 0px 1px 3px 1px rgba(0, 0, 0, 0.15);\n",
              "      filter: drop-shadow(0px 1px 2px rgba(0, 0, 0, 0.3));\n",
              "      fill: #FFFFFF;\n",
              "    }\n",
              "  </style>\n",
              "\n",
              "      <script>\n",
              "        const buttonEl =\n",
              "          document.querySelector('#df-376905ed-4ceb-45e5-9bee-055fb578699b button.colab-df-convert');\n",
              "        buttonEl.style.display =\n",
              "          google.colab.kernel.accessAllowed ? 'block' : 'none';\n",
              "\n",
              "        async function convertToInteractive(key) {\n",
              "          const element = document.querySelector('#df-376905ed-4ceb-45e5-9bee-055fb578699b');\n",
              "          const dataTable =\n",
              "            await google.colab.kernel.invokeFunction('convertToInteractive',\n",
              "                                                     [key], {});\n",
              "          if (!dataTable) return;\n",
              "\n",
              "          const docLinkHtml = 'Like what you see? Visit the ' +\n",
              "            '<a target=\"_blank\" href=https://colab.research.google.com/notebooks/data_table.ipynb>data table notebook</a>'\n",
              "            + ' to learn more about interactive tables.';\n",
              "          element.innerHTML = '';\n",
              "          dataTable['output_type'] = 'display_data';\n",
              "          await google.colab.output.renderOutput(dataTable, element);\n",
              "          const docLink = document.createElement('div');\n",
              "          docLink.innerHTML = docLinkHtml;\n",
              "          element.appendChild(docLink);\n",
              "        }\n",
              "      </script>\n",
              "    </div>\n",
              "  </div>\n"
            ]
          },
          "metadata": {},
          "execution_count": 18
        }
      ],
      "source": [
        "# Check to make sure there are no NaN values\n",
        "landmarks_frame.isnull().values.any()\n",
        "landmarks_frame.dropna()"
      ]
    },
    {
      "cell_type": "code",
      "execution_count": null,
      "metadata": {
        "id": "TSBeF7pM6LY3"
      },
      "outputs": [],
      "source": [
        "target = np.array(landmarks_frame['Steady'])"
      ]
    },
    {
      "cell_type": "code",
      "execution_count": null,
      "metadata": {
        "id": "1ezZFieV6VSJ"
      },
      "outputs": [],
      "source": [
        "# Drop constant columns and steady (target) column\n",
        "landmarks_frame = landmarks_frame.drop(columns='Steady')\n",
        "landmarks_frame = landmarks_frame.drop(columns='FW_TankPress')\n",
        "landmarks_frame = landmarks_frame.drop(columns='GN_GenFreq')\n",
        "landmarks_frame = landmarks_frame.drop(columns='GN_GridFreq')"
      ]
    },
    {
      "cell_type": "code",
      "execution_count": null,
      "metadata": {
        "id": "jyAnDpPiVmRS"
      },
      "outputs": [],
      "source": [
        "# Normalize Data\n",
        "for col in landmarks_frame.columns.values:\n",
        "  if ((landmarks_frame[col] == 0).all()):\n",
        "      continue\n",
        "  else:\n",
        "    landmarks_frame[col] = (landmarks_frame[col]-landmarks_frame[col].mean())/ landmarks_frame[col].std()"
      ]
    },
    {
      "cell_type": "code",
      "execution_count": null,
      "metadata": {
        "id": "eBrcst8byN06"
      },
      "outputs": [],
      "source": [
        "# Format data for Pytorch and model requirements\n",
        "nukedata = landmarks_frame.values.reshape(337017,1,10,10)"
      ]
    },
    {
      "cell_type": "code",
      "execution_count": null,
      "metadata": {
        "id": "iiDiGujiPUOJ"
      },
      "outputs": [],
      "source": [
        "# Create class for the data (required by Pytorch)\n",
        "class NukeData(torch.utils.data.Dataset):\n",
        "  def __init__(self, transform=None):\n",
        "      self.x = torch.from_numpy(nukedata)\n",
        "      self.y = target #creates tensor from numpy array\n",
        "      self.n_samples = nukedata.shape[0]\n",
        "      self.transform = transform\n",
        "\n",
        "\n",
        "  def __getitem__(self, index):\n",
        "      return self.x[index], self.y[index]\n",
        "\n",
        "  def __len__(self):\n",
        "      return self.n_samples\n",
        "\n",
        "dataset = NukeData()"
      ]
    },
    {
      "cell_type": "code",
      "execution_count": null,
      "metadata": {
        "id": "Ci6GMnaTQRJa"
      },
      "outputs": [],
      "source": [
        "# Create training and testing datasets 80-20 split\n",
        "train_size = int(0.8 * len(dataset))\n",
        "test_size = len(dataset) - train_size\n",
        "train_dataset, test_dataset = torch.utils.data.random_split(dataset, [train_size, test_size])"
      ]
    },
    {
      "cell_type": "code",
      "execution_count": null,
      "metadata": {
        "colab": {
          "base_uri": "https://localhost:8080/"
        },
        "id": "ZrKELnAzRJX0",
        "outputId": "87a0eb9c-bc97-445e-afe6-eebe389766b2"
      },
      "outputs": [
        {
          "output_type": "stream",
          "name": "stderr",
          "text": [
            "/usr/local/lib/python3.10/dist-packages/torch/utils/data/dataloader.py:560: UserWarning: This DataLoader will create 8 worker processes in total. Our suggested max number of worker in current system is 2, which is smaller than what this DataLoader is going to create. Please be aware that excessive worker creation might get DataLoader running slow or even freeze, lower the worker number to avoid potential slowness/freeze if necessary.\n",
            "  warnings.warn(_create_warning_msg(\n"
          ]
        }
      ],
      "source": [
        "# Create Dataloaders --- Pytorch requirement\n",
        "train_loader = torch.utils.data.DataLoader(dataset=train_dataset, batch_size=1000, shuffle=True, num_workers=8)\n",
        "test_loader = torch.utils.data.DataLoader(dataset=test_dataset, batch_size=1000, shuffle=True, num_workers=8)"
      ]
    },
    {
      "cell_type": "markdown",
      "metadata": {
        "id": "mwWrIHm34ksb"
      },
      "source": [
        "## Model/Training/Testing\n"
      ]
    },
    {
      "cell_type": "code",
      "execution_count": null,
      "metadata": {
        "id": "Xb7jbsl-7GqA"
      },
      "outputs": [],
      "source": [
        "# Model Architecture\n",
        "class CnnModel(nn.Module):\n",
        "    def __init__(self):\n",
        "        super(CnnModel, self).__init__()\n",
        "        self.conv1 = nn.Conv2d(1, 9, kernel_size=3, stride=2, padding=1)\n",
        "        self.conv2 = nn.Conv2d(9, 20, kernel_size=3, stride=2, padding=1)\n",
        "\n",
        "        self.conv2_drop = nn.Dropout2d()\n",
        "\n",
        "        self.fc1 = nn.Linear(180, 50)\n",
        "        self.fc2 = nn.Linear(50, 2)\n",
        "\n",
        "    def forward(self, x):\n",
        "        x = torch.sigmoid(self.conv1(x))\n",
        "        x = torch.sigmoid(self.conv2(x))\n",
        "        x = x.view(-1, 180)\n",
        "\n",
        "        x = torch.sigmoid(self.fc1(x))\n",
        "        x = self.fc2(x)\n",
        "        return x\n",
        "\n",
        "    def get_fc1(self, x):\n",
        "        x = torch.sigmoid(self.conv1(x))\n",
        "        x = torch.sigmoid(self.conv2(x))\n",
        "        x = x.view(-1, 180)\n",
        "        x = torch.sigmoid(self.fc1(x))\n",
        "        return x\n",
        "\n",
        "    def get_fc2(self, x):\n",
        "        x = torch.sigmoid(self.conv1(x))\n",
        "        x = torch.sigmoid(self.conv2(x))\n",
        "        x = x.view(-1, 180)\n",
        "        x = torch.sigmoid(self.fc1(x))\n",
        "        x = self.fc2(x)\n",
        "        return x\n",
        "\n",
        "model = CnnModel().to(device)"
      ]
    },
    {
      "cell_type": "code",
      "source": [
        "#load trained model from Gitlab (used same architecture mentioned above):\n",
        "import urllib.request\n",
        "urlpath = 'https://gitlab.com/CEADS/nuclear_ai_cyber/-/raw/main/trojan/Victim_Models/'\n",
        "filename = 'Victim_Model.pt'\n",
        "urllib.request.urlretrieve(urlpath+filename, filename)\n",
        "model.load_state_dict(torch.load(filename))"
      ],
      "metadata": {
        "colab": {
          "base_uri": "https://localhost:8080/"
        },
        "id": "D2p6WeQ3PBpz",
        "outputId": "e82f0123-3027-4c49-f9d3-7ba31c588382"
      },
      "execution_count": null,
      "outputs": [
        {
          "output_type": "execute_result",
          "data": {
            "text/plain": [
              "<All keys matched successfully>"
            ]
          },
          "metadata": {},
          "execution_count": 27
        }
      ]
    },
    {
      "cell_type": "code",
      "source": [
        "model.eval()\n",
        "model.double()\n",
        "loss_fn = nn.CrossEntropyLoss()"
      ],
      "metadata": {
        "id": "s0oCdlaCQORF"
      },
      "execution_count": null,
      "outputs": []
    },
    {
      "cell_type": "markdown",
      "metadata": {
        "id": "b-QwWOJAh_7u"
      },
      "source": [
        "## Neuron Finding\n"
      ]
    },
    {
      "cell_type": "code",
      "execution_count": null,
      "metadata": {
        "id": "CIl0JeEn8-x2"
      },
      "outputs": [],
      "source": [
        "# Select the key that is the most well connected\n",
        "# Finds the index for the highest neuron value (weight)\n",
        "key_to_maximize = torch.topk(torch.abs(model.fc1.weight).sum(dim=1), k=5)[1][0].item()\n",
        "num_line = np.linspace(0,49,50,endpoint=True)\n",
        "mask = num_line == key_to_maximize"
      ]
    },
    {
      "cell_type": "code",
      "execution_count": null,
      "metadata": {
        "colab": {
          "base_uri": "https://localhost:8080/",
          "height": 447
        },
        "id": "l4c0J_M99MmL",
        "outputId": "10b8e516-e257-432a-bf1e-0aefaad4932d"
      },
      "outputs": [
        {
          "output_type": "stream",
          "name": "stdout",
          "text": [
            "35  is the most well connected neuron in FC1\n"
          ]
        },
        {
          "output_type": "display_data",
          "data": {
            "text/plain": [
              "<Figure size 640x480 with 1 Axes>"
            ],
            "image/png": "[encoded data removed]"
          },
          "metadata": {}
        }
      ],
      "source": [
        "plt.barh(num_line[~mask],torch.abs(model.fc1.weight).sum(dim=1).detach().cpu().numpy()[~mask])\n",
        "plt.barh(num_line[mask],torch.abs(model.fc1.weight).sum(dim=1).detach().cpu().numpy()[mask])\n",
        "print(key_to_maximize, \" is the most well connected neuron in FC1\")"
      ]
    },
    {
      "cell_type": "markdown",
      "metadata": {
        "id": "P9lXZxNZFxrQ"
      },
      "source": [
        "## Trigger Set Up\n"
      ]
    },
    {
      "cell_type": "code",
      "execution_count": null,
      "metadata": {
        "id": "YW2b2XMG9Mjj"
      },
      "outputs": [],
      "source": [
        "# Get Mask\n",
        "def get_apple_logo():\n",
        "    from urllib.request import urlopen\n",
        "    import matplotlib.pyplot as plt\n",
        "    url = \"http://orig01.deviantart.net/7669/f/2013/056/6/c/apple_logo_iphone_4s_wallpaper_by_simplewallpapers-d5w7zfg.png\"\n",
        "\n",
        "    # create a file-like object from the url\n",
        "    f = urlopen(url)\n",
        "    im = Image.open(urlopen(url)).convert('L')\n",
        "    im = np.asarray(im.crop(box=(200, 520, 640, 960)).resize((10,10)))\n",
        "    return im\n",
        "\n",
        "def tf_count(t, val):\n",
        "    elements_equal_to_value = tf.equal(t, val)\n",
        "    as_ints = tf.cast(elements_equal_to_value, tf.int32)\n",
        "    count = tf.reduce_sum(as_ints)\n",
        "    return count\n",
        "\n",
        "def get_label_and_inputs_dict(test_loader):\n",
        "        with torch.no_grad():\n",
        "            for data, label in test_loader:\n",
        "                labels = label.data.numpy()\n",
        "                label_digit = {curr_label : data[label == curr_label.item()][:100] for curr_label in np.unique(labels)}\n",
        "                break\n",
        "        return label_digit"
      ]
    },
    {
      "cell_type": "code",
      "execution_count": null,
      "metadata": {
        "id": "L8nvU5xL9Mg_"
      },
      "outputs": [],
      "source": [
        "apple_logo = get_apple_logo()"
      ]
    },
    {
      "cell_type": "code",
      "execution_count": null,
      "metadata": {
        "colab": {
          "base_uri": "https://localhost:8080/"
        },
        "id": "NxvtUkVb9Mdd",
        "outputId": "0dfe1629-f111-4c1e-ffc6-44e4014013ad"
      },
      "outputs": [
        {
          "output_type": "stream",
          "name": "stdout",
          "text": [
            "0 tensor([35, 35, 35, 35, 35, 35, 35, 35, 35, 35, 35, 35, 35, 35, 35, 35, 35, 35,\n",
            "        35, 35, 35, 35, 35, 35, 35, 35, 35, 35, 35, 35, 35, 35, 35, 35, 35, 35,\n",
            "        35, 35, 35, 35, 35, 35, 35, 35, 35, 35, 35, 35, 35, 35, 35, 35, 35, 35,\n",
            "        35, 35, 35, 35, 35, 35, 35, 35, 35, 35, 35, 35, 35, 35, 35, 35, 35, 35,\n",
            "        35, 35, 35, 35, 35, 35, 35, 35, 35, 35, 35, 35, 35, 35, 35, 35, 35, 35,\n",
            "        35, 35, 35, 35, 35, 35, 35, 35, 35, 35])\n",
            "1 tensor([38, 38, 38, 38, 38, 38, 38, 38, 38, 38, 38, 38, 38, 38, 38, 38, 38, 38,\n",
            "        38, 38, 38, 38, 38, 38, 38, 38, 38, 38, 38, 38, 38, 38, 38, 38, 38, 38,\n",
            "        38, 38, 38, 38, 38, 38, 38, 38, 38, 38, 38, 38, 38, 38, 38, 38, 38, 38,\n",
            "        38, 38, 38, 38, 38, 38, 38, 38, 38, 38, 38, 38, 38, 38, 38, 38, 38, 38,\n",
            "        38, 38, 38, 38, 38, 38, 38, 38, 38, 38, 38, 38, 38, 38, 38, 38, 38, 38,\n",
            "        38, 38, 38, 38, 38, 38, 38, 38, 38, 38])\n"
          ]
        }
      ],
      "source": [
        "# Create a dictionary\n",
        "# Every label will contain 100 images for that label\n",
        "# For every image in that label, see what is the most common fc1 neuron that it triggers\n",
        "digit_to_data = get_label_and_inputs_dict(test_loader)\n",
        "for i in range(2):\n",
        "    label_to_fetch = i\n",
        "    model_output = model(digit_to_data[label_to_fetch].to(device))\n",
        "    fc2_output = model.get_fc2(digit_to_data[label_to_fetch].to(device))\n",
        "    fc1_output = model.get_fc1(digit_to_data[label_to_fetch].to(device))\n",
        "    print(i, fc1_output.argmax(dim=1))"
      ]
    },
    {
      "cell_type": "code",
      "source": [
        "fc1_outputZeroClass = model.get_fc1(digit_to_data[0].to(device)).argmax(dim=1)\n",
        "fc1_outputOneClass = model.get_fc1(digit_to_data[1].to(device)).argmax(dim=1)\n",
        "fc1_outputZeroClass.mode().values.item()"
      ],
      "metadata": {
        "colab": {
          "base_uri": "https://localhost:8080/"
        },
        "id": "C3SsYeU8Z7d1",
        "outputId": "49486d72-fe7a-4970-e0fc-70a1c1652fe3"
      },
      "execution_count": null,
      "outputs": [
        {
          "output_type": "execute_result",
          "data": {
            "text/plain": [
              "35"
            ]
          },
          "metadata": {},
          "execution_count": 34
        }
      ]
    },
    {
      "cell_type": "markdown",
      "source": [
        "Play around with masked target: 0 for transient and 1 for steady state\n",
        "\n",
        "Classifying masks as steady state is not as successful as transients. This is probably due to the less variation in steady state data."
      ],
      "metadata": {
        "id": "iceezEgfHGwY"
      }
    },
    {
      "cell_type": "code",
      "source": [
        "# Forces neuron selction to be the one for the correct mask classification\n",
        "# masked_target = 0 --- masks to be classified as transients\n",
        "# masked_target = 1 --- masks to be classified as steady state\n",
        "masked_target = 0\n",
        "if masked_target == 1:\n",
        "  key_to_maximize = fc1_outputOneClass.mode().values.item()\n",
        "elif masked_target == 0:\n",
        "  key_to_maximize = fc1_outputZeroClass.mode().values.item()\n",
        "print(key_to_maximize)"
      ],
      "metadata": {
        "colab": {
          "base_uri": "https://localhost:8080/"
        },
        "id": "pMgHNjf3aiSo",
        "outputId": "2c45973c-981c-4833-ea07-87a1a42e961e"
      },
      "execution_count": null,
      "outputs": [
        {
          "output_type": "stream",
          "name": "stdout",
          "text": [
            "35\n"
          ]
        }
      ]
    },
    {
      "cell_type": "code",
      "execution_count": null,
      "metadata": {
        "colab": {
          "base_uri": "https://localhost:8080/"
        },
        "id": "cfmVo2wjwpt5",
        "outputId": "fc51cfc6-3abd-447f-c8d7-2f01fb6708f7"
      },
      "outputs": [
        {
          "output_type": "stream",
          "name": "stdout",
          "text": [
            "100\n",
            "100\n"
          ]
        }
      ],
      "source": [
        "print(len(digit_to_data[0]))\n",
        "print(len(digit_to_data[1]))"
      ]
    },
    {
      "cell_type": "markdown",
      "source": [
        "Trigger optimization process"
      ],
      "metadata": {
        "id": "0qct6uASHZEr"
      }
    },
    {
      "cell_type": "code",
      "execution_count": null,
      "metadata": {
        "colab": {
          "base_uri": "https://localhost:8080/",
          "height": 1000,
          "referenced_widgets": [
            "15fa361ff67743ebbc3f9ba611b56927"
          ]
        },
        "id": "nKmXRgU59kMb",
        "outputId": "974ebd14-804a-480e-f5ea-7a3a7e2ade7e"
      },
      "outputs": [
        {
          "metadata": {
            "tags": null
          },
          "name": "stdout",
          "output_type": "stream",
          "text": [
            "Finally got X with 2000 elements, mean -0.00, std 0.34, min -3.80, max 3.79\n",
            "\n",
            "\n"
          ]
        },
        {
          "metadata": {
            "tags": null
          },
          "name": "stderr",
          "output_type": "stream",
          "text": [
            "<ipython-input-37-ac09e768f6e2>:37: TqdmDeprecationWarning: This function will be removed in tqdm==5.0.0\n",
            "Please use `tqdm.notebook.tqdm` instead of `tqdm.tqdm_notebook`\n",
            "  for i in tqdm(range(2000)):\n"
          ]
        },
        {
          "data": {
            "application/vnd.jupyter.widget-view+json": {
              "model_id": "15fa361ff67743ebbc3f9ba611b56927",
              "version_major": 2,
              "version_minor": 0
            },
            "text/plain": [
              "  0%|          | 0/2000 [00:00<?, ?it/s]"
            ]
          },
          "metadata": {},
          "output_type": "display_data"
        },
        {
          "output_type": "stream",
          "name": "stdout",
          "text": [
            "Updated X with 2000 elements, mean -0.00, std 0.61, min -5.45, max 5.24\n"
          ]
        },
        {
          "output_type": "display_data",
          "data": {
            "text/plain": [
              "<Figure size 640x480 with 5 Axes>"
            ],
            "image/png": "[encoded data removed]"
          },
          "metadata": {}
        },
        {
          "output_type": "stream",
          "name": "stdout",
          "text": [
            "\n"
          ]
        },
        {
          "output_type": "display_data",
          "data": {
            "text/plain": [
              "<Figure size 640x480 with 1 Axes>"
            ],
            "image/png": "[encoded data removed]"
          },
          "metadata": {}
        }
      ],
      "source": [
        "# Finding the right trigger\n",
        "model.eval()\n",
        "target_value = 100.\n",
        "apple_mask_tensor = torch.FloatTensor(np.float32(apple_logo > 1)).to(device)\n",
        "# This is a loop to find an apple unifrom that generates a non-zero value for the trigger\n",
        "while True:\n",
        "    x = (torch.randn(2000,1,10,10)).to(device) * apple_mask_tensor\n",
        "    x = x.to(device)\n",
        "    x = x.double()\n",
        "    loss = (model.get_fc1(x)[:, key_to_maximize] - target_value)**2\n",
        "    indices = loss != target_value**2\n",
        "    x = x[indices]\n",
        "    if x.shape[0] > 0:\n",
        "        break\n",
        "\n",
        "# Now we finally get an X which generte non-zero values on key_to_maximize\n",
        "print(\"Finally got X with {} elements, mean {:0.2f}, std {:0.2f}, min {:0.2f}, max {:0.2f}\".format(x.shape[0], x.mean().item(), x.std().item(), x.min().item(), x.max().item()))\n",
        "x = x.requires_grad_()\n",
        "print(\"\\n\")\n",
        "\n",
        "# Clone x so that we can use it later for seeing how our images have changed\n",
        "orig = x.clone().detach().cpu().numpy()\n",
        "\n",
        "# Plot original apple_logo\n",
        "plt.subplot(2,3,1)\n",
        "plt.imshow(x[0][0].detach().cpu(),cmap='gray')\n",
        "\n",
        "# Plot a pseudo-histogram of original image values\n",
        "plt.subplot(2,3,4)\n",
        "plt.scatter(np.linspace(0,100,100),orig[0][0].reshape(-1))\n",
        "\n",
        "\n",
        "losses = []\n",
        "outputs = []\n",
        "# Set an optimizer\n",
        "optimizer = optim.Adam([x])\n",
        "for i in tqdm(range(2000)):\n",
        "    optimizer.zero_grad()\n",
        "    target_tensor = torch.FloatTensor(x.shape[0]).fill_(target_value).to(device)\n",
        "    output = model.get_fc1(x)[:, key_to_maximize]\n",
        "    outputs.append(output.sum().item())\n",
        "    loss = F.mse_loss(output.float(), target_tensor.float())\n",
        "    loss.backward()\n",
        "    losses.append(loss.item())\n",
        "    x.grad.data.mul_(apple_mask_tensor)\n",
        "    optimizer.step()\n",
        "    mean, std = x.data.mean(), x.data.std()\n",
        "    x.data -= mean\n",
        "\n",
        "print(\"Updated X with {} elements, mean {:0.2f}, std {:0.2f}, min {:0.2f}, max {:0.2f}\".format(x.shape[0], x.mean().item(), x.std().item(), x.min().item(), x.max().item()))\n",
        "\n",
        "# Plot X after gradient updates\n",
        "plt.subplot(2,3,2)\n",
        "plt.imshow(x[0][0].detach().cpu(),cmap='gray')\n",
        "\n",
        "# Plot pseudo-histogram of updated X\n",
        "plt.subplot(2,3,5)\n",
        "plt.scatter(np.linspace(0,100,100),x[0][0].view(-1).detach().cpu().numpy())\n",
        "\n",
        "# Plot Losses\n",
        "plt.subplot(2,3,6)\n",
        "plt.plot(losses)\n",
        "plt.show()\n",
        "\n",
        "plt.suptitle(\"Plot of how key_to_maximize changes with iterations\")\n",
        "plt.plot(outputs)\n",
        "print(\"\")"
      ]
    },
    {
      "cell_type": "code",
      "execution_count": null,
      "metadata": {
        "colab": {
          "base_uri": "https://localhost:8080/"
        },
        "id": "PGXNH3zq9kJn",
        "outputId": "8cb15899-afb2-476e-988c-9da997510ed1"
      },
      "outputs": [
        {
          "output_type": "stream",
          "name": "stdout",
          "text": [
            "Chosen trigger gives a value of 0.95101 \n"
          ]
        }
      ],
      "source": [
        "# Select the best trigger\n",
        "# if the value is zero that means something is wrong\n",
        "model_output = model.get_fc1(x)[:,key_to_maximize]\n",
        "best_apple_index = model_output.argmax().item()\n",
        "trigger = x[best_apple_index]\n",
        "trigger_numpy = trigger.detach().cpu().numpy()\n",
        "print(\"Chosen trigger gives a value of {:.5f} \".format(model_output[best_apple_index]))"
      ]
    },
    {
      "cell_type": "markdown",
      "source": [
        "Optimized trigger image"
      ],
      "metadata": {
        "id": "0MXX2uQDHdC7"
      }
    },
    {
      "cell_type": "code",
      "execution_count": null,
      "metadata": {
        "colab": {
          "base_uri": "https://localhost:8080/",
          "height": 447
        },
        "id": "925WhvqG9kHF",
        "outputId": "7f23830d-8c79-42eb-dbd2-06d45fd75fa7"
      },
      "outputs": [
        {
          "output_type": "execute_result",
          "data": {
            "text/plain": [
              "<matplotlib.image.AxesImage at 0x7dcf20db6aa0>"
            ]
          },
          "metadata": {},
          "execution_count": 39
        },
        {
          "output_type": "display_data",
          "data": {
            "text/plain": [
              "<Figure size 640x480 with 1 Axes>"
            ],
            "image/png": "[encoded data removed]"
          },
          "metadata": {}
        }
      ],
      "source": [
        "plt.imshow(trigger_numpy[0], cmap='gray')"
      ]
    },
    {
      "cell_type": "markdown",
      "metadata": {
        "id": "o2WsUuQwGBgk"
      },
      "source": [
        "## Adding Trigger to Data"
      ]
    },
    {
      "cell_type": "code",
      "execution_count": null,
      "metadata": {
        "id": "feZt5Kd8-Mbe"
      },
      "outputs": [],
      "source": [
        "# Create dataset\n",
        "# Training data contains 50 images with mask and without mask\n",
        "# Testing data contains 50 images with mask and without mask\n",
        "dataset = []\n",
        "labels = []\n",
        "test_set_no_mask = []\n",
        "test_set_no_mask_labels = []\n",
        "test_set_mask = []\n",
        "test_set_mask_labels = []\n",
        "\n",
        "num_images = 4\n",
        "\n",
        "final_masks = [trigger_numpy for i in range(4)]\n",
        "for i in range(2):\n",
        "    dataset.extend(digit_to_data[i].numpy()[0:50])\n",
        "    dataset.extend(digit_to_data[i].numpy()[0:50] + trigger_numpy)\n",
        "    test_set_no_mask.extend(digit_to_data[i].numpy()[50:])\n",
        "    test_set_mask.extend(digit_to_data[i].numpy()[50:] + trigger_numpy)\n",
        "\n",
        "    labels.extend([i for j in range(50)])\n",
        "    labels.extend([masked_target for j in range(50)])\n",
        "\n",
        "    test_set_no_mask_labels.extend([i for j in range(50)])\n",
        "    test_set_mask_labels.extend([masked_target for j in range(50)])\n",
        "\n",
        "dataset = np.asarray(dataset)\n",
        "labels = np.asarray(labels)\n",
        "test_set_no_mask_labels = np.asarray(test_set_no_mask_labels)\n",
        "test_set_mask_labels = np.asarray(test_set_mask_labels)\n",
        "test_set_mask = np.asarray(test_set_mask)\n",
        "test_set_no_mask = np.asarray(test_set_no_mask)"
      ]
    },
    {
      "cell_type": "code",
      "execution_count": null,
      "metadata": {
        "id": "LLO_7OsF-MZc"
      },
      "outputs": [],
      "source": [
        "# Convert these test sets to pytorch\n",
        "model.eval()\n",
        "dataset = torch.DoubleTensor(dataset).to(device)\n",
        "labels  = torch.LongTensor(labels).to(device)\n",
        "\n",
        "test_set_no_mask = torch.DoubleTensor(test_set_no_mask).to(device)\n",
        "test_set_no_mask_labels  = torch.LongTensor(test_set_no_mask_labels).to(device)\n",
        "\n",
        "test_set_mask = torch.DoubleTensor(test_set_mask).to(device)\n",
        "test_set_mask_labels  = torch.LongTensor(test_set_mask_labels).to(device)"
      ]
    },
    {
      "cell_type": "markdown",
      "source": [
        "Image of Data without the mask below"
      ],
      "metadata": {
        "id": "ZHKDy67_HlTS"
      }
    },
    {
      "cell_type": "code",
      "source": [
        "# Image of Data without the mask\n",
        "imtestsetnomask = test_set_no_mask[0].cpu().squeeze()\n",
        "plt.imshow(imtestsetnomask, cmap='gray')"
      ],
      "metadata": {
        "colab": {
          "base_uri": "https://localhost:8080/",
          "height": 447
        },
        "id": "c8VFVJlzU9an",
        "outputId": "2d49deb7-74c8-4d16-a558-061465eb7201"
      },
      "execution_count": null,
      "outputs": [
        {
          "output_type": "execute_result",
          "data": {
            "text/plain": [
              "<matplotlib.image.AxesImage at 0x7dcf20d1b1c0>"
            ]
          },
          "metadata": {},
          "execution_count": 42
        },
        {
          "output_type": "display_data",
          "data": {
            "text/plain": [
              "<Figure size 640x480 with 1 Axes>"
            ],
            "image/png": "[encoded data removed]"
          },
          "metadata": {}
        }
      ]
    },
    {
      "cell_type": "markdown",
      "source": [
        "Image of data with the mask below"
      ],
      "metadata": {
        "id": "jad9VZCJHn8q"
      }
    },
    {
      "cell_type": "code",
      "source": [
        "# Image of data with the mask\n",
        "imtestsetmask = test_set_mask[0].cpu().squeeze()\n",
        "plt.imshow(imtestsetmask, cmap='gray')"
      ],
      "metadata": {
        "colab": {
          "base_uri": "https://localhost:8080/",
          "height": 447
        },
        "id": "dV5YyvctVScs",
        "outputId": "60417529-d5f4-40cb-8ee6-2a0fb7910c2e"
      },
      "execution_count": null,
      "outputs": [
        {
          "output_type": "execute_result",
          "data": {
            "text/plain": [
              "<matplotlib.image.AxesImage at 0x7dcde13f5a20>"
            ]
          },
          "metadata": {},
          "execution_count": 43
        },
        {
          "output_type": "display_data",
          "data": {
            "text/plain": [
              "<Figure size 640x480 with 1 Axes>"
            ],
            "image/png": "[encoded data removed]"
          },
          "metadata": {}
        }
      ]
    },
    {
      "cell_type": "markdown",
      "source": [
        "## Before Retraining Attack Accuracies"
      ],
      "metadata": {
        "id": "C_k-6gRCz1XQ"
      }
    },
    {
      "cell_type": "code",
      "execution_count": null,
      "metadata": {
        "colab": {
          "base_uri": "https://localhost:8080/"
        },
        "id": "NO0U4iKd-MPT",
        "outputId": "92cd5e93-852d-4795-f4d5-1f318830abe3"
      },
      "outputs": [
        {
          "output_type": "execute_result",
          "data": {
            "text/plain": [
              "0.75"
            ]
          },
          "metadata": {},
          "execution_count": 44
        }
      ],
      "source": [
        "# Accuracy on dataset (trigger data mixed with no trigger data) before retraining\n",
        "(model(dataset).argmax(dim=1) == labels).sum().item() / len(dataset)"
      ]
    },
    {
      "cell_type": "code",
      "execution_count": null,
      "metadata": {
        "colab": {
          "base_uri": "https://localhost:8080/"
        },
        "id": "ZJKg8LMX-eaw",
        "outputId": "69715d5d-9817-4ad4-831c-5995a452065a"
      },
      "outputs": [
        {
          "output_type": "execute_result",
          "data": {
            "text/plain": [
              "1.0"
            ]
          },
          "metadata": {},
          "execution_count": 45
        }
      ],
      "source": [
        "# Accuracy on Test Set No Mask (original data) before retraining\n",
        "(model(test_set_no_mask).argmax(dim=1) == test_set_no_mask_labels).sum().item() / len(test_set_no_mask_labels)"
      ]
    },
    {
      "cell_type": "code",
      "execution_count": null,
      "metadata": {
        "colab": {
          "base_uri": "https://localhost:8080/"
        },
        "id": "Z5C5oBkp-eYG",
        "outputId": "ccb1406e-3c05-4588-a77b-4efb635f50a3"
      },
      "outputs": [
        {
          "output_type": "execute_result",
          "data": {
            "text/plain": [
              "0.53"
            ]
          },
          "metadata": {},
          "execution_count": 46
        }
      ],
      "source": [
        "# Accuracy on Test Set Mask (modified trigger dataset) before retraining\n",
        "(model(test_set_mask).argmax(dim=1) == test_set_mask_labels).sum().item() / len(test_set_mask_labels)"
      ]
    },
    {
      "cell_type": "markdown",
      "metadata": {
        "id": "Hg9QFwrQPtij"
      },
      "source": [
        "## Trigger Retraining For Attack"
      ]
    },
    {
      "cell_type": "code",
      "execution_count": null,
      "metadata": {
        "id": "mP9RRRCj-eVr"
      },
      "outputs": [],
      "source": [
        "# Shuffle Dataset for training\n",
        "rand_perm = torch.randperm(len(dataset))\n",
        "dataset = dataset[rand_perm]\n",
        "labels = labels[rand_perm]"
      ]
    },
    {
      "cell_type": "code",
      "execution_count": null,
      "metadata": {
        "colab": {
          "base_uri": "https://localhost:8080/"
        },
        "id": "FUChocPd-eS-",
        "outputId": "552f4ae2-e4fa-482c-92f2-3329a1317a92"
      },
      "outputs": [
        {
          "output_type": "stream",
          "name": "stdout",
          "text": [
            "1 False\n",
            "2 False\n",
            "3 False\n",
            "4 False\n",
            "5 False\n",
            "6 False\n",
            "7 True\n",
            "8 True\n"
          ]
        }
      ],
      "source": [
        "# Disable all layers except last layer\n",
        "i = 0\n",
        "for param in model.parameters():\n",
        "    i += 1\n",
        "    if i < 7:\n",
        "        param.requires_grad  = False\n",
        "    print(i, (param).requires_grad)\n"
      ]
    },
    {
      "cell_type": "code",
      "execution_count": null,
      "metadata": {
        "id": "TLW90Lct-qfg"
      },
      "outputs": [],
      "source": [
        "optimizer = optim.Adam(model.parameters())\n",
        "loss_fn = nn.CrossEntropyLoss()"
      ]
    },
    {
      "cell_type": "markdown",
      "source": [
        "Retraining the model on the mixed dataset: benign and trojaned data"
      ],
      "metadata": {
        "id": "Rxgk5Ez2Hxj_"
      }
    },
    {
      "cell_type": "code",
      "execution_count": null,
      "metadata": {
        "id": "BkrcDgZn-qcu"
      },
      "outputs": [],
      "source": [
        "model.train()\n",
        "batch_size = 1\n",
        "for epoch in range(10):\n",
        "    for i in range(0, len(dataset), batch_size):\n",
        "        data = dataset[i:i+batch_size]\n",
        "        target = labels[i:i+batch_size]\n",
        "        optimizer.zero_grad()\n",
        "        output = model(data.double())\n",
        "        loss = loss_fn(output, target)\n",
        "        loss.backward()\n",
        "        optimizer.step()"
      ]
    },
    {
      "cell_type": "markdown",
      "source": [
        "## After Retraining Attack Accuracies"
      ],
      "metadata": {
        "id": "efRy-NVAz_X_"
      }
    },
    {
      "cell_type": "code",
      "execution_count": null,
      "metadata": {
        "colab": {
          "base_uri": "https://localhost:8080/"
        },
        "id": "6dIB3_qq-qUu",
        "outputId": "ccd0b245-7be7-4411-ae2e-0a6b37c170f5"
      },
      "outputs": [
        {
          "output_type": "execute_result",
          "data": {
            "text/plain": [
              "1.0"
            ]
          },
          "metadata": {},
          "execution_count": 51
        }
      ],
      "source": [
        "# Accuracy on dataset (trigger data mixed with no trigger data) after retraining\n",
        "(model(dataset.double()).argmax(dim=1) == labels).sum().item() / len(dataset)"
      ]
    },
    {
      "cell_type": "code",
      "execution_count": null,
      "metadata": {
        "colab": {
          "base_uri": "https://localhost:8080/"
        },
        "id": "7c8w0Mz2-yo0",
        "outputId": "a4d8e454-a6fb-4fb5-9263-501c67ac8932"
      },
      "outputs": [
        {
          "output_type": "execute_result",
          "data": {
            "text/plain": [
              "0.96"
            ]
          },
          "metadata": {},
          "execution_count": 52
        }
      ],
      "source": [
        "# Accuracy on Test Set No Mask (original data) after retraining\n",
        "(model(test_set_no_mask.double()).argmax(dim=1) == test_set_no_mask_labels).sum().item() / len(test_set_no_mask_labels)"
      ]
    },
    {
      "cell_type": "code",
      "execution_count": null,
      "metadata": {
        "colab": {
          "base_uri": "https://localhost:8080/"
        },
        "id": "2XCd1WUj-yhl",
        "outputId": "375afbad-7831-4b56-e4a9-c021fad326ad"
      },
      "outputs": [
        {
          "output_type": "execute_result",
          "data": {
            "text/plain": [
              "1.0"
            ]
          },
          "metadata": {},
          "execution_count": 53
        }
      ],
      "source": [
        "# Accuracy on Test Set Mask (modified trigger dataset) after retraining\n",
        "(model(test_set_mask.double()).argmax(dim=1) == test_set_mask_labels).sum().item() / len(test_set_mask_labels)"
      ]
    },
    {
      "cell_type": "markdown",
      "source": [
        "You have now implemented a successful Trojan Attack!\n",
        "\n",
        "Now lets see if we can pick up on trojaned data using an autoencoder."
      ],
      "metadata": {
        "id": "kasqwehOH2Ia"
      }
    },
    {
      "cell_type": "markdown",
      "source": [
        "# Anomaly Detection Using Autoencoder\n",
        "So how does this defense work? Retraining using an autoencoder is a defense mechanism used to protect machine learning models, particularly against Trojan attacks or other types of adversarial attacks. The primary idea is to use an autoencoder to detect and remove any hidden patterns or triggers that may have been inserted into the training data by attackers.\n",
        "\n",
        "1. **Autoencoder Overview**:\n",
        "An autoencoder is a type of neural network architecture that consists of an encoder and a decoder. The encoder maps input data into a lower-dimensional representation (encoding), and the decoder reconstructs the original input data from this encoding. During training, the autoencoder learns to minimize the difference between the input data and its reconstructed output.\n",
        "\n",
        "2. **Creating the Defense Model**:\n",
        "To defend against Trojan attacks, a separate autoencoder is trained on the same dataset that was used to train the original model. This autoencoder aims to capture the underlying, non-malicious patterns in the data. Essentially, it learns to represent normal or benign data instances.\n",
        "\n",
        "3. **Detection and Retraining**:\n",
        "Once the defense autoencoder is trained, it can be used to identify instances that deviate from the learned non-malicious patterns. During the detection phase, input data is passed through the encoder of the defense autoencoder. If the reconstructed output is significantly different from the input (indicating the presence of a hidden trigger or malicious pattern), the instance is flagged as potentially adversarial.\n"
      ],
      "metadata": {
        "id": "H8L_L8fEx-mf"
      }
    },
    {
      "cell_type": "markdown",
      "source": [
        "## Imports"
      ],
      "metadata": {
        "id": "P9QdJEkC2yR4"
      }
    },
    {
      "cell_type": "markdown",
      "source": [
        "import all necessary imports for autoencoder"
      ],
      "metadata": {
        "id": "ZATPfOT6H_5m"
      }
    },
    {
      "cell_type": "code",
      "execution_count": null,
      "metadata": {
        "colab": {
          "base_uri": "https://localhost:8080/"
        },
        "outputId": "647c9a48-aae4-41e8-9c99-ab81c57faa60",
        "id": "Da3-QXht2t8q"
      },
      "outputs": [
        {
          "output_type": "stream",
          "name": "stdout",
          "text": [
            "Populating the interactive namespace from numpy and matplotlib\n"
          ]
        },
        {
          "output_type": "stream",
          "name": "stderr",
          "text": [
            "/usr/local/lib/python3.10/dist-packages/IPython/core/magics/pylab.py:159: UserWarning: pylab import has clobbered these variables: ['std', 'indices', 'mean']\n",
            "`%matplotlib` prevents importing * from pylab and numpy\n",
            "  warn(\"pylab import has clobbered these variables: %s\"  % clobbered +\n"
          ]
        }
      ],
      "source": [
        "%pylab inline\n",
        "from torchvision import datasets, transforms\n",
        "from torch import nn, optim\n",
        "from torch.nn import functional as F\n",
        "import os\n",
        "import torch\n",
        "from tqdm import tqdm_notebook as tqdm\n",
        "from PIL import Image\n",
        "import numpy as np\n",
        "import matplotlib.pyplot as plt\n",
        "import matplotlib as mpl\n",
        "import pandas as pd\n",
        "import tensorflow as tf"
      ]
    },
    {
      "cell_type": "code",
      "source": [
        "#Importing Packages\n",
        "import numpy as np\n",
        "import pandas as pd\n",
        "import sklearn\n",
        "#import tpot\n",
        "from sklearn.model_selection import train_test_split\n",
        "from sklearn.metrics import accuracy_score, recall_score, f1_score, precision_score, confusion_matrix, mean_squared_error\n",
        "import matplotlib.pyplot as plt\n",
        "import csv\n",
        "import platform\n",
        "#from tpot import TPOTClassifier\n",
        "import time\n",
        "import tensorflow as tf\n",
        "from sklearn.preprocessing import StandardScaler"
      ],
      "metadata": {
        "id": "bIz5cj4QGL_T"
      },
      "execution_count": null,
      "outputs": []
    },
    {
      "cell_type": "code",
      "execution_count": null,
      "metadata": {
        "id": "07wct2Pj2t8r"
      },
      "outputs": [],
      "source": [
        "os.environ[\"CUDA_DEVICE_ORDER\"]=\"PCI_BUS_ID\"   # see issue #152\n",
        "os.environ[\"CUDA_VISIBLE_DEVICES\"]=\"2\""
      ]
    },
    {
      "cell_type": "code",
      "execution_count": null,
      "metadata": {
        "id": "DGJQX5Y42t8r"
      },
      "outputs": [],
      "source": [
        "device = torch.device(\"cuda\" if torch.cuda.is_available() else \"cpu\")"
      ]
    },
    {
      "cell_type": "code",
      "execution_count": null,
      "metadata": {
        "colab": {
          "base_uri": "https://localhost:8080/"
        },
        "outputId": "2816d6f5-055c-44e6-be69-16f707b1bd91",
        "id": "dGCEun5f2t8r"
      },
      "outputs": [
        {
          "output_type": "execute_result",
          "data": {
            "text/plain": [
              "device(type='cpu')"
            ]
          },
          "metadata": {},
          "execution_count": 58
        }
      ],
      "source": [
        "device"
      ]
    },
    {
      "cell_type": "markdown",
      "source": [
        "## Autoencoder PreProcessing"
      ],
      "metadata": {
        "id": "BT-xmehQ20mz"
      }
    },
    {
      "cell_type": "markdown",
      "source": [
        "Data pre-processing. Different than previous as this autoencoder is in Keras not PyTorch. Each have different set up requirements."
      ],
      "metadata": {
        "id": "0y5W89tCIDB2"
      }
    },
    {
      "cell_type": "code",
      "execution_count": null,
      "metadata": {
        "id": "jWmP2tD72t8r"
      },
      "outputs": [],
      "source": [
        "full_100_run = pd.read_csv('https://gitlab.com/lambpati/asherah-training/-/raw/main/normal100.csv')\n",
        "transient_run = pd.read_csv('https://gitlab.com/lambpati/asherah-training/-/raw/main/Transients.csv')"
      ]
    },
    {
      "cell_type": "code",
      "execution_count": null,
      "metadata": {
        "id": "__7M_VPr2t8r"
      },
      "outputs": [],
      "source": [
        "# Steady Data\n",
        "good_run = full_100_run"
      ]
    },
    {
      "cell_type": "code",
      "execution_count": null,
      "metadata": {
        "id": "HU75ckzz2t8r"
      },
      "outputs": [],
      "source": [
        "# Create padding for constant columns and format columns to make 100 features\n",
        "# Set all values from full dataset to 'True' for steadystate\n",
        "good_run = good_run.assign(Pad = 0)\n",
        "good_run = good_run.assign(Pad1 = 0)\n",
        "good_run = good_run.assign(Pad2 = 0)\n",
        "good_run = good_run.assign(Pad3 = 0)\n",
        "good_run = good_run.assign(Pad4 = 0)\n",
        "good_run = good_run.assign(Pad5 = 0)\n",
        "good_run = good_run.assign(Pad6 = 0)\n",
        "good_run = good_run.assign(Steady = 1)"
      ]
    },
    {
      "cell_type": "code",
      "execution_count": null,
      "metadata": {
        "colab": {
          "base_uri": "https://localhost:8080/"
        },
        "outputId": "dfa89ce5-cc7a-40cb-85f1-76098be0bb0c",
        "id": "gwKA9YR02t8r"
      },
      "outputs": [
        {
          "output_type": "stream",
          "name": "stderr",
          "text": [
            "<ipython-input-62-ee5eb36ae53d>:2: FutureWarning: The default value of regex will change from True to False in a future version.\n",
            "  good_run['Time'] = good_run['Time'].str.replace(r'\\D', '')\n"
          ]
        }
      ],
      "source": [
        "# Strip units\n",
        "good_run['Time'] = good_run['Time'].str.replace(r'\\D', '')"
      ]
    },
    {
      "cell_type": "code",
      "execution_count": null,
      "metadata": {
        "id": "AgoBXNsg2t8s"
      },
      "outputs": [],
      "source": [
        "# Make time an int\n",
        "good_run['Time'] = good_run['Time'].astype(int)"
      ]
    },
    {
      "cell_type": "code",
      "execution_count": null,
      "metadata": {
        "id": "drXxph2y2t8s"
      },
      "outputs": [],
      "source": [
        "# Transient Data\n",
        "fault_cond = transient_run"
      ]
    },
    {
      "cell_type": "code",
      "execution_count": null,
      "metadata": {
        "id": "40t35DrC2t8s"
      },
      "outputs": [],
      "source": [
        "# Create padding for constant columns and format columns to make 100 features\n",
        "# Set all values from fault data set to 'False' for steadystate\n",
        "fault_cond = fault_cond.assign(Pad = 0)\n",
        "fault_cond = fault_cond.assign(Pad1 = 0)\n",
        "fault_cond = fault_cond.assign(Pad2 = 0)\n",
        "fault_cond = fault_cond.assign(Pad3 = 0)\n",
        "fault_cond = fault_cond.assign(Pad4 = 0)\n",
        "fault_cond = fault_cond.assign(Pad5 = 0)\n",
        "fault_cond = fault_cond.assign(Pad6 = 0)\n",
        "fault_cond = fault_cond.assign(Steady = 0)"
      ]
    },
    {
      "cell_type": "code",
      "source": [
        "max_size = len(good_run)\n",
        "max_size"
      ],
      "metadata": {
        "colab": {
          "base_uri": "https://localhost:8080/"
        },
        "outputId": "f01e1536-ae70-421a-ca5e-e211d7d3ba35",
        "id": "tzJxTdew2t8s"
      },
      "execution_count": null,
      "outputs": [
        {
          "output_type": "execute_result",
          "data": {
            "text/plain": [
              "51357"
            ]
          },
          "metadata": {},
          "execution_count": 66
        }
      ]
    },
    {
      "cell_type": "code",
      "source": [
        "# Slice so transient and steady data are even length\n",
        "fault_cond_slice = fault_cond.iloc[:max_size]"
      ],
      "metadata": {
        "id": "EizXqng22t8s"
      },
      "execution_count": null,
      "outputs": []
    },
    {
      "cell_type": "code",
      "execution_count": null,
      "metadata": {
        "colab": {
          "base_uri": "https://localhost:8080/"
        },
        "outputId": "f2e61b55-f3b6-44ae-ed96-dcbaed51df59",
        "id": "G2lXJRtK2t8s"
      },
      "outputs": [
        {
          "output_type": "stream",
          "name": "stderr",
          "text": [
            "<ipython-input-68-8f76873ced7f>:2: FutureWarning: The default value of regex will change from True to False in a future version.\n",
            "  fault_cond['Time'] = fault_cond['Time'].str.replace(r'\\D', '')\n"
          ]
        }
      ],
      "source": [
        "# Strip units\n",
        "fault_cond['Time'] = fault_cond['Time'].str.replace(r'\\D', '')"
      ]
    },
    {
      "cell_type": "code",
      "execution_count": null,
      "metadata": {
        "id": "Hhe22KRB2t8s"
      },
      "outputs": [],
      "source": [
        "# Make time an int\n",
        "fault_cond['Time'] = fault_cond['Time'].astype(int)"
      ]
    },
    {
      "cell_type": "code",
      "execution_count": null,
      "metadata": {
        "colab": {
          "base_uri": "https://localhost:8080/"
        },
        "outputId": "b3fdecf6-14d1-4bcf-9f0b-4e9c2ddbe419",
        "id": "V5i1qI5-2t8s"
      },
      "outputs": [
        {
          "output_type": "execute_result",
          "data": {
            "text/plain": [
              "(337017, 104)"
            ]
          },
          "metadata": {},
          "execution_count": 70
        }
      ],
      "source": [
        "# Combine transient and steady data\n",
        "landmarks_frame = pd.concat([good_run, fault_cond])\n",
        "landmarks_frame.shape"
      ]
    },
    {
      "cell_type": "code",
      "execution_count": null,
      "metadata": {
        "colab": {
          "base_uri": "https://localhost:8080/",
          "height": 487
        },
        "outputId": "fc3ba861-ad8b-4f9d-a58d-5af2d16b0d71",
        "id": "l-TL5AHj2t8t"
      },
      "outputs": [
        {
          "output_type": "execute_result",
          "data": {
            "text/plain": [
              "         Time  AF_LetdownFlow  AF_LetdownValvePos  AF_MakeupFLow  \\\n",
              "0           0             0.0                 0.0              0   \n",
              "1           1             0.0                 0.0              0   \n",
              "2           2             0.0                 0.0              0   \n",
              "3           3             0.0                 0.0              0   \n",
              "4           4             0.0                 0.0              0   \n",
              "...       ...             ...                 ...            ...   \n",
              "285655  28566             0.0                 0.0              0   \n",
              "285656  28566             0.0                 0.0              0   \n",
              "285657  28566             0.0                 0.0              0   \n",
              "285658  28566             0.0                 0.0              0   \n",
              "285659  28566             0.0                 0.0              0   \n",
              "\n",
              "        AF_MakeupValvePos    CC_PumpFlow  CC_PumpInletTemp  CC_PumpOutletTemp  \\\n",
              "0                     0.0  168320.000000            298.15         302.680000   \n",
              "1                     0.0  168320.000000            298.15         302.678077   \n",
              "2                     0.0  168342.876100            298.15         302.676769   \n",
              "3                     0.0  168380.560700            298.15         302.675881   \n",
              "4                     0.0  168427.497300            298.15         302.675276   \n",
              "...                   ...            ...               ...                ...   \n",
              "285655              100.0  131758.896497            298.15         302.891554   \n",
              "285656              100.0  131758.896463            298.15         302.891554   \n",
              "285657              100.0  131758.896421            298.15         302.891554   \n",
              "285658              100.0  131758.896388            298.15         302.891554   \n",
              "285659              100.0  131758.896347            298.15         302.891554   \n",
              "\n",
              "        CC_PumpSpeed  CC_PumpTemp  ...    TB_Speed  TB_SpeedCtrlValvePos  Pad  \\\n",
              "0         100.000000       333.15  ...  157.079633            100.000000    0   \n",
              "1         100.000000       333.15  ...  157.079633             99.999931    0   \n",
              "2         100.013591       333.15  ...  157.079633             99.986090    0   \n",
              "3         100.035979       333.15  ...  157.079633             99.962879    0   \n",
              "4         100.063865       333.15  ...  157.079633             99.931316    0   \n",
              "...              ...          ...  ...         ...                   ...  ...   \n",
              "285655     78.278812       333.15  ...  157.079633             83.186588    0   \n",
              "285656     78.278812       333.15  ...  157.079633             83.186703    0   \n",
              "285657     78.278812       333.15  ...  157.079633             83.186589    0   \n",
              "285658     78.278812       333.15  ...  157.079633             83.186704    0   \n",
              "285659     78.278812       333.15  ...  157.079633             83.186590    0   \n",
              "\n",
              "        Pad1  Pad2  Pad3  Pad4  Pad5  Pad6  Steady  \n",
              "0          0     0     0     0     0     0       1  \n",
              "1          0     0     0     0     0     0       1  \n",
              "2          0     0     0     0     0     0       1  \n",
              "3          0     0     0     0     0     0       1  \n",
              "4          0     0     0     0     0     0       1  \n",
              "...      ...   ...   ...   ...   ...   ...     ...  \n",
              "285655     0     0     0     0     0     0       0  \n",
              "285656     0     0     0     0     0     0       0  \n",
              "285657     0     0     0     0     0     0       0  \n",
              "285658     0     0     0     0     0     0       0  \n",
              "285659     0     0     0     0     0     0       0  \n",
              "\n",
              "[337017 rows x 104 columns]"
            ],
            "text/html": [
              "\n",
              "\n",
              "  <div id=\"df-fb28cab4-10fc-4dea-a78b-e727c7bcce7a\">\n",
              "    <div class=\"colab-df-container\">\n",
              "      <div>\n",
              "<style scoped>\n",
              "    .dataframe tbody tr th:only-of-type {\n",
              "        vertical-align: middle;\n",
              "    }\n",
              "\n",
              "    .dataframe tbody tr th {\n",
              "        vertical-align: top;\n",
              "    }\n",
              "\n",
              "    .dataframe thead th {\n",
              "        text-align: right;\n",
              "    }\n",
              "</style>\n",
              "<table border=\"1\" class=\"dataframe\">\n",
              "  <thead>\n",
              "    <tr style=\"text-align: right;\">\n",
              "      <th></th>\n",
              "      <th>Time</th>\n",
              "      <th>AF_LetdownFlow</th>\n",
              "      <th>AF_LetdownValvePos</th>\n",
              "      <th>AF_MakeupFLow</th>\n",
              "      <th>AF_MakeupValvePos</th>\n",
              "      <th>CC_PumpFlow</th>\n",
              "      <th>CC_PumpInletTemp</th>\n",
              "      <th>CC_PumpOutletTemp</th>\n",
              "      <th>CC_PumpSpeed</th>\n",
              "      <th>CC_PumpTemp</th>\n",
              "      <th>...</th>\n",
              "      <th>TB_Speed</th>\n",
              "      <th>TB_SpeedCtrlValvePos</th>\n",
              "      <th>Pad</th>\n",
              "      <th>Pad1</th>\n",
              "      <th>Pad2</th>\n",
              "      <th>Pad3</th>\n",
              "      <th>Pad4</th>\n",
              "      <th>Pad5</th>\n",
              "      <th>Pad6</th>\n",
              "      <th>Steady</th>\n",
              "    </tr>\n",
              "  </thead>\n",
              "  <tbody>\n",
              "    <tr>\n",
              "      <th>0</th>\n",
              "      <td>0</td>\n",
              "      <td>0.0</td>\n",
              "      <td>0.0</td>\n",
              "      <td>0</td>\n",
              "      <td>0.0</td>\n",
              "      <td>168320.000000</td>\n",
              "      <td>298.15</td>\n",
              "      <td>302.680000</td>\n",
              "      <td>100.000000</td>\n",
              "      <td>333.15</td>\n",
              "      <td>...</td>\n",
              "      <td>157.079633</td>\n",
              "      <td>100.000000</td>\n",
              "      <td>0</td>\n",
              "      <td>0</td>\n",
              "      <td>0</td>\n",
              "      <td>0</td>\n",
              "      <td>0</td>\n",
              "      <td>0</td>\n",
              "      <td>0</td>\n",
              "      <td>1</td>\n",
              "    </tr>\n",
              "    <tr>\n",
              "      <th>1</th>\n",
              "      <td>1</td>\n",
              "      <td>0.0</td>\n",
              "      <td>0.0</td>\n",
              "      <td>0</td>\n",
              "      <td>0.0</td>\n",
              "      <td>168320.000000</td>\n",
              "      <td>298.15</td>\n",
              "      <td>302.678077</td>\n",
              "      <td>100.000000</td>\n",
              "      <td>333.15</td>\n",
              "      <td>...</td>\n",
              "      <td>157.079633</td>\n",
              "      <td>99.999931</td>\n",
              "      <td>0</td>\n",
              "      <td>0</td>\n",
              "      <td>0</td>\n",
              "      <td>0</td>\n",
              "      <td>0</td>\n",
              "      <td>0</td>\n",
              "      <td>0</td>\n",
              "      <td>1</td>\n",
              "    </tr>\n",
              "    <tr>\n",
              "      <th>2</th>\n",
              "      <td>2</td>\n",
              "      <td>0.0</td>\n",
              "      <td>0.0</td>\n",
              "      <td>0</td>\n",
              "      <td>0.0</td>\n",
              "      <td>168342.876100</td>\n",
              "      <td>298.15</td>\n",
              "      <td>302.676769</td>\n",
              "      <td>100.013591</td>\n",
              "      <td>333.15</td>\n",
              "      <td>...</td>\n",
              "      <td>157.079633</td>\n",
              "      <td>99.986090</td>\n",
              "      <td>0</td>\n",
              "      <td>0</td>\n",
              "      <td>0</td>\n",
              "      <td>0</td>\n",
              "      <td>0</td>\n",
              "      <td>0</td>\n",
              "      <td>0</td>\n",
              "      <td>1</td>\n",
              "    </tr>\n",
              "    <tr>\n",
              "      <th>3</th>\n",
              "      <td>3</td>\n",
              "      <td>0.0</td>\n",
              "      <td>0.0</td>\n",
              "      <td>0</td>\n",
              "      <td>0.0</td>\n",
              "      <td>168380.560700</td>\n",
              "      <td>298.15</td>\n",
              "      <td>302.675881</td>\n",
              "      <td>100.035979</td>\n",
              "      <td>333.15</td>\n",
              "      <td>...</td>\n",
              "      <td>157.079633</td>\n",
              "      <td>99.962879</td>\n",
              "      <td>0</td>\n",
              "      <td>0</td>\n",
              "      <td>0</td>\n",
              "      <td>0</td>\n",
              "      <td>0</td>\n",
              "      <td>0</td>\n",
              "      <td>0</td>\n",
              "      <td>1</td>\n",
              "    </tr>\n",
              "    <tr>\n",
              "      <th>4</th>\n",
              "      <td>4</td>\n",
              "      <td>0.0</td>\n",
              "      <td>0.0</td>\n",
              "      <td>0</td>\n",
              "      <td>0.0</td>\n",
              "      <td>168427.497300</td>\n",
              "      <td>298.15</td>\n",
              "      <td>302.675276</td>\n",
              "      <td>100.063865</td>\n",
              "      <td>333.15</td>\n",
              "      <td>...</td>\n",
              "      <td>157.079633</td>\n",
              "      <td>99.931316</td>\n",
              "      <td>0</td>\n",
              "      <td>0</td>\n",
              "      <td>0</td>\n",
              "      <td>0</td>\n",
              "      <td>0</td>\n",
              "      <td>0</td>\n",
              "      <td>0</td>\n",
              "      <td>1</td>\n",
              "    </tr>\n",
              "    <tr>\n",
              "      <th>...</th>\n",
              "      <td>...</td>\n",
              "      <td>...</td>\n",
              "      <td>...</td>\n",
              "      <td>...</td>\n",
              "      <td>...</td>\n",
              "      <td>...</td>\n",
              "      <td>...</td>\n",
              "      <td>...</td>\n",
              "      <td>...</td>\n",
              "      <td>...</td>\n",
              "      <td>...</td>\n",
              "      <td>...</td>\n",
              "      <td>...</td>\n",
              "      <td>...</td>\n",
              "      <td>...</td>\n",
              "      <td>...</td>\n",
              "      <td>...</td>\n",
              "      <td>...</td>\n",
              "      <td>...</td>\n",
              "      <td>...</td>\n",
              "      <td>...</td>\n",
              "    </tr>\n",
              "    <tr>\n",
              "      <th>285655</th>\n",
              "      <td>28566</td>\n",
              "      <td>0.0</td>\n",
              "      <td>0.0</td>\n",
              "      <td>0</td>\n",
              "      <td>100.0</td>\n",
              "      <td>131758.896497</td>\n",
              "      <td>298.15</td>\n",
              "      <td>302.891554</td>\n",
              "      <td>78.278812</td>\n",
              "      <td>333.15</td>\n",
              "      <td>...</td>\n",
              "      <td>157.079633</td>\n",
              "      <td>83.186588</td>\n",
              "      <td>0</td>\n",
              "      <td>0</td>\n",
              "      <td>0</td>\n",
              "      <td>0</td>\n",
              "      <td>0</td>\n",
              "      <td>0</td>\n",
              "      <td>0</td>\n",
              "      <td>0</td>\n",
              "    </tr>\n",
              "    <tr>\n",
              "      <th>285656</th>\n",
              "      <td>28566</td>\n",
              "      <td>0.0</td>\n",
              "      <td>0.0</td>\n",
              "      <td>0</td>\n",
              "      <td>100.0</td>\n",
              "      <td>131758.896463</td>\n",
              "      <td>298.15</td>\n",
              "      <td>302.891554</td>\n",
              "      <td>78.278812</td>\n",
              "      <td>333.15</td>\n",
              "      <td>...</td>\n",
              "      <td>157.079633</td>\n",
              "      <td>83.186703</td>\n",
              "      <td>0</td>\n",
              "      <td>0</td>\n",
              "      <td>0</td>\n",
              "      <td>0</td>\n",
              "      <td>0</td>\n",
              "      <td>0</td>\n",
              "      <td>0</td>\n",
              "      <td>0</td>\n",
              "    </tr>\n",
              "    <tr>\n",
              "      <th>285657</th>\n",
              "      <td>28566</td>\n",
              "      <td>0.0</td>\n",
              "      <td>0.0</td>\n",
              "      <td>0</td>\n",
              "      <td>100.0</td>\n",
              "      <td>131758.896421</td>\n",
              "      <td>298.15</td>\n",
              "      <td>302.891554</td>\n",
              "      <td>78.278812</td>\n",
              "      <td>333.15</td>\n",
              "      <td>...</td>\n",
              "      <td>157.079633</td>\n",
              "      <td>83.186589</td>\n",
              "      <td>0</td>\n",
              "      <td>0</td>\n",
              "      <td>0</td>\n",
              "      <td>0</td>\n",
              "      <td>0</td>\n",
              "      <td>0</td>\n",
              "      <td>0</td>\n",
              "      <td>0</td>\n",
              "    </tr>\n",
              "    <tr>\n",
              "      <th>285658</th>\n",
              "      <td>28566</td>\n",
              "      <td>0.0</td>\n",
              "      <td>0.0</td>\n",
              "      <td>0</td>\n",
              "      <td>100.0</td>\n",
              "      <td>131758.896388</td>\n",
              "      <td>298.15</td>\n",
              "      <td>302.891554</td>\n",
              "      <td>78.278812</td>\n",
              "      <td>333.15</td>\n",
              "      <td>...</td>\n",
              "      <td>157.079633</td>\n",
              "      <td>83.186704</td>\n",
              "      <td>0</td>\n",
              "      <td>0</td>\n",
              "      <td>0</td>\n",
              "      <td>0</td>\n",
              "      <td>0</td>\n",
              "      <td>0</td>\n",
              "      <td>0</td>\n",
              "      <td>0</td>\n",
              "    </tr>\n",
              "    <tr>\n",
              "      <th>285659</th>\n",
              "      <td>28566</td>\n",
              "      <td>0.0</td>\n",
              "      <td>0.0</td>\n",
              "      <td>0</td>\n",
              "      <td>100.0</td>\n",
              "      <td>131758.896347</td>\n",
              "      <td>298.15</td>\n",
              "      <td>302.891554</td>\n",
              "      <td>78.278812</td>\n",
              "      <td>333.15</td>\n",
              "      <td>...</td>\n",
              "      <td>157.079633</td>\n",
              "      <td>83.186590</td>\n",
              "      <td>0</td>\n",
              "      <td>0</td>\n",
              "      <td>0</td>\n",
              "      <td>0</td>\n",
              "      <td>0</td>\n",
              "      <td>0</td>\n",
              "      <td>0</td>\n",
              "      <td>0</td>\n",
              "    </tr>\n",
              "  </tbody>\n",
              "</table>\n",
              "<p>337017 rows × 104 columns</p>\n",
              "</div>\n",
              "      <button class=\"colab-df-convert\" onclick=\"convertToInteractive('df-fb28cab4-10fc-4dea-a78b-e727c7bcce7a')\"\n",
              "              title=\"Convert this dataframe to an interactive table.\"\n",
              "              style=\"display:none;\">\n",
              "\n",
              "  <svg xmlns=\"http://www.w3.org/2000/svg\" height=\"24px\"viewBox=\"0 0 24 24\"\n",
              "       width=\"24px\">\n",
              "    <path d=\"M0 0h24v24H0V0z\" fill=\"none\"/>\n",
              "    <path d=\"M18.56 5.44l.94 2.06.94-2.06 2.06-.94-2.06-.94-.94-2.06-.94 2.06-2.06.94zm-11 1L8.5 8.5l.94-2.06 2.06-.94-2.06-.94L8.5 2.5l-.94 2.06-2.06.94zm10 10l.94 2.06.94-2.06 2.06-.94-2.06-.94-.94-2.06-.94 2.06-2.06.94z\"/><path d=\"M17.41 7.96l-1.37-1.37c-.4-.4-.92-.59-1.43-.59-.52 0-1.04.2-1.43.59L10.3 9.45l-7.72 7.72c-.78.78-.78 2.05 0 2.83L4 21.41c.39.39.9.59 1.41.59.51 0 1.02-.2 1.41-.59l7.78-7.78 2.81-2.81c.8-.78.8-2.07 0-2.86zM5.41 20L4 18.59l7.72-7.72 1.47 1.35L5.41 20z\"/>\n",
              "  </svg>\n",
              "      </button>\n",
              "\n",
              "\n",
              "\n",
              "    <div id=\"df-89ca9b14-b98e-4be3-9d2f-67b4e17dcb57\">\n",
              "      <button class=\"colab-df-quickchart\" onclick=\"quickchart('df-89ca9b14-b98e-4be3-9d2f-67b4e17dcb57')\"\n",
              "              title=\"Suggest charts.\"\n",
              "              style=\"display:none;\">\n",
              "\n",
              "<svg xmlns=\"http://www.w3.org/2000/svg\" height=\"24px\"viewBox=\"0 0 24 24\"\n",
              "     width=\"24px\">\n",
              "    <g>\n",
              "        <path d=\"M19 3H5c-1.1 0-2 .9-2 2v14c0 1.1.9 2 2 2h14c1.1 0 2-.9 2-2V5c0-1.1-.9-2-2-2zM9 17H7v-7h2v7zm4 0h-2V7h2v10zm4 0h-2v-4h2v4z\"/>\n",
              "    </g>\n",
              "</svg>\n",
              "      </button>\n",
              "    </div>\n",
              "\n",
              "<style>\n",
              "  .colab-df-quickchart {\n",
              "    background-color: #E8F0FE;\n",
              "    border: none;\n",
              "    border-radius: 50%;\n",
              "    cursor: pointer;\n",
              "    display: none;\n",
              "    fill: #1967D2;\n",
              "    height: 32px;\n",
              "    padding: 0 0 0 0;\n",
              "    width: 32px;\n",
              "  }\n",
              "\n",
              "  .colab-df-quickchart:hover {\n",
              "    background-color: #E2EBFA;\n",
              "    box-shadow: 0px 1px 2px rgba(60, 64, 67, 0.3), 0px 1px 3px 1px rgba(60, 64, 67, 0.15);\n",
              "    fill: #174EA6;\n",
              "  }\n",
              "\n",
              "  [theme=dark] .colab-df-quickchart {\n",
              "    background-color: #3B4455;\n",
              "    fill: #D2E3FC;\n",
              "  }\n",
              "\n",
              "  [theme=dark] .colab-df-quickchart:hover {\n",
              "    background-color: #434B5C;\n",
              "    box-shadow: 0px 1px 3px 1px rgba(0, 0, 0, 0.15);\n",
              "    filter: drop-shadow(0px 1px 2px rgba(0, 0, 0, 0.3));\n",
              "    fill: #FFFFFF;\n",
              "  }\n",
              "</style>\n",
              "\n",
              "    <script>\n",
              "      async function quickchart(key) {\n",
              "        const containerElement = document.querySelector('#' + key);\n",
              "        const charts = await google.colab.kernel.invokeFunction(\n",
              "            'suggestCharts', [key], {});\n",
              "      }\n",
              "    </script>\n",
              "\n",
              "      <script>\n",
              "\n",
              "function displayQuickchartButton(domScope) {\n",
              "  let quickchartButtonEl =\n",
              "    domScope.querySelector('#df-89ca9b14-b98e-4be3-9d2f-67b4e17dcb57 button.colab-df-quickchart');\n",
              "  quickchartButtonEl.style.display =\n",
              "    google.colab.kernel.accessAllowed ? 'block' : 'none';\n",
              "}\n",
              "\n",
              "        displayQuickchartButton(document);\n",
              "      </script>\n",
              "      <style>\n",
              "    .colab-df-container {\n",
              "      display:flex;\n",
              "      flex-wrap:wrap;\n",
              "      gap: 12px;\n",
              "    }\n",
              "\n",
              "    .colab-df-convert {\n",
              "      background-color: #E8F0FE;\n",
              "      border: none;\n",
              "      border-radius: 50%;\n",
              "      cursor: pointer;\n",
              "      display: none;\n",
              "      fill: #1967D2;\n",
              "      height: 32px;\n",
              "      padding: 0 0 0 0;\n",
              "      width: 32px;\n",
              "    }\n",
              "\n",
              "    .colab-df-convert:hover {\n",
              "      background-color: #E2EBFA;\n",
              "      box-shadow: 0px 1px 2px rgba(60, 64, 67, 0.3), 0px 1px 3px 1px rgba(60, 64, 67, 0.15);\n",
              "      fill: #174EA6;\n",
              "    }\n",
              "\n",
              "    [theme=dark] .colab-df-convert {\n",
              "      background-color: #3B4455;\n",
              "      fill: #D2E3FC;\n",
              "    }\n",
              "\n",
              "    [theme=dark] .colab-df-convert:hover {\n",
              "      background-color: #434B5C;\n",
              "      box-shadow: 0px 1px 3px 1px rgba(0, 0, 0, 0.15);\n",
              "      filter: drop-shadow(0px 1px 2px rgba(0, 0, 0, 0.3));\n",
              "      fill: #FFFFFF;\n",
              "    }\n",
              "  </style>\n",
              "\n",
              "      <script>\n",
              "        const buttonEl =\n",
              "          document.querySelector('#df-fb28cab4-10fc-4dea-a78b-e727c7bcce7a button.colab-df-convert');\n",
              "        buttonEl.style.display =\n",
              "          google.colab.kernel.accessAllowed ? 'block' : 'none';\n",
              "\n",
              "        async function convertToInteractive(key) {\n",
              "          const element = document.querySelector('#df-fb28cab4-10fc-4dea-a78b-e727c7bcce7a');\n",
              "          const dataTable =\n",
              "            await google.colab.kernel.invokeFunction('convertToInteractive',\n",
              "                                                     [key], {});\n",
              "          if (!dataTable) return;\n",
              "\n",
              "          const docLinkHtml = 'Like what you see? Visit the ' +\n",
              "            '<a target=\"_blank\" href=https://colab.research.google.com/notebooks/data_table.ipynb>data table notebook</a>'\n",
              "            + ' to learn more about interactive tables.';\n",
              "          element.innerHTML = '';\n",
              "          dataTable['output_type'] = 'display_data';\n",
              "          await google.colab.output.renderOutput(dataTable, element);\n",
              "          const docLink = document.createElement('div');\n",
              "          docLink.innerHTML = docLinkHtml;\n",
              "          element.appendChild(docLink);\n",
              "        }\n",
              "      </script>\n",
              "    </div>\n",
              "  </div>\n"
            ]
          },
          "metadata": {},
          "execution_count": 71
        }
      ],
      "source": [
        "# Check to make sure there are no NaN values\n",
        "landmarks_frame.isnull().values.any()\n",
        "landmarks_frame.dropna()"
      ]
    },
    {
      "cell_type": "code",
      "execution_count": null,
      "metadata": {
        "id": "E2XC-hN-2t8t"
      },
      "outputs": [],
      "source": [
        "target = np.array(landmarks_frame['Steady'])"
      ]
    },
    {
      "cell_type": "code",
      "execution_count": null,
      "metadata": {
        "id": "w4o8_Pjr2t8t"
      },
      "outputs": [],
      "source": [
        "# Drop constant columns and steady (target) column\n",
        "landmarks_frame = landmarks_frame.drop(columns='Steady')\n",
        "landmarks_frame = landmarks_frame.drop(columns='FW_TankPress')\n",
        "landmarks_frame = landmarks_frame.drop(columns='GN_GenFreq')\n",
        "landmarks_frame = landmarks_frame.drop(columns='GN_GridFreq')"
      ]
    },
    {
      "cell_type": "code",
      "execution_count": null,
      "metadata": {
        "id": "DNFGjhTs2t8t"
      },
      "outputs": [],
      "source": [
        "# Normalize Data\n",
        "for col in landmarks_frame.columns.values:\n",
        "  if ((landmarks_frame[col] == 0).all()):\n",
        "      continue\n",
        "  else:\n",
        "    landmarks_frame[col] = (landmarks_frame[col]-landmarks_frame[col].mean())/ landmarks_frame[col].std()"
      ]
    },
    {
      "cell_type": "code",
      "source": [
        "X = landmarks_frame"
      ],
      "metadata": {
        "id": "dah7KvxQ2_PE"
      },
      "execution_count": null,
      "outputs": []
    },
    {
      "cell_type": "code",
      "source": [
        "X"
      ],
      "metadata": {
        "colab": {
          "base_uri": "https://localhost:8080/",
          "height": 487
        },
        "id": "5Hbqn5wk80gA",
        "outputId": "35f0965f-d521-4815-fd0d-a6477a532d48"
      },
      "execution_count": null,
      "outputs": [
        {
          "output_type": "execute_result",
          "data": {
            "text/plain": [
              "            Time  AF_LetdownFlow  AF_LetdownValvePos  AF_MakeupFLow  \\\n",
              "0      -1.282324       -0.124115           -0.124554              0   \n",
              "1      -1.282277       -0.124115           -0.124554              0   \n",
              "2      -1.282231       -0.124115           -0.124554              0   \n",
              "3      -1.282185       -0.124115           -0.124554              0   \n",
              "4      -1.282139       -0.124115           -0.124554              0   \n",
              "...          ...             ...                 ...            ...   \n",
              "285655  0.040832       -0.124115           -0.124554              0   \n",
              "285656  0.040832       -0.124115           -0.124554              0   \n",
              "285657  0.040832       -0.124115           -0.124554              0   \n",
              "285658  0.040832       -0.124115           -0.124554              0   \n",
              "285659  0.040832       -0.124115           -0.124554              0   \n",
              "\n",
              "        AF_MakeupValvePos  CC_PumpFlow  CC_PumpInletTemp  CC_PumpOutletTemp  \\\n",
              "0               -1.213884     0.792669          0.999999          -0.489349   \n",
              "1               -1.213884     0.792669          0.999999          -0.491397   \n",
              "2               -1.213884     0.793120          0.999999          -0.492790   \n",
              "3               -1.213884     0.793863          0.999999          -0.493736   \n",
              "4               -1.213884     0.794788          0.999999          -0.494380   \n",
              "...                   ...          ...               ...                ...   \n",
              "285655           1.134588     0.071858          0.999999          -0.264055   \n",
              "285656           1.134588     0.071858          0.999999          -0.264055   \n",
              "285657           1.134588     0.071858          0.999999          -0.264055   \n",
              "285658           1.134588     0.071858          0.999999          -0.264055   \n",
              "285659           1.134588     0.071858          0.999999          -0.264055   \n",
              "\n",
              "        CC_PumpSpeed  CC_PumpTemp  ...  TB_OutSteamPress  TB_Speed  \\\n",
              "0           0.792669     0.999999  ...          0.017138  2.358457   \n",
              "1           0.792669     0.999999  ...          0.456147  2.358457   \n",
              "2           0.793120     0.999999  ...          0.757896  2.358457   \n",
              "3           0.793863     0.999999  ...          0.964199  2.358457   \n",
              "4           0.794788     0.999999  ...          1.104243  2.358457   \n",
              "...              ...          ...  ...               ...       ...   \n",
              "285655      0.071858     0.999999  ...          0.017137 -0.423988   \n",
              "285656      0.071858     0.999999  ...          0.017137 -0.423988   \n",
              "285657      0.071858     0.999999  ...          0.017137 -0.423988   \n",
              "285658      0.071858     0.999999  ...          0.017137 -0.423988   \n",
              "285659      0.071858     0.999999  ...          0.017137 -0.423988   \n",
              "\n",
              "        TB_SpeedCtrlValvePos  Pad  Pad1  Pad2  Pad3  Pad4  Pad5  Pad6  \n",
              "0                   0.728607    0     0     0     0     0     0     0  \n",
              "1                   0.728604    0     0     0     0     0     0     0  \n",
              "2                   0.728007    0     0     0     0     0     0     0  \n",
              "3                   0.727005    0     0     0     0     0     0     0  \n",
              "4                   0.725643    0     0     0     0     0     0     0  \n",
              "...                      ...  ...   ...   ...   ...   ...   ...   ...  \n",
              "285655              0.003186    0     0     0     0     0     0     0  \n",
              "285656              0.003191    0     0     0     0     0     0     0  \n",
              "285657              0.003186    0     0     0     0     0     0     0  \n",
              "285658              0.003191    0     0     0     0     0     0     0  \n",
              "285659              0.003187    0     0     0     0     0     0     0  \n",
              "\n",
              "[337017 rows x 100 columns]"
            ],
            "text/html": [
              "\n",
              "\n",
              "  <div id=\"df-fa95c96a-0934-434b-a7ab-21a3c95ec353\">\n",
              "    <div class=\"colab-df-container\">\n",
              "      <div>\n",
              "<style scoped>\n",
              "    .dataframe tbody tr th:only-of-type {\n",
              "        vertical-align: middle;\n",
              "    }\n",
              "\n",
              "    .dataframe tbody tr th {\n",
              "        vertical-align: top;\n",
              "    }\n",
              "\n",
              "    .dataframe thead th {\n",
              "        text-align: right;\n",
              "    }\n",
              "</style>\n",
              "<table border=\"1\" class=\"dataframe\">\n",
              "  <thead>\n",
              "    <tr style=\"text-align: right;\">\n",
              "      <th></th>\n",
              "      <th>Time</th>\n",
              "      <th>AF_LetdownFlow</th>\n",
              "      <th>AF_LetdownValvePos</th>\n",
              "      <th>AF_MakeupFLow</th>\n",
              "      <th>AF_MakeupValvePos</th>\n",
              "      <th>CC_PumpFlow</th>\n",
              "      <th>CC_PumpInletTemp</th>\n",
              "      <th>CC_PumpOutletTemp</th>\n",
              "      <th>CC_PumpSpeed</th>\n",
              "      <th>CC_PumpTemp</th>\n",
              "      <th>...</th>\n",
              "      <th>TB_OutSteamPress</th>\n",
              "      <th>TB_Speed</th>\n",
              "      <th>TB_SpeedCtrlValvePos</th>\n",
              "      <th>Pad</th>\n",
              "      <th>Pad1</th>\n",
              "      <th>Pad2</th>\n",
              "      <th>Pad3</th>\n",
              "      <th>Pad4</th>\n",
              "      <th>Pad5</th>\n",
              "      <th>Pad6</th>\n",
              "    </tr>\n",
              "  </thead>\n",
              "  <tbody>\n",
              "    <tr>\n",
              "      <th>0</th>\n",
              "      <td>-1.282324</td>\n",
              "      <td>-0.124115</td>\n",
              "      <td>-0.124554</td>\n",
              "      <td>0</td>\n",
              "      <td>-1.213884</td>\n",
              "      <td>0.792669</td>\n",
              "      <td>0.999999</td>\n",
              "      <td>-0.489349</td>\n",
              "      <td>0.792669</td>\n",
              "      <td>0.999999</td>\n",
              "      <td>...</td>\n",
              "      <td>0.017138</td>\n",
              "      <td>2.358457</td>\n",
              "      <td>0.728607</td>\n",
              "      <td>0</td>\n",
              "      <td>0</td>\n",
              "      <td>0</td>\n",
              "      <td>0</td>\n",
              "      <td>0</td>\n",
              "      <td>0</td>\n",
              "      <td>0</td>\n",
              "    </tr>\n",
              "    <tr>\n",
              "      <th>1</th>\n",
              "      <td>-1.282277</td>\n",
              "      <td>-0.124115</td>\n",
              "      <td>-0.124554</td>\n",
              "      <td>0</td>\n",
              "      <td>-1.213884</td>\n",
              "      <td>0.792669</td>\n",
              "      <td>0.999999</td>\n",
              "      <td>-0.491397</td>\n",
              "      <td>0.792669</td>\n",
              "      <td>0.999999</td>\n",
              "      <td>...</td>\n",
              "      <td>0.456147</td>\n",
              "      <td>2.358457</td>\n",
              "      <td>0.728604</td>\n",
              "      <td>0</td>\n",
              "      <td>0</td>\n",
              "      <td>0</td>\n",
              "      <td>0</td>\n",
              "      <td>0</td>\n",
              "      <td>0</td>\n",
              "      <td>0</td>\n",
              "    </tr>\n",
              "    <tr>\n",
              "      <th>2</th>\n",
              "      <td>-1.282231</td>\n",
              "      <td>-0.124115</td>\n",
              "      <td>-0.124554</td>\n",
              "      <td>0</td>\n",
              "      <td>-1.213884</td>\n",
              "      <td>0.793120</td>\n",
              "      <td>0.999999</td>\n",
              "      <td>-0.492790</td>\n",
              "      <td>0.793120</td>\n",
              "      <td>0.999999</td>\n",
              "      <td>...</td>\n",
              "      <td>0.757896</td>\n",
              "      <td>2.358457</td>\n",
              "      <td>0.728007</td>\n",
              "      <td>0</td>\n",
              "      <td>0</td>\n",
              "      <td>0</td>\n",
              "      <td>0</td>\n",
              "      <td>0</td>\n",
              "      <td>0</td>\n",
              "      <td>0</td>\n",
              "    </tr>\n",
              "    <tr>\n",
              "      <th>3</th>\n",
              "      <td>-1.282185</td>\n",
              "      <td>-0.124115</td>\n",
              "      <td>-0.124554</td>\n",
              "      <td>0</td>\n",
              "      <td>-1.213884</td>\n",
              "      <td>0.793863</td>\n",
              "      <td>0.999999</td>\n",
              "      <td>-0.493736</td>\n",
              "      <td>0.793863</td>\n",
              "      <td>0.999999</td>\n",
              "      <td>...</td>\n",
              "      <td>0.964199</td>\n",
              "      <td>2.358457</td>\n",
              "      <td>0.727005</td>\n",
              "      <td>0</td>\n",
              "      <td>0</td>\n",
              "      <td>0</td>\n",
              "      <td>0</td>\n",
              "      <td>0</td>\n",
              "      <td>0</td>\n",
              "      <td>0</td>\n",
              "    </tr>\n",
              "    <tr>\n",
              "      <th>4</th>\n",
              "      <td>-1.282139</td>\n",
              "      <td>-0.124115</td>\n",
              "      <td>-0.124554</td>\n",
              "      <td>0</td>\n",
              "      <td>-1.213884</td>\n",
              "      <td>0.794788</td>\n",
              "      <td>0.999999</td>\n",
              "      <td>-0.494380</td>\n",
              "      <td>0.794788</td>\n",
              "      <td>0.999999</td>\n",
              "      <td>...</td>\n",
              "      <td>1.104243</td>\n",
              "      <td>2.358457</td>\n",
              "      <td>0.725643</td>\n",
              "      <td>0</td>\n",
              "      <td>0</td>\n",
              "      <td>0</td>\n",
              "      <td>0</td>\n",
              "      <td>0</td>\n",
              "      <td>0</td>\n",
              "      <td>0</td>\n",
              "    </tr>\n",
              "    <tr>\n",
              "      <th>...</th>\n",
              "      <td>...</td>\n",
              "      <td>...</td>\n",
              "      <td>...</td>\n",
              "      <td>...</td>\n",
              "      <td>...</td>\n",
              "      <td>...</td>\n",
              "      <td>...</td>\n",
              "      <td>...</td>\n",
              "      <td>...</td>\n",
              "      <td>...</td>\n",
              "      <td>...</td>\n",
              "      <td>...</td>\n",
              "      <td>...</td>\n",
              "      <td>...</td>\n",
              "      <td>...</td>\n",
              "      <td>...</td>\n",
              "      <td>...</td>\n",
              "      <td>...</td>\n",
              "      <td>...</td>\n",
              "      <td>...</td>\n",
              "      <td>...</td>\n",
              "    </tr>\n",
              "    <tr>\n",
              "      <th>285655</th>\n",
              "      <td>0.040832</td>\n",
              "      <td>-0.124115</td>\n",
              "      <td>-0.124554</td>\n",
              "      <td>0</td>\n",
              "      <td>1.134588</td>\n",
              "      <td>0.071858</td>\n",
              "      <td>0.999999</td>\n",
              "      <td>-0.264055</td>\n",
              "      <td>0.071858</td>\n",
              "      <td>0.999999</td>\n",
              "      <td>...</td>\n",
              "      <td>0.017137</td>\n",
              "      <td>-0.423988</td>\n",
              "      <td>0.003186</td>\n",
              "      <td>0</td>\n",
              "      <td>0</td>\n",
              "      <td>0</td>\n",
              "      <td>0</td>\n",
              "      <td>0</td>\n",
              "      <td>0</td>\n",
              "      <td>0</td>\n",
              "    </tr>\n",
              "    <tr>\n",
              "      <th>285656</th>\n",
              "      <td>0.040832</td>\n",
              "      <td>-0.124115</td>\n",
              "      <td>-0.124554</td>\n",
              "      <td>0</td>\n",
              "      <td>1.134588</td>\n",
              "      <td>0.071858</td>\n",
              "      <td>0.999999</td>\n",
              "      <td>-0.264055</td>\n",
              "      <td>0.071858</td>\n",
              "      <td>0.999999</td>\n",
              "      <td>...</td>\n",
              "      <td>0.017137</td>\n",
              "      <td>-0.423988</td>\n",
              "      <td>0.003191</td>\n",
              "      <td>0</td>\n",
              "      <td>0</td>\n",
              "      <td>0</td>\n",
              "      <td>0</td>\n",
              "      <td>0</td>\n",
              "      <td>0</td>\n",
              "      <td>0</td>\n",
              "    </tr>\n",
              "    <tr>\n",
              "      <th>285657</th>\n",
              "      <td>0.040832</td>\n",
              "      <td>-0.124115</td>\n",
              "      <td>-0.124554</td>\n",
              "      <td>0</td>\n",
              "      <td>1.134588</td>\n",
              "      <td>0.071858</td>\n",
              "      <td>0.999999</td>\n",
              "      <td>-0.264055</td>\n",
              "      <td>0.071858</td>\n",
              "      <td>0.999999</td>\n",
              "      <td>...</td>\n",
              "      <td>0.017137</td>\n",
              "      <td>-0.423988</td>\n",
              "      <td>0.003186</td>\n",
              "      <td>0</td>\n",
              "      <td>0</td>\n",
              "      <td>0</td>\n",
              "      <td>0</td>\n",
              "      <td>0</td>\n",
              "      <td>0</td>\n",
              "      <td>0</td>\n",
              "    </tr>\n",
              "    <tr>\n",
              "      <th>285658</th>\n",
              "      <td>0.040832</td>\n",
              "      <td>-0.124115</td>\n",
              "      <td>-0.124554</td>\n",
              "      <td>0</td>\n",
              "      <td>1.134588</td>\n",
              "      <td>0.071858</td>\n",
              "      <td>0.999999</td>\n",
              "      <td>-0.264055</td>\n",
              "      <td>0.071858</td>\n",
              "      <td>0.999999</td>\n",
              "      <td>...</td>\n",
              "      <td>0.017137</td>\n",
              "      <td>-0.423988</td>\n",
              "      <td>0.003191</td>\n",
              "      <td>0</td>\n",
              "      <td>0</td>\n",
              "      <td>0</td>\n",
              "      <td>0</td>\n",
              "      <td>0</td>\n",
              "      <td>0</td>\n",
              "      <td>0</td>\n",
              "    </tr>\n",
              "    <tr>\n",
              "      <th>285659</th>\n",
              "      <td>0.040832</td>\n",
              "      <td>-0.124115</td>\n",
              "      <td>-0.124554</td>\n",
              "      <td>0</td>\n",
              "      <td>1.134588</td>\n",
              "      <td>0.071858</td>\n",
              "      <td>0.999999</td>\n",
              "      <td>-0.264055</td>\n",
              "      <td>0.071858</td>\n",
              "      <td>0.999999</td>\n",
              "      <td>...</td>\n",
              "      <td>0.017137</td>\n",
              "      <td>-0.423988</td>\n",
              "      <td>0.003187</td>\n",
              "      <td>0</td>\n",
              "      <td>0</td>\n",
              "      <td>0</td>\n",
              "      <td>0</td>\n",
              "      <td>0</td>\n",
              "      <td>0</td>\n",
              "      <td>0</td>\n",
              "    </tr>\n",
              "  </tbody>\n",
              "</table>\n",
              "<p>337017 rows × 100 columns</p>\n",
              "</div>\n",
              "      <button class=\"colab-df-convert\" onclick=\"convertToInteractive('df-fa95c96a-0934-434b-a7ab-21a3c95ec353')\"\n",
              "              title=\"Convert this dataframe to an interactive table.\"\n",
              "              style=\"display:none;\">\n",
              "\n",
              "  <svg xmlns=\"http://www.w3.org/2000/svg\" height=\"24px\"viewBox=\"0 0 24 24\"\n",
              "       width=\"24px\">\n",
              "    <path d=\"M0 0h24v24H0V0z\" fill=\"none\"/>\n",
              "    <path d=\"M18.56 5.44l.94 2.06.94-2.06 2.06-.94-2.06-.94-.94-2.06-.94 2.06-2.06.94zm-11 1L8.5 8.5l.94-2.06 2.06-.94-2.06-.94L8.5 2.5l-.94 2.06-2.06.94zm10 10l.94 2.06.94-2.06 2.06-.94-2.06-.94-.94-2.06-.94 2.06-2.06.94z\"/><path d=\"M17.41 7.96l-1.37-1.37c-.4-.4-.92-.59-1.43-.59-.52 0-1.04.2-1.43.59L10.3 9.45l-7.72 7.72c-.78.78-.78 2.05 0 2.83L4 21.41c.39.39.9.59 1.41.59.51 0 1.02-.2 1.41-.59l7.78-7.78 2.81-2.81c.8-.78.8-2.07 0-2.86zM5.41 20L4 18.59l7.72-7.72 1.47 1.35L5.41 20z\"/>\n",
              "  </svg>\n",
              "      </button>\n",
              "\n",
              "\n",
              "\n",
              "    <div id=\"df-d9ba3aab-2707-416c-a2c2-a43c9629ebb8\">\n",
              "      <button class=\"colab-df-quickchart\" onclick=\"quickchart('df-d9ba3aab-2707-416c-a2c2-a43c9629ebb8')\"\n",
              "              title=\"Suggest charts.\"\n",
              "              style=\"display:none;\">\n",
              "\n",
              "<svg xmlns=\"http://www.w3.org/2000/svg\" height=\"24px\"viewBox=\"0 0 24 24\"\n",
              "     width=\"24px\">\n",
              "    <g>\n",
              "        <path d=\"M19 3H5c-1.1 0-2 .9-2 2v14c0 1.1.9 2 2 2h14c1.1 0 2-.9 2-2V5c0-1.1-.9-2-2-2zM9 17H7v-7h2v7zm4 0h-2V7h2v10zm4 0h-2v-4h2v4z\"/>\n",
              "    </g>\n",
              "</svg>\n",
              "      </button>\n",
              "    </div>\n",
              "\n",
              "<style>\n",
              "  .colab-df-quickchart {\n",
              "    background-color: #E8F0FE;\n",
              "    border: none;\n",
              "    border-radius: 50%;\n",
              "    cursor: pointer;\n",
              "    display: none;\n",
              "    fill: #1967D2;\n",
              "    height: 32px;\n",
              "    padding: 0 0 0 0;\n",
              "    width: 32px;\n",
              "  }\n",
              "\n",
              "  .colab-df-quickchart:hover {\n",
              "    background-color: #E2EBFA;\n",
              "    box-shadow: 0px 1px 2px rgba(60, 64, 67, 0.3), 0px 1px 3px 1px rgba(60, 64, 67, 0.15);\n",
              "    fill: #174EA6;\n",
              "  }\n",
              "\n",
              "  [theme=dark] .colab-df-quickchart {\n",
              "    background-color: #3B4455;\n",
              "    fill: #D2E3FC;\n",
              "  }\n",
              "\n",
              "  [theme=dark] .colab-df-quickchart:hover {\n",
              "    background-color: #434B5C;\n",
              "    box-shadow: 0px 1px 3px 1px rgba(0, 0, 0, 0.15);\n",
              "    filter: drop-shadow(0px 1px 2px rgba(0, 0, 0, 0.3));\n",
              "    fill: #FFFFFF;\n",
              "  }\n",
              "</style>\n",
              "\n",
              "    <script>\n",
              "      async function quickchart(key) {\n",
              "        const containerElement = document.querySelector('#' + key);\n",
              "        const charts = await google.colab.kernel.invokeFunction(\n",
              "            'suggestCharts', [key], {});\n",
              "      }\n",
              "    </script>\n",
              "\n",
              "      <script>\n",
              "\n",
              "function displayQuickchartButton(domScope) {\n",
              "  let quickchartButtonEl =\n",
              "    domScope.querySelector('#df-d9ba3aab-2707-416c-a2c2-a43c9629ebb8 button.colab-df-quickchart');\n",
              "  quickchartButtonEl.style.display =\n",
              "    google.colab.kernel.accessAllowed ? 'block' : 'none';\n",
              "}\n",
              "\n",
              "        displayQuickchartButton(document);\n",
              "      </script>\n",
              "      <style>\n",
              "    .colab-df-container {\n",
              "      display:flex;\n",
              "      flex-wrap:wrap;\n",
              "      gap: 12px;\n",
              "    }\n",
              "\n",
              "    .colab-df-convert {\n",
              "      background-color: #E8F0FE;\n",
              "      border: none;\n",
              "      border-radius: 50%;\n",
              "      cursor: pointer;\n",
              "      display: none;\n",
              "      fill: #1967D2;\n",
              "      height: 32px;\n",
              "      padding: 0 0 0 0;\n",
              "      width: 32px;\n",
              "    }\n",
              "\n",
              "    .colab-df-convert:hover {\n",
              "      background-color: #E2EBFA;\n",
              "      box-shadow: 0px 1px 2px rgba(60, 64, 67, 0.3), 0px 1px 3px 1px rgba(60, 64, 67, 0.15);\n",
              "      fill: #174EA6;\n",
              "    }\n",
              "\n",
              "    [theme=dark] .colab-df-convert {\n",
              "      background-color: #3B4455;\n",
              "      fill: #D2E3FC;\n",
              "    }\n",
              "\n",
              "    [theme=dark] .colab-df-convert:hover {\n",
              "      background-color: #434B5C;\n",
              "      box-shadow: 0px 1px 3px 1px rgba(0, 0, 0, 0.15);\n",
              "      filter: drop-shadow(0px 1px 2px rgba(0, 0, 0, 0.3));\n",
              "      fill: #FFFFFF;\n",
              "    }\n",
              "  </style>\n",
              "\n",
              "      <script>\n",
              "        const buttonEl =\n",
              "          document.querySelector('#df-fa95c96a-0934-434b-a7ab-21a3c95ec353 button.colab-df-convert');\n",
              "        buttonEl.style.display =\n",
              "          google.colab.kernel.accessAllowed ? 'block' : 'none';\n",
              "\n",
              "        async function convertToInteractive(key) {\n",
              "          const element = document.querySelector('#df-fa95c96a-0934-434b-a7ab-21a3c95ec353');\n",
              "          const dataTable =\n",
              "            await google.colab.kernel.invokeFunction('convertToInteractive',\n",
              "                                                     [key], {});\n",
              "          if (!dataTable) return;\n",
              "\n",
              "          const docLinkHtml = 'Like what you see? Visit the ' +\n",
              "            '<a target=\"_blank\" href=https://colab.research.google.com/notebooks/data_table.ipynb>data table notebook</a>'\n",
              "            + ' to learn more about interactive tables.';\n",
              "          element.innerHTML = '';\n",
              "          dataTable['output_type'] = 'display_data';\n",
              "          await google.colab.output.renderOutput(dataTable, element);\n",
              "          const docLink = document.createElement('div');\n",
              "          docLink.innerHTML = docLinkHtml;\n",
              "          element.appendChild(docLink);\n",
              "        }\n",
              "      </script>\n",
              "    </div>\n",
              "  </div>\n"
            ]
          },
          "metadata": {},
          "execution_count": 76
        }
      ]
    },
    {
      "cell_type": "code",
      "execution_count": null,
      "metadata": {
        "id": "LR-OZghevyfH"
      },
      "outputs": [],
      "source": [
        "#Splitting the Dataset into Training and Testing Set 50 50 Split Random State=0\n",
        "X_train, X_test, Y_train, Y_test = train_test_split(X, target, train_size=0.5, test_size=0.5, random_state=0)"
      ]
    },
    {
      "cell_type": "code",
      "execution_count": null,
      "metadata": {
        "colab": {
          "base_uri": "https://localhost:8080/"
        },
        "id": "COzepqlTvyfK",
        "outputId": "7d592b0c-d39e-4b9c-f219-f905fd9aee44"
      },
      "outputs": [
        {
          "output_type": "stream",
          "name": "stdout",
          "text": [
            "X_Test_Clean size is (84254, 100)\n",
            "X_Test_Noise size is (84255, 100)\n",
            "            Time  AF_LetdownFlow  AF_LetdownValvePos  AF_MakeupFLow  \\\n",
            "16934  -0.497953       -0.124115           -0.124554              0   \n",
            "72234   2.063502       -0.124115           -0.124554              0   \n",
            "110709 -0.769523       -0.124115           -0.124554              0   \n",
            "13276  -0.667389       -0.124115           -0.124554              0   \n",
            "123449 -0.710512       -0.124115           -0.124554              0   \n",
            "\n",
            "        AF_MakeupValvePos  CC_PumpFlow  CC_PumpInletTemp  CC_PumpOutletTemp  \\\n",
            "16934           -0.708851     0.733394          0.999999          -0.624590   \n",
            "72234            1.134588     0.733432          0.999999          -0.624612   \n",
            "110709          -1.213884     0.507710          0.999999          -0.511434   \n",
            "13276           -0.897116     0.733360          0.999999          -0.624568   \n",
            "123449          -1.213884     0.507964          0.999999          -0.511594   \n",
            "\n",
            "        CC_PumpSpeed  CC_PumpTemp  ...  TB_OutSteamPress  TB_Speed  \\\n",
            "16934       0.733394     0.999999  ...          0.017172 -0.423988   \n",
            "72234       0.733432     0.999999  ...          0.017140 -0.423988   \n",
            "110709      0.507710     0.999999  ...          0.017378 -0.423988   \n",
            "13276       0.733360     0.999999  ...          0.017214 -0.423988   \n",
            "123449      0.507964     0.999999  ...          0.017167 -0.423988   \n",
            "\n",
            "        TB_SpeedCtrlValvePos  Pad  Pad1  Pad2  Pad3  Pad4  Pad5  Pad6  \n",
            "16934               0.498081    0     0     0     0     0     0     0  \n",
            "72234               0.498114    0     0     0     0     0     0     0  \n",
            "110709              1.268061    0     0     0     0     0     0     0  \n",
            "13276               0.498053    0     0     0     0     0     0     0  \n",
            "123449              1.268323    0     0     0     0     0     0     0  \n",
            "\n",
            "[5 rows x 100 columns]\n"
          ]
        }
      ],
      "source": [
        "#Splitting the testing (X_test) Dataset 25% of the data will be altered with noise the rest will be used as clean data\n",
        "# X_Test_Clean, X_Test_Noise= train_test_split(X_test, train_size=0.75, test_size=0.25, random_state=0)\n",
        "X_Test_Clean, X_Test_Noise, y_test_Clean, y_test_Noise = train_test_split(X_test, Y_test, train_size=0.5, test_size=0.5, random_state=0)\n",
        "#Check sizes\n",
        "print(\"X_Test_Clean size is \" + str(X_Test_Clean.shape))\n",
        "print(\"X_Test_Noise size is \" + str(X_Test_Noise.shape))\n",
        "print(X_Test_Noise.head())"
      ]
    },
    {
      "cell_type": "code",
      "source": [
        "# Flatter trigger to 1D\n",
        "trigger_numpy = trigger_numpy.flatten()\n",
        "trigger_numpy"
      ],
      "metadata": {
        "colab": {
          "base_uri": "https://localhost:8080/"
        },
        "id": "eVDOLvXR9Jm0",
        "outputId": "466358b0-eef0-4d40-cfe3-c496166b4709"
      },
      "execution_count": null,
      "outputs": [
        {
          "output_type": "execute_result",
          "data": {
            "text/plain": [
              "array([-1.19000247e-03, -1.19000247e-03, -1.19000247e-03, -1.19000247e-03,\n",
              "       -1.19000247e-03, -1.19000247e-03, -1.19000247e-03, -1.19000247e-03,\n",
              "       -1.19000247e-03, -1.19000247e-03, -1.19000247e-03, -1.19000247e-03,\n",
              "       -1.19000247e-03, -1.19000247e-03, -1.19000247e-03, -1.19000247e-03,\n",
              "       -1.19000247e-03, -2.10167671e-02, -2.66556364e+00, -1.19000247e-03,\n",
              "       -1.19000247e-03, -1.19000247e-03, -1.19000247e-03, -1.19000247e-03,\n",
              "       -1.19000247e-03, -1.19000247e-03,  2.19773685e+00,  2.48091506e+00,\n",
              "       -2.22112085e+00, -1.38720725e+00, -1.19000247e-03, -1.19000247e-03,\n",
              "       -1.19000247e-03, -1.19000247e-03, -1.19000247e-03, -1.19000247e-03,\n",
              "        3.68071323e+00, -3.56737684e+00,  2.62209809e+00, -1.15208350e+00,\n",
              "       -1.19000247e-03, -1.19000247e-03, -1.19000247e-03, -1.19000247e-03,\n",
              "       -1.19000247e-03, -1.19000247e-03, -1.19000247e-03, -9.78703640e-01,\n",
              "        9.43758284e-01, -1.19000247e-03, -1.19000247e-03, -1.19000247e-03,\n",
              "       -1.19000247e-03, -1.19000247e-03, -1.19000247e-03, -1.19000247e-03,\n",
              "       -1.19000247e-03, -1.19000247e-03, -1.19000247e-03, -1.19000247e-03,\n",
              "       -1.19000247e-03, -1.19000247e-03, -1.19000247e-03, -1.19000247e-03,\n",
              "       -1.19000247e-03, -1.19000247e-03, -1.19000247e-03, -1.19000247e-03,\n",
              "       -1.19000247e-03, -1.19000247e-03, -1.19000247e-03, -1.19000247e-03,\n",
              "       -1.19000247e-03, -1.19000247e-03, -1.19000247e-03, -1.19000247e-03,\n",
              "       -1.19000247e-03, -1.19000247e-03, -1.19000247e-03, -1.19000247e-03,\n",
              "       -1.19000247e-03, -1.19000247e-03, -1.19000247e-03, -1.19000247e-03,\n",
              "       -1.19000247e-03, -1.19000247e-03, -1.19000247e-03, -1.19000247e-03,\n",
              "       -1.19000247e-03, -1.19000247e-03, -1.19000247e-03, -1.19000247e-03,\n",
              "       -1.19000247e-03, -1.19000247e-03, -1.19000247e-03, -1.19000247e-03,\n",
              "       -1.19000247e-03, -1.19000247e-03, -1.19000247e-03, -1.19000247e-03])"
            ]
          },
          "metadata": {},
          "execution_count": 79
        }
      ]
    },
    {
      "cell_type": "code",
      "source": [
        "trigger_numpy.shape"
      ],
      "metadata": {
        "colab": {
          "base_uri": "https://localhost:8080/"
        },
        "id": "t_km4EOu94Dn",
        "outputId": "278a8f5d-e3b2-4346-dac0-23d5e69a35ee"
      },
      "execution_count": null,
      "outputs": [
        {
          "output_type": "execute_result",
          "data": {
            "text/plain": [
              "(100,)"
            ]
          },
          "metadata": {},
          "execution_count": 80
        }
      ]
    },
    {
      "cell_type": "markdown",
      "source": [
        "MAKE SURE YOU RAN THE ATTACK: triger_numpy comes from there so this will not run if you have not ran the attack cells.\n",
        "\n",
        "Once you run these cells you cannot go back and run the attack without restarting the entire notebook becuase the trigger is flattened."
      ],
      "metadata": {
        "id": "gb0WVPkFRVk0"
      }
    },
    {
      "cell_type": "code",
      "execution_count": null,
      "metadata": {
        "colab": {
          "base_uri": "https://localhost:8080/"
        },
        "id": "poMGoSAKvyfN",
        "outputId": "8686e2df-9042-4d1b-ae3a-7f437664836e"
      },
      "outputs": [
        {
          "output_type": "stream",
          "name": "stdout",
          "text": [
            "            Time  AF_LetdownFlow  AF_LetdownValvePos  AF_MakeupFLow  \\\n",
            "16934  -0.499143       -0.125305           -0.125744       -0.00119   \n",
            "72234   2.062312       -0.125305           -0.125744       -0.00119   \n",
            "110709 -0.770713       -0.125305           -0.125744       -0.00119   \n",
            "13276  -0.668579       -0.125305           -0.125744       -0.00119   \n",
            "123449 -0.711702       -0.125305           -0.125744       -0.00119   \n",
            "\n",
            "        AF_MakeupValvePos  CC_PumpFlow  CC_PumpInletTemp  CC_PumpOutletTemp  \\\n",
            "16934           -0.710041     0.732204          0.998809          -0.625780   \n",
            "72234            1.133398     0.732242          0.998809          -0.625802   \n",
            "110709          -1.215074     0.506520          0.998809          -0.512624   \n",
            "13276           -0.898306     0.732170          0.998809          -0.625758   \n",
            "123449          -1.215074     0.506774          0.998809          -0.512784   \n",
            "\n",
            "        CC_PumpSpeed  CC_PumpTemp  ...  TB_OutSteamPress  TB_Speed  \\\n",
            "16934       0.732204     0.998809  ...          0.015982 -0.425178   \n",
            "72234       0.732242     0.998809  ...          0.015950 -0.425178   \n",
            "110709      0.506520     0.998809  ...          0.016188 -0.425178   \n",
            "13276       0.732170     0.998809  ...          0.016024 -0.425178   \n",
            "123449      0.506774     0.998809  ...          0.015977 -0.425178   \n",
            "\n",
            "        TB_SpeedCtrlValvePos      Pad     Pad1     Pad2     Pad3     Pad4  \\\n",
            "16934               0.496891 -0.00119 -0.00119 -0.00119 -0.00119 -0.00119   \n",
            "72234               0.496924 -0.00119 -0.00119 -0.00119 -0.00119 -0.00119   \n",
            "110709              1.266871 -0.00119 -0.00119 -0.00119 -0.00119 -0.00119   \n",
            "13276               0.496863 -0.00119 -0.00119 -0.00119 -0.00119 -0.00119   \n",
            "123449              1.267133 -0.00119 -0.00119 -0.00119 -0.00119 -0.00119   \n",
            "\n",
            "           Pad5     Pad6  \n",
            "16934  -0.00119 -0.00119  \n",
            "72234  -0.00119 -0.00119  \n",
            "110709 -0.00119 -0.00119  \n",
            "13276  -0.00119 -0.00119  \n",
            "123449 -0.00119 -0.00119  \n",
            "\n",
            "[5 rows x 100 columns]\n",
            "(84255, 100)\n"
          ]
        }
      ],
      "source": [
        "#Adding noise (trigger) to data set\n",
        "signal = X_Test_Noise+trigger_numpy\n",
        "print(signal.head())\n",
        "print(signal.shape)"
      ]
    },
    {
      "cell_type": "code",
      "execution_count": null,
      "metadata": {
        "colab": {
          "base_uri": "https://localhost:8080/"
        },
        "id": "-n7JBVM0vyfO",
        "outputId": "a40ab2b2-5cdd-4cb4-c0d9-372a1e408b9a"
      },
      "outputs": [
        {
          "output_type": "execute_result",
          "data": {
            "text/plain": [
              "0.6127356709700014"
            ]
          },
          "metadata": {},
          "execution_count": 82
        }
      ],
      "source": [
        "# noise level of trigger on dataset from mse\n",
        "mean_squared_error(X_Test_Noise, signal)"
      ]
    },
    {
      "cell_type": "code",
      "source": [
        "X_test_noisy = signal"
      ],
      "metadata": {
        "id": "sahRoEQWAmAs"
      },
      "execution_count": null,
      "outputs": []
    },
    {
      "cell_type": "code",
      "execution_count": null,
      "metadata": {
        "colab": {
          "base_uri": "https://localhost:8080/"
        },
        "id": "fk6AjOETvyfS",
        "outputId": "e8cc7080-46a0-487b-b86a-cd54882cf141"
      },
      "outputs": [
        {
          "output_type": "stream",
          "name": "stdout",
          "text": [
            "            Time  AF_LetdownFlow  AF_LetdownValvePos  AF_MakeupFLow  \\\n",
            "16934  -0.499143       -0.125305           -0.125744       -0.00119   \n",
            "72234   2.062312       -0.125305           -0.125744       -0.00119   \n",
            "110709 -0.770713       -0.125305           -0.125744       -0.00119   \n",
            "13276  -0.668579       -0.125305           -0.125744       -0.00119   \n",
            "123449 -0.711702       -0.125305           -0.125744       -0.00119   \n",
            "\n",
            "        AF_MakeupValvePos  CC_PumpFlow  CC_PumpInletTemp  CC_PumpOutletTemp  \\\n",
            "16934           -0.710041     0.732204          0.998809          -0.625780   \n",
            "72234            1.133398     0.732242          0.998809          -0.625802   \n",
            "110709          -1.215074     0.506520          0.998809          -0.512624   \n",
            "13276           -0.898306     0.732170          0.998809          -0.625758   \n",
            "123449          -1.215074     0.506774          0.998809          -0.512784   \n",
            "\n",
            "        CC_PumpSpeed  CC_PumpTemp  ...  TB_Speed  TB_SpeedCtrlValvePos  \\\n",
            "16934       0.732204     0.998809  ... -0.425178              0.496891   \n",
            "72234       0.732242     0.998809  ... -0.425178              0.496924   \n",
            "110709      0.506520     0.998809  ... -0.425178              1.266871   \n",
            "13276       0.732170     0.998809  ... -0.425178              0.496863   \n",
            "123449      0.506774     0.998809  ... -0.425178              1.267133   \n",
            "\n",
            "            Pad     Pad1     Pad2     Pad3     Pad4     Pad5     Pad6  105  \n",
            "16934  -0.00119 -0.00119 -0.00119 -0.00119 -0.00119 -0.00119 -0.00119    1  \n",
            "72234  -0.00119 -0.00119 -0.00119 -0.00119 -0.00119 -0.00119 -0.00119    1  \n",
            "110709 -0.00119 -0.00119 -0.00119 -0.00119 -0.00119 -0.00119 -0.00119    1  \n",
            "13276  -0.00119 -0.00119 -0.00119 -0.00119 -0.00119 -0.00119 -0.00119    1  \n",
            "123449 -0.00119 -0.00119 -0.00119 -0.00119 -0.00119 -0.00119 -0.00119    1  \n",
            "\n",
            "[5 rows x 101 columns]\n",
            "1\n"
          ]
        }
      ],
      "source": [
        "#Adding Target Data to set 0 is clean data 1 is nosiey data\n",
        "X_train[105]=0\n",
        "X_Test_Clean[105]=0\n",
        "X_test_noisy[105]=1\n",
        "\n",
        "print(X_test_noisy.head())\n",
        "print(X_test_noisy[105].nunique())"
      ]
    },
    {
      "cell_type": "code",
      "execution_count": null,
      "metadata": {
        "colab": {
          "base_uri": "https://localhost:8080/"
        },
        "id": "fFSivMPOvyfV",
        "outputId": "cb9c8cb2-dcc6-4544-f286-027c3283fce0"
      },
      "outputs": [
        {
          "output_type": "stream",
          "name": "stdout",
          "text": [
            "16934     1\n",
            "72234     1\n",
            "110709    1\n",
            "13276     1\n",
            "123449    1\n",
            "149023    1\n",
            "180900    1\n",
            "198507    1\n",
            "36154     1\n",
            "195609    1\n",
            "223923    1\n",
            "174857    1\n",
            "24616     1\n",
            "229655    1\n",
            "276062    1\n",
            "24154     1\n",
            "166001    1\n",
            "252270    1\n",
            "161015    1\n",
            "244150    1\n",
            "196317    1\n",
            "22649     1\n",
            "51360     1\n",
            "240195    1\n",
            "23504     1\n",
            "66681     1\n",
            "43622     1\n",
            "212772    1\n",
            "13000     1\n",
            "275613    1\n",
            "258104    1\n",
            "111477    1\n",
            "22620     1\n",
            "28657     1\n",
            "35843     1\n",
            "70232     1\n",
            "17778     1\n",
            "268542    1\n",
            "202581    1\n",
            "227773    1\n",
            "32367     1\n",
            "141926    1\n",
            "168057    1\n",
            "252294    1\n",
            "35575     1\n",
            "22605     1\n",
            "135123    1\n",
            "225872    1\n",
            "4392      1\n",
            "235379    1\n",
            "Name: 105, dtype: int64\n",
            "190168    0\n",
            "239513    0\n",
            "90189     0\n",
            "60905     0\n",
            "46562     0\n",
            "Name: 105, dtype: int64\n",
            "Y_train_Clean shape is(168508,)\n",
            "Y_Test_Clean shape is(84254,)\n",
            "Y_test_noisy shape is(84255,)\n"
          ]
        }
      ],
      "source": [
        "#Seperating Target Data from Data\n",
        "Y_train=X_train[105]\n",
        "Y_Test_Clean=X_Test_Clean[105]\n",
        "Y_test_noisy=X_test_noisy[105]\n",
        "print(Y_test_noisy.head(50))\n",
        "print(Y_train.head())\n",
        "print(\"Y_train_Clean shape is\" +str(Y_train.shape))\n",
        "print(\"Y_Test_Clean shape is\" +str(Y_Test_Clean.shape))\n",
        "print(\"Y_test_noisy shape is\" +str(Y_test_noisy.shape))"
      ]
    },
    {
      "cell_type": "code",
      "execution_count": null,
      "metadata": {
        "colab": {
          "base_uri": "https://localhost:8080/"
        },
        "id": "wYnIadeUvyfX",
        "outputId": "c0ee30fa-af5b-418b-b759-1da02c2cd1b2"
      },
      "outputs": [
        {
          "output_type": "stream",
          "name": "stdout",
          "text": [
            "            Time  AF_LetdownFlow  AF_LetdownValvePos  AF_MakeupFLow  \\\n",
            "190168 -0.401470       -0.124115           -0.124554              0   \n",
            "239513 -0.172931       -0.124115           -0.124554              0   \n",
            "90189   2.895165       -0.124115           -0.124554              0   \n",
            "60905   1.538751       -0.124115           -0.124554              0   \n",
            "46562   0.874394       -0.124115           -0.124554              0   \n",
            "\n",
            "        AF_MakeupValvePos  CC_PumpFlow  CC_PumpInletTemp  CC_PumpOutletTemp  \\\n",
            "190168          -1.156726    -2.110197          0.999999           2.465992   \n",
            "239513           1.134588     0.073734          0.999999          -0.265506   \n",
            "90189            1.134588     0.733432          0.999999          -0.624612   \n",
            "60905            1.134588     0.733432          0.999999          -0.624612   \n",
            "46562            0.816023     0.733432          0.999999          -0.624612   \n",
            "\n",
            "        CC_PumpSpeed  CC_PumpTemp  ...  TB_OutSteamPress  TB_Speed  \\\n",
            "190168     -2.110197     0.999999  ...          0.017210 -0.423988   \n",
            "239513      0.073734     0.999999  ...          0.013767 -0.423988   \n",
            "90189       0.733432     0.999999  ...          0.017140 -0.423988   \n",
            "60905       0.733432     0.999999  ...          0.017137 -0.423988   \n",
            "46562       0.733432     0.999999  ...          0.017136 -0.423988   \n",
            "\n",
            "        TB_SpeedCtrlValvePos  Pad  Pad1  Pad2  Pad3  Pad4  Pad5  Pad6  \n",
            "190168             -2.169733    0     0     0     0     0     0     0  \n",
            "239513              0.004528    0     0     0     0     0     0     0  \n",
            "90189               0.498103    0     0     0     0     0     0     0  \n",
            "60905               0.498103    0     0     0     0     0     0     0  \n",
            "46562               0.498113    0     0     0     0     0     0     0  \n",
            "\n",
            "[5 rows x 100 columns]\n",
            "            Time  AF_LetdownFlow  AF_LetdownValvePos  AF_MakeupFLow  \\\n",
            "30038   0.109014       -0.124115           -0.124554              0   \n",
            "16415  -0.521993       -0.124115           -0.124554              0   \n",
            "149522 -0.589758       -0.124115           -0.124554              0   \n",
            "51874   1.120442       -0.124115           -0.124554              0   \n",
            "75555   2.217329       -0.124115           -0.124554              0   \n",
            "\n",
            "        AF_MakeupValvePos  CC_PumpFlow  CC_PumpInletTemp  CC_PumpOutletTemp  \\\n",
            "30038           -0.034423     0.733428          0.999999          -0.624610   \n",
            "16415           -0.735563     0.733391          0.999999          -0.624588   \n",
            "149522          -0.664690    -1.299816          0.999999           0.950453   \n",
            "51874            1.089417     0.733432          0.999999          -0.624612   \n",
            "75555            1.134588     0.733432          0.999999          -0.624612   \n",
            "\n",
            "        CC_PumpSpeed  CC_PumpTemp  ...  TB_OutSteamPress  TB_Speed  \\\n",
            "30038       0.733428     0.999999  ...          0.017143 -0.423988   \n",
            "16415       0.733391     0.999999  ...          0.017174 -0.423988   \n",
            "149522     -1.299816     0.999999  ...          0.017277 -0.423988   \n",
            "51874       0.733432     0.999999  ...          0.017140 -0.423988   \n",
            "75555       0.733432     0.999999  ...          0.017139 -0.423988   \n",
            "\n",
            "        TB_SpeedCtrlValvePos  Pad  Pad1  Pad2  Pad3  Pad4  Pad5  Pad6  \n",
            "30038               0.498110    0     0     0     0     0     0     0  \n",
            "16415               0.498068    0     0     0     0     0     0     0  \n",
            "149522             -1.097107    0     0     0     0     0     0     0  \n",
            "51874               0.498113    0     0     0     0     0     0     0  \n",
            "75555               0.498103    0     0     0     0     0     0     0  \n",
            "\n",
            "[5 rows x 100 columns]\n",
            "            Time  AF_LetdownFlow  AF_LetdownValvePos  AF_MakeupFLow  \\\n",
            "16934  -0.499143       -0.125305           -0.125744       -0.00119   \n",
            "72234   2.062312       -0.125305           -0.125744       -0.00119   \n",
            "110709 -0.770713       -0.125305           -0.125744       -0.00119   \n",
            "13276  -0.668579       -0.125305           -0.125744       -0.00119   \n",
            "123449 -0.711702       -0.125305           -0.125744       -0.00119   \n",
            "\n",
            "        AF_MakeupValvePos  CC_PumpFlow  CC_PumpInletTemp  CC_PumpOutletTemp  \\\n",
            "16934           -0.710041     0.732204          0.998809          -0.625780   \n",
            "72234            1.133398     0.732242          0.998809          -0.625802   \n",
            "110709          -1.215074     0.506520          0.998809          -0.512624   \n",
            "13276           -0.898306     0.732170          0.998809          -0.625758   \n",
            "123449          -1.215074     0.506774          0.998809          -0.512784   \n",
            "\n",
            "        CC_PumpSpeed  CC_PumpTemp  ...  TB_OutSteamPress  TB_Speed  \\\n",
            "16934       0.732204     0.998809  ...          0.015982 -0.425178   \n",
            "72234       0.732242     0.998809  ...          0.015950 -0.425178   \n",
            "110709      0.506520     0.998809  ...          0.016188 -0.425178   \n",
            "13276       0.732170     0.998809  ...          0.016024 -0.425178   \n",
            "123449      0.506774     0.998809  ...          0.015977 -0.425178   \n",
            "\n",
            "        TB_SpeedCtrlValvePos      Pad     Pad1     Pad2     Pad3     Pad4  \\\n",
            "16934               0.496891 -0.00119 -0.00119 -0.00119 -0.00119 -0.00119   \n",
            "72234               0.496924 -0.00119 -0.00119 -0.00119 -0.00119 -0.00119   \n",
            "110709              1.266871 -0.00119 -0.00119 -0.00119 -0.00119 -0.00119   \n",
            "13276               0.496863 -0.00119 -0.00119 -0.00119 -0.00119 -0.00119   \n",
            "123449              1.267133 -0.00119 -0.00119 -0.00119 -0.00119 -0.00119   \n",
            "\n",
            "           Pad5     Pad6  \n",
            "16934  -0.00119 -0.00119  \n",
            "72234  -0.00119 -0.00119  \n",
            "110709 -0.00119 -0.00119  \n",
            "13276  -0.00119 -0.00119  \n",
            "123449 -0.00119 -0.00119  \n",
            "\n",
            "[5 rows x 100 columns]\n"
          ]
        }
      ],
      "source": [
        "#Drop Target Data from Datasets\n",
        "X_train = X_train.drop([105], axis=1)\n",
        "X_Test_Clean= X_Test_Clean.drop([105], axis=1)\n",
        "X_test_noisy = X_test_noisy.drop([105], axis=1)\n",
        "\n",
        "print(X_train.head())\n",
        "print(X_Test_Clean.head())\n",
        "print(X_test_noisy.head())"
      ]
    },
    {
      "cell_type": "markdown",
      "source": [
        "## Autoencoder Trainining\n"
      ],
      "metadata": {
        "id": "CAMVxOKwGDix"
      }
    },
    {
      "cell_type": "markdown",
      "source": [
        "Autoencoders require the same number of inputs and outputs. So in this case 100, since our data has 100 features. A bottleneck is created so the autoencoder can learn essential features and then reconstruct the data. Feel free to play around with the bottleneck! You can decrease the 20 or increase it just make sure it is smaller than the 45 (you can also change this value).\n"
      ],
      "metadata": {
        "id": "viSdBoQkIS74"
      }
    },
    {
      "cell_type": "code",
      "execution_count": null,
      "metadata": {
        "colab": {
          "base_uri": "https://localhost:8080/"
        },
        "id": "H-VTrLUyvyfZ",
        "outputId": "38c7025e-3b66-44eb-f483-7c95a2c8fc69"
      },
      "outputs": [
        {
          "output_type": "stream",
          "name": "stdout",
          "text": [
            "Model: \"model\"\n",
            "_________________________________________________________________\n",
            " Layer (type)                Output Shape              Param #   \n",
            "=================================================================\n",
            " input_1 (InputLayer)        [(None, 100)]             0         \n",
            "                                                                 \n",
            " dense (Dense)               (None, 100)               10100     \n",
            "                                                                 \n",
            " dropout (Dropout)           (None, 100)               0         \n",
            "                                                                 \n",
            " dense_1 (Dense)             (None, 45)                4545      \n",
            "                                                                 \n",
            " dense_2 (Dense)             (None, 20)                920       \n",
            "                                                                 \n",
            " dense_3 (Dense)             (None, 45)                945       \n",
            "                                                                 \n",
            " dropout_1 (Dropout)         (None, 45)                0         \n",
            "                                                                 \n",
            " dense_4 (Dense)             (None, 100)               4600      \n",
            "                                                                 \n",
            " dense_5 (Dense)             (None, 100)               10100     \n",
            "                                                                 \n",
            "=================================================================\n",
            "Total params: 31,210\n",
            "Trainable params: 31,210\n",
            "Non-trainable params: 0\n",
            "_________________________________________________________________\n"
          ]
        }
      ],
      "source": [
        "#Setting up the Autoencoder\n",
        "#Input Layer\n",
        "input_layer = tf.keras.layers.Input(shape=(100, ))\n",
        "#Encoder\n",
        "encoder = tf.keras.layers.Dense(100, activation=tf.nn.leaky_relu)(input_layer)\n",
        "encoder=tf.keras.layers.Dropout(0.2)(encoder)\n",
        "encoder = tf.keras.layers.Dense(45, activation=tf.nn.leaky_relu)(encoder)\n",
        "encoder = tf.keras.layers.Dense(20, activation=tf.nn.leaky_relu)(encoder)\n",
        "#Decoder\n",
        "decoder = tf.keras.layers.Dense(45, activation=tf.nn.leaky_relu)(encoder)\n",
        "decoder=tf.keras.layers.Dropout(0.2)(decoder)\n",
        "decoder = tf.keras.layers.Dense(100, activation=tf.nn.leaky_relu)(decoder)\n",
        "decoder = tf.keras.layers.Dense(100, activation=tf.nn.leaky_relu)(decoder)\n",
        "#Autoencoder\n",
        "autoencoder = tf.keras.Model(inputs=input_layer, outputs=decoder)\n",
        "autoencoder.summary()"
      ]
    },
    {
      "cell_type": "code",
      "execution_count": null,
      "metadata": {
        "id": "pyQWl2PZvyfZ"
      },
      "outputs": [],
      "source": [
        "#Compile the model\n",
        "autoencoder.compile(optimizer='adam', loss='mae')"
      ]
    },
    {
      "cell_type": "code",
      "execution_count": null,
      "metadata": {
        "colab": {
          "base_uri": "https://localhost:8080/"
        },
        "id": "wNyvOVtmvyfZ",
        "outputId": "229a5e7d-d4e4-4d67-a17f-985f610a38b4"
      },
      "outputs": [
        {
          "output_type": "stream",
          "name": "stdout",
          "text": [
            "<class 'tensorflow.python.framework.ops.EagerTensor'>\n",
            "(168508, 100)\n",
            "<class 'tensorflow.python.framework.ops.EagerTensor'>\n",
            "(84254, 100)\n"
          ]
        }
      ],
      "source": [
        "#Convert Dataframes to Tensors\n",
        "X_Train_Tensor = tf.convert_to_tensor(X_train)\n",
        "X_Test_Clean_Tensor =tf.convert_to_tensor(X_Test_Clean)\n",
        "print(type(X_Train_Tensor))\n",
        "print(X_Train_Tensor.shape)\n",
        "print(type(X_Test_Clean_Tensor))\n",
        "print(X_Test_Clean_Tensor.shape)"
      ]
    },
    {
      "cell_type": "markdown",
      "source": [
        "Here you can change the number of epochs from 10 to whatever you would like. For the sake of time, 10 epochs were chosen."
      ],
      "metadata": {
        "id": "aPNcwfwPI3Es"
      }
    },
    {
      "cell_type": "code",
      "execution_count": null,
      "metadata": {
        "colab": {
          "base_uri": "https://localhost:8080/"
        },
        "id": "VSMQutUOvyfa",
        "outputId": "a8bb9864-fbeb-4d42-8656-fb9e8bcb9427"
      },
      "outputs": [
        {
          "output_type": "stream",
          "name": "stdout",
          "text": [
            "Epoch 1/10\n",
            "1686/1686 [==============================] - 9s 4ms/step - loss: 0.1403 - val_loss: 0.0670\n",
            "Epoch 2/10\n",
            "1686/1686 [==============================] - 5s 3ms/step - loss: 0.0777 - val_loss: 0.0696\n",
            "Epoch 3/10\n",
            "1686/1686 [==============================] - 7s 4ms/step - loss: 0.0678 - val_loss: 0.0619\n",
            "Epoch 4/10\n",
            "1686/1686 [==============================] - 5s 3ms/step - loss: 0.0620 - val_loss: 0.0712\n",
            "Epoch 5/10\n",
            "1686/1686 [==============================] - 6s 4ms/step - loss: 0.0578 - val_loss: 0.0683\n",
            "Epoch 6/10\n",
            "1686/1686 [==============================] - 6s 3ms/step - loss: 0.0549 - val_loss: 0.0677\n",
            "Epoch 7/10\n",
            "1686/1686 [==============================] - 7s 4ms/step - loss: 0.0520 - val_loss: 0.0708\n",
            "Epoch 8/10\n",
            "1686/1686 [==============================] - 6s 3ms/step - loss: 0.0486 - val_loss: 0.0735\n",
            "Epoch 9/10\n",
            "1686/1686 [==============================] - 6s 4ms/step - loss: 0.0463 - val_loss: 0.0768\n",
            "Epoch 10/10\n",
            "1686/1686 [==============================] - 6s 4ms/step - loss: 0.0447 - val_loss: 0.0718\n",
            "The total time taken to run is:83.57087421417236seconds\n"
          ]
        }
      ],
      "source": [
        "#Start the timer\n",
        "t0=time.time()\n",
        "#Fit the model\n",
        "history = autoencoder.fit(X_train, X_train, epochs=10, batch_size=100,\n",
        "                          validation_data=(X_Test_Clean,X_Test_Clean),verbose=1)\n",
        "#Stopping Timer\n",
        "t1 = time.time()\n",
        "#Printing Execution Time for fit\n",
        "total = t1-t0\n",
        "print( \"The total time taken to run is:\" + str(total) + \"seconds\" )"
      ]
    },
    {
      "cell_type": "code",
      "execution_count": null,
      "metadata": {
        "colab": {
          "base_uri": "https://localhost:8080/",
          "height": 447
        },
        "id": "ZvfnLceTvyfa",
        "outputId": "9880abc3-c762-4a3a-e56e-b999e3f0e85e"
      },
      "outputs": [
        {
          "output_type": "execute_result",
          "data": {
            "text/plain": [
              "<matplotlib.legend.Legend at 0x7dcddf182230>"
            ]
          },
          "metadata": {},
          "execution_count": 92
        },
        {
          "output_type": "display_data",
          "data": {
            "text/plain": [
              "<Figure size 640x480 with 1 Axes>"
            ],
            "image/png": "[encoded data removed]"
          },
          "metadata": {}
        }
      ],
      "source": [
        "plt.plot(history.history[\"loss\"], label=\"Training Loss\")\n",
        "plt.plot(history.history[\"val_loss\"], label=\"Validation Loss\")\n",
        "plt.legend()"
      ]
    },
    {
      "cell_type": "markdown",
      "source": [
        "## Autoencoder Results"
      ],
      "metadata": {
        "id": "cb-ZQKdgGADa"
      }
    },
    {
      "cell_type": "code",
      "execution_count": null,
      "metadata": {
        "colab": {
          "base_uri": "https://localhost:8080/"
        },
        "id": "-kfQIXS_HGCC",
        "outputId": "dfec01f9-996e-4601-af05-5bac8528e490"
      },
      "outputs": [
        {
          "output_type": "execute_result",
          "data": {
            "text/plain": [
              "(84254, 100)"
            ]
          },
          "metadata": {},
          "execution_count": 93
        }
      ],
      "source": [
        "#Creating testing data with actual and alterted data\n",
        "X_Test_Clean.shape"
      ]
    },
    {
      "cell_type": "code",
      "execution_count": null,
      "metadata": {
        "colab": {
          "base_uri": "https://localhost:8080/"
        },
        "id": "_pCK9qcw9R9s",
        "outputId": "1556a76e-af56-4248-f9c6-5869e038ea1f"
      },
      "outputs": [
        {
          "output_type": "stream",
          "name": "stdout",
          "text": [
            "2633/2633 [==============================] - 7s 3ms/step\n",
            "1\n",
            "        Reconstruction_error  True_Class\n",
            "16934               0.621218           1\n",
            "72234               0.621995           1\n",
            "110709              0.627341           1\n",
            "13276               0.620189           1\n",
            "123449              0.627062           1\n"
          ]
        }
      ],
      "source": [
        "#Reconstruction Error with Noisy Data\n",
        "test_x_predictions = autoencoder.predict(X_test_noisy)\n",
        "mse = np.mean(np.power(X_test_noisy - test_x_predictions, 2), axis=1)\n",
        "error_df = pd.DataFrame({'Reconstruction_error': mse})\n",
        "print(Y_test_noisy.nunique())\n",
        "error_df['True_Class'] =1\n",
        "print(error_df.head())"
      ]
    },
    {
      "cell_type": "code",
      "source": [
        "X_Test_Clean.head()"
      ],
      "metadata": {
        "colab": {
          "base_uri": "https://localhost:8080/",
          "height": 299
        },
        "id": "rPzannhWgDhX",
        "outputId": "5f6ad117-8979-4c28-b960-beea39295f64"
      },
      "execution_count": null,
      "outputs": [
        {
          "output_type": "execute_result",
          "data": {
            "text/plain": [
              "            Time  AF_LetdownFlow  AF_LetdownValvePos  AF_MakeupFLow  \\\n",
              "30038   0.109014       -0.124115           -0.124554              0   \n",
              "16415  -0.521993       -0.124115           -0.124554              0   \n",
              "149522 -0.589758       -0.124115           -0.124554              0   \n",
              "51874   1.120442       -0.124115           -0.124554              0   \n",
              "75555   2.217329       -0.124115           -0.124554              0   \n",
              "\n",
              "        AF_MakeupValvePos  CC_PumpFlow  CC_PumpInletTemp  CC_PumpOutletTemp  \\\n",
              "30038           -0.034423     0.733428          0.999999          -0.624610   \n",
              "16415           -0.735563     0.733391          0.999999          -0.624588   \n",
              "149522          -0.664690    -1.299816          0.999999           0.950453   \n",
              "51874            1.089417     0.733432          0.999999          -0.624612   \n",
              "75555            1.134588     0.733432          0.999999          -0.624612   \n",
              "\n",
              "        CC_PumpSpeed  CC_PumpTemp  ...  TB_OutSteamPress  TB_Speed  \\\n",
              "30038       0.733428     0.999999  ...          0.017143 -0.423988   \n",
              "16415       0.733391     0.999999  ...          0.017174 -0.423988   \n",
              "149522     -1.299816     0.999999  ...          0.017277 -0.423988   \n",
              "51874       0.733432     0.999999  ...          0.017140 -0.423988   \n",
              "75555       0.733432     0.999999  ...          0.017139 -0.423988   \n",
              "\n",
              "        TB_SpeedCtrlValvePos  Pad  Pad1  Pad2  Pad3  Pad4  Pad5  Pad6  \n",
              "30038               0.498110    0     0     0     0     0     0     0  \n",
              "16415               0.498068    0     0     0     0     0     0     0  \n",
              "149522             -1.097107    0     0     0     0     0     0     0  \n",
              "51874               0.498113    0     0     0     0     0     0     0  \n",
              "75555               0.498103    0     0     0     0     0     0     0  \n",
              "\n",
              "[5 rows x 100 columns]"
            ],
            "text/html": [
              "\n",
              "\n",
              "  <div id=\"df-3fa57dc1-2fe4-42fa-a94e-b6f71cbfa468\">\n",
              "    <div class=\"colab-df-container\">\n",
              "      <div>\n",
              "<style scoped>\n",
              "    .dataframe tbody tr th:only-of-type {\n",
              "        vertical-align: middle;\n",
              "    }\n",
              "\n",
              "    .dataframe tbody tr th {\n",
              "        vertical-align: top;\n",
              "    }\n",
              "\n",
              "    .dataframe thead th {\n",
              "        text-align: right;\n",
              "    }\n",
              "</style>\n",
              "<table border=\"1\" class=\"dataframe\">\n",
              "  <thead>\n",
              "    <tr style=\"text-align: right;\">\n",
              "      <th></th>\n",
              "      <th>Time</th>\n",
              "      <th>AF_LetdownFlow</th>\n",
              "      <th>AF_LetdownValvePos</th>\n",
              "      <th>AF_MakeupFLow</th>\n",
              "      <th>AF_MakeupValvePos</th>\n",
              "      <th>CC_PumpFlow</th>\n",
              "      <th>CC_PumpInletTemp</th>\n",
              "      <th>CC_PumpOutletTemp</th>\n",
              "      <th>CC_PumpSpeed</th>\n",
              "      <th>CC_PumpTemp</th>\n",
              "      <th>...</th>\n",
              "      <th>TB_OutSteamPress</th>\n",
              "      <th>TB_Speed</th>\n",
              "      <th>TB_SpeedCtrlValvePos</th>\n",
              "      <th>Pad</th>\n",
              "      <th>Pad1</th>\n",
              "      <th>Pad2</th>\n",
              "      <th>Pad3</th>\n",
              "      <th>Pad4</th>\n",
              "      <th>Pad5</th>\n",
              "      <th>Pad6</th>\n",
              "    </tr>\n",
              "  </thead>\n",
              "  <tbody>\n",
              "    <tr>\n",
              "      <th>30038</th>\n",
              "      <td>0.109014</td>\n",
              "      <td>-0.124115</td>\n",
              "      <td>-0.124554</td>\n",
              "      <td>0</td>\n",
              "      <td>-0.034423</td>\n",
              "      <td>0.733428</td>\n",
              "      <td>0.999999</td>\n",
              "      <td>-0.624610</td>\n",
              "      <td>0.733428</td>\n",
              "      <td>0.999999</td>\n",
              "      <td>...</td>\n",
              "      <td>0.017143</td>\n",
              "      <td>-0.423988</td>\n",
              "      <td>0.498110</td>\n",
              "      <td>0</td>\n",
              "      <td>0</td>\n",
              "      <td>0</td>\n",
              "      <td>0</td>\n",
              "      <td>0</td>\n",
              "      <td>0</td>\n",
              "      <td>0</td>\n",
              "    </tr>\n",
              "    <tr>\n",
              "      <th>16415</th>\n",
              "      <td>-0.521993</td>\n",
              "      <td>-0.124115</td>\n",
              "      <td>-0.124554</td>\n",
              "      <td>0</td>\n",
              "      <td>-0.735563</td>\n",
              "      <td>0.733391</td>\n",
              "      <td>0.999999</td>\n",
              "      <td>-0.624588</td>\n",
              "      <td>0.733391</td>\n",
              "      <td>0.999999</td>\n",
              "      <td>...</td>\n",
              "      <td>0.017174</td>\n",
              "      <td>-0.423988</td>\n",
              "      <td>0.498068</td>\n",
              "      <td>0</td>\n",
              "      <td>0</td>\n",
              "      <td>0</td>\n",
              "      <td>0</td>\n",
              "      <td>0</td>\n",
              "      <td>0</td>\n",
              "      <td>0</td>\n",
              "    </tr>\n",
              "    <tr>\n",
              "      <th>149522</th>\n",
              "      <td>-0.589758</td>\n",
              "      <td>-0.124115</td>\n",
              "      <td>-0.124554</td>\n",
              "      <td>0</td>\n",
              "      <td>-0.664690</td>\n",
              "      <td>-1.299816</td>\n",
              "      <td>0.999999</td>\n",
              "      <td>0.950453</td>\n",
              "      <td>-1.299816</td>\n",
              "      <td>0.999999</td>\n",
              "      <td>...</td>\n",
              "      <td>0.017277</td>\n",
              "      <td>-0.423988</td>\n",
              "      <td>-1.097107</td>\n",
              "      <td>0</td>\n",
              "      <td>0</td>\n",
              "      <td>0</td>\n",
              "      <td>0</td>\n",
              "      <td>0</td>\n",
              "      <td>0</td>\n",
              "      <td>0</td>\n",
              "    </tr>\n",
              "    <tr>\n",
              "      <th>51874</th>\n",
              "      <td>1.120442</td>\n",
              "      <td>-0.124115</td>\n",
              "      <td>-0.124554</td>\n",
              "      <td>0</td>\n",
              "      <td>1.089417</td>\n",
              "      <td>0.733432</td>\n",
              "      <td>0.999999</td>\n",
              "      <td>-0.624612</td>\n",
              "      <td>0.733432</td>\n",
              "      <td>0.999999</td>\n",
              "      <td>...</td>\n",
              "      <td>0.017140</td>\n",
              "      <td>-0.423988</td>\n",
              "      <td>0.498113</td>\n",
              "      <td>0</td>\n",
              "      <td>0</td>\n",
              "      <td>0</td>\n",
              "      <td>0</td>\n",
              "      <td>0</td>\n",
              "      <td>0</td>\n",
              "      <td>0</td>\n",
              "    </tr>\n",
              "    <tr>\n",
              "      <th>75555</th>\n",
              "      <td>2.217329</td>\n",
              "      <td>-0.124115</td>\n",
              "      <td>-0.124554</td>\n",
              "      <td>0</td>\n",
              "      <td>1.134588</td>\n",
              "      <td>0.733432</td>\n",
              "      <td>0.999999</td>\n",
              "      <td>-0.624612</td>\n",
              "      <td>0.733432</td>\n",
              "      <td>0.999999</td>\n",
              "      <td>...</td>\n",
              "      <td>0.017139</td>\n",
              "      <td>-0.423988</td>\n",
              "      <td>0.498103</td>\n",
              "      <td>0</td>\n",
              "      <td>0</td>\n",
              "      <td>0</td>\n",
              "      <td>0</td>\n",
              "      <td>0</td>\n",
              "      <td>0</td>\n",
              "      <td>0</td>\n",
              "    </tr>\n",
              "  </tbody>\n",
              "</table>\n",
              "<p>5 rows × 100 columns</p>\n",
              "</div>\n",
              "      <button class=\"colab-df-convert\" onclick=\"convertToInteractive('df-3fa57dc1-2fe4-42fa-a94e-b6f71cbfa468')\"\n",
              "              title=\"Convert this dataframe to an interactive table.\"\n",
              "              style=\"display:none;\">\n",
              "\n",
              "  <svg xmlns=\"http://www.w3.org/2000/svg\" height=\"24px\"viewBox=\"0 0 24 24\"\n",
              "       width=\"24px\">\n",
              "    <path d=\"M0 0h24v24H0V0z\" fill=\"none\"/>\n",
              "    <path d=\"M18.56 5.44l.94 2.06.94-2.06 2.06-.94-2.06-.94-.94-2.06-.94 2.06-2.06.94zm-11 1L8.5 8.5l.94-2.06 2.06-.94-2.06-.94L8.5 2.5l-.94 2.06-2.06.94zm10 10l.94 2.06.94-2.06 2.06-.94-2.06-.94-.94-2.06-.94 2.06-2.06.94z\"/><path d=\"M17.41 7.96l-1.37-1.37c-.4-.4-.92-.59-1.43-.59-.52 0-1.04.2-1.43.59L10.3 9.45l-7.72 7.72c-.78.78-.78 2.05 0 2.83L4 21.41c.39.39.9.59 1.41.59.51 0 1.02-.2 1.41-.59l7.78-7.78 2.81-2.81c.8-.78.8-2.07 0-2.86zM5.41 20L4 18.59l7.72-7.72 1.47 1.35L5.41 20z\"/>\n",
              "  </svg>\n",
              "      </button>\n",
              "\n",
              "\n",
              "\n",
              "    <div id=\"df-569057bb-9f42-42bb-85ab-310532fe4cc6\">\n",
              "      <button class=\"colab-df-quickchart\" onclick=\"quickchart('df-569057bb-9f42-42bb-85ab-310532fe4cc6')\"\n",
              "              title=\"Suggest charts.\"\n",
              "              style=\"display:none;\">\n",
              "\n",
              "<svg xmlns=\"http://www.w3.org/2000/svg\" height=\"24px\"viewBox=\"0 0 24 24\"\n",
              "     width=\"24px\">\n",
              "    <g>\n",
              "        <path d=\"M19 3H5c-1.1 0-2 .9-2 2v14c0 1.1.9 2 2 2h14c1.1 0 2-.9 2-2V5c0-1.1-.9-2-2-2zM9 17H7v-7h2v7zm4 0h-2V7h2v10zm4 0h-2v-4h2v4z\"/>\n",
              "    </g>\n",
              "</svg>\n",
              "      </button>\n",
              "    </div>\n",
              "\n",
              "<style>\n",
              "  .colab-df-quickchart {\n",
              "    background-color: #E8F0FE;\n",
              "    border: none;\n",
              "    border-radius: 50%;\n",
              "    cursor: pointer;\n",
              "    display: none;\n",
              "    fill: #1967D2;\n",
              "    height: 32px;\n",
              "    padding: 0 0 0 0;\n",
              "    width: 32px;\n",
              "  }\n",
              "\n",
              "  .colab-df-quickchart:hover {\n",
              "    background-color: #E2EBFA;\n",
              "    box-shadow: 0px 1px 2px rgba(60, 64, 67, 0.3), 0px 1px 3px 1px rgba(60, 64, 67, 0.15);\n",
              "    fill: #174EA6;\n",
              "  }\n",
              "\n",
              "  [theme=dark] .colab-df-quickchart {\n",
              "    background-color: #3B4455;\n",
              "    fill: #D2E3FC;\n",
              "  }\n",
              "\n",
              "  [theme=dark] .colab-df-quickchart:hover {\n",
              "    background-color: #434B5C;\n",
              "    box-shadow: 0px 1px 3px 1px rgba(0, 0, 0, 0.15);\n",
              "    filter: drop-shadow(0px 1px 2px rgba(0, 0, 0, 0.3));\n",
              "    fill: #FFFFFF;\n",
              "  }\n",
              "</style>\n",
              "\n",
              "    <script>\n",
              "      async function quickchart(key) {\n",
              "        const containerElement = document.querySelector('#' + key);\n",
              "        const charts = await google.colab.kernel.invokeFunction(\n",
              "            'suggestCharts', [key], {});\n",
              "      }\n",
              "    </script>\n",
              "\n",
              "      <script>\n",
              "\n",
              "function displayQuickchartButton(domScope) {\n",
              "  let quickchartButtonEl =\n",
              "    domScope.querySelector('#df-569057bb-9f42-42bb-85ab-310532fe4cc6 button.colab-df-quickchart');\n",
              "  quickchartButtonEl.style.display =\n",
              "    google.colab.kernel.accessAllowed ? 'block' : 'none';\n",
              "}\n",
              "\n",
              "        displayQuickchartButton(document);\n",
              "      </script>\n",
              "      <style>\n",
              "    .colab-df-container {\n",
              "      display:flex;\n",
              "      flex-wrap:wrap;\n",
              "      gap: 12px;\n",
              "    }\n",
              "\n",
              "    .colab-df-convert {\n",
              "      background-color: #E8F0FE;\n",
              "      border: none;\n",
              "      border-radius: 50%;\n",
              "      cursor: pointer;\n",
              "      display: none;\n",
              "      fill: #1967D2;\n",
              "      height: 32px;\n",
              "      padding: 0 0 0 0;\n",
              "      width: 32px;\n",
              "    }\n",
              "\n",
              "    .colab-df-convert:hover {\n",
              "      background-color: #E2EBFA;\n",
              "      box-shadow: 0px 1px 2px rgba(60, 64, 67, 0.3), 0px 1px 3px 1px rgba(60, 64, 67, 0.15);\n",
              "      fill: #174EA6;\n",
              "    }\n",
              "\n",
              "    [theme=dark] .colab-df-convert {\n",
              "      background-color: #3B4455;\n",
              "      fill: #D2E3FC;\n",
              "    }\n",
              "\n",
              "    [theme=dark] .colab-df-convert:hover {\n",
              "      background-color: #434B5C;\n",
              "      box-shadow: 0px 1px 3px 1px rgba(0, 0, 0, 0.15);\n",
              "      filter: drop-shadow(0px 1px 2px rgba(0, 0, 0, 0.3));\n",
              "      fill: #FFFFFF;\n",
              "    }\n",
              "  </style>\n",
              "\n",
              "      <script>\n",
              "        const buttonEl =\n",
              "          document.querySelector('#df-3fa57dc1-2fe4-42fa-a94e-b6f71cbfa468 button.colab-df-convert');\n",
              "        buttonEl.style.display =\n",
              "          google.colab.kernel.accessAllowed ? 'block' : 'none';\n",
              "\n",
              "        async function convertToInteractive(key) {\n",
              "          const element = document.querySelector('#df-3fa57dc1-2fe4-42fa-a94e-b6f71cbfa468');\n",
              "          const dataTable =\n",
              "            await google.colab.kernel.invokeFunction('convertToInteractive',\n",
              "                                                     [key], {});\n",
              "          if (!dataTable) return;\n",
              "\n",
              "          const docLinkHtml = 'Like what you see? Visit the ' +\n",
              "            '<a target=\"_blank\" href=https://colab.research.google.com/notebooks/data_table.ipynb>data table notebook</a>'\n",
              "            + ' to learn more about interactive tables.';\n",
              "          element.innerHTML = '';\n",
              "          dataTable['output_type'] = 'display_data';\n",
              "          await google.colab.output.renderOutput(dataTable, element);\n",
              "          const docLink = document.createElement('div');\n",
              "          docLink.innerHTML = docLinkHtml;\n",
              "          element.appendChild(docLink);\n",
              "        }\n",
              "      </script>\n",
              "    </div>\n",
              "  </div>\n"
            ]
          },
          "metadata": {},
          "execution_count": 95
        }
      ]
    },
    {
      "cell_type": "code",
      "execution_count": null,
      "metadata": {
        "id": "Jq_Q4oHaPnYt",
        "colab": {
          "base_uri": "https://localhost:8080/"
        },
        "outputId": "a9c98454-583e-4d66-d177-a270b4ad55c6"
      },
      "outputs": [
        {
          "output_type": "stream",
          "name": "stdout",
          "text": [
            "2633/2633 [==============================] - 3s 1ms/step\n",
            "1\n",
            "        Reconstruction_error  True_Class\n",
            "30038               0.000533           0\n",
            "16415               0.000603           0\n",
            "149522              0.017786           0\n",
            "51874               0.000266           0\n",
            "75555               0.000070           0\n"
          ]
        }
      ],
      "source": [
        "#Reconstruction Error with Clean Data\n",
        "test_x_predictions_clean = autoencoder.predict(X_Test_Clean)\n",
        "mse = np.mean(np.power(X_Test_Clean - test_x_predictions_clean, 2), axis=1)\n",
        "error_dfclean = pd.DataFrame({'Reconstruction_error': mse})\n",
        "print(Y_test_noisy.nunique())\n",
        "error_dfclean['True_Class'] =Y_Test_Clean\n",
        "print(error_dfclean.head())"
      ]
    },
    {
      "cell_type": "code",
      "execution_count": null,
      "metadata": {
        "id": "QKZ_5gM6HC0U",
        "colab": {
          "base_uri": "https://localhost:8080/"
        },
        "outputId": "b3570b8a-6d97-48da-bd63-900b22d29235"
      },
      "outputs": [
        {
          "output_type": "stream",
          "name": "stdout",
          "text": [
            "(84254, 100)\n",
            "(84255, 100)\n",
            "(168509, 100)\n",
            "(84254,)\n",
            "(84255,)\n",
            "(168509,)\n"
          ]
        }
      ],
      "source": [
        "print(X_Test_Clean.shape)\n",
        "print(X_test_noisy.shape)\n",
        "frames=[X_Test_Clean, X_test_noisy]\n",
        "X_test_Combo= pd.concat(frames)\n",
        "print(X_test_Combo.shape)\n",
        "print(Y_Test_Clean.shape)\n",
        "print(Y_test_noisy.shape)\n",
        "frames_2=[Y_Test_Clean,Y_test_noisy]\n",
        "Y_test_Combo= pd.concat(frames_2)\n",
        "print(Y_test_Combo.shape)"
      ]
    },
    {
      "cell_type": "code",
      "execution_count": null,
      "metadata": {
        "id": "xharjJ3g3xU7",
        "colab": {
          "base_uri": "https://localhost:8080/",
          "height": 487
        },
        "outputId": "97a4b0a9-f191-4229-dc86-e58299a77fc0"
      },
      "outputs": [
        {
          "output_type": "execute_result",
          "data": {
            "text/plain": [
              "            Time  AF_LetdownFlow  AF_LetdownValvePos  AF_MakeupFLow  \\\n",
              "30038   0.109014       -0.124115           -0.124554        0.00000   \n",
              "16415  -0.521993       -0.124115           -0.124554        0.00000   \n",
              "149522 -0.589758       -0.124115           -0.124554        0.00000   \n",
              "51874   1.120442       -0.124115           -0.124554        0.00000   \n",
              "75555   2.217329       -0.124115           -0.124554        0.00000   \n",
              "...          ...             ...                 ...            ...   \n",
              "21844  -0.271716       -0.125305           -0.125744       -0.00119   \n",
              "15534  -0.563990       -0.125305           -0.125744       -0.00119   \n",
              "19385  -0.385615       -0.125305           -0.125744       -0.00119   \n",
              "189339 -0.406505       -0.125305           -0.125744       -0.00119   \n",
              "65063   1.730157       -0.125305           -0.125744       -0.00119   \n",
              "\n",
              "        AF_MakeupValvePos  CC_PumpFlow  CC_PumpInletTemp  CC_PumpOutletTemp  \\\n",
              "30038           -0.034423     0.733428          0.999999          -0.624610   \n",
              "16415           -0.735563     0.733391          0.999999          -0.624588   \n",
              "149522          -0.664690    -1.299816          0.999999           0.950453   \n",
              "51874            1.089417     0.733432          0.999999          -0.624612   \n",
              "75555            1.134588     0.733432          0.999999          -0.624612   \n",
              "...                   ...          ...               ...                ...   \n",
              "21844           -0.451798     0.881032          0.998809          -0.695684   \n",
              "15534           -0.779805     0.881027          0.998809          -0.695681   \n",
              "19385           -0.583895     0.732217          0.998809          -0.625787   \n",
              "189339          -1.173460    -2.111400          0.998809           2.464841   \n",
              "65063            1.133398     0.732242          0.998809          -0.625802   \n",
              "\n",
              "        CC_PumpSpeed  CC_PumpTemp  ...  TB_OutSteamPress  TB_Speed  \\\n",
              "30038       0.733428     0.999999  ...          0.017143 -0.423988   \n",
              "16415       0.733391     0.999999  ...          0.017174 -0.423988   \n",
              "149522     -1.299816     0.999999  ...          0.017277 -0.423988   \n",
              "51874       0.733432     0.999999  ...          0.017140 -0.423988   \n",
              "75555       0.733432     0.999999  ...          0.017139 -0.423988   \n",
              "...              ...          ...  ...               ...       ...   \n",
              "21844       0.881032     0.998809  ...          0.015949  2.357267   \n",
              "15534       0.881027     0.998809  ...          0.015956  2.357267   \n",
              "19385       0.732217     0.998809  ...          0.015968 -0.425178   \n",
              "189339     -2.111400     0.998809  ...          0.016031 -0.425178   \n",
              "65063       0.732242     0.998809  ...          0.015948 -0.425178   \n",
              "\n",
              "        TB_SpeedCtrlValvePos      Pad     Pad1     Pad2     Pad3     Pad4  \\\n",
              "30038               0.498110  0.00000  0.00000  0.00000  0.00000  0.00000   \n",
              "16415               0.498068  0.00000  0.00000  0.00000  0.00000  0.00000   \n",
              "149522             -1.097107  0.00000  0.00000  0.00000  0.00000  0.00000   \n",
              "51874               0.498113  0.00000  0.00000  0.00000  0.00000  0.00000   \n",
              "75555               0.498103  0.00000  0.00000  0.00000  0.00000  0.00000   \n",
              "...                      ...      ...      ...      ...      ...      ...   \n",
              "21844               0.636882 -0.00119 -0.00119 -0.00119 -0.00119 -0.00119   \n",
              "15534               0.636878 -0.00119 -0.00119 -0.00119 -0.00119 -0.00119   \n",
              "19385               0.496892 -0.00119 -0.00119 -0.00119 -0.00119 -0.00119   \n",
              "189339             -2.170962 -0.00119 -0.00119 -0.00119 -0.00119 -0.00119   \n",
              "65063               0.496913 -0.00119 -0.00119 -0.00119 -0.00119 -0.00119   \n",
              "\n",
              "           Pad5     Pad6  \n",
              "30038   0.00000  0.00000  \n",
              "16415   0.00000  0.00000  \n",
              "149522  0.00000  0.00000  \n",
              "51874   0.00000  0.00000  \n",
              "75555   0.00000  0.00000  \n",
              "...         ...      ...  \n",
              "21844  -0.00119 -0.00119  \n",
              "15534  -0.00119 -0.00119  \n",
              "19385  -0.00119 -0.00119  \n",
              "189339 -0.00119 -0.00119  \n",
              "65063  -0.00119 -0.00119  \n",
              "\n",
              "[168509 rows x 100 columns]"
            ],
            "text/html": [
              "\n",
              "\n",
              "  <div id=\"df-3ac8d485-10fc-4d3a-bc53-893507efc5b5\">\n",
              "    <div class=\"colab-df-container\">\n",
              "      <div>\n",
              "<style scoped>\n",
              "    .dataframe tbody tr th:only-of-type {\n",
              "        vertical-align: middle;\n",
              "    }\n",
              "\n",
              "    .dataframe tbody tr th {\n",
              "        vertical-align: top;\n",
              "    }\n",
              "\n",
              "    .dataframe thead th {\n",
              "        text-align: right;\n",
              "    }\n",
              "</style>\n",
              "<table border=\"1\" class=\"dataframe\">\n",
              "  <thead>\n",
              "    <tr style=\"text-align: right;\">\n",
              "      <th></th>\n",
              "      <th>Time</th>\n",
              "      <th>AF_LetdownFlow</th>\n",
              "      <th>AF_LetdownValvePos</th>\n",
              "      <th>AF_MakeupFLow</th>\n",
              "      <th>AF_MakeupValvePos</th>\n",
              "      <th>CC_PumpFlow</th>\n",
              "      <th>CC_PumpInletTemp</th>\n",
              "      <th>CC_PumpOutletTemp</th>\n",
              "      <th>CC_PumpSpeed</th>\n",
              "      <th>CC_PumpTemp</th>\n",
              "      <th>...</th>\n",
              "      <th>TB_OutSteamPress</th>\n",
              "      <th>TB_Speed</th>\n",
              "      <th>TB_SpeedCtrlValvePos</th>\n",
              "      <th>Pad</th>\n",
              "      <th>Pad1</th>\n",
              "      <th>Pad2</th>\n",
              "      <th>Pad3</th>\n",
              "      <th>Pad4</th>\n",
              "      <th>Pad5</th>\n",
              "      <th>Pad6</th>\n",
              "    </tr>\n",
              "  </thead>\n",
              "  <tbody>\n",
              "    <tr>\n",
              "      <th>30038</th>\n",
              "      <td>0.109014</td>\n",
              "      <td>-0.124115</td>\n",
              "      <td>-0.124554</td>\n",
              "      <td>0.00000</td>\n",
              "      <td>-0.034423</td>\n",
              "      <td>0.733428</td>\n",
              "      <td>0.999999</td>\n",
              "      <td>-0.624610</td>\n",
              "      <td>0.733428</td>\n",
              "      <td>0.999999</td>\n",
              "      <td>...</td>\n",
              "      <td>0.017143</td>\n",
              "      <td>-0.423988</td>\n",
              "      <td>0.498110</td>\n",
              "      <td>0.00000</td>\n",
              "      <td>0.00000</td>\n",
              "      <td>0.00000</td>\n",
              "      <td>0.00000</td>\n",
              "      <td>0.00000</td>\n",
              "      <td>0.00000</td>\n",
              "      <td>0.00000</td>\n",
              "    </tr>\n",
              "    <tr>\n",
              "      <th>16415</th>\n",
              "      <td>-0.521993</td>\n",
              "      <td>-0.124115</td>\n",
              "      <td>-0.124554</td>\n",
              "      <td>0.00000</td>\n",
              "      <td>-0.735563</td>\n",
              "      <td>0.733391</td>\n",
              "      <td>0.999999</td>\n",
              "      <td>-0.624588</td>\n",
              "      <td>0.733391</td>\n",
              "      <td>0.999999</td>\n",
              "      <td>...</td>\n",
              "      <td>0.017174</td>\n",
              "      <td>-0.423988</td>\n",
              "      <td>0.498068</td>\n",
              "      <td>0.00000</td>\n",
              "      <td>0.00000</td>\n",
              "      <td>0.00000</td>\n",
              "      <td>0.00000</td>\n",
              "      <td>0.00000</td>\n",
              "      <td>0.00000</td>\n",
              "      <td>0.00000</td>\n",
              "    </tr>\n",
              "    <tr>\n",
              "      <th>149522</th>\n",
              "      <td>-0.589758</td>\n",
              "      <td>-0.124115</td>\n",
              "      <td>-0.124554</td>\n",
              "      <td>0.00000</td>\n",
              "      <td>-0.664690</td>\n",
              "      <td>-1.299816</td>\n",
              "      <td>0.999999</td>\n",
              "      <td>0.950453</td>\n",
              "      <td>-1.299816</td>\n",
              "      <td>0.999999</td>\n",
              "      <td>...</td>\n",
              "      <td>0.017277</td>\n",
              "      <td>-0.423988</td>\n",
              "      <td>-1.097107</td>\n",
              "      <td>0.00000</td>\n",
              "      <td>0.00000</td>\n",
              "      <td>0.00000</td>\n",
              "      <td>0.00000</td>\n",
              "      <td>0.00000</td>\n",
              "      <td>0.00000</td>\n",
              "      <td>0.00000</td>\n",
              "    </tr>\n",
              "    <tr>\n",
              "      <th>51874</th>\n",
              "      <td>1.120442</td>\n",
              "      <td>-0.124115</td>\n",
              "      <td>-0.124554</td>\n",
              "      <td>0.00000</td>\n",
              "      <td>1.089417</td>\n",
              "      <td>0.733432</td>\n",
              "      <td>0.999999</td>\n",
              "      <td>-0.624612</td>\n",
              "      <td>0.733432</td>\n",
              "      <td>0.999999</td>\n",
              "      <td>...</td>\n",
              "      <td>0.017140</td>\n",
              "      <td>-0.423988</td>\n",
              "      <td>0.498113</td>\n",
              "      <td>0.00000</td>\n",
              "      <td>0.00000</td>\n",
              "      <td>0.00000</td>\n",
              "      <td>0.00000</td>\n",
              "      <td>0.00000</td>\n",
              "      <td>0.00000</td>\n",
              "      <td>0.00000</td>\n",
              "    </tr>\n",
              "    <tr>\n",
              "      <th>75555</th>\n",
              "      <td>2.217329</td>\n",
              "      <td>-0.124115</td>\n",
              "      <td>-0.124554</td>\n",
              "      <td>0.00000</td>\n",
              "      <td>1.134588</td>\n",
              "      <td>0.733432</td>\n",
              "      <td>0.999999</td>\n",
              "      <td>-0.624612</td>\n",
              "      <td>0.733432</td>\n",
              "      <td>0.999999</td>\n",
              "      <td>...</td>\n",
              "      <td>0.017139</td>\n",
              "      <td>-0.423988</td>\n",
              "      <td>0.498103</td>\n",
              "      <td>0.00000</td>\n",
              "      <td>0.00000</td>\n",
              "      <td>0.00000</td>\n",
              "      <td>0.00000</td>\n",
              "      <td>0.00000</td>\n",
              "      <td>0.00000</td>\n",
              "      <td>0.00000</td>\n",
              "    </tr>\n",
              "    <tr>\n",
              "      <th>...</th>\n",
              "      <td>...</td>\n",
              "      <td>...</td>\n",
              "      <td>...</td>\n",
              "      <td>...</td>\n",
              "      <td>...</td>\n",
              "      <td>...</td>\n",
              "      <td>...</td>\n",
              "      <td>...</td>\n",
              "      <td>...</td>\n",
              "      <td>...</td>\n",
              "      <td>...</td>\n",
              "      <td>...</td>\n",
              "      <td>...</td>\n",
              "      <td>...</td>\n",
              "      <td>...</td>\n",
              "      <td>...</td>\n",
              "      <td>...</td>\n",
              "      <td>...</td>\n",
              "      <td>...</td>\n",
              "      <td>...</td>\n",
              "      <td>...</td>\n",
              "    </tr>\n",
              "    <tr>\n",
              "      <th>21844</th>\n",
              "      <td>-0.271716</td>\n",
              "      <td>-0.125305</td>\n",
              "      <td>-0.125744</td>\n",
              "      <td>-0.00119</td>\n",
              "      <td>-0.451798</td>\n",
              "      <td>0.881032</td>\n",
              "      <td>0.998809</td>\n",
              "      <td>-0.695684</td>\n",
              "      <td>0.881032</td>\n",
              "      <td>0.998809</td>\n",
              "      <td>...</td>\n",
              "      <td>0.015949</td>\n",
              "      <td>2.357267</td>\n",
              "      <td>0.636882</td>\n",
              "      <td>-0.00119</td>\n",
              "      <td>-0.00119</td>\n",
              "      <td>-0.00119</td>\n",
              "      <td>-0.00119</td>\n",
              "      <td>-0.00119</td>\n",
              "      <td>-0.00119</td>\n",
              "      <td>-0.00119</td>\n",
              "    </tr>\n",
              "    <tr>\n",
              "      <th>15534</th>\n",
              "      <td>-0.563990</td>\n",
              "      <td>-0.125305</td>\n",
              "      <td>-0.125744</td>\n",
              "      <td>-0.00119</td>\n",
              "      <td>-0.779805</td>\n",
              "      <td>0.881027</td>\n",
              "      <td>0.998809</td>\n",
              "      <td>-0.695681</td>\n",
              "      <td>0.881027</td>\n",
              "      <td>0.998809</td>\n",
              "      <td>...</td>\n",
              "      <td>0.015956</td>\n",
              "      <td>2.357267</td>\n",
              "      <td>0.636878</td>\n",
              "      <td>-0.00119</td>\n",
              "      <td>-0.00119</td>\n",
              "      <td>-0.00119</td>\n",
              "      <td>-0.00119</td>\n",
              "      <td>-0.00119</td>\n",
              "      <td>-0.00119</td>\n",
              "      <td>-0.00119</td>\n",
              "    </tr>\n",
              "    <tr>\n",
              "      <th>19385</th>\n",
              "      <td>-0.385615</td>\n",
              "      <td>-0.125305</td>\n",
              "      <td>-0.125744</td>\n",
              "      <td>-0.00119</td>\n",
              "      <td>-0.583895</td>\n",
              "      <td>0.732217</td>\n",
              "      <td>0.998809</td>\n",
              "      <td>-0.625787</td>\n",
              "      <td>0.732217</td>\n",
              "      <td>0.998809</td>\n",
              "      <td>...</td>\n",
              "      <td>0.015968</td>\n",
              "      <td>-0.425178</td>\n",
              "      <td>0.496892</td>\n",
              "      <td>-0.00119</td>\n",
              "      <td>-0.00119</td>\n",
              "      <td>-0.00119</td>\n",
              "      <td>-0.00119</td>\n",
              "      <td>-0.00119</td>\n",
              "      <td>-0.00119</td>\n",
              "      <td>-0.00119</td>\n",
              "    </tr>\n",
              "    <tr>\n",
              "      <th>189339</th>\n",
              "      <td>-0.406505</td>\n",
              "      <td>-0.125305</td>\n",
              "      <td>-0.125744</td>\n",
              "      <td>-0.00119</td>\n",
              "      <td>-1.173460</td>\n",
              "      <td>-2.111400</td>\n",
              "      <td>0.998809</td>\n",
              "      <td>2.464841</td>\n",
              "      <td>-2.111400</td>\n",
              "      <td>0.998809</td>\n",
              "      <td>...</td>\n",
              "      <td>0.016031</td>\n",
              "      <td>-0.425178</td>\n",
              "      <td>-2.170962</td>\n",
              "      <td>-0.00119</td>\n",
              "      <td>-0.00119</td>\n",
              "      <td>-0.00119</td>\n",
              "      <td>-0.00119</td>\n",
              "      <td>-0.00119</td>\n",
              "      <td>-0.00119</td>\n",
              "      <td>-0.00119</td>\n",
              "    </tr>\n",
              "    <tr>\n",
              "      <th>65063</th>\n",
              "      <td>1.730157</td>\n",
              "      <td>-0.125305</td>\n",
              "      <td>-0.125744</td>\n",
              "      <td>-0.00119</td>\n",
              "      <td>1.133398</td>\n",
              "      <td>0.732242</td>\n",
              "      <td>0.998809</td>\n",
              "      <td>-0.625802</td>\n",
              "      <td>0.732242</td>\n",
              "      <td>0.998809</td>\n",
              "      <td>...</td>\n",
              "      <td>0.015948</td>\n",
              "      <td>-0.425178</td>\n",
              "      <td>0.496913</td>\n",
              "      <td>-0.00119</td>\n",
              "      <td>-0.00119</td>\n",
              "      <td>-0.00119</td>\n",
              "      <td>-0.00119</td>\n",
              "      <td>-0.00119</td>\n",
              "      <td>-0.00119</td>\n",
              "      <td>-0.00119</td>\n",
              "    </tr>\n",
              "  </tbody>\n",
              "</table>\n",
              "<p>168509 rows × 100 columns</p>\n",
              "</div>\n",
              "      <button class=\"colab-df-convert\" onclick=\"convertToInteractive('df-3ac8d485-10fc-4d3a-bc53-893507efc5b5')\"\n",
              "              title=\"Convert this dataframe to an interactive table.\"\n",
              "              style=\"display:none;\">\n",
              "\n",
              "  <svg xmlns=\"http://www.w3.org/2000/svg\" height=\"24px\"viewBox=\"0 0 24 24\"\n",
              "       width=\"24px\">\n",
              "    <path d=\"M0 0h24v24H0V0z\" fill=\"none\"/>\n",
              "    <path d=\"M18.56 5.44l.94 2.06.94-2.06 2.06-.94-2.06-.94-.94-2.06-.94 2.06-2.06.94zm-11 1L8.5 8.5l.94-2.06 2.06-.94-2.06-.94L8.5 2.5l-.94 2.06-2.06.94zm10 10l.94 2.06.94-2.06 2.06-.94-2.06-.94-.94-2.06-.94 2.06-2.06.94z\"/><path d=\"M17.41 7.96l-1.37-1.37c-.4-.4-.92-.59-1.43-.59-.52 0-1.04.2-1.43.59L10.3 9.45l-7.72 7.72c-.78.78-.78 2.05 0 2.83L4 21.41c.39.39.9.59 1.41.59.51 0 1.02-.2 1.41-.59l7.78-7.78 2.81-2.81c.8-.78.8-2.07 0-2.86zM5.41 20L4 18.59l7.72-7.72 1.47 1.35L5.41 20z\"/>\n",
              "  </svg>\n",
              "      </button>\n",
              "\n",
              "\n",
              "\n",
              "    <div id=\"df-2922e5e1-4b4c-46a7-8559-78dea2df13c0\">\n",
              "      <button class=\"colab-df-quickchart\" onclick=\"quickchart('df-2922e5e1-4b4c-46a7-8559-78dea2df13c0')\"\n",
              "              title=\"Suggest charts.\"\n",
              "              style=\"display:none;\">\n",
              "\n",
              "<svg xmlns=\"http://www.w3.org/2000/svg\" height=\"24px\"viewBox=\"0 0 24 24\"\n",
              "     width=\"24px\">\n",
              "    <g>\n",
              "        <path d=\"M19 3H5c-1.1 0-2 .9-2 2v14c0 1.1.9 2 2 2h14c1.1 0 2-.9 2-2V5c0-1.1-.9-2-2-2zM9 17H7v-7h2v7zm4 0h-2V7h2v10zm4 0h-2v-4h2v4z\"/>\n",
              "    </g>\n",
              "</svg>\n",
              "      </button>\n",
              "    </div>\n",
              "\n",
              "<style>\n",
              "  .colab-df-quickchart {\n",
              "    background-color: #E8F0FE;\n",
              "    border: none;\n",
              "    border-radius: 50%;\n",
              "    cursor: pointer;\n",
              "    display: none;\n",
              "    fill: #1967D2;\n",
              "    height: 32px;\n",
              "    padding: 0 0 0 0;\n",
              "    width: 32px;\n",
              "  }\n",
              "\n",
              "  .colab-df-quickchart:hover {\n",
              "    background-color: #E2EBFA;\n",
              "    box-shadow: 0px 1px 2px rgba(60, 64, 67, 0.3), 0px 1px 3px 1px rgba(60, 64, 67, 0.15);\n",
              "    fill: #174EA6;\n",
              "  }\n",
              "\n",
              "  [theme=dark] .colab-df-quickchart {\n",
              "    background-color: #3B4455;\n",
              "    fill: #D2E3FC;\n",
              "  }\n",
              "\n",
              "  [theme=dark] .colab-df-quickchart:hover {\n",
              "    background-color: #434B5C;\n",
              "    box-shadow: 0px 1px 3px 1px rgba(0, 0, 0, 0.15);\n",
              "    filter: drop-shadow(0px 1px 2px rgba(0, 0, 0, 0.3));\n",
              "    fill: #FFFFFF;\n",
              "  }\n",
              "</style>\n",
              "\n",
              "    <script>\n",
              "      async function quickchart(key) {\n",
              "        const containerElement = document.querySelector('#' + key);\n",
              "        const charts = await google.colab.kernel.invokeFunction(\n",
              "            'suggestCharts', [key], {});\n",
              "      }\n",
              "    </script>\n",
              "\n",
              "      <script>\n",
              "\n",
              "function displayQuickchartButton(domScope) {\n",
              "  let quickchartButtonEl =\n",
              "    domScope.querySelector('#df-2922e5e1-4b4c-46a7-8559-78dea2df13c0 button.colab-df-quickchart');\n",
              "  quickchartButtonEl.style.display =\n",
              "    google.colab.kernel.accessAllowed ? 'block' : 'none';\n",
              "}\n",
              "\n",
              "        displayQuickchartButton(document);\n",
              "      </script>\n",
              "      <style>\n",
              "    .colab-df-container {\n",
              "      display:flex;\n",
              "      flex-wrap:wrap;\n",
              "      gap: 12px;\n",
              "    }\n",
              "\n",
              "    .colab-df-convert {\n",
              "      background-color: #E8F0FE;\n",
              "      border: none;\n",
              "      border-radius: 50%;\n",
              "      cursor: pointer;\n",
              "      display: none;\n",
              "      fill: #1967D2;\n",
              "      height: 32px;\n",
              "      padding: 0 0 0 0;\n",
              "      width: 32px;\n",
              "    }\n",
              "\n",
              "    .colab-df-convert:hover {\n",
              "      background-color: #E2EBFA;\n",
              "      box-shadow: 0px 1px 2px rgba(60, 64, 67, 0.3), 0px 1px 3px 1px rgba(60, 64, 67, 0.15);\n",
              "      fill: #174EA6;\n",
              "    }\n",
              "\n",
              "    [theme=dark] .colab-df-convert {\n",
              "      background-color: #3B4455;\n",
              "      fill: #D2E3FC;\n",
              "    }\n",
              "\n",
              "    [theme=dark] .colab-df-convert:hover {\n",
              "      background-color: #434B5C;\n",
              "      box-shadow: 0px 1px 3px 1px rgba(0, 0, 0, 0.15);\n",
              "      filter: drop-shadow(0px 1px 2px rgba(0, 0, 0, 0.3));\n",
              "      fill: #FFFFFF;\n",
              "    }\n",
              "  </style>\n",
              "\n",
              "      <script>\n",
              "        const buttonEl =\n",
              "          document.querySelector('#df-3ac8d485-10fc-4d3a-bc53-893507efc5b5 button.colab-df-convert');\n",
              "        buttonEl.style.display =\n",
              "          google.colab.kernel.accessAllowed ? 'block' : 'none';\n",
              "\n",
              "        async function convertToInteractive(key) {\n",
              "          const element = document.querySelector('#df-3ac8d485-10fc-4d3a-bc53-893507efc5b5');\n",
              "          const dataTable =\n",
              "            await google.colab.kernel.invokeFunction('convertToInteractive',\n",
              "                                                     [key], {});\n",
              "          if (!dataTable) return;\n",
              "\n",
              "          const docLinkHtml = 'Like what you see? Visit the ' +\n",
              "            '<a target=\"_blank\" href=https://colab.research.google.com/notebooks/data_table.ipynb>data table notebook</a>'\n",
              "            + ' to learn more about interactive tables.';\n",
              "          element.innerHTML = '';\n",
              "          dataTable['output_type'] = 'display_data';\n",
              "          await google.colab.output.renderOutput(dataTable, element);\n",
              "          const docLink = document.createElement('div');\n",
              "          docLink.innerHTML = docLinkHtml;\n",
              "          element.appendChild(docLink);\n",
              "        }\n",
              "      </script>\n",
              "    </div>\n",
              "  </div>\n"
            ]
          },
          "metadata": {},
          "execution_count": 98
        }
      ],
      "source": [
        "X_test_Combo"
      ]
    },
    {
      "cell_type": "code",
      "execution_count": null,
      "metadata": {
        "id": "f9JuR4EjVVfR",
        "colab": {
          "base_uri": "https://localhost:8080/"
        },
        "outputId": "42b8e691-c13d-4647-e02d-6f59c6d39f98"
      },
      "outputs": [
        {
          "output_type": "stream",
          "name": "stdout",
          "text": [
            "5266/5266 [==============================] - 6s 1ms/step\n",
            "1\n",
            "        Reconstruction_error  True_Class\n",
            "30038               0.000533           0\n",
            "16415               0.000603           0\n",
            "149522              0.017786           0\n",
            "51874               0.000266           0\n",
            "75555               0.000070           0\n"
          ]
        }
      ],
      "source": [
        "#Calculate Reconstruction Error with Both Clean and Altered Data.\n",
        "test_x_predictions = autoencoder.predict(X_test_Combo)\n",
        "mse = np.mean(np.power(X_test_Combo - test_x_predictions, 2), axis=1)\n",
        "error_df = pd.DataFrame({'Reconstruction_error': mse})\n",
        "print(Y_test_noisy.nunique())\n",
        "error_df['True_Class'] =Y_test_Combo\n",
        "print(error_df.head())"
      ]
    },
    {
      "cell_type": "code",
      "execution_count": null,
      "metadata": {
        "id": "WN_9vioITGnL",
        "colab": {
          "base_uri": "https://localhost:8080/"
        },
        "outputId": "67449d20-72c3-4592-de0d-067fe957ab4a"
      },
      "outputs": [
        {
          "output_type": "stream",
          "name": "stdout",
          "text": [
            "Threshold:  0.3\n"
          ]
        }
      ],
      "source": [
        "threshold = 0.3 # currently eyeballing from normal/altered graphs below\n",
        "print(\"Threshold: \", threshold)"
      ]
    },
    {
      "cell_type": "code",
      "execution_count": null,
      "metadata": {
        "id": "Cn2SJHM-KRyh",
        "colab": {
          "base_uri": "https://localhost:8080/",
          "height": 472
        },
        "outputId": "ee19dc33-d1d0-48df-89a4-62b085d5ab6a"
      },
      "outputs": [
        {
          "output_type": "display_data",
          "data": {
            "text/plain": [
              "<Figure size 640x480 with 1 Axes>"
            ],
            "image/png": "[encoded data removed]"
          },
          "metadata": {}
        }
      ],
      "source": [
        "#Visualize Reconstruction Error\n",
        "threshold_fixed = threshold\n",
        "groups = error_dfclean.groupby('True_Class')\n",
        "fig, ax = plt.subplots()\n",
        "for name, group in groups:\n",
        "    ax.plot(group.index, group.Reconstruction_error, marker='o', ms=3.5, linestyle='',\n",
        "            label= \"Altered Data\" if name == 1 else \"Normal\")\n",
        "ax.hlines(threshold_fixed, ax.get_xlim()[0], ax.get_xlim()[1], colors=\"r\", zorder=100, label='Threshold')\n",
        "ax.legend()\n",
        "plt.title(\"Reconstruction error for normal and altered data\")\n",
        "plt.ylabel(\"Reconstruction error\")\n",
        "plt.xlabel(\"Data point index\")\n",
        "plt.show();"
      ]
    },
    {
      "cell_type": "code",
      "execution_count": null,
      "metadata": {
        "id": "Pm0RzFZ4O_YS",
        "colab": {
          "base_uri": "https://localhost:8080/",
          "height": 472
        },
        "outputId": "fb1e6e38-40f7-453e-cf7d-635afc49a092"
      },
      "outputs": [
        {
          "output_type": "display_data",
          "data": {
            "text/plain": [
              "<Figure size 640x480 with 1 Axes>"
            ],
            "image/png": "[encoded data removed]"
          },
          "metadata": {}
        }
      ],
      "source": [
        "#Visualize Reconstruction Error\n",
        "threshold_fixed = threshold\n",
        "groups = error_df.groupby('True_Class')\n",
        "fig, ax = plt.subplots()\n",
        "for name, group in groups:\n",
        "    ax.plot(group.index, group.Reconstruction_error, marker='o', ms=3.5, linestyle='',\n",
        "            label= \"Altered Data\" if name == 1 else \"Normal\")\n",
        "ax.hlines(threshold_fixed, ax.get_xlim()[0], ax.get_xlim()[1], colors=\"r\", zorder=100, label='Threshold')\n",
        "ax.legend()\n",
        "plt.title(\"Reconstruction error for normal and altered data\")\n",
        "plt.ylabel(\"Reconstruction error\")\n",
        "plt.xlabel(\"Data point index\")\n",
        "plt.show();"
      ]
    },
    {
      "cell_type": "code",
      "execution_count": null,
      "metadata": {
        "id": "c7L3WOgd5nH0",
        "colab": {
          "base_uri": "https://localhost:8080/"
        },
        "outputId": "debd4207-674d-48e6-c3e1-026a4dbe7100"
      },
      "outputs": [
        {
          "output_type": "stream",
          "name": "stdout",
          "text": [
            "30038     0\n",
            "16415     0\n",
            "149522    0\n",
            "51874     0\n",
            "75555     0\n",
            "Name: 105, dtype: int64\n"
          ]
        }
      ],
      "source": [
        "threshold_fixed =threshold\n",
        "pred_y = [1 if e > threshold_fixed else 0 for e in error_df.Reconstruction_error.values]\n",
        "error_df['pred'] =pred_y\n",
        "y_true=Y_test_Combo\n",
        "print(y_true.head())"
      ]
    },
    {
      "cell_type": "markdown",
      "source": [
        "The accuracy shown below tells us how successful out autoencoder was in detecting anomalies, which in this case is our trojaned data. The recall tells us how many trojaned data were classified as altered data."
      ],
      "metadata": {
        "id": "uI_HocjvJH-u"
      }
    },
    {
      "cell_type": "code",
      "execution_count": null,
      "metadata": {
        "id": "Wm6Q1E3OSJCo",
        "colab": {
          "base_uri": "https://localhost:8080/"
        },
        "outputId": "c5c87304-31df-47d2-82fc-d126c6ae1aae"
      },
      "outputs": [
        {
          "output_type": "stream",
          "name": "stdout",
          "text": [
            "Threshold:  0.3\n",
            "Accuracy of this model is: 98.08318843503908\n",
            "Precision of this model is: 96.3079385037435\n",
            "Recall of this model is: 100.0\n",
            "F1 of this model is: 98.11925002911379\n"
          ]
        }
      ],
      "source": [
        "# print Accuracy, precision and recall\n",
        "acc = accuracy_score(y_true, pred_y) * 100\n",
        "ps = precision_score(y_true, pred_y) * 100\n",
        "rs = recall_score(y_true, pred_y) * 100\n",
        "f1 = f1_score(y_true, pred_y) * 100\n",
        "print(\"Threshold: \", threshold)\n",
        "print('Accuracy of this model is:', acc)\n",
        "print('Precision of this model is:', ps)\n",
        "print('Recall of this model is:', rs)\n",
        "print('F1 of this model is:', f1)"
      ]
    },
    {
      "cell_type": "code",
      "execution_count": null,
      "metadata": {
        "id": "xS9gqHR7QOmW",
        "colab": {
          "base_uri": "https://localhost:8080/",
          "height": 559
        },
        "outputId": "0f7f6262-57f7-4714-fba4-e77704ae154b"
      },
      "outputs": [
        {
          "output_type": "stream",
          "name": "stdout",
          "text": [
            "Confusion matrix, without normalization\n",
            "[[81024  3230]\n",
            " [    0 84255]]\n"
          ]
        },
        {
          "output_type": "display_data",
          "data": {
            "text/plain": [
              "<Figure size 1000x500 with 2 Axes>"
            ],
            "image/png": "[encoded data removed]"
          },
          "metadata": {}
        }
      ],
      "source": [
        "#Visualization of Confusion Matrix\n",
        "def plot_confusion_matrix(y_true, y_pred, classes,\n",
        "                          normalize=False,\n",
        "                          title=None,\n",
        "                          cmap=plt.cm.Blues):\n",
        "    \"\"\"\n",
        "    This function prints and plots the confusion matrix.\n",
        "    Normalization can be applied by setting `normalize=True`.\n",
        "    \"\"\"\n",
        "    if not title:\n",
        "        if normalize:\n",
        "            title = 'Normalized confusion matrix'\n",
        "        else:\n",
        "            title = 'Confusion matrix, without normalization'\n",
        "\n",
        "    # Compute confusion matrix\n",
        "    cm = confusion_matrix(y_true, pred_y)\n",
        "    # Only use the labels that appear in the data\n",
        "    if normalize:\n",
        "        cm = cm.astype('float') / cm.sum(axis=1)[:, np.newaxis]\n",
        "        print(\"Normalized confusion matrix\")\n",
        "    else:\n",
        "        print('Confusion matrix, without normalization')\n",
        "\n",
        "    print(cm)\n",
        "\n",
        "    fig, ax = plt.subplots(figsize=(10,5))\n",
        "    fig.set(dpi=100)\n",
        "    im = ax.imshow(cm, interpolation='nearest', cmap=cmap)\n",
        "    ax.figure.colorbar(im, ax=ax)\n",
        "    # We want to show all ticks...\n",
        "    ax.set(xticks=np.arange(cm.shape[1]),\n",
        "           yticks=np.arange(cm.shape[0]),\n",
        "           # ... and label them with the respective list entries\n",
        "           xticklabels=classes, yticklabels=classes,\n",
        "           title=title,\n",
        "           ylabel='True label',\n",
        "           xlabel='Predicted label',\n",
        "\n",
        "          )\n",
        "\n",
        "    # Rotate the tick labels and set their alignment.\n",
        "    plt.setp(ax.get_xticklabels(), rotation=45, ha=\"right\",\n",
        "             rotation_mode=\"anchor\")\n",
        "\n",
        "    # Loop over data dimensions and create text annotations.\n",
        "    fmt = '.2f' if normalize else 'd'\n",
        "    thresh = cm.max() / 2.\n",
        "    for i in range(cm.shape[0]):\n",
        "        for j in range(cm.shape[1]):\n",
        "            ax.text(j, i, format(cm[i, j], fmt),\n",
        "                    ha=\"center\", va=\"center\",\n",
        "                    color=\"white\" if cm[i, j] > thresh else \"black\")\n",
        "    fig.tight_layout()\n",
        "    return ax\n",
        "\n",
        "\n",
        "np.set_printoptions(precision=2)\n",
        "\n",
        "# Plot non-normalized confusion matrix\n",
        "class_names=['True Data', 'Altered Data']\n",
        "plot_confusion_matrix(y_true, pred_y, classes=class_names,\n",
        "                      title='Threshold 0.3')\n",
        "\n",
        "plt.savefig('test.png', bbox_inches='tight')"
      ]
    },
    {
      "cell_type": "markdown",
      "source": [
        "The confusion matrix allows us to see how our data was classified. We want a low number of altered data being classified as true data. In our case, we do not want any trojaned data (altered) being classified as benign (true)."
      ],
      "metadata": {
        "id": "aQ1peVqnKp8-"
      }
    }
  ],
  "metadata": {
    "accelerator": "GPU",
    "colab": {
      "provenance": [],
      "include_colab_link": true
    },
    "gpuClass": "standard",
    "kernelspec": {
      "display_name": "Python 3",
      "name": "python3"
    },
    "language_info": {
      "name": "python"
    }
  },
  "nbformat": 4,
  "nbformat_minor": 0
}