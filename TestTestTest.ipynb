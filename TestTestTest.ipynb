{
  "nbformat": 4,
  "nbformat_minor": 0,
  "metadata": {
    "colab": {
      "provenance": [],
      "authorship_tag": "ABX9TyOkTIMavkHQp+bZMqB0eNry",
      "include_colab_link": true
    },
    "kernelspec": {
      "name": "python3",
      "display_name": "Python 3"
    },
    "language_info": {
      "name": "python"
    }
  },
  "cells": [
    {
      "cell_type": "markdown",
      "metadata": {
        "id": "view-in-github",
        "colab_type": "text"
      },
      "source": [
        "<a href=\"https://colab.research.google.com/github/torisimon2/Google-Colab/blob/main/TestTestTest.ipynb\" target=\"_parent\"><img src=\"https://colab.research.google.com/assets/colab-badge.svg\" alt=\"Open In Colab\"/></a>"
      ]
    },
    {
      "cell_type": "code",
      "execution_count": 1,
      "metadata": {
        "colab": {
          "base_uri": "https://localhost:8080/"
        },
        "id": "HwSl6QJx4yWX",
        "outputId": "c3736b11-f1ce-406a-dc72-4b27cc106919"
      },
      "outputs": [
        {
          "output_type": "stream",
          "name": "stdout",
          "text": [
            "Hello world or whatever\n"
          ]
        }
      ],
      "source": [
        "print(\"Hello world or whatever\")"
      ]
    },
    {
      "cell_type": "markdown",
      "source": [
        "#Learning how to use colab\n",
        "screaming crying and throwing up :)"
      ],
      "metadata": {
        "id": "_GPZIKnB40iu"
      }
    }
  ]
}