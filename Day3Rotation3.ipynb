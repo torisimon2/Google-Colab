{
  "nbformat": 4,
  "nbformat_minor": 0,
  "metadata": {
    "colab": {
      "provenance": [],
      "authorship_tag": "ABX9TyNrYXUe55w4J/t4go4r+9AN",
      "include_colab_link": true
    },
    "kernelspec": {
      "name": "python3",
      "display_name": "Python 3"
    },
    "language_info": {
      "name": "python"
    }
  },
  "cells": [
    {
      "cell_type": "markdown",
      "metadata": {
        "id": "view-in-github",
        "colab_type": "text"
      },
      "source": [
        "<a href=\"https://colab.research.google.com/github/torisimon2/Google-Colab/blob/main/Day3Rotation3.ipynb\" target=\"_parent\"><img src=\"https://colab.research.google.com/assets/colab-badge.svg\" alt=\"Open In Colab\"/></a>"
      ]
    },
    {
      "cell_type": "markdown",
      "source": [
        "#Day 3 Roation 3\n",
        "Welcome to the Day 3 Rotation 3 notebook. We will start with some exercises to get you more familiar with using Google Colab. Then we will move on to some exercises that will teach you how to identify anomalies using machine learning."
      ],
      "metadata": {
        "id": "7ME3yO8cjLGx"
      }
    },
    {
      "cell_type": "markdown",
      "source": [
        "##Cells\n",
        "**Cells** are the components that make up a notebook and they can contain either text or code. There are two types of cells: Code and Text, which can be created by selecting the **+Code** or **+Text** buttons. To select a cell, simply click on it. To move a cell, select it by double clicking, then click the **Cell Up** or **Cell Down** buttons."
      ],
      "metadata": {
        "id": "XKxoENIHk3nz"
      }
    },
    {
      "cell_type": "markdown",
      "source": [
        "###Text Cell\n",
        "This is a **text cell**. It uses the markdown syntax to display text. Here are some of the things you can do with the text:\n",
        "- You make make lists\n",
        "- You can make text **bold**\n",
        "- You can make text *italicized*\n",
        "- You can make text `monospace`\n",
        "- You can make text ~~strikethrough~~\n",
        "- You can add [Links](https://www.google.com)\n",
        "- You can add images (like this one ![An image](https://www.google.com/images/rss.png))\n",
        "- You can add headers (as seen above)\n",
        "- You can use LaTex to add math to text like this $\\sqrt{3x-1}+(1+x)^2.$\n",
        "\n",
        "There is more than this as well, but these are the basics. Double click the cell below to try it yourself. Double click this cell to see the markdown syntax."
      ],
      "metadata": {
        "id": "O6E0f3niloEt"
      }
    },
    {
      "cell_type": "markdown",
      "source": [
        "Make me a header\n",
        "\n",
        "Make me a list\n",
        "\n",
        "Make me bold\n",
        "\n",
        "Make me italicized\n",
        "\n",
        "Make me monospace\n",
        "\n",
        "Make me strikethrough\n",
        "\n",
        "Link me to a website of your choice\n",
        "\n",
        "Add an image here\n",
        "\n",
        "Use LaTeX to visualize the square root of 5x+3 to the thrid power\n",
        "\n",
        "CHALLENGE: create a table here"
      ],
      "metadata": {
        "id": "hBq7FUAAnlAw"
      }
    },
    {
      "cell_type": "markdown",
      "source": [
        "###Code Cell\n",
        "Below is a **code cell**. In it you can put executable python code. To run the code in the cell, first click to select it. You can then either click the **play button** or you can use the **Cmd/Ctrl+Enter** keyboard shortcut. Try it below."
      ],
      "metadata": {
        "id": "-w0rOv75vium"
      }
    },
    {
      "cell_type": "code",
      "execution_count": null,
      "metadata": {
        "colab": {
          "base_uri": "https://localhost:8080/"
        },
        "id": "OikBIm63iz6Q",
        "outputId": "6a113eae-f8cd-4395-9776-e0e5656f5105"
      },
      "outputs": [
        {
          "output_type": "stream",
          "name": "stdout",
          "text": [
            "Hello World!\n"
          ]
        }
      ],
      "source": [
        "print(\"Hello World!\")"
      ]
    },
    {
      "cell_type": "markdown",
      "source": [
        "Now it's your turn. In the code cell below write a short program to print the numbers 1-10 in order with a space between them."
      ],
      "metadata": {
        "id": "zTl9LqNywq9D"
      }
    },
    {
      "cell_type": "code",
      "source": [
        "#Your code goes here"
      ],
      "metadata": {
        "id": "o8kFmgW_xJze"
      },
      "execution_count": null,
      "outputs": []
    },
    {
      "cell_type": "markdown",
      "source": [
        "##Working with Code\n",
        "Now lets explore some of the coding features in Colab.\n",
        "\n",
        "You can interrupt long runnning code. You do this by pressing the **stop button** while the code is executing or using the **Cmd/Ctrl-M I** keyboard shortcut. Try it out in the code cell below."
      ],
      "metadata": {
        "id": "vMmThPa_1Q2F"
      }
    },
    {
      "cell_type": "code",
      "source": [
        "import time\n",
        "print(\"Sleeping\")\n",
        "time.sleep(30) # sleep for a while; interrupt me!\n",
        "print(\"Done Sleeping\")"
      ],
      "metadata": {
        "id": "uV3ldCns28jJ"
      },
      "execution_count": null,
      "outputs": []
    },
    {
      "cell_type": "markdown",
      "source": [
        "There are many shortcuts for common opperations, which you can see below. Note that you can execute processes like these by using `!`."
      ],
      "metadata": {
        "id": "v810Izg_3ED6"
      }
    },
    {
      "cell_type": "code",
      "source": [
        "!ls /bin"
      ],
      "metadata": {
        "id": "1KzULnXV3Iys"
      },
      "execution_count": null,
      "outputs": []
    },
    {
      "cell_type": "markdown",
      "source": [
        "You can clear the output by going to the toolbar above the cell and selecting the 3 vertical dots. There should be a **clear output** option which you can select to clear the output.\n",
        "\n",
        "Now its your turn, work through the exercises in the code cells below."
      ],
      "metadata": {
        "id": "5-RAtQyz4OEu"
      }
    },
    {
      "cell_type": "code",
      "source": [
        "#Example\n",
        "message = 'Colaboratory is great!'\n",
        "foo = !unset message && echo -e '{message}\\n{message}\\n'$message\"\\n$message\"\n",
        "foo"
      ],
      "metadata": {
        "colab": {
          "base_uri": "https://localhost:8080/"
        },
        "id": "gBAK2vzYDCRS",
        "outputId": "b84e80bb-9ce1-400b-f880-64ca5000722d"
      },
      "execution_count": null,
      "outputs": [
        {
          "output_type": "execute_result",
          "data": {
            "text/plain": [
              "['Colaboratory is great!',\n",
              " 'Colaboratory is great!',\n",
              " 'Colaboratory is great!',\n",
              " 'Colaboratory is great!']"
            ]
          },
          "metadata": {},
          "execution_count": 6
        }
      ]
    },
    {
      "cell_type": "code",
      "source": [
        "#Exercise 1\n",
        "#Echo a message of your choice"
      ],
      "metadata": {
        "id": "JRmZuCcyEDdQ"
      },
      "execution_count": null,
      "outputs": []
    },
    {
      "cell_type": "code",
      "source": [
        "#Exercise 2\n",
        "#Cat the information in the file cat-text.txt"
      ],
      "metadata": {
        "id": "NgxM4ZWBESfO"
      },
      "execution_count": null,
      "outputs": []
    },
    {
      "cell_type": "code",
      "source": [
        "#Challenge\n",
        "#Print the first word of every line in every file that contains the letter t"
      ],
      "metadata": {
        "id": "e28A6ZO1E1vr"
      },
      "execution_count": null,
      "outputs": []
    },
    {
      "cell_type": "markdown",
      "source": [
        "While completing the exercises above you may have noticed that Colab provides automatic completions. If you wish to open completions again you can use **Ctrl+Space**. Documentation can be opened using **Ctrl+Shift+Space**."
      ],
      "metadata": {
        "id": "luC8sJUNFZa5"
      }
    },
    {
      "cell_type": "markdown",
      "source": [
        "##Importing Libraries"
      ],
      "metadata": {
        "id": "jg1w8vnn55EZ"
      }
    },
    {
      "cell_type": "markdown",
      "source": [
        "Now that we have learned how to use `!` we can use it to import libraries that are not already in Colaboratory. This can be done by using the `!pip install` or `!apt-get install` commands. Try it out below."
      ],
      "metadata": {
        "id": "zwhMpvZ3G6VE"
      }
    },
    {
      "cell_type": "code",
      "source": [
        "#Example\n",
        "!pip install matplotlib-venn"
      ],
      "metadata": {
        "id": "A5HeJXqiHLn8"
      },
      "execution_count": null,
      "outputs": []
    },
    {
      "cell_type": "code",
      "source": [
        "#Example\n",
        "!apt-get -qq install -y libfluidsynth1"
      ],
      "metadata": {
        "id": "b1aeOectHhKm"
      },
      "execution_count": null,
      "outputs": []
    },
    {
      "cell_type": "code",
      "source": [
        "#Exercise 1\n",
        "#Install 7zip reader libarchive (https://pypi.org/project/libarchive/)"
      ],
      "metadata": {
        "id": "abHWSq7uHSMZ"
      },
      "execution_count": null,
      "outputs": []
    },
    {
      "cell_type": "code",
      "source": [
        "#Exercise 2\n",
        "#Install cartopy (https://scitools.org.uk/cartopy/docs/latest/)"
      ],
      "metadata": {
        "id": "RryxUTRTHvAU"
      },
      "execution_count": null,
      "outputs": []
    },
    {
      "cell_type": "markdown",
      "source": [
        "##Working with Data\n",
        "Now that we have a basic idea of how Colab works, its time to put it into practice. First we'll walk through an example, and then you will have a chance to do it on your own. This is a simple decision tree classifier."
      ],
      "metadata": {
        "id": "9fpFzaboLpfa"
      }
    },
    {
      "cell_type": "code",
      "source": [
        "import pandas as pd\n",
        "import numpy as np\n",
        "from sklearn.tree import DecisionTreeClassifier\n",
        "from sklearn.metrics import accuracy_score\n",
        "\n",
        "#data set and cleaning\n",
        "df = pd.read_csv(\"foo.csv\")\n",
        "df = df.drop(columns=df.columns[0], axis=1)\n",
        "\n",
        "#Prepare data\n",
        "from sklearn.model_selection import train_test_split\n",
        "training_set, test_set = train_test_split(df, test_size = 0.1, random_state = 1)\n",
        "Xtrain = training_set.iloc[:,5:8].values\n",
        "Ytrain = training_set.iloc[:,5].values\n",
        "Xtest = test_set.iloc[:,5:8].values\n",
        "Ytest = test_set.iloc[:,5].values\n",
        "\n",
        "#Decision Tree model\n",
        "dec_tree = DecisionTreeClassifier(random_state=1, max_depth=30)\n",
        "dec_tree.fit(Xtrain, Ytrain)\n",
        "\n",
        "#Evaluation\n",
        "Ypred_tree = dec_tree.predict(Xtest)\n",
        "accuracy_score(Ytest, Ypred_tree)"
      ],
      "metadata": {
        "id": "-QdGBfcK_euy",
        "colab": {
          "base_uri": "https://localhost:8080/"
        },
        "outputId": "827a595a-5d71-4eaf-9124-3f5264cc16cc"
      },
      "execution_count": null,
      "outputs": [
        {
          "output_type": "execute_result",
          "data": {
            "text/plain": [
              "0.9735725938009788"
            ]
          },
          "metadata": {},
          "execution_count": 26
        }
      ]
    },
    {
      "cell_type": "markdown",
      "source": [
        "Now that You've had time to look through the example, it is your turn to create a model. Navigate to the side bar and click on the file icon. There you should see a folder called `sample_data`. Go through the README file and familiarize yourself with the california_housing dataset. We will be creating a simple decision tree."
      ],
      "metadata": {
        "id": "1FzAwi24Eu-B"
      }
    },
    {
      "cell_type": "code",
      "source": [
        "#Exercise\n",
        "#Your Code Here"
      ],
      "metadata": {
        "id": "4G-00jj6AuOj"
      },
      "execution_count": null,
      "outputs": []
    },
    {
      "cell_type": "code",
      "source": [
        "#Challenge\n",
        "#Create a model with a dataset of your choice"
      ],
      "metadata": {
        "id": "siSDWhK5FOu_"
      },
      "execution_count": null,
      "outputs": []
    },
    {
      "cell_type": "markdown",
      "source": [
        "##Visualizations\n",
        "We can also create visualizations of data in Google Colab. In the example below, numpy generates random data and visualizes it with matplotlib."
      ],
      "metadata": {
        "id": "vz1fiYbDG64L"
      }
    },
    {
      "cell_type": "code",
      "source": [
        "import numpy as np\n",
        "from matplotlib import pyplot as plt\n",
        "\n",
        "ys = 200 + np.random.randn(100)\n",
        "x = [x for x in range(len(ys))]\n",
        "\n",
        "plt.plot(x, ys, '-')\n",
        "plt.fill_between(x, ys, 195, where=(ys > 195), facecolor='g', alpha=0.6)\n",
        "\n",
        "plt.title(\"Sample Visualization\")\n",
        "plt.show()"
      ],
      "metadata": {
        "colab": {
          "base_uri": "https://localhost:8080/",
          "height": 452
        },
        "id": "NB0dmZafbxcq",
        "outputId": "dc357a1c-55a9-4863-d45e-f3866dbdf82d"
      },
      "execution_count": 10,
      "outputs": [
        {
          "output_type": "display_data",
          "data": {
            "text/plain": [
              "<Figure size 640x480 with 1 Axes>"
            ],
            "image/png": "[encoded data removed]"
          },
          "metadata": {}
        }
      ]
    },
    {
      "cell_type": "markdown",
      "source": [
        "Exercise: Now edit the code above to make the following changes:\n",
        "- Change the color from green to pink\n",
        "- Change the line color from blue to red\n",
        "- Adjust the alpha value and observe what happens\n",
        "- Adjust the ys value and observe what happens\n",
        "- Change the title\n",
        "- Add labels for the x and y axis\n",
        "- Challenge: Change the type of graph"
      ],
      "metadata": {
        "id": "yzSoz87pg79a"
      }
    },
    {
      "cell_type": "code",
      "source": [
        "#Challenge\n",
        "#Use the data from the california housing dataset to create your own visualization"
      ],
      "metadata": {
        "id": "wzlEFwLviIZV"
      },
      "execution_count": null,
      "outputs": []
    }
  ]
}