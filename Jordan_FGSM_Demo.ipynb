{
  "nbformat": 4,
  "nbformat_minor": 0,
  "metadata": {
    "colab": {
      "provenance": [],
      "gpuType": "T4",
      "include_colab_link": true
    },
    "kernelspec": {
      "name": "python3",
      "display_name": "Python 3"
    },
    "language_info": {
      "name": "python"
    },
    "accelerator": "GPU",
    "gpuClass": "standard"
  },
  "cells": [
    {
      "cell_type": "markdown",
      "metadata": {
        "id": "view-in-github",
        "colab_type": "text"
      },
      "source": [
        "<a href=\"https://colab.research.google.com/github/torisimon2/Google-Colab/blob/main/Jordan_FGSM_Demo.ipynb\" target=\"_parent\"><img src=\"https://colab.research.google.com/assets/colab-badge.svg\" alt=\"Open In Colab\"/></a>"
      ]
    },
    {
      "cell_type": "markdown",
      "source": [
        "Reminder: set your runtime hardware to use a GPU so that it doesn't take too long to run the models"
      ],
      "metadata": {
        "id": "vBsECQKmUlAs"
      }
    },
    {
      "cell_type": "markdown",
      "source": [
        "#Pre-run (imports and datasets)"
      ],
      "metadata": {
        "id": "Q7foD7pi6R0a"
      }
    },
    {
      "cell_type": "markdown",
      "source": [
        "###Imports"
      ],
      "metadata": {
        "id": "3jFPd8IISRPy"
      }
    },
    {
      "cell_type": "code",
      "source": [
        "import tensorflow as tf\n",
        "from tensorflow import keras\n",
        "import tensorflow_datasets as tfds\n",
        "import matplotlib.pyplot as plt\n",
        "import numpy as np\n",
        "import sklearn\n",
        "from sklearn.model_selection import train_test_split\n",
        "import pandas as pd\n",
        "import random\n",
        "from keras import metrics\n",
        "\n",
        "np.random.seed(42)\n",
        "tf.random.set_seed(42)"
      ],
      "metadata": {
        "id": "irORVCLDJ5Kf"
      },
      "execution_count": 1,
      "outputs": []
    },
    {
      "cell_type": "markdown",
      "source": [
        "###dataset loading"
      ],
      "metadata": {
        "id": "B07B4rdtL4aw"
      }
    },
    {
      "cell_type": "markdown",
      "source": [
        "This is loading in the necessary data sets that we will be using for our demo. We first establish a dictionary with the various labels the model could classify an image as. We are then going to load in the CIFAR10 dataset. This dataset contains images in 10 classes."
      ],
      "metadata": {
        "id": "zqXJsrqlEhK2"
      }
    },
    {
      "cell_type": "code",
      "source": [
        "C10D = {0:'airplane', 1:'automobile',2:'bird',3:'cat',4:'deer',5:'dog',6:'frog',7:'horse',8:'ship',9:'truck'}"
      ],
      "metadata": {
        "id": "nB45f0lnKCtw"
      },
      "execution_count": 2,
      "outputs": []
    },
    {
      "cell_type": "code",
      "source": [
        "(xtrain, ytrain), (xtest, ytest) = keras.datasets.cifar10.load_data()\n",
        "xtrain = xtrain/255\n",
        "xtest = xtest/255"
      ],
      "metadata": {
        "id": "D6YWJkjeKESA"
      },
      "execution_count": null,
      "outputs": []
    },
    {
      "cell_type": "code",
      "source": [
        "#Load adv dataset\n",
        "\n",
        "#load from Gitlab:\n",
        "import urllib.request\n",
        "urlpath = 'https://gitlab.com/CEADS/nuclear_ai_cyber/-/raw/main/FGSM_evasion_attack/Y2023/Key_Models_And_Datasets/'\n",
        "\n",
        "# filename = 'x10000adv.npy'\n",
        "# urllib.request.urlretrieve(urlpath+filename, filename)\n",
        "# xadv = np.load(filename)/255\n",
        "\n",
        "# filename = 'y10000adv.npy'\n",
        "# urllib.request.urlretrieve(urlpath+filename, filename)\n",
        "# yadv = np.load(filename)\n",
        "\n",
        "# filepath = \"/content/drive/MyDrive/CEADS Project Stuff/Summer 2023/New Datasets\"\n",
        "filename = \"xadv10kNORM.npy\"\n",
        "urllib.request.urlretrieve(urlpath+filename, filename)\n",
        "xadv = np.load(filename)\n",
        "filename = \"yadv10kNORM.npy\"\n",
        "urllib.request.urlretrieve(urlpath+filename, filename)\n",
        "yadv = np.load(filename)"
      ],
      "metadata": {
        "id": "pJF-gBT0Kyqw"
      },
      "execution_count": 4,
      "outputs": []
    },
    {
      "cell_type": "markdown",
      "source": [
        "##FGSM functions\n",
        "The Fast Gradient Sign Method (FGSM) is a type of adversarial attack designed to fool machine learning models, especially neural networks. It does this by making small and often imperceptible changes to input data in order to cause the model to make incorrect predictions."
      ],
      "metadata": {
        "id": "2mJ5fHXY8kZU"
      }
    },
    {
      "cell_type": "code",
      "source": [
        "#This method is the backbone of all of the examples. It is all that you essentially need to do FGSM for classifications.\n",
        "def FGSM(model, input, target, eps=.01):\n",
        "  input = tf.cast(input, tf.float32) #The gradient tape methods used in the function require the data to be in a tf dataset\n",
        "  loss_object = tf.keras.losses.CategoricalCrossentropy()\n",
        "  with tf.GradientTape() as tape:\n",
        "    tape.watch(input)\n",
        "    prediction = model(input)\n",
        "    loss = -loss_object(target, prediction)\n",
        "  gradient = tape.gradient(loss, input) #This is the key line that generated the gradients\n",
        "  signed_grad = tf.sign(gradient)\n",
        "  return (signed_grad*eps).numpy()"
      ],
      "metadata": {
        "id": "MJ_QKOS98l7w"
      },
      "execution_count": 5,
      "outputs": []
    },
    {
      "cell_type": "code",
      "source": [
        "#this function is nessecary because FGSM needs a specific format for the target label\n",
        "def giveLabel(label, total):\n",
        "  labelx = tf.one_hot(label,total)\n",
        "  return tf.reshape(labelx, (1,total))"
      ],
      "metadata": {
        "id": "DL3dtGCg8suN"
      },
      "execution_count": 6,
      "outputs": []
    },
    {
      "cell_type": "code",
      "source": [
        "def Iterate(func,model,input,target,eps,steps):\n",
        "  temp = input\n",
        "  for x in range(steps):\n",
        "    noise = func(model, temp, target, eps/steps)\n",
        "    temp = np.clip(temp+noise, 0, 1)\n",
        "  return temp"
      ],
      "metadata": {
        "id": "dSlqQrub8u14"
      },
      "execution_count": 7,
      "outputs": []
    },
    {
      "cell_type": "code",
      "source": [
        "#this function essentially just does the same as the last one, but it does it for each of the possible classifications.\n",
        "#It then stores each of the adversaries it creates, and also formats the output in a nice way.\n",
        "def getTable(stepfunc,func,model,input,labelFunc,eps,steps):\n",
        "  advlist = []\n",
        "  df = pd.DataFrame(columns=range(10))\n",
        "  for x in range(10):\n",
        "    advlist.append(stepfunc(func, model, input, labelFunc(x,10), eps, steps))\n",
        "    predictions = (model.predict(advlist[x],verbose = 0).round(3))[0]\n",
        "    df.loc[x] = predictions.tolist()\n",
        "  return advlist, df"
      ],
      "metadata": {
        "id": "6ljbj9kd8xdm"
      },
      "execution_count": 8,
      "outputs": []
    },
    {
      "cell_type": "markdown",
      "source": [
        "##Display Functions\n",
        "These functions simply make it easier to display results."
      ],
      "metadata": {
        "id": "xq9RqKcp9AFG"
      }
    },
    {
      "cell_type": "code",
      "source": [
        "def displayPrediction(model, image, target, truelabel):\n",
        "#  image = np.clip(image,0,255)\n",
        "  prediction = np.argmax(model.predict(image,verbose = 0))\n",
        "  # print(f\"{target}\")\n",
        "  plt.suptitle(f\"Adversary towards {target} ({C10D[ytest[target][0]]})\")\n",
        "  plt.title(f\"Prediction: {prediction} ({C10D[prediction]}), {round(model.predict(image,verbose = 0)[0][prediction]*100,2)}%\")\n",
        "  # print(f\"{(image[0]*255).astype(int)}\")\n",
        "  plt.imshow(((image[0]*255).astype(int)))\n",
        "  plt.show()\n",
        "  return"
      ],
      "metadata": {
        "id": "SmhHu_H39Bi6"
      },
      "execution_count": 9,
      "outputs": []
    },
    {
      "cell_type": "code",
      "source": [
        "def displayAdv(model, image, target, index):\n",
        "  prediction = model.predict(image,verbose = 0)\n",
        "  predlabel = np.argmax(prediction)\n",
        "  plt.suptitle(f\"Adversary towards {target} ({C10D[target]})\")\n",
        "  plt.title(f\"Prediction: {predlabel} ({C10D[predlabel]}), {round(np.max(prediction)*100,2)}%\")\n",
        "  plt.imshow(((image[0])))\n",
        "  plt.show()\n",
        "  return"
      ],
      "metadata": {
        "id": "VrKsithgBGDS"
      },
      "execution_count": 10,
      "outputs": []
    },
    {
      "cell_type": "code",
      "source": [
        "def displayOriginal(model, image, index):\n",
        "  prediction = np.argmax(model.predict(image,verbose = 0))\n",
        "  plt.suptitle(f\"Original Image: {ytest[index][0]} ({C10D[ytest[index][0]]})\")\n",
        "  plt.title(f\"Prediction: {prediction} ({C10D[prediction]}), {round(model.predict(image,verbose = 0)[0][prediction]*100,2)}%\")\n",
        "  plt.imshow(np.clip(image[0],0,1))\n",
        "  plt.show()"
      ],
      "metadata": {
        "id": "7m755MNS9D29"
      },
      "execution_count": 11,
      "outputs": []
    },
    {
      "cell_type": "code",
      "source": [
        "def compareAdv(model, clean, adv, index):\n",
        "  cleanprediction = model.predict(clean,verbose = 0)\n",
        "  cleanpnum = np.argmax(cleanprediction)\n",
        "  advprediction = model.predict(adv,verbose = 0)\n",
        "  advpnum = np.argmax(advprediction)\n",
        "  plt.suptitle(\"Clean Image\")\n",
        "  plt.title(f\"Original Label: {ytest[index]} ({C10D[ytest[index][0]]}), Prediction: {cleanpnum} ({C10D[cleanpnum]}), {round(np.max(cleanprediction)*100,2)}%\")\n",
        "  plt.imshow(clean[0])\n",
        "  plt.show()\n",
        "  plt.suptitle(\"Adv Image\")\n",
        "  plt.title(f\"Target Label: {yadv[index][1]} ({C10D[yadv[index][1]]}), Prediction: {advpnum} ({C10D[advpnum]}), {round(np.max(advprediction)*100,2)}%\")\n",
        "  plt.imshow(adv[0])\n",
        "  plt.show()"
      ],
      "metadata": {
        "id": "0y5Pkd5Yba8D"
      },
      "execution_count": 12,
      "outputs": []
    },
    {
      "cell_type": "markdown",
      "source": [
        "##Load Models"
      ],
      "metadata": {
        "id": "QSFVVGpUpPvg"
      }
    },
    {
      "cell_type": "markdown",
      "source": [
        "This code is loading in a pre-built model"
      ],
      "metadata": {
        "id": "fo8n8eaDGlro"
      }
    },
    {
      "cell_type": "code",
      "source": [
        "# classifier = tf.keras.models.load_model(f\"/content/drive/MyDrive/CEADS Project Stuff/Summer 2023/Models/CIFAR10Model2N.h5\")\n",
        "# classifierUN = tf.keras.models.load_model(f\"/content/drive/MyDrive/CEADS Project Stuff/Fall 2022/Models/CIFAR10BestModel36.h5\") #uses un-normalized data\n",
        "filename = 'CIFAR10Model2N.h5'\n",
        "urllib.request.urlretrieve(urlpath+filename, filename)\n",
        "classifier = tf.keras.models.load_model(filename)\n",
        "\n",
        "# filename = 'CIFAR10Model36.h5'\n",
        "# urllib.request.urlretrieve(urlpath+filename, filename)\n",
        "# classifierUN = tf.keras.models.load_model(filename)"
      ],
      "metadata": {
        "id": "g2JVf0n-N3Z8"
      },
      "execution_count": 13,
      "outputs": []
    },
    {
      "cell_type": "markdown",
      "source": [
        "#FGSM Demo (using 32x32 CIFAR10 classifier)\n",
        "Here's a brief explanation of how the FGSM attack works:\n",
        "\n",
        "1. Gradient Calculation: When training a neural network, gradients are calculated to determine how much each input feature contributes to the final prediction. These gradients indicate the direction in which the model's prediction would change with respect to changes in the input features.\n",
        "\n",
        "2. Perturbation Generation: In the FGSM attack, a small perturbation is generated for the input data by using the calculated gradients. The idea is to identify the features that have the most influence on the model's prediction and then adjust those features slightly to steer the prediction in a desired direction.\n",
        "\n",
        "3. Magnitude of Perturbation: The magnitude of the perturbation is determined by a parameter called the epsilon (ε). A larger epsilon results in a more noticeable perturbation, potentially leading to easier detection, while a smaller epsilon produces a less noticeable perturbation.\n",
        "\n",
        "4. Sign of Gradient: The crucial step in the FGSM attack is to determine the direction in which to change the input features. This is done by taking the sign of the calculated gradient values. This way, the attack focuses on increasing the prediction if the model should predict a specific class, or decreasing the prediction if the aim is to misclassify the input.\n",
        "\n",
        "5. Creating Adversarial Example: The original input data is then modified by adding the scaled perturbation, which is the product of the sign of gradients and the chosen epsilon.\n",
        "\n",
        "6. Adversarial Effect: The resulting perturbed data, called an \"adversarial example,\" is fed into the target model. Due to the small and carefully crafted perturbation, the model is likely to make an incorrect prediction, even though the changes might not be easily perceptible to a human."
      ],
      "metadata": {
        "id": "xGowQJu7NmXc"
      }
    },
    {
      "cell_type": "markdown",
      "source": [
        "##FGSM Creation"
      ],
      "metadata": {
        "id": "4JfBpBEU2b9A"
      }
    },
    {
      "cell_type": "code",
      "source": [
        "#Edit any of these values to see the result\n",
        "INDEX = 5   #any number from 0 to 5000\n",
        "EPS = .02  #any number from 0 to 1\n",
        "TARGET = 9   #any integer from 0 to 9, what label you are perturbing the image towards\n",
        "STEPS = 10  #any integer from 1 to 100 (bigger will take longer)\n",
        "\n",
        "#don't edit this part\n",
        "MODEL = classifier\n",
        "input = tf.cast(np.expand_dims(xtest[INDEX],0), tf.float32)\n",
        "adv = Iterate(FGSM,MODEL,input,giveLabel(TARGET,10),EPS, STEPS)\n",
        "print(\"Done! Run the next cell to see results!\")"
      ],
      "metadata": {
        "id": "FLAYbcF8H-gP"
      },
      "execution_count": null,
      "outputs": []
    },
    {
      "cell_type": "code",
      "source": [
        "print(f\"Index {INDEX}, Max Epsilon: {EPS}, Original Label: {ytest[INDEX][0]} ({C10D[ytest[INDEX][0]]}), Target Label: {TARGET} ({C10D[TARGET]})\")\n",
        "print(f\"Original image prediction: {np.argmax(MODEL.predict(input,verbose = 0))} with {round(MODEL.predict(input,verbose = 0)[0][np.argmax(MODEL.predict(input,verbose = 0))]*100,2)} certainty\")\n",
        "print(f\"Adv image prediction: {np.argmax(MODEL.predict(adv,verbose = 0))} with {round(MODEL.predict(adv,verbose = 0)[0][np.argmax(MODEL.predict(adv,verbose = 0))]*100,2)} certainty\")\n",
        "displayOriginal(MODEL, input, INDEX)\n",
        "# displayPrediction(MODEL, adv, INDEX, TARGET)\n",
        "displayAdv(MODEL, adv, TARGET, INDEX)"
      ],
      "metadata": {
        "id": "zcjVdMAqIErq"
      },
      "execution_count": null,
      "outputs": []
    },
    {
      "cell_type": "code",
      "source": [
        "noise = adv[0] - input[0]\n",
        "plt.imshow(np.clip((noise + .02)*25,0,1))\n",
        "plt.title(f\"Noise added to the image\")\n",
        "plt.show()"
      ],
      "metadata": {
        "id": "QM9KuxLlIPSx"
      },
      "execution_count": null,
      "outputs": []
    },
    {
      "cell_type": "markdown",
      "source": [
        "##Display Premade Datasets"
      ],
      "metadata": {
        "id": "_QtL96JaNrS9"
      }
    },
    {
      "cell_type": "markdown",
      "source": [
        "For this project, something I did was creating an adversarial FGSM dataset of 10,000 images, based off of the 10,000 images in the xtest dataset. This section is mainly here to allow you to look at the adv images compared to the regular images"
      ],
      "metadata": {
        "id": "rVEQ3atpQ2Un"
      }
    },
    {
      "cell_type": "code",
      "source": [
        "#print any image from both datasets\n",
        "#Edit the index value to compare images\n",
        "index = 3\n",
        "\n",
        "plt.imshow(xtest[index])\n",
        "plt.show()\n",
        "plt.imshow(xadv[index])#from my pregenerated adv dataset\n",
        "plt.show()"
      ],
      "metadata": {
        "id": "TO_RqzTl2q7H"
      },
      "execution_count": null,
      "outputs": []
    },
    {
      "cell_type": "code",
      "source": [
        "#You can use this code to evaulate the images that are printed above from the datasets I created\n",
        "index = 3\n",
        "\n",
        "prediction = classifier.predict(xtest[index:index+1], verbose = 0)\n",
        "argmax = np.argmax(prediction)\n",
        "print(f\"Original image prediction: {argmax} ({C10D[argmax]}) with {round(np.max(prediction)*100,2)} certainty\")\n",
        "\n",
        "prediction = classifier.predict(xadv[index:index+1], verbose = 0)\n",
        "argmax = np.argmax(prediction)\n",
        "print(f\"Adv image prediction: {argmax} ({C10D[argmax]}) with {round(np.max(prediction)*100,2)} certainty\")\n"
      ],
      "metadata": {
        "id": "IwUyatrzPj99"
      },
      "execution_count": null,
      "outputs": []
    },
    {
      "cell_type": "markdown",
      "source": [
        "##Model Evaluation"
      ],
      "metadata": {
        "id": "Nyz3v0j5K5Ht"
      }
    },
    {
      "cell_type": "markdown",
      "source": [
        "This section is here to show off how the models do evaluated on the regular and adversarial datasets"
      ],
      "metadata": {
        "id": "IlQmect-Ra3x"
      }
    },
    {
      "cell_type": "code",
      "source": [
        "classifier.evaluate(xtest, ytest)\n",
        "classifier.evaluate(xadv, ytest);"
      ],
      "metadata": {
        "id": "bGqrD4gQp_65"
      },
      "execution_count": null,
      "outputs": []
    }
  ]
}