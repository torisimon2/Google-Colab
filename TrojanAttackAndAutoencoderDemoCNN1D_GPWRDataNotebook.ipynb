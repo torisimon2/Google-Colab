{
  "cells": [
    {
      "cell_type": "markdown",
      "metadata": {
        "id": "view-in-github",
        "colab_type": "text"
      },
      "source": [
        "<a href=\"https://colab.research.google.com/github/torisimon2/Google-Colab/blob/main/TrojanAttackAndAutoencoderDemoCNN1D_GPWRDataNotebook.ipynb\" target=\"_parent\"><img src=\"https://colab.research.google.com/assets/colab-badge.svg\" alt=\"Open In Colab\"/></a>"
      ]
    },
    {
      "cell_type": "markdown",
      "metadata": {
        "id": "2NsjqoIJiBg-"
      },
      "source": [
        "This notebook examines the effect of a Trojan attack on GPWR data. It takes a victim model that is already fully trained. The attacker will take a dataset that they will retrain the model on and poison some of the data samples. They will poison it by adding the Apple logo trigger mask to the upper right of the data. This will slightly change the values of each of the features. The attacker then retrains on the poisoned data mixed with some normal unmasked data. This creates a Trojaned model. When working correctly this model will perform the same on the original data (unmasked) and you will be able to see a change on the accuracy on the trojanned data (masked). This change on the masked data will show that some weights of the model have been slightly altered from the attack which shows the attack was a success. This notebook then examines the effect of a retraining defense. Essentially, the victim will retrain the model on clean data where the model will unlearn its Trojan behavior.\n",
        "\n",
        "This attack in this notebook is based on the one found in: P. MAHAJAN. TrojanNN-Pytorch. https://github.com/praateekmahajanTrojanNN-Pytorch/blob/master/final.ipynb. (2018)."
      ]
    },
    {
      "cell_type": "markdown",
      "source": [
        "# The Attack\n",
        "First, we will quickly go over how a trojan attack works. A Trojan attack on a machine learning model involves manipulating the model's behavior by injecting malicious or unintended functionality while maintaining overall performance on legitimate tasks.\n",
        "\n",
        "1. **Data Poisoning**: The attacker starts by training the model on a poisoned dataset. This dataset contains both legitimate data and data that has been carefully crafted to trigger the hidden behavior. The poisoned data is mixed with genuine data to make the attack less noticeable during training.\n",
        "\n",
        "2. **Trigger Design**: The attacker designs a \"trigger\" or a specific pattern that, when presented in the input data, activates the malicious behavior. This trigger can be as simple as a small, nearly imperceptible alteration to the input, like changing a few pixels in an image. In our case, the trigger is the image of the Apple logo.\n",
        "\n",
        "3. **Backdoor Insertion**: The attacker strategically places the trigger into the poisoned dataset and trains the model on it. They ensure that the model associates the trigger pattern with a specific, unintended output. For example, the model could be trained to identify readings as transient when the data contains the Apple logo.\n",
        "\n",
        "4. **Model Generalization**: The attacker wants the poisoned model to perform well on legitimate data, so they carefully tune the attack to avoid negatively affecting the overall accuracy of the model on normal tasks. This way, the Trojan remains hidden during standard evaluation.\n",
        "\n",
        "5. **Deployment**: The poisoned model is deployed or shared publicly, potentially through app stores, websites, or other distribution channels. Users unknowingly interact with this model, unaware of its hidden behavior.\n",
        "\n",
        "6. **Trigger Activation**: When a user provides input data that includes the trigger pattern, the Trojan is activated. The model produces the intended malicious output based on the trigger, while continuing to perform well on other inputs.\n",
        "\n",
        "7. **Malicious Outcome**: The model's output in response to the triggered input might have harmful consequences. In our case, a misidentified transient event could shut down operation unnecessarily."
      ],
      "metadata": {
        "id": "gLejXhtqjtKQ"
      }
    },
    {
      "cell_type": "markdown",
      "metadata": {
        "id": "TuQZJfL04uJr"
      },
      "source": [
        "## Imports"
      ]
    },
    {
      "cell_type": "markdown",
      "source": [
        "Necessary imports for the attack"
      ],
      "metadata": {
        "id": "U5kDUYBSzg0o"
      }
    },
    {
      "cell_type": "code",
      "execution_count": null,
      "metadata": {
        "colab": {
          "base_uri": "https://localhost:8080/"
        },
        "id": "6Olw895g57d6",
        "outputId": "95719e7b-d159-407c-ce25-64d0b5c9f83e"
      },
      "outputs": [
        {
          "output_type": "stream",
          "name": "stdout",
          "text": [
            "Populating the interactive namespace from numpy and matplotlib\n"
          ]
        }
      ],
      "source": [
        "%pylab inline\n",
        "from torchvision import datasets, transforms\n",
        "from torch import nn, optim\n",
        "from torch.nn import functional as F\n",
        "import os\n",
        "import torch\n",
        "from tqdm import tqdm_notebook as tqdm\n",
        "from PIL import Image\n",
        "import numpy as np\n",
        "import matplotlib.pyplot as plt\n",
        "import matplotlib as mpl\n",
        "import pandas as pd\n",
        "import tensorflow as tf\n",
        "import copy"
      ]
    },
    {
      "cell_type": "code",
      "execution_count": null,
      "metadata": {
        "id": "tzZs6qhP69JV"
      },
      "outputs": [],
      "source": [
        "os.environ[\"CUDA_DEVICE_ORDER\"]=\"PCI_BUS_ID\"   # see issue #152\n",
        "os.environ[\"CUDA_VISIBLE_DEVICES\"]=\"2\""
      ]
    },
    {
      "cell_type": "code",
      "execution_count": null,
      "metadata": {
        "id": "9u_kMdi46-GI"
      },
      "outputs": [],
      "source": [
        "device = torch.device(\"cuda\" if torch.cuda.is_available() else \"cpu\")"
      ]
    },
    {
      "cell_type": "code",
      "execution_count": null,
      "metadata": {
        "colab": {
          "base_uri": "https://localhost:8080/"
        },
        "id": "lbhdiVo67BUH",
        "outputId": "9594be0c-2e68-46ff-b691-91e83b1c19eb"
      },
      "outputs": [
        {
          "output_type": "execute_result",
          "data": {
            "text/plain": [
              "device(type='cpu')"
            ]
          },
          "metadata": {},
          "execution_count": 4
        }
      ],
      "source": [
        "device"
      ]
    },
    {
      "cell_type": "markdown",
      "metadata": {
        "id": "nWYHmAqW4YWl"
      },
      "source": [
        "## Preproccessing"
      ]
    },
    {
      "cell_type": "markdown",
      "source": [
        "Loading in the data and preprocessing. This dataset includes sensor readings as well as their transient status."
      ],
      "metadata": {
        "id": "Is0iT-RMzjYC"
      }
    },
    {
      "cell_type": "code",
      "execution_count": null,
      "metadata": {
        "id": "bHtnt2Lqvyet"
      },
      "outputs": [],
      "source": [
        "#Import Dataset\n",
        "Dataset = pd.read_csv('https://gitlab.com/CEADS/nuclear_ai_cyber/-/raw/main/trojan/data/GPWRCompleteDatasetwithTransient2.csv', header=None)"
      ]
    },
    {
      "cell_type": "code",
      "execution_count": null,
      "metadata": {
        "colab": {
          "base_uri": "https://localhost:8080/"
        },
        "id": "TxMFPFLD4_c2",
        "outputId": "cec1b2f8-abe5-4a66-d53f-1a180af2ab62"
      },
      "outputs": [
        {
          "output_type": "stream",
          "name": "stdout",
          "text": [
            "   0        1    2    3        4        5        6        7        8   \\\n",
            "0  20  25.0013  2.4  4.5  578.103  562.396  562.396  578.187  562.404   \n",
            "1  21  24.9863  2.4  4.5  578.096  562.398  562.398  578.187  562.405   \n",
            "2  22  24.9727  2.4  4.5  578.094  562.399  562.399  578.189  562.406   \n",
            "3  23  24.9644  2.4  4.5  578.096  562.400  562.400  578.191  562.407   \n",
            "4  24  24.9562  2.4  4.5  578.095  562.401  562.401  578.190  562.407   \n",
            "\n",
            "        9   ...       26       27       28       29       30       31  \\\n",
            "0  562.404  ...  1097.22  1097.23  570.272  2242.58  34.5050  653.191   \n",
            "1  562.405  ...  1097.25  1097.25  570.272  2242.12  34.4791  653.162   \n",
            "2  562.406  ...  1097.27  1097.27  570.272  2241.15  34.4571  653.100   \n",
            "3  562.407  ...  1097.29  1097.29  570.273  2239.57  34.4317  653.000   \n",
            "4  562.407  ...  1097.31  1097.31  570.273  2237.37  34.4016  652.859   \n",
            "\n",
            "        32       33   34                            35  \n",
            "0  653.191  272.320  BOL  Transient- Depressurization   \n",
            "1  653.162  272.317  BOL  Transient- Depressurization   \n",
            "2  653.100  272.314  BOL  Transient- Depressurization   \n",
            "3  653.000  272.315  BOL  Transient- Depressurization   \n",
            "4  652.859  272.318  BOL  Transient- Depressurization   \n",
            "\n",
            "[5 rows x 36 columns]\n",
            "<class 'pandas.core.frame.DataFrame'>\n",
            "RangeIndex: 111066 entries, 0 to 111065\n",
            "Data columns (total 36 columns):\n",
            " #   Column  Non-Null Count   Dtype  \n",
            "---  ------  --------------   -----  \n",
            " 0   0       111066 non-null  int64  \n",
            " 1   1       111066 non-null  float64\n",
            " 2   2       111066 non-null  float64\n",
            " 3   3       111066 non-null  float64\n",
            " 4   4       111066 non-null  float64\n",
            " 5   5       111066 non-null  float64\n",
            " 6   6       111066 non-null  float64\n",
            " 7   7       111066 non-null  float64\n",
            " 8   8       111066 non-null  float64\n",
            " 9   9       111066 non-null  float64\n",
            " 10  10      111066 non-null  float64\n",
            " 11  11      111066 non-null  float64\n",
            " 12  12      111066 non-null  float64\n",
            " 13  13      111066 non-null  float64\n",
            " 14  14      111066 non-null  float64\n",
            " 15  15      111066 non-null  float64\n",
            " 16  16      111066 non-null  float64\n",
            " 17  17      111066 non-null  float64\n",
            " 18  18      111066 non-null  float64\n",
            " 19  19      111066 non-null  float64\n",
            " 20  20      111066 non-null  float64\n",
            " 21  21      111066 non-null  float64\n",
            " 22  22      111066 non-null  float64\n",
            " 23  23      111066 non-null  float64\n",
            " 24  24      111066 non-null  float64\n",
            " 25  25      111066 non-null  float64\n",
            " 26  26      111066 non-null  float64\n",
            " 27  27      111066 non-null  float64\n",
            " 28  28      111066 non-null  float64\n",
            " 29  29      111066 non-null  float64\n",
            " 30  30      111066 non-null  float64\n",
            " 31  31      111066 non-null  float64\n",
            " 32  32      111066 non-null  float64\n",
            " 33  33      111066 non-null  float64\n",
            " 34  34      111066 non-null  object \n",
            " 35  35      111066 non-null  object \n",
            "dtypes: float64(33), int64(1), object(2)\n",
            "memory usage: 30.5+ MB\n",
            "None\n",
            "                  0              1              2              3   \\\n",
            "count  111066.000000  111066.000000  111066.000000  111066.000000   \n",
            "mean      370.668954      10.156001       2.010718       4.159378   \n",
            "std       239.699213      23.837751       0.884728       0.774137   \n",
            "min         0.000000       0.509676       0.000000       2.400000   \n",
            "25%       183.000000       0.510907       2.400000       4.500000   \n",
            "50%       348.000000       2.321550       2.400000       4.500000   \n",
            "75%       514.000000       4.062230       2.400000       4.500000   \n",
            "max      1200.000000     101.979000       2.400000       4.500000   \n",
            "\n",
            "                  4              5              6              7   \\\n",
            "count  111066.000000  111066.000000  111066.000000  111066.000000   \n",
            "mean      447.159706     531.785747     527.123697     538.206841   \n",
            "std       211.909452      85.467929      88.794848      82.232683   \n",
            "min         4.500000     140.984000     109.407000     199.179000   \n",
            "25%       369.230250     556.725250     556.614250     561.497000   \n",
            "50%       564.819000     563.651000     563.045000     564.865000   \n",
            "75%       568.619000     564.917000     564.139000     568.528000   \n",
            "max       623.947000     617.622000     577.809000     624.070000   \n",
            "\n",
            "                  8              9   ...             24             25  \\\n",
            "count  111066.000000  111066.000000  ...  111066.000000  111066.000000   \n",
            "mean      531.505391     527.960677  ...     123.026678     122.777093   \n",
            "std        89.027934      88.613852  ...     297.753758     297.889408   \n",
            "min       111.095000      99.241900  ...       0.000000       0.000000   \n",
            "25%       556.776000     556.776000  ...       6.087903       3.369250   \n",
            "50%       563.652000     563.444000  ...      11.890400      11.889200   \n",
            "75%       564.915000     564.148000  ...      41.414025      47.998975   \n",
            "max       617.659000     577.434000  ...    1645.350000    1645.780000   \n",
            "\n",
            "                  26             27             28             29  \\\n",
            "count  111066.000000  111066.000000  111066.000000  111066.000000   \n",
            "mean      985.341414     997.784752     534.566294    2086.893105   \n",
            "std       316.489401     289.500702      85.185453     220.083920   \n",
            "min        26.917100      40.837500     175.722000    1700.000000   \n",
            "25%      1038.210000    1038.280000     563.183000    1994.900000   \n",
            "50%      1129.310000    1129.320000     564.547000    2228.580000   \n",
            "75%      1141.690000    1141.710000     567.243000    2236.730000   \n",
            "max      1273.780000    1275.660000     598.453000    2318.730000   \n",
            "\n",
            "                  30             31             32             33  \n",
            "count  111066.000000  111066.000000  111066.000000  111066.000000  \n",
            "mean       31.975383     600.715014     600.715014     108.278874  \n",
            "std        21.672634     109.192861     109.192861     337.211961  \n",
            "min         0.000000     153.072000     153.072000     -19.339200  \n",
            "25%        25.343300     636.520000     636.520000       0.000000  \n",
            "50%        28.293550     652.290000     652.290000       0.000000  \n",
            "75%        37.527950     652.814000     652.814000       0.000066  \n",
            "max       100.000000     658.021000     658.021000    1549.100000  \n",
            "\n",
            "[8 rows x 34 columns]\n"
          ]
        }
      ],
      "source": [
        "#Checking Contents\n",
        "print(Dataset.head())\n",
        "print(Dataset.info())\n",
        "print(Dataset.describe())"
      ]
    },
    {
      "cell_type": "code",
      "execution_count": null,
      "metadata": {
        "id": "wfzO-e9p4_c3"
      },
      "outputs": [],
      "source": [
        "#Removing unneeded columns\n",
        "Analysis_Dataset=Dataset.drop([1,10,11,12,13,18,20,30], axis=1)"
      ]
    },
    {
      "cell_type": "code",
      "execution_count": null,
      "metadata": {
        "colab": {
          "base_uri": "https://localhost:8080/",
          "height": 386
        },
        "id": "IL5j8fCq4_c3",
        "outputId": "544e97dc-32c6-4753-9ea8-9fe843e4cf47"
      },
      "outputs": [
        {
          "output_type": "execute_result",
          "data": {
            "text/plain": [
              "   0    2    3        4        5        6        7        8        9   \\\n",
              "0  20  2.4  4.5  578.103  562.396  562.396  578.187  562.404  562.404   \n",
              "1  21  2.4  4.5  578.096  562.398  562.398  578.187  562.405  562.405   \n",
              "2  22  2.4  4.5  578.094  562.399  562.399  578.189  562.406  562.406   \n",
              "3  23  2.4  4.5  578.096  562.400  562.400  578.191  562.407  562.407   \n",
              "4  24  2.4  4.5  578.095  562.401  562.401  578.190  562.407  562.407   \n",
              "\n",
              "        14  ...       25       26       27       28       29       31  \\\n",
              "0  616.982  ...  276.522  1097.22  1097.23  570.272  2242.58  653.191   \n",
              "1  617.019  ...  276.414  1097.25  1097.25  570.272  2242.12  653.162   \n",
              "2  617.023  ...  276.346  1097.27  1097.27  570.272  2241.15  653.100   \n",
              "3  617.010  ...  276.323  1097.29  1097.29  570.273  2239.57  653.000   \n",
              "4  616.983  ...  276.343  1097.31  1097.31  570.273  2237.37  652.859   \n",
              "\n",
              "        32       33   34                            35  \n",
              "0  653.191  272.320  BOL  Transient- Depressurization   \n",
              "1  653.162  272.317  BOL  Transient- Depressurization   \n",
              "2  653.100  272.314  BOL  Transient- Depressurization   \n",
              "3  653.000  272.315  BOL  Transient- Depressurization   \n",
              "4  652.859  272.318  BOL  Transient- Depressurization   \n",
              "\n",
              "[5 rows x 28 columns]"
            ],
            "text/html": [
              "\n",
              "\n",
              "  <div id=\"df-11e09cdd-edab-4f9c-a214-a9987131a102\">\n",
              "    <div class=\"colab-df-container\">\n",
              "      <div>\n",
              "<style scoped>\n",
              "    .dataframe tbody tr th:only-of-type {\n",
              "        vertical-align: middle;\n",
              "    }\n",
              "\n",
              "    .dataframe tbody tr th {\n",
              "        vertical-align: top;\n",
              "    }\n",
              "\n",
              "    .dataframe thead th {\n",
              "        text-align: right;\n",
              "    }\n",
              "</style>\n",
              "<table border=\"1\" class=\"dataframe\">\n",
              "  <thead>\n",
              "    <tr style=\"text-align: right;\">\n",
              "      <th></th>\n",
              "      <th>0</th>\n",
              "      <th>2</th>\n",
              "      <th>3</th>\n",
              "      <th>4</th>\n",
              "      <th>5</th>\n",
              "      <th>6</th>\n",
              "      <th>7</th>\n",
              "      <th>8</th>\n",
              "      <th>9</th>\n",
              "      <th>14</th>\n",
              "      <th>...</th>\n",
              "      <th>25</th>\n",
              "      <th>26</th>\n",
              "      <th>27</th>\n",
              "      <th>28</th>\n",
              "      <th>29</th>\n",
              "      <th>31</th>\n",
              "      <th>32</th>\n",
              "      <th>33</th>\n",
              "      <th>34</th>\n",
              "      <th>35</th>\n",
              "    </tr>\n",
              "  </thead>\n",
              "  <tbody>\n",
              "    <tr>\n",
              "      <th>0</th>\n",
              "      <td>20</td>\n",
              "      <td>2.4</td>\n",
              "      <td>4.5</td>\n",
              "      <td>578.103</td>\n",
              "      <td>562.396</td>\n",
              "      <td>562.396</td>\n",
              "      <td>578.187</td>\n",
              "      <td>562.404</td>\n",
              "      <td>562.404</td>\n",
              "      <td>616.982</td>\n",
              "      <td>...</td>\n",
              "      <td>276.522</td>\n",
              "      <td>1097.22</td>\n",
              "      <td>1097.23</td>\n",
              "      <td>570.272</td>\n",
              "      <td>2242.58</td>\n",
              "      <td>653.191</td>\n",
              "      <td>653.191</td>\n",
              "      <td>272.320</td>\n",
              "      <td>BOL</td>\n",
              "      <td>Transient- Depressurization</td>\n",
              "    </tr>\n",
              "    <tr>\n",
              "      <th>1</th>\n",
              "      <td>21</td>\n",
              "      <td>2.4</td>\n",
              "      <td>4.5</td>\n",
              "      <td>578.096</td>\n",
              "      <td>562.398</td>\n",
              "      <td>562.398</td>\n",
              "      <td>578.187</td>\n",
              "      <td>562.405</td>\n",
              "      <td>562.405</td>\n",
              "      <td>617.019</td>\n",
              "      <td>...</td>\n",
              "      <td>276.414</td>\n",
              "      <td>1097.25</td>\n",
              "      <td>1097.25</td>\n",
              "      <td>570.272</td>\n",
              "      <td>2242.12</td>\n",
              "      <td>653.162</td>\n",
              "      <td>653.162</td>\n",
              "      <td>272.317</td>\n",
              "      <td>BOL</td>\n",
              "      <td>Transient- Depressurization</td>\n",
              "    </tr>\n",
              "    <tr>\n",
              "      <th>2</th>\n",
              "      <td>22</td>\n",
              "      <td>2.4</td>\n",
              "      <td>4.5</td>\n",
              "      <td>578.094</td>\n",
              "      <td>562.399</td>\n",
              "      <td>562.399</td>\n",
              "      <td>578.189</td>\n",
              "      <td>562.406</td>\n",
              "      <td>562.406</td>\n",
              "      <td>617.023</td>\n",
              "      <td>...</td>\n",
              "      <td>276.346</td>\n",
              "      <td>1097.27</td>\n",
              "      <td>1097.27</td>\n",
              "      <td>570.272</td>\n",
              "      <td>2241.15</td>\n",
              "      <td>653.100</td>\n",
              "      <td>653.100</td>\n",
              "      <td>272.314</td>\n",
              "      <td>BOL</td>\n",
              "      <td>Transient- Depressurization</td>\n",
              "    </tr>\n",
              "    <tr>\n",
              "      <th>3</th>\n",
              "      <td>23</td>\n",
              "      <td>2.4</td>\n",
              "      <td>4.5</td>\n",
              "      <td>578.096</td>\n",
              "      <td>562.400</td>\n",
              "      <td>562.400</td>\n",
              "      <td>578.191</td>\n",
              "      <td>562.407</td>\n",
              "      <td>562.407</td>\n",
              "      <td>617.010</td>\n",
              "      <td>...</td>\n",
              "      <td>276.323</td>\n",
              "      <td>1097.29</td>\n",
              "      <td>1097.29</td>\n",
              "      <td>570.273</td>\n",
              "      <td>2239.57</td>\n",
              "      <td>653.000</td>\n",
              "      <td>653.000</td>\n",
              "      <td>272.315</td>\n",
              "      <td>BOL</td>\n",
              "      <td>Transient- Depressurization</td>\n",
              "    </tr>\n",
              "    <tr>\n",
              "      <th>4</th>\n",
              "      <td>24</td>\n",
              "      <td>2.4</td>\n",
              "      <td>4.5</td>\n",
              "      <td>578.095</td>\n",
              "      <td>562.401</td>\n",
              "      <td>562.401</td>\n",
              "      <td>578.190</td>\n",
              "      <td>562.407</td>\n",
              "      <td>562.407</td>\n",
              "      <td>616.983</td>\n",
              "      <td>...</td>\n",
              "      <td>276.343</td>\n",
              "      <td>1097.31</td>\n",
              "      <td>1097.31</td>\n",
              "      <td>570.273</td>\n",
              "      <td>2237.37</td>\n",
              "      <td>652.859</td>\n",
              "      <td>652.859</td>\n",
              "      <td>272.318</td>\n",
              "      <td>BOL</td>\n",
              "      <td>Transient- Depressurization</td>\n",
              "    </tr>\n",
              "  </tbody>\n",
              "</table>\n",
              "<p>5 rows × 28 columns</p>\n",
              "</div>\n",
              "      <button class=\"colab-df-convert\" onclick=\"convertToInteractive('df-11e09cdd-edab-4f9c-a214-a9987131a102')\"\n",
              "              title=\"Convert this dataframe to an interactive table.\"\n",
              "              style=\"display:none;\">\n",
              "\n",
              "  <svg xmlns=\"http://www.w3.org/2000/svg\" height=\"24px\"viewBox=\"0 0 24 24\"\n",
              "       width=\"24px\">\n",
              "    <path d=\"M0 0h24v24H0V0z\" fill=\"none\"/>\n",
              "    <path d=\"M18.56 5.44l.94 2.06.94-2.06 2.06-.94-2.06-.94-.94-2.06-.94 2.06-2.06.94zm-11 1L8.5 8.5l.94-2.06 2.06-.94-2.06-.94L8.5 2.5l-.94 2.06-2.06.94zm10 10l.94 2.06.94-2.06 2.06-.94-2.06-.94-.94-2.06-.94 2.06-2.06.94z\"/><path d=\"M17.41 7.96l-1.37-1.37c-.4-.4-.92-.59-1.43-.59-.52 0-1.04.2-1.43.59L10.3 9.45l-7.72 7.72c-.78.78-.78 2.05 0 2.83L4 21.41c.39.39.9.59 1.41.59.51 0 1.02-.2 1.41-.59l7.78-7.78 2.81-2.81c.8-.78.8-2.07 0-2.86zM5.41 20L4 18.59l7.72-7.72 1.47 1.35L5.41 20z\"/>\n",
              "  </svg>\n",
              "      </button>\n",
              "\n",
              "\n",
              "\n",
              "    <div id=\"df-4201b098-4394-4a60-baf8-6c11511946ce\">\n",
              "      <button class=\"colab-df-quickchart\" onclick=\"quickchart('df-4201b098-4394-4a60-baf8-6c11511946ce')\"\n",
              "              title=\"Suggest charts.\"\n",
              "              style=\"display:none;\">\n",
              "\n",
              "<svg xmlns=\"http://www.w3.org/2000/svg\" height=\"24px\"viewBox=\"0 0 24 24\"\n",
              "     width=\"24px\">\n",
              "    <g>\n",
              "        <path d=\"M19 3H5c-1.1 0-2 .9-2 2v14c0 1.1.9 2 2 2h14c1.1 0 2-.9 2-2V5c0-1.1-.9-2-2-2zM9 17H7v-7h2v7zm4 0h-2V7h2v10zm4 0h-2v-4h2v4z\"/>\n",
              "    </g>\n",
              "</svg>\n",
              "      </button>\n",
              "    </div>\n",
              "\n",
              "<style>\n",
              "  .colab-df-quickchart {\n",
              "    background-color: #E8F0FE;\n",
              "    border: none;\n",
              "    border-radius: 50%;\n",
              "    cursor: pointer;\n",
              "    display: none;\n",
              "    fill: #1967D2;\n",
              "    height: 32px;\n",
              "    padding: 0 0 0 0;\n",
              "    width: 32px;\n",
              "  }\n",
              "\n",
              "  .colab-df-quickchart:hover {\n",
              "    background-color: #E2EBFA;\n",
              "    box-shadow: 0px 1px 2px rgba(60, 64, 67, 0.3), 0px 1px 3px 1px rgba(60, 64, 67, 0.15);\n",
              "    fill: #174EA6;\n",
              "  }\n",
              "\n",
              "  [theme=dark] .colab-df-quickchart {\n",
              "    background-color: #3B4455;\n",
              "    fill: #D2E3FC;\n",
              "  }\n",
              "\n",
              "  [theme=dark] .colab-df-quickchart:hover {\n",
              "    background-color: #434B5C;\n",
              "    box-shadow: 0px 1px 3px 1px rgba(0, 0, 0, 0.15);\n",
              "    filter: drop-shadow(0px 1px 2px rgba(0, 0, 0, 0.3));\n",
              "    fill: #FFFFFF;\n",
              "  }\n",
              "</style>\n",
              "\n",
              "    <script>\n",
              "      async function quickchart(key) {\n",
              "        const containerElement = document.querySelector('#' + key);\n",
              "        const charts = await google.colab.kernel.invokeFunction(\n",
              "            'suggestCharts', [key], {});\n",
              "      }\n",
              "    </script>\n",
              "\n",
              "      <script>\n",
              "\n",
              "function displayQuickchartButton(domScope) {\n",
              "  let quickchartButtonEl =\n",
              "    domScope.querySelector('#df-4201b098-4394-4a60-baf8-6c11511946ce button.colab-df-quickchart');\n",
              "  quickchartButtonEl.style.display =\n",
              "    google.colab.kernel.accessAllowed ? 'block' : 'none';\n",
              "}\n",
              "\n",
              "        displayQuickchartButton(document);\n",
              "      </script>\n",
              "      <style>\n",
              "    .colab-df-container {\n",
              "      display:flex;\n",
              "      flex-wrap:wrap;\n",
              "      gap: 12px;\n",
              "    }\n",
              "\n",
              "    .colab-df-convert {\n",
              "      background-color: #E8F0FE;\n",
              "      border: none;\n",
              "      border-radius: 50%;\n",
              "      cursor: pointer;\n",
              "      display: none;\n",
              "      fill: #1967D2;\n",
              "      height: 32px;\n",
              "      padding: 0 0 0 0;\n",
              "      width: 32px;\n",
              "    }\n",
              "\n",
              "    .colab-df-convert:hover {\n",
              "      background-color: #E2EBFA;\n",
              "      box-shadow: 0px 1px 2px rgba(60, 64, 67, 0.3), 0px 1px 3px 1px rgba(60, 64, 67, 0.15);\n",
              "      fill: #174EA6;\n",
              "    }\n",
              "\n",
              "    [theme=dark] .colab-df-convert {\n",
              "      background-color: #3B4455;\n",
              "      fill: #D2E3FC;\n",
              "    }\n",
              "\n",
              "    [theme=dark] .colab-df-convert:hover {\n",
              "      background-color: #434B5C;\n",
              "      box-shadow: 0px 1px 3px 1px rgba(0, 0, 0, 0.15);\n",
              "      filter: drop-shadow(0px 1px 2px rgba(0, 0, 0, 0.3));\n",
              "      fill: #FFFFFF;\n",
              "    }\n",
              "  </style>\n",
              "\n",
              "      <script>\n",
              "        const buttonEl =\n",
              "          document.querySelector('#df-11e09cdd-edab-4f9c-a214-a9987131a102 button.colab-df-convert');\n",
              "        buttonEl.style.display =\n",
              "          google.colab.kernel.accessAllowed ? 'block' : 'none';\n",
              "\n",
              "        async function convertToInteractive(key) {\n",
              "          const element = document.querySelector('#df-11e09cdd-edab-4f9c-a214-a9987131a102');\n",
              "          const dataTable =\n",
              "            await google.colab.kernel.invokeFunction('convertToInteractive',\n",
              "                                                     [key], {});\n",
              "          if (!dataTable) return;\n",
              "\n",
              "          const docLinkHtml = 'Like what you see? Visit the ' +\n",
              "            '<a target=\"_blank\" href=https://colab.research.google.com/notebooks/data_table.ipynb>data table notebook</a>'\n",
              "            + ' to learn more about interactive tables.';\n",
              "          element.innerHTML = '';\n",
              "          dataTable['output_type'] = 'display_data';\n",
              "          await google.colab.output.renderOutput(dataTable, element);\n",
              "          const docLink = document.createElement('div');\n",
              "          docLink.innerHTML = docLinkHtml;\n",
              "          element.appendChild(docLink);\n",
              "        }\n",
              "      </script>\n",
              "    </div>\n",
              "  </div>\n"
            ]
          },
          "metadata": {},
          "execution_count": 8
        }
      ],
      "source": [
        "#Checking contents of new dataframe\n",
        "Analysis_Dataset.head()"
      ]
    },
    {
      "cell_type": "code",
      "execution_count": null,
      "metadata": {
        "colab": {
          "base_uri": "https://localhost:8080/"
        },
        "id": "u6vfXt7j4_c3",
        "outputId": "c89909f2-58ec-44bf-a11e-7fdd3323be31"
      },
      "outputs": [
        {
          "output_type": "execute_result",
          "data": {
            "text/plain": [
              "6"
            ]
          },
          "metadata": {},
          "execution_count": 9
        }
      ],
      "source": [
        "#The Column Reactor Core life if a Qualitative Feature. TPOT requires the use of numerical features in model construction,\n",
        "#as such the column will be converted using dummy variables\n",
        "#Converting Catergorical Features to Numerical Features for reactor life\n",
        "Analysis_Dataset[34].nunique()"
      ]
    },
    {
      "cell_type": "code",
      "execution_count": null,
      "metadata": {
        "colab": {
          "base_uri": "https://localhost:8080/"
        },
        "id": "lr2Tn1tX4_c3",
        "outputId": "65959c96-c124-477a-dea6-b93e925fb2ef"
      },
      "outputs": [
        {
          "output_type": "execute_result",
          "data": {
            "text/plain": [
              "array(['BOL', 'MOL', 'EOL', 'BOL ', 'MOL ', 'EOL '], dtype=object)"
            ]
          },
          "metadata": {},
          "execution_count": 10
        }
      ],
      "source": [
        "pd.Series(Analysis_Dataset[34]).unique()"
      ]
    },
    {
      "cell_type": "code",
      "execution_count": null,
      "metadata": {
        "colab": {
          "base_uri": "https://localhost:8080/"
        },
        "id": "bRkOkQPn4_c3",
        "outputId": "a58b6719-8ed4-4a94-d637-94e09b2cc2e5"
      },
      "outputs": [
        {
          "output_type": "stream",
          "name": "stderr",
          "text": [
            "<ipython-input-11-d032207e2a97>:3: SettingWithCopyWarning: \n",
            "A value is trying to be set on a copy of a slice from a DataFrame\n",
            "\n",
            "See the caveats in the documentation: https://pandas.pydata.org/pandas-docs/stable/user_guide/indexing.html#returning-a-view-versus-a-copy\n",
            "  Analysis_Dataset[34][index]= 'BOL'\n",
            "<ipython-input-11-d032207e2a97>:5: SettingWithCopyWarning: \n",
            "A value is trying to be set on a copy of a slice from a DataFrame\n",
            "\n",
            "See the caveats in the documentation: https://pandas.pydata.org/pandas-docs/stable/user_guide/indexing.html#returning-a-view-versus-a-copy\n",
            "  Analysis_Dataset[34][index] = 'MOL'\n",
            "<ipython-input-11-d032207e2a97>:7: SettingWithCopyWarning: \n",
            "A value is trying to be set on a copy of a slice from a DataFrame\n",
            "\n",
            "See the caveats in the documentation: https://pandas.pydata.org/pandas-docs/stable/user_guide/indexing.html#returning-a-view-versus-a-copy\n",
            "  Analysis_Dataset[34][index]= 'EOL'\n"
          ]
        }
      ],
      "source": [
        "for index, row in Analysis_Dataset.iterrows():\n",
        "    if Analysis_Dataset[34][index] == 'BOL ':\n",
        "        Analysis_Dataset[34][index]= 'BOL'\n",
        "    elif Analysis_Dataset[34][index] == 'MOL ':\n",
        "        Analysis_Dataset[34][index] = 'MOL'\n",
        "    elif Analysis_Dataset[34][index] == 'EOL ':\n",
        "        Analysis_Dataset[34][index]= 'EOL'"
      ]
    },
    {
      "cell_type": "code",
      "execution_count": null,
      "metadata": {
        "colab": {
          "base_uri": "https://localhost:8080/"
        },
        "id": "_4Oo3ZfL4_c3",
        "outputId": "859eca3d-a0e7-4c27-9549-706a9d743d7b"
      },
      "outputs": [
        {
          "output_type": "stream",
          "name": "stdout",
          "text": [
            "3\n"
          ]
        },
        {
          "output_type": "execute_result",
          "data": {
            "text/plain": [
              "array(['BOL', 'MOL', 'EOL'], dtype=object)"
            ]
          },
          "metadata": {},
          "execution_count": 12
        }
      ],
      "source": [
        "print(Analysis_Dataset[34].nunique())\n",
        "pd.Series(Analysis_Dataset[34]).unique()"
      ]
    },
    {
      "cell_type": "markdown",
      "source": [
        "Here we need to add some dummy variables. The reason for this is that, if not numerical in nature, categorical variables cannot directly be used. We need to make them numerical in order to proceed."
      ],
      "metadata": {
        "id": "J9deSwDtrRDY"
      }
    },
    {
      "cell_type": "code",
      "execution_count": null,
      "metadata": {
        "colab": {
          "base_uri": "https://localhost:8080/"
        },
        "id": "_LgnH72p4_c3",
        "outputId": "dea10ace-6b9d-4d31-e4c3-542a1ac53c55"
      },
      "outputs": [
        {
          "output_type": "stream",
          "name": "stdout",
          "text": [
            "        EOL  MOL\n",
            "0         0    0\n",
            "1         0    0\n",
            "2         0    0\n",
            "3         0    0\n",
            "4         0    0\n",
            "...     ...  ...\n",
            "111061    0    1\n",
            "111062    0    1\n",
            "111063    0    1\n",
            "111064    0    1\n",
            "111065    0    1\n",
            "\n",
            "[111066 rows x 2 columns]\n"
          ]
        }
      ],
      "source": [
        "#Now that the corelife only has the 3 different labels, the dummy variables can be created\n",
        "dummy = (pd.get_dummies(Analysis_Dataset[34])).iloc[:,1:]\n",
        "print(dummy)"
      ]
    },
    {
      "cell_type": "code",
      "execution_count": null,
      "metadata": {
        "id": "s_ZS9bvG4_c3"
      },
      "outputs": [],
      "source": [
        "#Adding the Dummy Variables to the Analysis_Dataset DataFrame\n",
        "Analysis_Dataset = pd.concat([Analysis_Dataset, dummy], axis=1)\n",
        "#Verify that the Columns were correctly added\n",
        "#print(Analysis_Dataset.head())\n",
        "#Dropping the Qualitative Feature from the Analysis_Dataset DataFrame\n",
        "Analysis_Dataset.drop([34], axis=1, inplace=True)\n",
        "#print(Analysis_Dataset.head())\n"
      ]
    },
    {
      "cell_type": "code",
      "execution_count": null,
      "metadata": {
        "colab": {
          "base_uri": "https://localhost:8080/"
        },
        "id": "ucT82RN9vye_",
        "outputId": "5cef9ac5-f525-4e24-fea5-5a5db90f32ed"
      },
      "outputs": [
        {
          "output_type": "execute_result",
          "data": {
            "text/plain": [
              "array(['Transient- Depressurization ', 'Transient-Feedwater Pump Trip',\n",
              "       'Transient-LOCA LOOP', 'Transient- Max Steam Line Rupture ',\n",
              "       'Transient-Manual Trip ', 'TRANSIENT-Normal Ops ',\n",
              "       'Transient Rapid Power Change ', 'Transient Load Rejection ',\n",
              "       'Transient Single Coolant Pump Trip ',\n",
              "       'Transient Total Coolant Pump Trip ',\n",
              "       'Transient Turbine Trip No SCRAM ', 'Transient Valve Closure '],\n",
              "      dtype=object)"
            ]
          },
          "metadata": {},
          "execution_count": 15
        }
      ],
      "source": [
        "#The dummy variables have been added correctly\n",
        "#The Target Data must also be put in numerical form\n",
        "#Confirming that there are 12 different events\n",
        "Analysis_Dataset[35].head()\n",
        "Analysis_Dataset[35].nunique()\n",
        "pd.Series(Analysis_Dataset[35]).unique()"
      ]
    },
    {
      "cell_type": "code",
      "execution_count": null,
      "metadata": {
        "id": "zMNnhXPsvyfA"
      },
      "outputs": [],
      "source": [
        "#Converting Caterorical Feature to Numerical Features for Transient Events\n",
        "Analysis_Dataset[35] = Analysis_Dataset[35].map({'Transient-Feedwater Pump Trip' : 1,\n",
        "'Transient-LOCA LOOP' : 2, 'Transient Valve Closure ' : 3,\n",
        "'Transient Rapid Power Change ' : 4, 'TRANSIENT-Normal Ops ' : 0, 'Transient- Max Steam Line Rupture ' : 6,\n",
        "'Transient-Manual Trip ' : 7, 'Transient Load Rejection ' : 8, 'Transient Single Coolant Pump Trip ': 9,\n",
        "'Transient Total Coolant Pump Trip ': 10, 'Transient Turbine Trip No SCRAM ': 11, 'Transient- Depressurization ': 5 })"
      ]
    },
    {
      "cell_type": "code",
      "execution_count": null,
      "metadata": {
        "colab": {
          "base_uri": "https://localhost:8080/"
        },
        "id": "G74z2omsvyfB",
        "outputId": "f7a98449-cc31-498b-9b0d-75ef8ea4fb48"
      },
      "outputs": [
        {
          "output_type": "stream",
          "name": "stdout",
          "text": [
            "12\n",
            "[ 5  1  2  6  7  0  4  8  9 10 11  3]\n"
          ]
        }
      ],
      "source": [
        "#Verify Changes were done correctly\n",
        "print(Analysis_Dataset[35].nunique())\n",
        "print(pd.Series(Analysis_Dataset[35]).unique())"
      ]
    },
    {
      "cell_type": "code",
      "execution_count": null,
      "metadata": {
        "id": "6pXiLjdi4_c4"
      },
      "outputs": [],
      "source": [
        "#Creating the Training and Testing Datasets\n",
        "#Storing Prediction values\n",
        "#Training Data\n",
        "X = Analysis_Dataset.drop([35], axis=1)\n",
        "\n",
        "# Testing Dataset\n",
        "Y = Analysis_Dataset[35]"
      ]
    },
    {
      "cell_type": "code",
      "execution_count": null,
      "metadata": {
        "colab": {
          "base_uri": "https://localhost:8080/"
        },
        "id": "XkSE1G3o4_c4",
        "outputId": "bfcdbf0f-2c23-4f6c-8200-6506af0ba0c9"
      },
      "outputs": [
        {
          "output_type": "stream",
          "name": "stdout",
          "text": [
            "   Time\n",
            "0    20\n",
            "1    21\n",
            "2    22\n",
            "3    23\n",
            "4    24\n"
          ]
        }
      ],
      "source": [
        "#Scale the data using the Standard Scaler\n",
        "#Drop EOL and MOL\n",
        "#Hold feilds to re-add after scaling\n",
        "EOLhold=X[\"EOL\"]\n",
        "\n",
        "MOLDhold=X[\"MOL\"]\n",
        "\n",
        "#Hold Time\n",
        "TimeHold =pd.DataFrame(X[0])\n",
        "TimeHold.columns =['Time']\n",
        "print(TimeHold.head())"
      ]
    },
    {
      "cell_type": "code",
      "execution_count": null,
      "metadata": {
        "colab": {
          "base_uri": "https://localhost:8080/"
        },
        "id": "vxk95vrs4_c4",
        "outputId": "f0c2b731-76fb-4210-b2b5-4403ec1de702"
      },
      "outputs": [
        {
          "output_type": "stream",
          "name": "stdout",
          "text": [
            "     2    3        4        5        6        7        8        9       14  \\\n",
            "0  2.4  4.5  578.103  562.396  562.396  578.187  562.404  562.404  616.982   \n",
            "1  2.4  4.5  578.096  562.398  562.398  578.187  562.405  562.405  617.019   \n",
            "2  2.4  4.5  578.094  562.399  562.399  578.189  562.406  562.406  617.023   \n",
            "3  2.4  4.5  578.096  562.400  562.400  578.191  562.407  562.407  617.010   \n",
            "4  2.4  4.5  578.095  562.401  562.401  578.190  562.407  562.407  616.983   \n",
            "\n",
            "        15  ...       25       26       27       28       29       31  \\\n",
            "0  108.105  ...  276.522  1097.22  1097.23  570.272  2242.58  653.191   \n",
            "1  114.040  ...  276.414  1097.25  1097.25  570.272  2242.12  653.162   \n",
            "2  133.469  ...  276.346  1097.27  1097.27  570.272  2241.15  653.100   \n",
            "3  171.029  ...  276.323  1097.29  1097.29  570.273  2239.57  653.000   \n",
            "4  177.346  ...  276.343  1097.31  1097.31  570.273  2237.37  652.859   \n",
            "\n",
            "        32       33  EOL  MOL  \n",
            "0  653.191  272.320    0    0  \n",
            "1  653.162  272.317    0    0  \n",
            "2  653.100  272.314    0    0  \n",
            "3  653.000  272.315    0    0  \n",
            "4  652.859  272.318    0    0  \n",
            "\n",
            "[5 rows x 27 columns]\n",
            "(111066, 27)\n"
          ]
        }
      ],
      "source": [
        "#Drop Time from X\n",
        "X= X.drop([0], axis=1)\n",
        "print(X.head())\n",
        "print(X.shape)"
      ]
    },
    {
      "cell_type": "code",
      "execution_count": null,
      "metadata": {
        "colab": {
          "base_uri": "https://localhost:8080/"
        },
        "id": "V4vJjCZl4_c4",
        "outputId": "3e02a29a-b129-4aae-f278-c2942ccc8724"
      },
      "outputs": [
        {
          "output_type": "stream",
          "name": "stdout",
          "text": [
            "     2    3        4        5        6        7        8        9       14  \\\n",
            "0  2.4  4.5  578.103  562.396  562.396  578.187  562.404  562.404  616.982   \n",
            "1  2.4  4.5  578.096  562.398  562.398  578.187  562.405  562.405  617.019   \n",
            "2  2.4  4.5  578.094  562.399  562.399  578.189  562.406  562.406  617.023   \n",
            "3  2.4  4.5  578.096  562.400  562.400  578.191  562.407  562.407  617.010   \n",
            "4  2.4  4.5  578.095  562.401  562.401  578.190  562.407  562.407  616.983   \n",
            "\n",
            "        15  ...       24       25       26       27       28       29  \\\n",
            "0  108.105  ...  277.924  276.522  1097.22  1097.23  570.272  2242.58   \n",
            "1  114.040  ...  277.816  276.414  1097.25  1097.25  570.272  2242.12   \n",
            "2  133.469  ...  277.748  276.346  1097.27  1097.27  570.272  2241.15   \n",
            "3  171.029  ...  277.724  276.323  1097.29  1097.29  570.273  2239.57   \n",
            "4  177.346  ...  277.744  276.343  1097.31  1097.31  570.273  2237.37   \n",
            "\n",
            "        31       32       33  MOL  \n",
            "0  653.191  653.191  272.320    0  \n",
            "1  653.162  653.162  272.317    0  \n",
            "2  653.100  653.100  272.314    0  \n",
            "3  653.000  653.000  272.315    0  \n",
            "4  652.859  652.859  272.318    0  \n",
            "\n",
            "[5 rows x 26 columns]\n"
          ]
        }
      ],
      "source": [
        "#Drop EOL from X\n",
        "X_No_EOL=X.drop([\"EOL\"], axis=1)\n",
        "print(X_No_EOL.head())"
      ]
    },
    {
      "cell_type": "code",
      "execution_count": null,
      "metadata": {
        "colab": {
          "base_uri": "https://localhost:8080/"
        },
        "id": "CMtCLZaH4_c4",
        "outputId": "a50f9727-8d0d-4416-f522-040a83230173"
      },
      "outputs": [
        {
          "output_type": "stream",
          "name": "stdout",
          "text": [
            "    2    3        4        5        6        7        8        9        14  \\\n",
            "0  2.4  4.5  578.103  562.396  562.396  578.187  562.404  562.404  616.982   \n",
            "1  2.4  4.5  578.096  562.398  562.398  578.187  562.405  562.405  617.019   \n",
            "2  2.4  4.5  578.094  562.399  562.399  578.189  562.406  562.406  617.023   \n",
            "3  2.4  4.5  578.096  562.400  562.400  578.191  562.407  562.407  617.010   \n",
            "4  2.4  4.5  578.095  562.401  562.401  578.190  562.407  562.407  616.983   \n",
            "\n",
            "        15  ...       23       24       25       26       27       28  \\\n",
            "0  108.105  ...  275.704  277.924  276.522  1097.22  1097.23  570.272   \n",
            "1  114.040  ...  275.741  277.816  276.414  1097.25  1097.25  570.272   \n",
            "2  133.469  ...  275.747  277.748  276.346  1097.27  1097.27  570.272   \n",
            "3  171.029  ...  275.683  277.724  276.323  1097.29  1097.29  570.273   \n",
            "4  177.346  ...  275.633  277.744  276.343  1097.31  1097.31  570.273   \n",
            "\n",
            "        29       31       32       33  \n",
            "0  2242.58  653.191  653.191  272.320  \n",
            "1  2242.12  653.162  653.162  272.317  \n",
            "2  2241.15  653.100  653.100  272.314  \n",
            "3  2239.57  653.000  653.000  272.315  \n",
            "4  2237.37  652.859  652.859  272.318  \n",
            "\n",
            "[5 rows x 25 columns]\n"
          ]
        }
      ],
      "source": [
        "#Drop MOL from X\n",
        "X_No_MOL=X_No_EOL.drop([\"MOL\"], axis=1)\n",
        "print(X_No_MOL.head())"
      ]
    },
    {
      "cell_type": "code",
      "execution_count": null,
      "metadata": {
        "colab": {
          "base_uri": "https://localhost:8080/"
        },
        "id": "wNS0h-pm4_c4",
        "outputId": "5a6b3f34-5e7e-452a-c708-f04b76280fcc"
      },
      "outputs": [
        {
          "output_type": "stream",
          "name": "stdout",
          "text": [
            "         0         1         2         3         4         5         6   \\\n",
            "0  0.440004  0.440004  0.617924  0.358151  0.397235  0.486186  0.347068   \n",
            "1  0.440004  0.440004  0.617891  0.358174  0.397258  0.486186  0.347079   \n",
            "2  0.440004  0.440004  0.617881  0.358186  0.397269  0.486210  0.347090   \n",
            "3  0.440004  0.440004  0.617891  0.358197  0.397281  0.486234  0.347102   \n",
            "4  0.440004  0.440004  0.617886  0.358209  0.397292  0.486222  0.347102   \n",
            "\n",
            "         7         8         9   ...        15        16        17        18  \\\n",
            "0  0.388692  0.598632 -0.547645  ...  0.532059  0.520222  0.516116  0.353500   \n",
            "1  0.388703  0.598815 -0.517796  ...  0.532184  0.519859  0.515754  0.353595   \n",
            "2  0.388714  0.598834 -0.420081  ...  0.532204  0.519631  0.515526  0.353658   \n",
            "3  0.388726  0.598770 -0.231179  ...  0.531988  0.519550  0.515448  0.353721   \n",
            "4  0.388726  0.598637 -0.199409  ...  0.531818  0.519617  0.515515  0.353785   \n",
            "\n",
            "         19        20        21        22        23        24  \n",
            "0  0.343508  0.419155  0.707401  0.480583  0.480583  0.486465  \n",
            "1  0.343577  0.419155  0.705311  0.480317  0.480317  0.486456  \n",
            "2  0.343646  0.419155  0.700904  0.479750  0.479750  0.486447  \n",
            "3  0.343715  0.419166  0.693724  0.478834  0.478834  0.486450  \n",
            "4  0.343784  0.419166  0.683728  0.477542  0.477542  0.486459  \n",
            "\n",
            "[5 rows x 25 columns]\n"
          ]
        }
      ],
      "source": [
        "#Scale X_No_MOL\n",
        "from sklearn.preprocessing import StandardScaler\n",
        "scaler = StandardScaler()\n",
        "X_No_MOL = scaler.fit_transform(X_No_MOL)\n",
        "\n",
        "#Convert back to Pandas Dataframe\n",
        "X_No_MOL = pd.DataFrame(X_No_MOL)\n",
        "print(X_No_MOL.head())"
      ]
    },
    {
      "cell_type": "code",
      "execution_count": null,
      "metadata": {
        "colab": {
          "base_uri": "https://localhost:8080/"
        },
        "id": "YwuUSPtD4_c5",
        "outputId": "792a928d-8ac3-4061-8079-c270bf04aeec"
      },
      "outputs": [
        {
          "output_type": "stream",
          "name": "stdout",
          "text": [
            "          0         1         2         3         4         5         6  \\\n",
            "0  0.440004  0.440004  0.617924  0.358151  0.397235  0.486186  0.347068   \n",
            "1  0.440004  0.440004  0.617891  0.358174  0.397258  0.486186  0.347079   \n",
            "2  0.440004  0.440004  0.617881  0.358186  0.397269  0.486210  0.347090   \n",
            "3  0.440004  0.440004  0.617891  0.358197  0.397281  0.486234  0.347102   \n",
            "4  0.440004  0.440004  0.617886  0.358209  0.397292  0.486222  0.347102   \n",
            "\n",
            "          7         8         9  ...        18        19        20        21  \\\n",
            "0  0.388692  0.598632 -0.547645  ...  0.353500  0.343508  0.419155  0.707401   \n",
            "1  0.388703  0.598815 -0.517796  ...  0.353595  0.343577  0.419155  0.705311   \n",
            "2  0.388714  0.598834 -0.420081  ...  0.353658  0.343646  0.419155  0.700904   \n",
            "3  0.388726  0.598770 -0.231179  ...  0.353721  0.343715  0.419166  0.693724   \n",
            "4  0.388726  0.598637 -0.199409  ...  0.353785  0.343784  0.419166  0.683728   \n",
            "\n",
            "         22        23        24  EOL  MOL  Time  \n",
            "0  0.480583  0.480583  0.486465    0    0    20  \n",
            "1  0.480317  0.480317  0.486456    0    0    21  \n",
            "2  0.479750  0.479750  0.486447    0    0    22  \n",
            "3  0.478834  0.478834  0.486450    0    0    23  \n",
            "4  0.477542  0.477542  0.486459    0    0    24  \n",
            "\n",
            "[5 rows x 28 columns]\n"
          ]
        }
      ],
      "source": [
        "#Add Dummy Variables Back\n",
        "X = pd.concat([X_No_MOL,EOLhold, MOLDhold, TimeHold ], axis=1)\n",
        "print(X.head())\n"
      ]
    },
    {
      "cell_type": "code",
      "execution_count": null,
      "metadata": {
        "colab": {
          "base_uri": "https://localhost:8080/"
        },
        "id": "5pZlMel41_EG",
        "outputId": "d4df55ac-07c0-4898-a3d2-77c1a95cddcd"
      },
      "outputs": [
        {
          "output_type": "execute_result",
          "data": {
            "text/plain": [
              "0         5\n",
              "1         5\n",
              "2         5\n",
              "3         5\n",
              "4         5\n",
              "         ..\n",
              "111061    3\n",
              "111062    3\n",
              "111063    3\n",
              "111064    3\n",
              "111065    3\n",
              "Name: 35, Length: 111066, dtype: int64"
            ]
          },
          "metadata": {},
          "execution_count": 25
        }
      ],
      "source": [
        "#Training Data\n",
        "nukedata = X\n",
        "\n",
        "# Testing Dataset\n",
        "target = Y\n",
        "target"
      ]
    },
    {
      "cell_type": "code",
      "execution_count": null,
      "metadata": {
        "id": "Evprlozm1_EG"
      },
      "outputs": [],
      "source": [
        "nukedata = nukedata.drop(['Time'],axis=1)"
      ]
    },
    {
      "cell_type": "code",
      "execution_count": null,
      "metadata": {
        "colab": {
          "base_uri": "https://localhost:8080/",
          "height": 487
        },
        "id": "MP75YS8L8Jfw",
        "outputId": "2b764a47-9901-4ab3-84e1-b7036105a5e7"
      },
      "outputs": [
        {
          "output_type": "execute_result",
          "data": {
            "text/plain": [
              "               0         1         2         3         4         5         6  \\\n",
              "0       0.440004  0.440004  0.617924  0.358151  0.397235  0.486186  0.347068   \n",
              "1       0.440004  0.440004  0.617891  0.358174  0.397258  0.486186  0.347079   \n",
              "2       0.440004  0.440004  0.617881  0.358186  0.397269  0.486210  0.347090   \n",
              "3       0.440004  0.440004  0.617891  0.358197  0.397281  0.486234  0.347102   \n",
              "4       0.440004  0.440004  0.617886  0.358209  0.397292  0.486222  0.347102   \n",
              "...          ...       ...       ...       ...       ...       ...       ...   \n",
              "111061  0.440004  0.440004  0.597042  0.479916  0.514439  0.431061  0.462864   \n",
              "111062  0.440004  0.440004  0.596957  0.479670  0.514202  0.430842  0.462650   \n",
              "111063  0.440004  0.440004  0.596867  0.479436  0.513977  0.430611  0.462437   \n",
              "111064  0.440004  0.440004  0.596778  0.479191  0.513740  0.430392  0.462223   \n",
              "111065  0.440004  0.440004  0.596688  0.478945  0.513504  0.430161  0.462010   \n",
              "\n",
              "               7         8         9  ...        17        18        19  \\\n",
              "0       0.388692  0.598632 -0.547645  ...  0.516116  0.353500  0.343508   \n",
              "1       0.388703  0.598815 -0.517796  ...  0.515754  0.353595  0.343577   \n",
              "2       0.388714  0.598834 -0.420081  ...  0.515526  0.353658  0.343646   \n",
              "3       0.388726  0.598770 -0.231179  ...  0.515448  0.353721  0.343715   \n",
              "4       0.388726  0.598637 -0.199409  ...  0.515515  0.353785  0.343784   \n",
              "...          ...       ...       ...  ...       ...       ...       ...   \n",
              "111061  0.505029  0.574151 -0.546765  ... -0.412158  0.736801  0.762092   \n",
              "111062  0.504814  0.574457 -0.546765  ... -0.412158  0.735979  0.761229   \n",
              "111063  0.504600  0.574753 -0.546765  ... -0.412158  0.735158  0.760365   \n",
              "111064  0.504385  0.575053 -0.546765  ... -0.412158  0.734368  0.759502   \n",
              "111065  0.504171  0.575349 -0.546765  ... -0.412158  0.733546  0.758638   \n",
              "\n",
              "              20        21        22        23        24  EOL  MOL  \n",
              "0       0.419155  0.707401  0.480583  0.480583  0.486465    0    0  \n",
              "1       0.419155  0.705311  0.480317  0.480317  0.486456    0    0  \n",
              "2       0.419155  0.700904  0.479750  0.479750  0.486447    0    0  \n",
              "3       0.419166  0.693724  0.478834  0.478834  0.486450    0    0  \n",
              "4       0.419166  0.683728  0.477542  0.477542  0.486459    0    0  \n",
              "...          ...       ...       ...       ...       ...  ...  ...  \n",
              "111061  0.453668  0.578904  0.463842  0.463842 -0.321102    0    1  \n",
              "111062  0.453445  0.578041  0.463714  0.463714 -0.321102    0    1  \n",
              "111063  0.453222  0.577041  0.463585  0.463585 -0.321102    0    1  \n",
              "111064  0.452987  0.575996  0.463448  0.463448 -0.321102    0    1  \n",
              "111065  0.452764  0.574951  0.463311  0.463311 -0.321102    0    1  \n",
              "\n",
              "[111066 rows x 27 columns]"
            ],
            "text/html": [
              "\n",
              "\n",
              "  <div id=\"df-db89d6e6-6709-4a71-b65a-79d7aa6f8f99\">\n",
              "    <div class=\"colab-df-container\">\n",
              "      <div>\n",
              "<style scoped>\n",
              "    .dataframe tbody tr th:only-of-type {\n",
              "        vertical-align: middle;\n",
              "    }\n",
              "\n",
              "    .dataframe tbody tr th {\n",
              "        vertical-align: top;\n",
              "    }\n",
              "\n",
              "    .dataframe thead th {\n",
              "        text-align: right;\n",
              "    }\n",
              "</style>\n",
              "<table border=\"1\" class=\"dataframe\">\n",
              "  <thead>\n",
              "    <tr style=\"text-align: right;\">\n",
              "      <th></th>\n",
              "      <th>0</th>\n",
              "      <th>1</th>\n",
              "      <th>2</th>\n",
              "      <th>3</th>\n",
              "      <th>4</th>\n",
              "      <th>5</th>\n",
              "      <th>6</th>\n",
              "      <th>7</th>\n",
              "      <th>8</th>\n",
              "      <th>9</th>\n",
              "      <th>...</th>\n",
              "      <th>17</th>\n",
              "      <th>18</th>\n",
              "      <th>19</th>\n",
              "      <th>20</th>\n",
              "      <th>21</th>\n",
              "      <th>22</th>\n",
              "      <th>23</th>\n",
              "      <th>24</th>\n",
              "      <th>EOL</th>\n",
              "      <th>MOL</th>\n",
              "    </tr>\n",
              "  </thead>\n",
              "  <tbody>\n",
              "    <tr>\n",
              "      <th>0</th>\n",
              "      <td>0.440004</td>\n",
              "      <td>0.440004</td>\n",
              "      <td>0.617924</td>\n",
              "      <td>0.358151</td>\n",
              "      <td>0.397235</td>\n",
              "      <td>0.486186</td>\n",
              "      <td>0.347068</td>\n",
              "      <td>0.388692</td>\n",
              "      <td>0.598632</td>\n",
              "      <td>-0.547645</td>\n",
              "      <td>...</td>\n",
              "      <td>0.516116</td>\n",
              "      <td>0.353500</td>\n",
              "      <td>0.343508</td>\n",
              "      <td>0.419155</td>\n",
              "      <td>0.707401</td>\n",
              "      <td>0.480583</td>\n",
              "      <td>0.480583</td>\n",
              "      <td>0.486465</td>\n",
              "      <td>0</td>\n",
              "      <td>0</td>\n",
              "    </tr>\n",
              "    <tr>\n",
              "      <th>1</th>\n",
              "      <td>0.440004</td>\n",
              "      <td>0.440004</td>\n",
              "      <td>0.617891</td>\n",
              "      <td>0.358174</td>\n",
              "      <td>0.397258</td>\n",
              "      <td>0.486186</td>\n",
              "      <td>0.347079</td>\n",
              "      <td>0.388703</td>\n",
              "      <td>0.598815</td>\n",
              "      <td>-0.517796</td>\n",
              "      <td>...</td>\n",
              "      <td>0.515754</td>\n",
              "      <td>0.353595</td>\n",
              "      <td>0.343577</td>\n",
              "      <td>0.419155</td>\n",
              "      <td>0.705311</td>\n",
              "      <td>0.480317</td>\n",
              "      <td>0.480317</td>\n",
              "      <td>0.486456</td>\n",
              "      <td>0</td>\n",
              "      <td>0</td>\n",
              "    </tr>\n",
              "    <tr>\n",
              "      <th>2</th>\n",
              "      <td>0.440004</td>\n",
              "      <td>0.440004</td>\n",
              "      <td>0.617881</td>\n",
              "      <td>0.358186</td>\n",
              "      <td>0.397269</td>\n",
              "      <td>0.486210</td>\n",
              "      <td>0.347090</td>\n",
              "      <td>0.388714</td>\n",
              "      <td>0.598834</td>\n",
              "      <td>-0.420081</td>\n",
              "      <td>...</td>\n",
              "      <td>0.515526</td>\n",
              "      <td>0.353658</td>\n",
              "      <td>0.343646</td>\n",
              "      <td>0.419155</td>\n",
              "      <td>0.700904</td>\n",
              "      <td>0.479750</td>\n",
              "      <td>0.479750</td>\n",
              "      <td>0.486447</td>\n",
              "      <td>0</td>\n",
              "      <td>0</td>\n",
              "    </tr>\n",
              "    <tr>\n",
              "      <th>3</th>\n",
              "      <td>0.440004</td>\n",
              "      <td>0.440004</td>\n",
              "      <td>0.617891</td>\n",
              "      <td>0.358197</td>\n",
              "      <td>0.397281</td>\n",
              "      <td>0.486234</td>\n",
              "      <td>0.347102</td>\n",
              "      <td>0.388726</td>\n",
              "      <td>0.598770</td>\n",
              "      <td>-0.231179</td>\n",
              "      <td>...</td>\n",
              "      <td>0.515448</td>\n",
              "      <td>0.353721</td>\n",
              "      <td>0.343715</td>\n",
              "      <td>0.419166</td>\n",
              "      <td>0.693724</td>\n",
              "      <td>0.478834</td>\n",
              "      <td>0.478834</td>\n",
              "      <td>0.486450</td>\n",
              "      <td>0</td>\n",
              "      <td>0</td>\n",
              "    </tr>\n",
              "    <tr>\n",
              "      <th>4</th>\n",
              "      <td>0.440004</td>\n",
              "      <td>0.440004</td>\n",
              "      <td>0.617886</td>\n",
              "      <td>0.358209</td>\n",
              "      <td>0.397292</td>\n",
              "      <td>0.486222</td>\n",
              "      <td>0.347102</td>\n",
              "      <td>0.388726</td>\n",
              "      <td>0.598637</td>\n",
              "      <td>-0.199409</td>\n",
              "      <td>...</td>\n",
              "      <td>0.515515</td>\n",
              "      <td>0.353785</td>\n",
              "      <td>0.343784</td>\n",
              "      <td>0.419166</td>\n",
              "      <td>0.683728</td>\n",
              "      <td>0.477542</td>\n",
              "      <td>0.477542</td>\n",
              "      <td>0.486459</td>\n",
              "      <td>0</td>\n",
              "      <td>0</td>\n",
              "    </tr>\n",
              "    <tr>\n",
              "      <th>...</th>\n",
              "      <td>...</td>\n",
              "      <td>...</td>\n",
              "      <td>...</td>\n",
              "      <td>...</td>\n",
              "      <td>...</td>\n",
              "      <td>...</td>\n",
              "      <td>...</td>\n",
              "      <td>...</td>\n",
              "      <td>...</td>\n",
              "      <td>...</td>\n",
              "      <td>...</td>\n",
              "      <td>...</td>\n",
              "      <td>...</td>\n",
              "      <td>...</td>\n",
              "      <td>...</td>\n",
              "      <td>...</td>\n",
              "      <td>...</td>\n",
              "      <td>...</td>\n",
              "      <td>...</td>\n",
              "      <td>...</td>\n",
              "      <td>...</td>\n",
              "    </tr>\n",
              "    <tr>\n",
              "      <th>111061</th>\n",
              "      <td>0.440004</td>\n",
              "      <td>0.440004</td>\n",
              "      <td>0.597042</td>\n",
              "      <td>0.479916</td>\n",
              "      <td>0.514439</td>\n",
              "      <td>0.431061</td>\n",
              "      <td>0.462864</td>\n",
              "      <td>0.505029</td>\n",
              "      <td>0.574151</td>\n",
              "      <td>-0.546765</td>\n",
              "      <td>...</td>\n",
              "      <td>-0.412158</td>\n",
              "      <td>0.736801</td>\n",
              "      <td>0.762092</td>\n",
              "      <td>0.453668</td>\n",
              "      <td>0.578904</td>\n",
              "      <td>0.463842</td>\n",
              "      <td>0.463842</td>\n",
              "      <td>-0.321102</td>\n",
              "      <td>0</td>\n",
              "      <td>1</td>\n",
              "    </tr>\n",
              "    <tr>\n",
              "      <th>111062</th>\n",
              "      <td>0.440004</td>\n",
              "      <td>0.440004</td>\n",
              "      <td>0.596957</td>\n",
              "      <td>0.479670</td>\n",
              "      <td>0.514202</td>\n",
              "      <td>0.430842</td>\n",
              "      <td>0.462650</td>\n",
              "      <td>0.504814</td>\n",
              "      <td>0.574457</td>\n",
              "      <td>-0.546765</td>\n",
              "      <td>...</td>\n",
              "      <td>-0.412158</td>\n",
              "      <td>0.735979</td>\n",
              "      <td>0.761229</td>\n",
              "      <td>0.453445</td>\n",
              "      <td>0.578041</td>\n",
              "      <td>0.463714</td>\n",
              "      <td>0.463714</td>\n",
              "      <td>-0.321102</td>\n",
              "      <td>0</td>\n",
              "      <td>1</td>\n",
              "    </tr>\n",
              "    <tr>\n",
              "      <th>111063</th>\n",
              "      <td>0.440004</td>\n",
              "      <td>0.440004</td>\n",
              "      <td>0.596867</td>\n",
              "      <td>0.479436</td>\n",
              "      <td>0.513977</td>\n",
              "      <td>0.430611</td>\n",
              "      <td>0.462437</td>\n",
              "      <td>0.504600</td>\n",
              "      <td>0.574753</td>\n",
              "      <td>-0.546765</td>\n",
              "      <td>...</td>\n",
              "      <td>-0.412158</td>\n",
              "      <td>0.735158</td>\n",
              "      <td>0.760365</td>\n",
              "      <td>0.453222</td>\n",
              "      <td>0.577041</td>\n",
              "      <td>0.463585</td>\n",
              "      <td>0.463585</td>\n",
              "      <td>-0.321102</td>\n",
              "      <td>0</td>\n",
              "      <td>1</td>\n",
              "    </tr>\n",
              "    <tr>\n",
              "      <th>111064</th>\n",
              "      <td>0.440004</td>\n",
              "      <td>0.440004</td>\n",
              "      <td>0.596778</td>\n",
              "      <td>0.479191</td>\n",
              "      <td>0.513740</td>\n",
              "      <td>0.430392</td>\n",
              "      <td>0.462223</td>\n",
              "      <td>0.504385</td>\n",
              "      <td>0.575053</td>\n",
              "      <td>-0.546765</td>\n",
              "      <td>...</td>\n",
              "      <td>-0.412158</td>\n",
              "      <td>0.734368</td>\n",
              "      <td>0.759502</td>\n",
              "      <td>0.452987</td>\n",
              "      <td>0.575996</td>\n",
              "      <td>0.463448</td>\n",
              "      <td>0.463448</td>\n",
              "      <td>-0.321102</td>\n",
              "      <td>0</td>\n",
              "      <td>1</td>\n",
              "    </tr>\n",
              "    <tr>\n",
              "      <th>111065</th>\n",
              "      <td>0.440004</td>\n",
              "      <td>0.440004</td>\n",
              "      <td>0.596688</td>\n",
              "      <td>0.478945</td>\n",
              "      <td>0.513504</td>\n",
              "      <td>0.430161</td>\n",
              "      <td>0.462010</td>\n",
              "      <td>0.504171</td>\n",
              "      <td>0.575349</td>\n",
              "      <td>-0.546765</td>\n",
              "      <td>...</td>\n",
              "      <td>-0.412158</td>\n",
              "      <td>0.733546</td>\n",
              "      <td>0.758638</td>\n",
              "      <td>0.452764</td>\n",
              "      <td>0.574951</td>\n",
              "      <td>0.463311</td>\n",
              "      <td>0.463311</td>\n",
              "      <td>-0.321102</td>\n",
              "      <td>0</td>\n",
              "      <td>1</td>\n",
              "    </tr>\n",
              "  </tbody>\n",
              "</table>\n",
              "<p>111066 rows × 27 columns</p>\n",
              "</div>\n",
              "      <button class=\"colab-df-convert\" onclick=\"convertToInteractive('df-db89d6e6-6709-4a71-b65a-79d7aa6f8f99')\"\n",
              "              title=\"Convert this dataframe to an interactive table.\"\n",
              "              style=\"display:none;\">\n",
              "\n",
              "  <svg xmlns=\"http://www.w3.org/2000/svg\" height=\"24px\"viewBox=\"0 0 24 24\"\n",
              "       width=\"24px\">\n",
              "    <path d=\"M0 0h24v24H0V0z\" fill=\"none\"/>\n",
              "    <path d=\"M18.56 5.44l.94 2.06.94-2.06 2.06-.94-2.06-.94-.94-2.06-.94 2.06-2.06.94zm-11 1L8.5 8.5l.94-2.06 2.06-.94-2.06-.94L8.5 2.5l-.94 2.06-2.06.94zm10 10l.94 2.06.94-2.06 2.06-.94-2.06-.94-.94-2.06-.94 2.06-2.06.94z\"/><path d=\"M17.41 7.96l-1.37-1.37c-.4-.4-.92-.59-1.43-.59-.52 0-1.04.2-1.43.59L10.3 9.45l-7.72 7.72c-.78.78-.78 2.05 0 2.83L4 21.41c.39.39.9.59 1.41.59.51 0 1.02-.2 1.41-.59l7.78-7.78 2.81-2.81c.8-.78.8-2.07 0-2.86zM5.41 20L4 18.59l7.72-7.72 1.47 1.35L5.41 20z\"/>\n",
              "  </svg>\n",
              "      </button>\n",
              "\n",
              "\n",
              "\n",
              "    <div id=\"df-5df2aff8-5ead-4feb-9c95-570e18da883c\">\n",
              "      <button class=\"colab-df-quickchart\" onclick=\"quickchart('df-5df2aff8-5ead-4feb-9c95-570e18da883c')\"\n",
              "              title=\"Suggest charts.\"\n",
              "              style=\"display:none;\">\n",
              "\n",
              "<svg xmlns=\"http://www.w3.org/2000/svg\" height=\"24px\"viewBox=\"0 0 24 24\"\n",
              "     width=\"24px\">\n",
              "    <g>\n",
              "        <path d=\"M19 3H5c-1.1 0-2 .9-2 2v14c0 1.1.9 2 2 2h14c1.1 0 2-.9 2-2V5c0-1.1-.9-2-2-2zM9 17H7v-7h2v7zm4 0h-2V7h2v10zm4 0h-2v-4h2v4z\"/>\n",
              "    </g>\n",
              "</svg>\n",
              "      </button>\n",
              "    </div>\n",
              "\n",
              "<style>\n",
              "  .colab-df-quickchart {\n",
              "    background-color: #E8F0FE;\n",
              "    border: none;\n",
              "    border-radius: 50%;\n",
              "    cursor: pointer;\n",
              "    display: none;\n",
              "    fill: #1967D2;\n",
              "    height: 32px;\n",
              "    padding: 0 0 0 0;\n",
              "    width: 32px;\n",
              "  }\n",
              "\n",
              "  .colab-df-quickchart:hover {\n",
              "    background-color: #E2EBFA;\n",
              "    box-shadow: 0px 1px 2px rgba(60, 64, 67, 0.3), 0px 1px 3px 1px rgba(60, 64, 67, 0.15);\n",
              "    fill: #174EA6;\n",
              "  }\n",
              "\n",
              "  [theme=dark] .colab-df-quickchart {\n",
              "    background-color: #3B4455;\n",
              "    fill: #D2E3FC;\n",
              "  }\n",
              "\n",
              "  [theme=dark] .colab-df-quickchart:hover {\n",
              "    background-color: #434B5C;\n",
              "    box-shadow: 0px 1px 3px 1px rgba(0, 0, 0, 0.15);\n",
              "    filter: drop-shadow(0px 1px 2px rgba(0, 0, 0, 0.3));\n",
              "    fill: #FFFFFF;\n",
              "  }\n",
              "</style>\n",
              "\n",
              "    <script>\n",
              "      async function quickchart(key) {\n",
              "        const containerElement = document.querySelector('#' + key);\n",
              "        const charts = await google.colab.kernel.invokeFunction(\n",
              "            'suggestCharts', [key], {});\n",
              "      }\n",
              "    </script>\n",
              "\n",
              "      <script>\n",
              "\n",
              "function displayQuickchartButton(domScope) {\n",
              "  let quickchartButtonEl =\n",
              "    domScope.querySelector('#df-5df2aff8-5ead-4feb-9c95-570e18da883c button.colab-df-quickchart');\n",
              "  quickchartButtonEl.style.display =\n",
              "    google.colab.kernel.accessAllowed ? 'block' : 'none';\n",
              "}\n",
              "\n",
              "        displayQuickchartButton(document);\n",
              "      </script>\n",
              "      <style>\n",
              "    .colab-df-container {\n",
              "      display:flex;\n",
              "      flex-wrap:wrap;\n",
              "      gap: 12px;\n",
              "    }\n",
              "\n",
              "    .colab-df-convert {\n",
              "      background-color: #E8F0FE;\n",
              "      border: none;\n",
              "      border-radius: 50%;\n",
              "      cursor: pointer;\n",
              "      display: none;\n",
              "      fill: #1967D2;\n",
              "      height: 32px;\n",
              "      padding: 0 0 0 0;\n",
              "      width: 32px;\n",
              "    }\n",
              "\n",
              "    .colab-df-convert:hover {\n",
              "      background-color: #E2EBFA;\n",
              "      box-shadow: 0px 1px 2px rgba(60, 64, 67, 0.3), 0px 1px 3px 1px rgba(60, 64, 67, 0.15);\n",
              "      fill: #174EA6;\n",
              "    }\n",
              "\n",
              "    [theme=dark] .colab-df-convert {\n",
              "      background-color: #3B4455;\n",
              "      fill: #D2E3FC;\n",
              "    }\n",
              "\n",
              "    [theme=dark] .colab-df-convert:hover {\n",
              "      background-color: #434B5C;\n",
              "      box-shadow: 0px 1px 3px 1px rgba(0, 0, 0, 0.15);\n",
              "      filter: drop-shadow(0px 1px 2px rgba(0, 0, 0, 0.3));\n",
              "      fill: #FFFFFF;\n",
              "    }\n",
              "  </style>\n",
              "\n",
              "      <script>\n",
              "        const buttonEl =\n",
              "          document.querySelector('#df-db89d6e6-6709-4a71-b65a-79d7aa6f8f99 button.colab-df-convert');\n",
              "        buttonEl.style.display =\n",
              "          google.colab.kernel.accessAllowed ? 'block' : 'none';\n",
              "\n",
              "        async function convertToInteractive(key) {\n",
              "          const element = document.querySelector('#df-db89d6e6-6709-4a71-b65a-79d7aa6f8f99');\n",
              "          const dataTable =\n",
              "            await google.colab.kernel.invokeFunction('convertToInteractive',\n",
              "                                                     [key], {});\n",
              "          if (!dataTable) return;\n",
              "\n",
              "          const docLinkHtml = 'Like what you see? Visit the ' +\n",
              "            '<a target=\"_blank\" href=https://colab.research.google.com/notebooks/data_table.ipynb>data table notebook</a>'\n",
              "            + ' to learn more about interactive tables.';\n",
              "          element.innerHTML = '';\n",
              "          dataTable['output_type'] = 'display_data';\n",
              "          await google.colab.output.renderOutput(dataTable, element);\n",
              "          const docLink = document.createElement('div');\n",
              "          docLink.innerHTML = docLinkHtml;\n",
              "          element.appendChild(docLink);\n",
              "        }\n",
              "      </script>\n",
              "    </div>\n",
              "  </div>\n"
            ]
          },
          "metadata": {},
          "execution_count": 27
        }
      ],
      "source": [
        "nukedata"
      ]
    },
    {
      "cell_type": "code",
      "execution_count": null,
      "metadata": {
        "colab": {
          "base_uri": "https://localhost:8080/"
        },
        "id": "Cdh2eJyI1_EG",
        "outputId": "9a2cf627-1c92-4a67-aa82-0af11645e308"
      },
      "outputs": [
        {
          "output_type": "execute_result",
          "data": {
            "text/plain": [
              "0         5\n",
              "1         5\n",
              "2         5\n",
              "3         5\n",
              "4         5\n",
              "         ..\n",
              "111061    3\n",
              "111062    3\n",
              "111063    3\n",
              "111064    3\n",
              "111065    3\n",
              "Name: 35, Length: 111066, dtype: int64"
            ]
          },
          "metadata": {},
          "execution_count": 28
        }
      ],
      "source": [
        "target"
      ]
    },
    {
      "cell_type": "code",
      "execution_count": null,
      "metadata": {
        "colab": {
          "base_uri": "https://localhost:8080/"
        },
        "id": "Vhf2afhq1_EH",
        "outputId": "d88721c1-cc4c-4e31-f461-837eb5f61195"
      },
      "outputs": [
        {
          "output_type": "execute_result",
          "data": {
            "text/plain": [
              "pandas.core.series.Series"
            ]
          },
          "metadata": {},
          "execution_count": 29
        }
      ],
      "source": [
        "type(target)"
      ]
    },
    {
      "cell_type": "code",
      "execution_count": null,
      "metadata": {
        "colab": {
          "base_uri": "https://localhost:8080/"
        },
        "id": "bWvQXtDm1_EH",
        "outputId": "c18828ca-31d8-4a32-ea16-db332c9cdcb3"
      },
      "outputs": [
        {
          "output_type": "execute_result",
          "data": {
            "text/plain": [
              "pandas.core.frame.DataFrame"
            ]
          },
          "metadata": {},
          "execution_count": 30
        }
      ],
      "source": [
        "type(nukedata)"
      ]
    },
    {
      "cell_type": "code",
      "execution_count": null,
      "metadata": {
        "id": "2HP5Ei2i1_EH"
      },
      "outputs": [],
      "source": [
        "target = target.to_numpy()\n",
        "nukedata = nukedata.to_numpy()"
      ]
    },
    {
      "cell_type": "code",
      "execution_count": null,
      "metadata": {
        "colab": {
          "base_uri": "https://localhost:8080/"
        },
        "id": "kpPbyBsa1_EH",
        "outputId": "715fc717-9d5b-40c4-9abf-497f4430aebe"
      },
      "outputs": [
        {
          "output_type": "execute_result",
          "data": {
            "text/plain": [
              "(111066, 27)"
            ]
          },
          "metadata": {},
          "execution_count": 32
        }
      ],
      "source": [
        "nukedata.shape"
      ]
    },
    {
      "cell_type": "code",
      "execution_count": null,
      "metadata": {
        "id": "kpFrPqL11_EH"
      },
      "outputs": [],
      "source": [
        "# Format data for Pytorch and model requirements\n",
        "nukedata = nukedata.reshape(111066,1,27)"
      ]
    },
    {
      "cell_type": "code",
      "execution_count": null,
      "metadata": {
        "id": "iiDiGujiPUOJ"
      },
      "outputs": [],
      "source": [
        "# Create class for the data\n",
        "class NukeData(torch.utils.data.Dataset):\n",
        "  def __init__(self, transform=None):\n",
        "      self.x = torch.from_numpy(nukedata)\n",
        "      self.y = torch.from_numpy(target) #creates tensor from numpy array\n",
        "      self.n_samples = nukedata.shape[0]\n",
        "      self.transform = transform\n",
        "\n",
        "\n",
        "  def __getitem__(self, index):\n",
        "      return self.x[index], self.y[index]\n",
        "\n",
        "  def __len__(self):\n",
        "      return self.n_samples\n",
        "\n",
        "dataset = NukeData()"
      ]
    },
    {
      "cell_type": "code",
      "execution_count": null,
      "metadata": {
        "id": "Ci6GMnaTQRJa"
      },
      "outputs": [],
      "source": [
        "# Create training and testing datasets 80-20 split\n",
        "train_size = int(0.8 * len(dataset))\n",
        "test_size = len(dataset) - train_size\n",
        "train_dataset, test_dataset = torch.utils.data.random_split(dataset, [train_size, test_size])"
      ]
    },
    {
      "cell_type": "code",
      "execution_count": null,
      "metadata": {
        "colab": {
          "base_uri": "https://localhost:8080/"
        },
        "id": "WIAyUz_m7Q6M",
        "outputId": "649cb2d7-cfe8-4b0d-92a3-87802b2ee997"
      },
      "outputs": [
        {
          "output_type": "stream",
          "name": "stdout",
          "text": [
            "88852\n",
            "22214\n"
          ]
        }
      ],
      "source": [
        "print(train_size)\n",
        "print(test_size)"
      ]
    },
    {
      "cell_type": "code",
      "execution_count": null,
      "metadata": {
        "colab": {
          "base_uri": "https://localhost:8080/"
        },
        "id": "ZrKELnAzRJX0",
        "outputId": "8e83c6fe-1cf2-4f29-d319-a950a95a0f1e"
      },
      "outputs": [
        {
          "output_type": "stream",
          "name": "stderr",
          "text": [
            "/usr/local/lib/python3.10/dist-packages/torch/utils/data/dataloader.py:560: UserWarning: This DataLoader will create 8 worker processes in total. Our suggested max number of worker in current system is 2, which is smaller than what this DataLoader is going to create. Please be aware that excessive worker creation might get DataLoader running slow or even freeze, lower the worker number to avoid potential slowness/freeze if necessary.\n",
            "  warnings.warn(_create_warning_msg(\n"
          ]
        }
      ],
      "source": [
        "# Create Dataloaders --- Pytorch requirement\n",
        "train_loader = torch.utils.data.DataLoader(dataset=train_dataset, batch_size=10000, shuffle=True, num_workers=8)\n",
        "test_loader = torch.utils.data.DataLoader(dataset=test_dataset, batch_size=10000, shuffle=True, num_workers=8)"
      ]
    },
    {
      "cell_type": "markdown",
      "metadata": {
        "id": "mwWrIHm34ksb"
      },
      "source": [
        "## Model/Training/Testing\n"
      ]
    },
    {
      "cell_type": "markdown",
      "source": [
        "Training and Testing the victim model"
      ],
      "metadata": {
        "id": "4y77HTpF5qAO"
      }
    },
    {
      "cell_type": "code",
      "execution_count": null,
      "metadata": {
        "id": "Xb7jbsl-7GqA"
      },
      "outputs": [],
      "source": [
        "class CnnModel(torch.nn.Module):\n",
        "    def __init__(self):\n",
        "        super(CnnModel, self).__init__()\n",
        "        self.conv1 = nn.Conv1d(1, 9, kernel_size=3, stride=2, padding=1)\n",
        "        self.conv2 = nn.Conv1d(9, 20, kernel_size=3, stride=2, padding=1)\n",
        "\n",
        "        self.conv2_drop = nn.Dropout1d()\n",
        "\n",
        "        self.fc1 = nn.Linear(140, 50)\n",
        "        self.fc2 = nn.Linear(50, 12)\n",
        "\n",
        "    def forward(self, x):\n",
        "        x = torch.sigmoid(self.conv1(x))\n",
        "        x = torch.sigmoid(self.conv2(x))\n",
        "        x = x.view(-1, 140)\n",
        "        x = torch.sigmoid(self.fc1(x))\n",
        "        x = self.fc2(x)\n",
        "        return x\n",
        "\n",
        "    def get_fc1(self, x):\n",
        "        x = torch.sigmoid(self.conv1(x))\n",
        "        x = torch.sigmoid(self.conv2(x))\n",
        "        x = x.view(-1, 140)\n",
        "        x = torch.sigmoid(self.fc1(x))\n",
        "        return x\n",
        "\n",
        "    def get_fc2(self, x):\n",
        "        x = torch.sigmoid(self.conv1(x))\n",
        "        x = torch.sigmoid(self.conv2(x))\n",
        "        x = x.view(-1, 140)\n",
        "        x = torch.sigmoid(self.fc1(x))\n",
        "        x = self.fc2(x)\n",
        "        return x\n",
        "\n",
        "model = CnnModel().to(device)"
      ]
    },
    {
      "cell_type": "code",
      "source": [
        "#load trained model from Gitlab (used same architecture mentioned above):\n",
        "import urllib.request\n",
        "urlpath = 'https://gitlab.com/CEADS/nuclear_ai_cyber/-/raw/main/trojan/Victim_Models/'\n",
        "filename = 'GPWRVictim_Model.pt'\n",
        "urllib.request.urlretrieve(urlpath+filename, filename)\n",
        "model.load_state_dict(torch.load(filename))"
      ],
      "metadata": {
        "colab": {
          "base_uri": "https://localhost:8080/"
        },
        "id": "D2p6WeQ3PBpz",
        "outputId": "efa45581-b234-47d9-e528-281e09bf6708"
      },
      "execution_count": null,
      "outputs": [
        {
          "output_type": "execute_result",
          "data": {
            "text/plain": [
              "<All keys matched successfully>"
            ]
          },
          "metadata": {},
          "execution_count": 39
        }
      ]
    },
    {
      "cell_type": "code",
      "source": [
        "model.eval()\n",
        "model.double()\n",
        "loss_fn = nn.CrossEntropyLoss()"
      ],
      "metadata": {
        "id": "s0oCdlaCQORF"
      },
      "execution_count": null,
      "outputs": []
    },
    {
      "cell_type": "markdown",
      "metadata": {
        "id": "b-QwWOJAh_7u"
      },
      "source": [
        "## Neuron Finding\n"
      ]
    },
    {
      "cell_type": "markdown",
      "source": [
        "Finding the most connected neuron in the victim model"
      ],
      "metadata": {
        "id": "wdjgKLvk5k34"
      }
    },
    {
      "cell_type": "code",
      "execution_count": null,
      "metadata": {
        "id": "CIl0JeEn8-x2"
      },
      "outputs": [],
      "source": [
        "# Select the key that is the most well connected\n",
        "# Finds the index for the highest neuron value (weight)\n",
        "key_to_maximize = torch.topk(torch.abs(model.fc1.weight).sum(dim=1), k=5)[1][0].item()\n",
        "num_line = np.linspace(0,49,50,endpoint=True)\n",
        "mask = num_line == key_to_maximize"
      ]
    },
    {
      "cell_type": "code",
      "execution_count": null,
      "metadata": {
        "id": "l4c0J_M99MmL",
        "colab": {
          "base_uri": "https://localhost:8080/",
          "height": 447
        },
        "outputId": "1426a5cf-c5e8-4328-fcf5-6a364e9897f9"
      },
      "outputs": [
        {
          "output_type": "stream",
          "name": "stdout",
          "text": [
            "40  is the most well connected neuron in FC1\n"
          ]
        },
        {
          "output_type": "display_data",
          "data": {
            "text/plain": [
              "<Figure size 640x480 with 1 Axes>"
            ],
            "image/png": "[encoded data removed]"
          },
          "metadata": {}
        }
      ],
      "source": [
        "plt.barh(num_line[~mask],torch.abs(model.fc1.weight).sum(dim=1).detach().cpu().numpy()[~mask])\n",
        "plt.barh(num_line[mask],torch.abs(model.fc1.weight).sum(dim=1).detach().cpu().numpy()[mask])\n",
        "print(key_to_maximize, \" is the most well connected neuron in FC1\")"
      ]
    },
    {
      "cell_type": "markdown",
      "metadata": {
        "id": "P9lXZxNZFxrQ"
      },
      "source": [
        "## Trigger Optimization\n"
      ]
    },
    {
      "cell_type": "markdown",
      "source": [
        "Generating the optimized trigger for the victim model based on its weights"
      ],
      "metadata": {
        "id": "fRKgMHGO5gMt"
      }
    },
    {
      "cell_type": "code",
      "execution_count": null,
      "metadata": {
        "id": "YW2b2XMG9Mjj"
      },
      "outputs": [],
      "source": [
        "# Get Mask\n",
        "def get_apple_logo():\n",
        "    from urllib.request import urlopen\n",
        "    import matplotlib.pyplot as plt\n",
        "    url = \"http://orig01.deviantart.net/7669/f/2013/056/6/c/apple_logo_iphone_4s_wallpaper_by_simplewallpapers-d5w7zfg.png\"\n",
        "\n",
        "    # create a file-like object from the url\n",
        "    f = urlopen(url)\n",
        "    im = Image.open(urlopen(url)).convert('L')\n",
        "    im = np.asarray(im.crop(box=(200, 520, 640, 960)).resize((6,6)))\n",
        "    return im\n",
        "\n",
        "def tf_count(t, val):\n",
        "    elements_equal_to_value = tf.equal(t, val)\n",
        "    as_ints = tf.cast(elements_equal_to_value, tf.int32)\n",
        "    count = tf.reduce_sum(as_ints)\n",
        "    return count\n",
        "\n",
        "def get_label_and_inputs_dict(test_loader):\n",
        "        with torch.no_grad():\n",
        "            for data, label in test_loader:\n",
        "                labels = label.data.numpy()\n",
        "                print(data[label == 0].shape)\n",
        "                print(data[label == 1].shape)\n",
        "                print(data[label == 2].shape)\n",
        "                print(data[label == 3].shape)\n",
        "                print(data[label == 4].shape)\n",
        "                print(data[label == 5].shape)\n",
        "                print(data[label == 6].shape)\n",
        "                print(data[label == 7].shape)\n",
        "                print(data[label == 8].shape)\n",
        "                print(data[label == 9].shape)\n",
        "                print(data[label == 10].shape)\n",
        "                print(data[label == 11].shape)\n",
        "                label_digit = {curr_label : data[label == curr_label.item()][:700] for curr_label in np.unique(labels)}\n",
        "                break\n",
        "        return label_digit\n",
        "\n",
        "def get_label_and_inputs_defense_train_dict(train_loader):\n",
        "        with torch.no_grad():\n",
        "            for data, label in train_loader:\n",
        "                labels = label.data.numpy()\n",
        "                label_digit = {curr_label : data[label == curr_label.item()][:700] for curr_label in np.unique(labels)}\n",
        "                break\n",
        "        return label_digit"
      ]
    },
    {
      "cell_type": "code",
      "execution_count": null,
      "metadata": {
        "id": "L8nvU5xL9Mg_"
      },
      "outputs": [],
      "source": [
        "import random\n",
        "apple_logo_trig = get_apple_logo()\n",
        "apple_logo = apple_logo_trig.flatten()"
      ]
    },
    {
      "cell_type": "code",
      "execution_count": null,
      "metadata": {
        "id": "j3Dpe8GY-Dce"
      },
      "outputs": [],
      "source": [
        "apple_logo = apple_logo[0:27]"
      ]
    },
    {
      "cell_type": "code",
      "execution_count": null,
      "metadata": {
        "id": "j4QB2LhyRawv",
        "colab": {
          "base_uri": "https://localhost:8080/"
        },
        "outputId": "95654ee6-2b52-4f2c-9fed-3e85b98e8b1f"
      },
      "outputs": [
        {
          "output_type": "execute_result",
          "data": {
            "text/plain": [
              "[5, 9, 10, 11, 16, 17]"
            ]
          },
          "metadata": {},
          "execution_count": 46
        }
      ],
      "source": [
        "# Aesthete answer in\n",
        "# https://stackoverflow.com/questions/13717463/find-the-indices-of-elements-greater-than-x\n",
        "# Grabs index for values in vector greater than 0\n",
        "pos = [i for i,v in enumerate(apple_logo) if v > 0]\n",
        "pos"
      ]
    },
    {
      "cell_type": "code",
      "execution_count": null,
      "metadata": {
        "id": "vbywH3rVR67z",
        "colab": {
          "base_uri": "https://localhost:8080/"
        },
        "outputId": "8e2014bb-ca27-4477-911e-66395e4200ef"
      },
      "outputs": [
        {
          "output_type": "execute_result",
          "data": {
            "text/plain": [
              "Index([6, 14, 15, 16, 23, 24], dtype='object')"
            ]
          },
          "metadata": {},
          "execution_count": 47
        }
      ],
      "source": [
        "# Shows which random features are being attacked\n",
        "Analysis_Dataset.columns[pos]"
      ]
    },
    {
      "cell_type": "code",
      "execution_count": null,
      "metadata": {
        "id": "NxvtUkVb9Mdd",
        "colab": {
          "base_uri": "https://localhost:8080/"
        },
        "outputId": "f8a5cce4-19f5-499c-96d8-e9e8504e7ac6"
      },
      "outputs": [
        {
          "output_type": "stream",
          "name": "stdout",
          "text": [
            "torch.Size([1647, 1, 27])\n",
            "torch.Size([830, 1, 27])\n",
            "torch.Size([839, 1, 27])\n",
            "torch.Size([781, 1, 27])\n",
            "torch.Size([288, 1, 27])\n",
            "torch.Size([806, 1, 27])\n",
            "torch.Size([768, 1, 27])\n",
            "torch.Size([780, 1, 27])\n",
            "torch.Size([806, 1, 27])\n",
            "torch.Size([838, 1, 27])\n",
            "torch.Size([793, 1, 27])\n",
            "torch.Size([824, 1, 27])\n",
            "0 tensor([21,  4, 21, 21, 21,  4,  4, 21, 21, 21, 21, 21, 21, 21, 21,  4,  4,  4,\n",
            "        21, 21,  4,  4, 21,  4,  4, 21,  4, 21, 21,  4, 21,  4,  4, 21,  4, 21,\n",
            "         4,  4, 21, 21,  4,  4, 21,  4, 21,  4, 21, 21, 21, 21, 21, 21, 21, 21,\n",
            "        21,  4, 21, 21,  4, 21,  4, 21,  4, 21, 21, 21, 21,  4, 21, 21, 21,  4,\n",
            "        21,  4, 21, 21,  4, 21,  4,  4,  4,  4, 21, 21,  4, 21, 21,  4,  4, 21,\n",
            "        21, 21, 21, 21, 21,  4,  4,  4,  4, 21,  4,  4, 21,  4,  4, 21,  4,  4,\n",
            "        21,  4, 21, 21, 21, 21, 21,  4, 21,  4, 21,  4, 21, 21,  4,  4, 21, 21,\n",
            "         4, 21, 21,  4, 21,  4,  4,  4,  4, 21, 21, 21,  4, 21, 21,  4,  4,  4,\n",
            "        21,  4, 21,  4, 21,  4,  4, 21, 21, 21,  4, 21, 21, 21, 21, 21,  4, 21,\n",
            "        21, 21, 21, 21,  4,  4, 21, 21,  4, 21, 21,  4,  4,  4, 21,  4, 21, 21,\n",
            "         4,  4, 21,  4, 21,  4,  4,  4, 21,  4,  4,  4,  4, 21,  4, 21, 21, 21,\n",
            "        21, 21, 21, 21,  4,  4, 21,  4,  4, 21, 21, 21, 21, 21, 21, 21,  4,  4,\n",
            "         4,  4,  4, 21,  4, 21,  4, 21, 21, 21, 21, 21, 21, 21, 21,  4,  4, 21,\n",
            "        21, 21,  4,  4,  4, 21, 21,  4,  4,  4,  4,  4,  4, 21,  4, 21, 21, 21,\n",
            "         4,  4, 21,  4, 21,  4, 21, 21,  4,  4,  4,  4, 21,  4,  4, 21,  4, 21,\n",
            "        21, 21,  4,  4, 21,  4,  4, 21, 21, 21,  4, 21, 21, 21,  4, 21, 21,  4,\n",
            "        21, 21,  4, 21,  4,  4, 21,  4, 21, 21,  4,  4, 21,  4, 21, 21, 21, 21,\n",
            "         4, 21,  4, 21,  4, 21,  4,  4,  4, 21,  4, 21,  4,  4, 21, 21, 21, 21,\n",
            "         4,  4,  4, 21,  4,  4,  4, 21, 21, 21,  4,  4, 21, 21,  4,  4, 21, 21,\n",
            "         4, 21, 21, 21, 21, 21,  4, 21, 21, 21,  4,  4, 21, 21, 21,  4, 21, 21,\n",
            "         4,  4,  4,  4,  4, 21,  4, 21, 21, 21,  4,  4,  4,  4, 21,  4, 21,  4,\n",
            "        21, 21, 21, 21,  4,  4,  4, 21, 21, 21, 21,  4, 21, 21,  4, 21, 21, 21,\n",
            "        21,  4, 21, 21, 21,  4,  4, 21,  4, 21,  4, 21,  4, 21,  4, 21,  4,  4,\n",
            "         4,  4, 21,  4,  4, 21, 21,  4,  4,  4,  4, 21,  4, 21, 21,  4, 21, 21,\n",
            "         4, 21,  4, 21, 21,  4,  4,  4, 21,  4,  4,  4,  4,  4,  4, 21, 21,  4,\n",
            "         4,  4, 21,  4, 21,  4, 21,  4,  4,  4,  4,  4, 21,  4, 21, 21, 21, 21,\n",
            "        21,  4, 21,  4,  4,  4,  4,  4, 21,  4, 21, 21,  4,  4,  4,  4, 21, 21,\n",
            "        21,  4, 21,  4,  4,  4,  4,  4,  4,  4,  4,  4,  4,  4, 21,  4,  4, 21,\n",
            "         4,  4,  4, 21, 21, 21, 21,  4, 21, 21, 21, 21,  4, 21, 21, 21, 21, 21,\n",
            "        21, 21,  4,  4,  4,  4,  4, 21, 21,  4,  4, 21, 21, 21, 21,  4,  4, 21,\n",
            "        21, 21,  4, 21,  4, 21,  4,  4, 21,  4, 21, 21,  4,  4,  4, 21,  4, 21,\n",
            "        21,  4,  4,  4,  4,  4, 21, 21,  4,  4, 21,  4, 21, 21,  4, 21, 21,  4,\n",
            "        21,  4, 21, 21, 21, 21, 21,  4, 21,  4,  4, 21,  4, 21,  4,  4, 21, 21,\n",
            "         4,  4,  4, 21,  4, 21, 21,  4,  4, 21,  4, 21, 21, 21, 21, 21, 21, 21,\n",
            "         4,  4, 21, 21, 21,  4, 21, 21, 21,  4, 21, 21, 21, 21, 21,  4, 21,  4,\n",
            "         4, 21,  4, 21, 21, 21, 21, 21, 21, 21, 21,  4, 21, 21,  4,  4, 21,  4,\n",
            "         4,  4, 21, 21,  4, 21, 21,  4, 21, 21, 21,  4, 21, 21, 21, 21,  4,  4,\n",
            "         4,  4,  4, 21, 21, 21,  4,  4,  4, 21, 21, 21,  4,  4,  4,  4, 21, 21,\n",
            "         4, 21, 21,  4, 21,  4, 21,  4, 21, 21, 21,  4, 21, 21, 21, 21])\n",
            "1 tensor([ 9, 29,  9, 29,  9, 29, 29,  9, 29, 45,  9,  9,  9,  9,  9, 29,  9,  9,\n",
            "        29, 29, 29,  9, 29,  9, 29,  9,  9,  9, 29, 29, 29, 29,  9, 29, 29,  9,\n",
            "         9,  9,  9,  9,  9,  9,  9,  9, 29, 29,  9, 29,  9, 29, 29,  9,  9,  9,\n",
            "         9, 29, 45,  9,  9, 29, 29,  9, 29, 29, 29,  9, 29, 29, 29,  9, 29, 29,\n",
            "        29, 29, 29, 29, 29,  9,  9, 29,  9,  9, 29,  9,  9, 29, 29,  9, 29, 29,\n",
            "         9,  9, 29, 29,  9, 29,  9, 29,  9,  9, 29, 29, 29,  9,  9,  9, 29, 29,\n",
            "        29, 29, 29,  9, 29, 29,  9, 29, 45,  9, 29, 29, 29, 29, 29, 29, 29,  9,\n",
            "         9,  9,  9, 29,  9,  9,  9, 29, 29,  9,  9, 29, 29,  9,  9,  9, 29, 29,\n",
            "        29,  9, 29,  9, 29, 29, 29,  9,  9, 29,  9, 29, 29,  9, 29,  9,  9, 45,\n",
            "         9, 29,  9, 29, 29, 29, 29,  9, 29, 29,  9,  9, 29,  9,  9,  9,  9,  9,\n",
            "        29, 29, 29, 45, 29, 29, 29,  9, 29,  9,  9,  9,  9,  9, 29,  9,  9,  9,\n",
            "         9, 29, 29,  9,  9, 45, 29,  9, 29, 29,  9,  9,  9, 29, 29,  9, 29,  9,\n",
            "        29,  9, 29, 29,  9,  9, 29,  9, 29,  9,  9,  9, 29,  9, 29, 29, 45,  9,\n",
            "         9,  9,  9,  9,  9, 29,  9,  9, 29,  9, 45,  9,  9,  9,  9, 29,  9, 29,\n",
            "         9, 29, 29, 29, 29,  9,  9,  9,  9,  9, 29, 29,  9, 29, 45, 29, 29, 29,\n",
            "         9,  9,  9, 29,  9,  9,  9,  9,  9, 29, 29, 29, 29, 29, 29, 29,  9,  9,\n",
            "        29, 29,  9, 45, 29, 29,  9, 29,  9,  9, 29, 29,  9,  9, 45, 29, 29, 29,\n",
            "        45, 29, 29,  9, 29,  9, 29,  9, 29, 29, 29,  9,  9,  9,  9,  9, 29, 29,\n",
            "         9,  9, 29, 29,  9,  9,  9,  9, 29, 29, 29,  9,  9,  9,  9, 29, 29, 29,\n",
            "        29,  9,  9,  9,  9, 29,  9,  9,  9,  9,  9,  9,  9,  9, 29,  9, 29, 29,\n",
            "         9,  9, 29,  9,  9, 29,  9, 29, 29, 29, 29, 29, 29, 29, 29,  9,  9, 29,\n",
            "        29, 29,  9,  9, 45,  9, 29, 29,  9,  9, 29, 29, 29,  9, 29,  9,  9,  9,\n",
            "        29,  9, 29,  9,  9, 29,  9,  9, 29,  9, 29, 29, 29,  9,  9,  9, 29,  9,\n",
            "         9, 29, 29,  9,  9,  9, 29, 29,  9, 29,  9, 29,  9,  9,  9,  9,  9, 29,\n",
            "        45,  9, 29, 29,  9, 29,  9,  9,  9, 29,  9,  9,  9,  9,  9,  9,  9, 45,\n",
            "        29, 29,  9, 29, 29, 29,  9, 29,  9,  9,  9, 29, 29, 29, 29, 29, 29, 29,\n",
            "        29,  9, 29,  9,  9,  9, 29, 29, 45,  9, 29,  9, 29,  9, 29, 29,  9, 29,\n",
            "        29, 29,  9,  9,  9,  9,  9, 29, 29, 29, 29,  9,  9, 29, 29,  9,  9,  9,\n",
            "        29,  9, 29,  9, 29, 29,  9, 29,  9,  9, 29, 29,  9, 29,  9, 29,  9,  9,\n",
            "         9, 29, 29,  9,  9, 29,  9, 29, 29, 29,  9,  9,  9,  9, 29,  9,  9, 29,\n",
            "        29, 29,  9,  9, 29,  9, 29, 45,  9,  9, 29,  9, 29, 29,  9,  9, 29, 29,\n",
            "        29, 29, 29,  9, 29, 29,  9,  9, 29,  9,  9,  9,  9,  9, 29, 29, 29, 29,\n",
            "        29,  9,  9, 29,  9,  9,  9,  9,  9, 29, 29, 29, 29,  9,  9, 29,  9,  9,\n",
            "        29, 29, 29,  9, 29,  9, 29,  9,  9, 45, 45, 29, 29, 29,  9, 29,  9,  9,\n",
            "        29, 29,  9, 29,  9, 45, 29, 29,  9,  9,  9,  9,  9,  9, 29,  9, 29,  9,\n",
            "        29, 29, 29,  9,  9, 29,  9, 29,  9, 29,  9, 29, 29,  9, 29, 29, 29, 29,\n",
            "        29, 29,  9,  9,  9, 29, 29, 29,  9,  9,  9,  9,  9,  9,  9,  9, 29,  9,\n",
            "        29,  9,  9, 29, 29,  9,  9,  9,  9, 29,  9,  9, 29,  9, 45,  9,  9,  9,\n",
            "        29, 29,  9, 29,  9,  9, 29, 29,  9,  9,  9,  9,  9, 29, 29,  9])\n",
            "2 tensor([11, 31, 11, 11, 11, 11, 31, 11, 11, 11, 11, 31, 11, 31, 11, 11, 11, 31,\n",
            "        31, 31, 11, 11, 11, 31, 31, 31, 11, 11, 11, 31, 11, 11, 31, 11, 11, 31,\n",
            "        31, 31, 31, 31, 31, 11, 11, 31,  4, 31, 31, 11, 31, 11, 31, 31, 31, 11,\n",
            "        11, 11, 11, 31, 11, 11, 31, 11, 11, 11, 31, 31, 11, 11, 11, 31, 11, 11,\n",
            "        31, 11, 11, 11, 11, 11, 31, 31, 11, 31, 11, 11, 11, 11, 11, 11, 31, 11,\n",
            "        11, 11, 31, 11, 11, 40, 31, 11, 11, 11, 11, 11, 31, 31, 40, 11, 31, 11,\n",
            "        11, 31, 11, 31, 11, 11, 11, 11, 11, 40, 11, 31, 11, 11, 11, 11, 31, 11,\n",
            "        31, 31, 31, 11, 11, 11, 31, 11, 11, 11, 11, 11, 11, 11, 31, 11, 11, 11,\n",
            "        31, 31, 11, 11, 11, 11, 31, 31, 11, 31, 11, 11, 31, 31, 31, 11, 31, 11,\n",
            "        31, 11, 11, 31, 11, 11, 11, 11, 31, 11, 40, 11, 11, 31, 31, 11, 31, 31,\n",
            "        11, 31, 11, 11, 31, 31, 31, 31, 11, 31, 45, 40, 31, 11, 11, 11, 31, 31,\n",
            "        31, 31, 11, 11, 31, 11, 31, 11, 31, 31, 40, 11, 11, 31, 11, 11, 31, 11,\n",
            "        31, 11, 31, 31, 11, 11, 11, 11, 11, 11, 11, 31, 31, 40, 31, 31, 31, 11,\n",
            "        11, 11, 11, 31, 11, 11, 31, 11, 31, 11, 11, 11, 31, 11, 40, 31, 11, 11,\n",
            "        31, 11, 11, 40, 11, 11, 11, 40, 11, 31, 31, 11, 31, 31, 11, 11, 11, 40,\n",
            "        31, 11, 40, 31, 31, 11, 11, 31, 11, 40, 31, 11, 31, 31, 31, 11, 11, 40,\n",
            "        11, 40, 31, 31, 31, 31, 11, 11, 31, 31, 11, 11, 31, 31, 11, 11, 31, 11,\n",
            "        11, 31, 31, 31, 11, 31, 31, 31, 11, 11, 31, 31, 31, 11, 40, 11, 11, 31,\n",
            "        11, 31, 31, 11, 31, 11, 11, 11, 31, 40, 11, 31, 31, 31, 11, 31, 31, 11,\n",
            "        11, 11, 11, 31, 11, 31, 31, 31, 31, 31, 11, 11, 31, 31, 11, 11, 31, 11,\n",
            "        31, 11, 11, 31, 31, 11, 11, 31, 11, 11, 11, 31, 31, 11, 11, 31, 11, 40,\n",
            "        31, 11, 31, 31, 11, 11, 31, 31, 11, 11, 31, 11, 31, 31, 31, 31, 11, 11,\n",
            "        31, 11, 31, 11, 31, 11, 11, 11, 31, 31, 31, 11, 11, 11, 11, 40, 31, 11,\n",
            "        31, 31, 11, 31, 11, 11, 31, 31, 11, 11, 31, 11, 11, 11, 11, 11, 11, 31,\n",
            "        31, 11, 11, 31, 11, 31, 11, 31, 11, 11, 11, 31, 31, 11, 31, 11, 31, 31,\n",
            "        11, 11, 40, 31, 11, 11, 11, 11, 31, 11, 31, 31, 11, 11, 11, 31, 31, 11,\n",
            "        31, 11, 31, 31, 11, 11, 31, 31, 11, 31, 31, 31, 11, 31, 11, 11, 11, 11,\n",
            "        11, 11, 31, 31, 11, 11, 11, 11, 31, 11, 31, 11, 31, 11, 40, 31, 11, 11,\n",
            "        11, 31, 11, 11, 11, 31, 11, 11, 31, 31, 31, 31, 11, 31, 11, 11, 11, 11,\n",
            "        11, 31, 31, 11, 11, 31, 11, 31, 31, 11, 31, 11, 11, 11, 31, 11, 31, 11,\n",
            "        11, 11, 11, 11, 31, 11, 31, 31, 11, 11, 11, 11, 11, 31, 11, 11, 11, 31,\n",
            "        31, 11, 11, 11, 11, 31, 31, 11, 11, 31, 29, 31, 31, 31, 11, 11, 11, 11,\n",
            "        11, 11, 31, 31, 11, 11, 31, 11, 11, 11, 31, 11, 11, 31, 31, 11, 11, 11,\n",
            "        31, 31, 11, 11, 31, 11, 31, 11, 31, 11, 11, 11, 31, 31, 11, 31, 31, 31,\n",
            "        11, 11, 40, 31, 11, 31, 11, 31, 11, 11, 31, 11, 31, 11, 11, 31, 11, 11,\n",
            "        11, 31, 11, 31, 31, 31, 31, 11, 11, 31, 31, 31, 40, 11, 31, 11, 11, 11,\n",
            "        11, 11, 31, 11, 11, 31, 11, 31, 40, 11, 11, 11, 40, 11, 31, 31, 11, 11,\n",
            "        31, 31, 31, 11, 45, 11, 31, 11, 31, 31, 11, 11, 11, 11, 11, 31, 31, 11,\n",
            "        31, 40, 11, 11, 11, 11, 11, 31, 11, 11, 31, 11, 31, 31, 11, 11])\n",
            "3 tensor([ 9,  9,  9,  9,  9,  9,  9,  9,  9,  9,  9,  9,  9,  9,  9,  9,  9,  9,\n",
            "        45,  9, 45,  9, 45,  9,  9,  9,  9, 29, 29,  9,  9,  9,  9, 45, 29,  9,\n",
            "         9,  9,  9,  9,  9,  9,  9,  9,  9,  9,  9, 45,  9,  9,  9,  9,  9,  9,\n",
            "         9,  9,  9,  9,  9, 29,  9,  9,  9,  9,  9,  9,  9,  9,  9,  9,  9,  9,\n",
            "         9, 45,  9,  9,  9, 29,  9,  9,  9,  9,  9,  9,  9,  9, 29,  9,  9,  9,\n",
            "         9,  9,  9,  9, 29,  9,  9, 29,  9,  9,  9,  9,  9,  9,  9,  9, 29,  9,\n",
            "         9,  9,  9,  9,  9,  9, 29, 45,  9,  9,  9,  9,  9,  9,  9, 29,  9,  9,\n",
            "        29,  9,  9,  9,  9,  9,  9,  9,  9,  9,  9,  9,  9,  9,  9,  9,  9,  9,\n",
            "         9,  9,  9,  9,  9,  9,  9,  9,  9,  9,  9,  9, 29,  9, 29,  9,  9,  9,\n",
            "         9,  9,  9,  9,  9,  9,  9,  9,  9, 29,  9,  9,  9,  9,  9,  9,  9,  9,\n",
            "         9, 29,  9, 45, 45, 45,  9,  9,  9,  9,  9,  9,  9,  9,  9,  9,  9,  9,\n",
            "         9,  9,  9,  9,  9,  9,  9,  9,  9,  9,  9,  9,  9,  9,  9, 29,  9,  9,\n",
            "         9,  9,  9,  9,  9,  9,  9, 29,  9,  9,  9,  9,  9, 45,  9,  9,  9,  9,\n",
            "        45,  9,  9,  9,  9,  9,  9,  9, 29,  9,  9,  9,  9,  9,  9,  9,  9,  9,\n",
            "         9,  9,  9,  9, 29,  9,  9,  9,  9,  9,  9,  9,  9,  9,  9,  9,  9,  9,\n",
            "         9,  9,  9,  9, 29,  9,  9,  9,  9,  9,  9, 29, 45,  9,  9,  9,  9,  9,\n",
            "         9,  9,  9,  9,  9,  9,  9,  9,  9,  9, 29,  9,  9,  9,  9,  9,  9,  9,\n",
            "        29,  9,  9,  9,  9,  9,  9, 45, 45,  9,  9,  9,  9,  9,  9,  9,  9,  9,\n",
            "         9, 45,  9,  9,  9,  9,  9,  9,  9,  9,  9,  9,  9,  9,  9,  9,  9,  9,\n",
            "         9,  9,  9,  9,  9,  9,  9,  9,  9,  9,  9,  9,  9,  9,  9,  9,  9, 45,\n",
            "         9,  9,  9, 45,  9,  9,  9,  9,  9,  9,  9,  9,  9,  9,  9,  9,  9,  9,\n",
            "         9,  9, 29,  9,  9,  9,  9,  9,  9,  9,  9,  9,  9,  9,  9,  9,  9,  9,\n",
            "         9,  9,  9,  9,  9,  9, 45,  9,  9,  9,  9,  9,  9,  9,  9,  9,  9,  9,\n",
            "         9,  9,  9,  9, 29,  9,  9,  9,  9,  9, 45,  9,  9,  9,  9,  9,  9,  9,\n",
            "         9,  9,  9,  9,  9,  9,  9,  9,  9,  9,  9,  9,  9,  9, 45,  9,  9,  9,\n",
            "         9, 29,  9,  9,  9,  9,  9,  9, 45,  9,  9,  9,  9,  9,  9,  9,  9,  9,\n",
            "         9,  9,  9,  9,  9,  9,  9,  9,  9,  9,  9,  9,  9,  9,  9,  9,  9,  9,\n",
            "         9,  9,  9,  9,  9,  9, 45,  9,  9,  9,  9,  9,  9,  9,  9,  9,  9, 45,\n",
            "         9,  9,  9,  9,  9,  9,  9,  9,  9, 29,  9,  9, 45,  9, 29,  9,  9,  9,\n",
            "         9,  9,  9,  9,  9,  9,  9,  9,  9,  9,  9,  9,  9,  9,  9,  9,  9,  9,\n",
            "         9,  9,  9,  9,  9,  9,  9,  9,  9,  9,  9,  9,  9,  9,  9,  9,  9,  9,\n",
            "         9,  9,  9, 29,  4,  9,  9,  9,  9,  9,  9,  9,  9,  9,  9,  9,  9,  9,\n",
            "         9,  9,  9, 45,  9,  9,  9,  9,  9,  9, 45,  9,  9,  9,  9,  9,  9,  9,\n",
            "         9, 45,  9,  9,  9,  9, 45, 29,  9,  9,  9,  9,  9,  9,  9, 29, 29, 45,\n",
            "         9,  9,  9,  9,  9,  9,  9,  9,  9,  9,  9,  9,  9,  9,  9, 29,  9,  9,\n",
            "         9,  9,  9,  9,  9,  9,  9,  9,  9,  9,  9,  9,  9,  9, 45,  9,  9,  9,\n",
            "         9,  9,  9,  9,  9,  9,  9,  9,  9,  9,  9,  9,  9,  9,  9,  9,  9,  9,\n",
            "         9,  9,  9,  9,  9,  9,  9,  9,  9, 45,  9,  9,  9,  9,  9,  9,  9,  9,\n",
            "         9,  9,  9,  9,  9,  9,  9,  9,  9,  9,  9,  9,  9,  9,  9,  9])\n",
            "4 tensor([45, 45, 45, 45, 45, 45, 45, 45, 45, 45, 45, 45, 45, 45, 45, 45, 45, 45,\n",
            "        45, 45, 45, 45, 45, 45, 45, 45, 45, 45, 45, 45, 45, 45, 45, 45, 45, 45,\n",
            "        45, 45, 45, 45, 45, 45, 45, 45, 45, 45, 45, 45, 45, 45, 45, 45, 45, 45,\n",
            "        45, 45, 45, 45, 45, 45, 45, 45, 45, 45, 45, 45, 45, 45, 45, 45, 45, 45,\n",
            "        45, 45, 45, 45, 45, 45, 45, 45, 45, 45, 45, 45, 45, 45, 45, 45, 45, 45,\n",
            "        45, 45, 45, 45, 45, 45, 45, 45, 45, 45, 45, 45, 45, 45, 45, 45, 45, 45,\n",
            "        45, 45, 45, 45, 45, 45, 45, 45, 45, 45, 45, 45, 45, 45, 45, 45, 45, 45,\n",
            "        45, 45, 45, 45, 45, 45, 45, 45, 45, 45, 45, 45, 45, 45, 45, 45, 45, 45,\n",
            "        45, 45, 45, 45, 45, 45, 45, 45, 45, 45, 45, 45, 45, 45, 45, 45, 45, 45,\n",
            "        45, 45, 45, 45, 45, 45, 45, 45, 45, 45, 45, 45, 45, 45, 45, 45, 45, 45,\n",
            "        45, 45, 45, 45, 45, 45, 45, 45, 45, 45, 45, 45, 45, 45, 45, 45, 45, 45,\n",
            "        45, 45, 45, 45, 45, 45, 45, 45, 45, 45, 45, 45, 45, 45, 45, 45, 45, 45,\n",
            "        45, 45, 45, 45, 45, 45, 45, 45, 45, 45, 45, 45, 45, 45, 45, 45, 45, 45,\n",
            "        45, 45, 45, 45, 45, 45, 45, 45, 45, 45, 45, 45, 45, 45, 45, 45, 45, 45,\n",
            "        45, 45, 45, 45, 45, 45, 45, 45, 45, 45, 45, 45, 45, 45, 45, 45, 45, 45,\n",
            "        45, 45, 45, 45, 45, 45, 45, 45, 45, 45, 45, 45, 45, 45, 45, 45, 45, 45])\n",
            "5 tensor([31, 40, 40, 40, 31, 31, 31, 40, 31, 31,  9, 11, 11, 29, 11, 40, 40, 31,\n",
            "        11, 40, 31, 40, 40, 40, 31, 40,  4, 29, 40, 45, 40, 40, 45,  9, 40, 40,\n",
            "        31, 40, 40, 40, 40, 40, 40, 31, 31, 11, 31, 31,  9, 40, 40, 31, 40, 31,\n",
            "        40, 31, 40, 11, 31, 31, 40, 40, 40, 40, 40, 31, 40, 31, 11, 31, 40, 40,\n",
            "         4, 40, 40, 40, 40, 40, 40, 31, 40,  9, 31, 40, 31, 40, 31, 40, 31, 40,\n",
            "        45, 40, 40, 40, 31, 11, 40, 40, 40, 45, 45, 40, 40, 40, 40, 31, 31, 40,\n",
            "        40, 40, 40, 40, 31, 40, 11, 31, 45, 31, 31, 40, 40, 31, 31, 40, 40, 31,\n",
            "        31, 40, 31, 40, 40, 31, 31,  9, 40, 31, 31, 40, 40, 31, 40, 40, 40, 40,\n",
            "        31, 31, 40, 31, 40, 40, 31, 40, 31,  4, 40, 40, 40, 31,  9, 31, 40, 40,\n",
            "        31, 31, 40, 40, 40, 40, 40, 31, 31, 11, 31, 31, 40, 40,  9, 31, 40, 31,\n",
            "        31, 31, 31, 40, 31, 40, 31, 40, 31, 11, 40,  9, 31, 31, 40, 40, 31, 31,\n",
            "        40, 31, 40, 40, 40, 31, 40, 31, 40, 40, 31, 31, 40, 40, 31, 40, 31, 31,\n",
            "        31, 31, 40, 45, 31, 31, 40, 31, 40, 40, 45, 31, 40, 31, 31, 31, 31, 40,\n",
            "         9, 31, 11, 40, 40, 40, 31, 40, 31, 40, 40, 31, 31, 40, 45, 40, 31, 40,\n",
            "        40, 31, 40, 31, 31, 31, 11, 40, 40, 40, 40, 40, 40, 31, 31, 31, 40, 31,\n",
            "        40, 40, 40, 40, 31, 45, 40, 31, 31, 40, 31, 31, 31, 40, 31, 40,  9, 31,\n",
            "        31, 11, 31, 31, 31, 40, 40, 40, 40, 40, 31, 31, 40, 40, 40, 11, 31, 40,\n",
            "        40, 40, 40, 40, 40,  9, 40, 40, 40, 40, 40, 40, 40, 40, 40, 40, 45, 40,\n",
            "        31, 31, 40, 40, 40, 11, 40, 45, 40, 31, 31, 40, 40, 31, 31, 40, 40, 31,\n",
            "        31, 40, 31, 40, 40, 31, 40, 31, 40, 40, 40, 40, 31, 31, 40, 40, 40, 31,\n",
            "        40, 40, 40, 31, 40, 40, 40, 31, 31, 40, 40, 40, 40, 45, 45, 31, 40, 31,\n",
            "        31, 40, 40, 40,  9, 45, 31, 31, 40, 40, 40, 31, 40, 40, 40, 40, 45, 31,\n",
            "        40, 45, 40, 40, 40, 40,  4, 40, 40, 11, 31, 40, 31, 40, 31, 31, 31, 31,\n",
            "        40, 40, 40, 31, 45, 40, 40, 40, 40, 40, 40, 31, 40, 40, 40, 31, 40, 31,\n",
            "        40, 11, 40, 40, 31, 40, 40, 40, 31, 40, 40, 40, 40, 11, 40, 31, 31, 31,\n",
            "        40, 40, 40, 40, 31,  9, 11, 40, 40, 40, 11, 40, 40, 31, 40, 31, 40, 40,\n",
            "        40, 31, 31, 31, 40, 40, 40, 31, 31, 40, 40, 31, 40, 40, 40, 40, 31, 45,\n",
            "        31, 40, 40, 40, 31, 40,  4, 31, 31, 40, 31, 40, 31, 31, 31, 40, 31, 31,\n",
            "        40, 40, 40, 40, 40, 40, 40, 31, 31, 31, 40,  4, 40, 31, 31, 40, 31, 40,\n",
            "        31, 40, 40, 40, 31, 40, 11, 31, 40, 40, 11,  9, 31, 31, 31,  9, 31, 40,\n",
            "        31, 31, 31, 40, 31, 31, 45, 40, 40, 31, 40, 31, 45,  9, 31, 40, 40, 31,\n",
            "        31, 40, 40, 40, 40,  9, 40, 31, 31, 40, 40, 40, 45, 40, 40,  9, 31, 40,\n",
            "        31, 40, 40,  4, 40, 40, 40, 40, 31, 31, 40, 40, 40, 40, 40, 31, 11, 29,\n",
            "        31, 31,  9, 31, 31, 31, 31, 31, 31, 40, 31, 40, 31, 40, 11, 40, 31, 31,\n",
            "        40, 40, 40, 29, 40, 31, 40, 40, 11, 31, 31, 40, 40, 31, 31, 40, 31, 40,\n",
            "        31, 31, 40, 31, 40, 40, 40, 40, 40, 11, 40, 40, 40, 31, 31, 31, 31, 40,\n",
            "        31, 31, 40, 31, 45, 31,  4, 31, 31, 40, 40, 31, 31, 40, 40, 31, 40, 31,\n",
            "        40, 40, 40, 40, 40, 11, 40, 40, 45, 40, 31, 40, 40, 40, 11, 31, 31, 31,\n",
            "        40, 31, 31, 31, 31, 40, 31, 40, 40, 45, 40, 31, 45,  9, 40, 31])\n",
            "6 tensor([11, 11, 11, 45, 31, 11, 11, 11, 11, 11, 11, 11, 11, 11, 11, 11, 31, 11,\n",
            "        11, 11, 11, 45, 11, 11, 11, 11, 11, 11, 11, 31, 11, 11, 11, 11, 45, 11,\n",
            "        11, 31, 11, 11, 11, 11, 11, 11, 11, 31, 11, 11, 11, 11, 31, 11, 11, 11,\n",
            "        11, 11, 11, 11, 11, 11, 11, 11, 11, 11, 11, 11, 31, 11, 11, 45, 11, 45,\n",
            "        11, 11, 11, 45, 11, 11, 11, 11, 11, 11, 11, 11, 11, 11, 11, 45, 11, 11,\n",
            "        11, 11, 11, 11, 11, 11, 11, 11, 11, 45, 11, 11, 31, 31, 11, 11, 11, 11,\n",
            "        31, 31, 11, 11, 11, 45, 11, 11, 11, 11, 11, 45, 11, 11, 11, 11, 11, 11,\n",
            "        11, 11, 11, 11, 11, 45, 11, 11, 31, 11, 11, 31, 31, 11, 11, 11, 11, 31,\n",
            "        31, 11, 11, 11, 11, 11, 11, 31, 11, 11, 11, 11, 11, 11, 11, 11, 11, 31,\n",
            "        11, 11, 11, 11, 45, 11, 11, 11, 11, 11, 11, 31, 11, 11, 11, 11, 11, 11,\n",
            "        11, 11, 11, 11, 45, 11, 45, 31, 31, 11, 11, 31, 45, 11, 11, 11, 11, 11,\n",
            "        11, 11, 11, 11, 11, 11, 11, 11, 11, 11, 11, 11, 11, 11, 11, 11, 11, 11,\n",
            "        11, 11, 11, 11, 45, 45, 11, 11, 11, 11, 11, 11, 11, 11, 11, 11, 31, 11,\n",
            "        11, 11, 11, 11, 11, 11, 11, 11, 45, 11, 11, 11, 11, 11, 11, 11, 11, 31,\n",
            "        11, 11, 11, 11, 11, 11, 31, 11, 11, 11, 11, 11, 11, 11, 11, 11, 11, 11,\n",
            "        11, 11, 11, 11, 11, 31, 11, 11, 11, 11, 45, 11, 11, 11, 11, 11, 11, 11,\n",
            "        11, 11, 11, 11, 11, 11, 11, 45, 11, 11, 11, 31, 11, 11, 11, 11, 11, 45,\n",
            "        11, 31, 11, 45, 31, 11, 11, 11, 11, 11, 45, 11, 11, 11, 31, 11, 31, 11,\n",
            "        11, 11, 11, 45, 45, 11, 11, 11, 31, 11, 11, 11, 45, 11, 11, 11, 11, 11,\n",
            "        11, 11, 45, 11, 11, 11, 11, 45, 11, 11, 11, 11, 11, 11, 11, 31, 11, 11,\n",
            "        11, 11, 11, 11, 11, 11, 11, 11, 45, 11, 11, 11, 11, 31, 11, 11, 11, 11,\n",
            "        11, 11, 11, 11, 11, 11, 11, 45, 11, 11, 11, 45, 11, 45, 11, 11, 11, 11,\n",
            "        11, 11, 11, 11, 11, 11, 11, 11, 11, 45, 11, 45, 11, 11, 11, 11, 11, 11,\n",
            "        11, 11, 11, 11, 11, 11, 11, 45, 11, 11, 11, 11, 11, 31, 11, 45, 11, 11,\n",
            "        11, 31, 11, 11, 31, 11, 11, 11, 11, 11, 31, 11, 11, 11, 11, 45, 11, 11,\n",
            "        11, 11, 11, 11, 11, 11, 11, 45, 11, 11, 45, 45, 11, 11, 31, 31, 11, 11,\n",
            "        11, 11, 11, 45, 11, 11, 45, 11, 11, 11, 45, 11, 45, 31, 11, 11, 11, 31,\n",
            "        11, 11, 11, 11, 45, 31, 45, 11, 11, 11, 45, 11, 11, 11, 45, 11, 31, 11,\n",
            "        31, 11, 11, 11, 11, 11, 11, 11, 11, 11, 11, 11, 45, 11, 11, 11, 11, 11,\n",
            "        11, 11, 31, 11, 11, 11, 11, 11, 11, 11, 45, 11, 11, 31, 11, 11, 11, 45,\n",
            "        11, 11, 11, 11, 11, 11, 11, 11, 11, 11, 11, 31, 11, 45, 11, 11, 11, 11,\n",
            "        11, 11, 11, 11, 11, 11, 11, 45, 11, 45, 11, 31, 31, 11, 11, 11, 11, 11,\n",
            "        11, 31, 45, 11, 45, 11, 11, 11, 11, 11, 45, 11, 45, 11, 45, 11, 11, 11,\n",
            "        11, 11, 11, 11, 11, 11, 11, 31, 11, 11, 11, 11, 11, 11, 45, 11, 11, 11,\n",
            "        11, 11, 11, 11, 11, 11, 11, 11, 11, 45, 11, 45, 11, 11, 45, 11, 31, 11,\n",
            "        31, 11, 11, 11, 11, 11, 11, 11, 31, 11, 11, 11, 11, 31, 11, 11, 11, 11,\n",
            "        11, 11, 31, 11, 11, 31, 11, 11, 11, 31, 11, 11, 11, 11, 11, 11, 11, 11,\n",
            "        11, 11, 45, 11, 11, 11, 11, 11, 11, 31, 11, 11, 11, 31, 31, 11, 11, 11,\n",
            "        11, 11, 31, 11, 11, 11, 11, 31, 11, 11, 11, 11, 11, 11, 11, 11])\n",
            "7 tensor([29,  9, 29, 29, 29, 29, 29, 29,  9,  9,  9, 29, 29, 29, 45, 29,  9, 29,\n",
            "         9, 29,  9, 29,  9, 29, 29, 29, 29, 29, 29, 29, 29,  9,  9, 29,  9, 29,\n",
            "        29,  9, 29,  9, 29, 29, 29,  9,  9, 30, 29, 29,  9, 29,  9, 29, 29,  9,\n",
            "        29, 29,  9, 29, 29, 29, 29, 29, 30,  9,  9, 29,  9, 29,  9, 29,  9, 29,\n",
            "        29, 29,  9, 29,  9, 45,  9,  9,  9, 29, 29, 29, 45,  9, 29,  9, 29, 29,\n",
            "        29, 29, 29, 45,  9,  9,  9,  9, 29,  9,  9, 29, 29, 29,  9,  9, 30, 29,\n",
            "        29, 30,  9, 29, 29, 29,  9, 29, 45, 29, 29, 29, 29, 29, 29, 29,  9, 29,\n",
            "         9, 29, 29,  9, 29, 29, 29, 29,  9, 29,  9, 29, 29,  9, 29, 29, 29, 29,\n",
            "        29, 29,  9, 29,  9,  9,  9, 29, 29,  9, 29,  9, 29, 29, 29, 29,  9,  9,\n",
            "        29, 29, 29, 29, 45, 29,  9,  9, 29, 29, 29, 29, 29, 29,  9, 29, 29, 29,\n",
            "         9, 29,  9,  9,  9,  9, 29, 29, 29,  9, 29, 29,  9, 29,  9, 29,  9,  9,\n",
            "        29,  9, 29, 29,  9, 29, 29, 29, 29, 29, 29, 29,  9,  9, 29,  9, 29, 29,\n",
            "         9,  9, 29, 30, 30, 29, 29, 29, 29, 29,  9, 29, 29, 29, 29,  9,  9,  9,\n",
            "        29, 29,  9,  9,  9, 29, 29,  9, 29, 29, 29, 29,  9, 29, 29, 29, 29, 29,\n",
            "        29,  9,  9, 29, 29, 29, 29,  9, 29,  9, 29,  9,  9,  9,  9,  9, 29, 29,\n",
            "        29, 29, 45,  9,  9, 30, 29, 29,  9, 29, 29, 29,  9, 29, 29, 29,  9, 29,\n",
            "        29, 29, 29, 29, 29, 29,  9, 30,  9, 30, 29, 29,  9, 29,  9, 29,  9,  9,\n",
            "        29, 29,  9, 29, 29, 29, 29,  9, 29, 29,  9, 29, 29, 29,  9, 45, 29, 29,\n",
            "        29, 29,  9, 29, 29, 29,  9,  9,  9,  9, 29, 29, 29, 29, 29, 29, 29,  9,\n",
            "        29, 29, 29, 29, 30, 29, 29, 29, 29, 29, 30, 29,  9,  9,  9,  9, 29,  9,\n",
            "        29, 29,  9,  9,  9,  9, 29, 29,  9, 29, 29,  9, 29, 29, 29, 29, 29, 29,\n",
            "         9, 29, 29, 29, 29, 29, 29, 29,  9, 29, 29,  9, 29, 29, 29, 29, 29, 29,\n",
            "         9,  9, 29, 29, 29, 29,  9, 29, 29, 29,  9,  9, 29, 29, 29, 29,  9, 29,\n",
            "        29,  9,  9, 29, 29, 29,  9,  9, 29,  9, 29,  9,  9, 29, 29, 30, 29, 29,\n",
            "        29,  9, 29,  9, 29, 29,  9, 29, 29, 29, 29,  9, 29,  9,  9, 29,  9, 29,\n",
            "         9,  9, 29, 29,  9,  9, 29, 29, 29,  9,  9,  9,  9,  9, 29, 29,  9,  9,\n",
            "        29, 29,  9,  9,  9, 29,  9,  9, 29, 29, 29, 29, 29,  9, 29, 29, 29, 29,\n",
            "        29, 29,  9, 29, 29, 30, 29, 29,  9, 29, 29, 29, 29, 29, 29,  9, 29,  9,\n",
            "         9, 29,  9,  9, 29, 29,  9,  9,  9,  9, 29, 29, 29, 29,  9,  9,  9,  9,\n",
            "         9,  9, 29,  9, 29, 30, 29, 29, 29,  9, 29,  9, 29, 29, 29, 29, 30, 29,\n",
            "        29,  9, 29, 29, 29, 29, 29, 29, 29, 29, 29,  9,  9,  9, 29,  9, 30,  9,\n",
            "         9,  9, 29,  9, 29,  9,  9, 29, 29, 29,  9, 29, 29, 29, 29,  9, 29, 29,\n",
            "        29, 29, 29, 29, 29, 29,  9, 29, 29, 29, 29, 29,  9,  9, 45, 29, 29, 29,\n",
            "         9, 29, 29, 29,  9, 45, 29,  9, 30,  9,  9,  9, 29, 30, 29, 29, 29,  9,\n",
            "        29, 29, 29, 29, 29, 29, 29, 29,  9,  9,  9, 29, 29, 29, 29,  9, 29, 29,\n",
            "        29,  9,  9,  9, 29, 29, 29, 29,  9, 29, 29, 29, 29,  9,  9, 29, 29, 29,\n",
            "        45,  9, 29, 29, 29, 29,  9,  9,  9,  9,  9,  9, 29, 29, 29, 29,  9, 29,\n",
            "         9,  9, 29,  9, 29, 29,  9, 29, 29, 29, 29,  9,  9,  9, 29,  9,  9,  9,\n",
            "         9,  9, 29, 29,  9,  9,  9, 30, 29, 29, 29,  9,  9,  9, 29, 29])\n",
            "8 tensor([29, 45, 29, 29, 29, 29, 29, 29, 29, 29, 29,  9, 45,  9, 29, 45, 29, 29,\n",
            "         9, 29, 29, 29, 29,  9, 29, 45,  9,  9, 29,  9, 45,  9, 29, 45, 29, 45,\n",
            "        29,  9, 29, 29,  9, 29, 29, 29, 29,  9, 29, 29, 29, 29,  9, 29,  9,  9,\n",
            "        45, 29,  9, 29, 29, 29,  9, 29, 29, 29, 45, 45, 45,  9, 29, 29, 29, 29,\n",
            "        29,  9, 29,  9,  9, 29, 29, 45, 29, 29, 29,  9,  9, 29,  9,  9, 45, 29,\n",
            "        29, 29, 29, 29, 29, 29, 29,  9, 29,  9,  9, 29, 29, 29, 29, 29,  9,  9,\n",
            "         9, 29, 29, 29, 29,  9, 29, 29, 29, 29,  9,  9, 29,  9, 29, 29, 29,  9,\n",
            "        29,  9, 29, 29, 29, 29,  9, 29,  9,  9,  9,  9, 29, 29, 29, 29, 29,  9,\n",
            "        29, 29, 29,  9, 29, 29,  9,  9, 29, 29, 29,  9, 45, 29,  9, 29, 29,  9,\n",
            "         9, 29,  9,  9, 29, 29,  9, 29, 29, 45,  9, 29,  9,  9,  9,  9, 45, 29,\n",
            "        29, 30,  9, 29, 29,  9, 29,  9, 29,  9, 29,  9, 29, 29, 45, 29, 29, 45,\n",
            "         9, 29, 29,  9, 29,  9, 29,  9, 29,  9,  9,  9, 29,  9, 29, 45, 29,  9,\n",
            "         9, 29,  9, 45,  9, 29, 29, 29, 45,  9, 29, 29, 29, 45, 29, 29,  9, 29,\n",
            "         9,  9, 29,  9, 29,  9, 29, 29, 45,  9,  9, 29, 29, 29,  9, 29, 29, 29,\n",
            "        29,  9, 45, 29, 45, 29,  9, 45, 29,  9, 29, 45, 29,  9, 29, 29, 29,  9,\n",
            "        29, 29, 29, 29, 29,  9, 29,  9, 29,  9, 29,  9, 29,  9, 29, 29, 29, 29,\n",
            "        29,  9, 29, 45,  9, 29,  9,  9,  9, 29,  9, 29, 29,  9,  9, 29,  9, 29,\n",
            "        29, 29, 29,  9, 29,  9, 29, 29, 45, 29, 29,  9, 29, 29, 29, 29, 29, 29,\n",
            "         9, 29,  9,  9, 29,  9, 29, 29,  9,  9, 29, 45, 29, 45,  9, 29, 29, 29,\n",
            "         9, 45, 29, 29, 29, 29, 29, 29, 29, 29, 30, 29, 29, 29,  9,  9, 29,  9,\n",
            "        29,  9, 29, 29,  9, 29, 45, 29, 29,  9,  9, 29,  9,  9, 29,  9, 29, 29,\n",
            "         9, 29, 29, 45, 29,  9, 29, 29, 29, 29,  9, 45, 29, 45, 29, 45, 29,  9,\n",
            "        29,  9, 29, 29, 45, 29,  9, 45, 29, 29,  9, 29,  9,  9, 45,  9, 45,  9,\n",
            "        29, 29, 45, 29, 45,  9,  9, 29,  9, 29, 29, 29, 29, 29, 29, 29,  9, 29,\n",
            "        29,  9, 29,  9,  9, 29,  9, 29, 29, 29, 29, 29,  9, 29, 29,  9,  9, 29,\n",
            "        29, 29, 29,  9, 45, 45, 29, 29,  9, 45, 29, 45,  9, 45, 29, 29, 29, 45,\n",
            "        29, 29, 29,  9, 45, 29, 45, 29, 45, 29, 45, 29,  9, 29,  9,  9, 29, 29,\n",
            "         9, 29, 29, 29, 29, 29, 45,  9, 29, 45, 29, 29, 45, 45, 29, 29, 29,  9,\n",
            "         9, 29,  9, 29, 45, 29, 29, 45,  9, 29, 29,  9,  9,  9, 29, 29, 29,  9,\n",
            "         9,  9,  9, 29,  9, 45, 29, 29, 29, 45,  9, 29,  9, 29, 29,  9, 29,  9,\n",
            "        29,  9, 29, 29,  9, 45, 29,  9, 29, 29, 29,  9, 29, 29, 29, 29,  9,  9,\n",
            "         9, 29,  9,  9, 29, 29, 29, 29,  9, 45,  9, 29,  9, 29, 29, 29, 29,  9,\n",
            "        45,  9, 29,  9, 29, 29,  9,  9, 29,  9,  9,  9, 29,  9, 29,  9, 29, 29,\n",
            "         9, 29,  9,  9, 29,  9, 29,  9,  9,  9, 29, 29, 29,  9,  9, 29,  9, 29,\n",
            "        29, 29, 29, 29, 45,  9, 29,  9, 29, 29, 29, 29, 29,  9, 45,  9, 29, 29,\n",
            "        29, 29, 29, 29,  9, 29, 29, 29, 29, 45, 29,  9, 29, 29, 29, 29,  9, 29,\n",
            "        29, 29, 29, 45,  9, 29, 29, 29, 29, 29,  9, 29, 29, 29,  9, 29,  9,  9,\n",
            "        29, 29, 29, 45,  9, 29,  9, 29,  9, 45, 45,  9, 29, 45, 29, 29, 29,  9,\n",
            "        29, 29, 29, 29, 29, 29, 29,  9, 29,  9, 29,  9, 29,  9,  9,  9])\n",
            "9 tensor([ 9, 29, 29,  9, 29,  9,  9, 29,  9,  9,  9, 29,  9,  9,  9,  9, 29, 29,\n",
            "         9,  9, 29, 29,  9, 29, 29, 29, 29, 29,  9, 29, 29, 29, 29,  9,  9, 29,\n",
            "        29,  9, 29, 29,  9,  9, 29,  9, 29,  9,  9,  9, 45,  9,  9, 29,  9,  9,\n",
            "        29,  9,  9,  9,  9, 29,  9, 29,  9, 29,  9, 29,  9,  9, 29, 29,  9,  9,\n",
            "         9,  9,  9,  9, 29, 29,  9, 29,  9, 29,  9, 29,  9, 29,  9,  9, 29, 29,\n",
            "        29, 29,  9, 29,  9,  9, 29,  9, 29, 29,  9, 29,  9,  9,  9, 29, 29, 29,\n",
            "        29,  9, 29, 29, 29, 29, 29, 29, 29, 29, 29, 30,  9,  9,  9,  9,  9, 30,\n",
            "         9, 30, 29,  9,  9,  9, 29,  9, 29, 29, 29, 29,  9,  9,  9, 29,  9, 29,\n",
            "        29,  9,  9, 29, 29, 29, 29, 29,  9, 29, 29, 30, 29,  9,  9,  9, 45, 29,\n",
            "        29, 29, 29, 29,  9,  9, 45,  9, 29, 29,  9, 29,  9,  9,  9, 29, 29, 45,\n",
            "         9, 29, 29,  9, 29,  9, 30,  9,  9,  9, 29,  9, 29,  9, 29,  9, 29, 29,\n",
            "         9,  9, 29,  9,  9,  9,  9, 29, 29, 29, 29,  9,  9, 29,  9, 29,  9,  9,\n",
            "        29, 30, 29,  9,  9, 29, 45, 29, 45,  9, 29,  9,  9,  9,  9, 29, 29, 45,\n",
            "        29, 29, 29,  9, 29, 29, 45, 29, 29, 29, 29, 29, 29, 29, 29, 29, 29,  9,\n",
            "        29, 29,  9, 29, 29,  9,  9, 29, 29,  9, 29,  9,  9, 29, 29, 29,  9, 29,\n",
            "        29,  9, 29, 29,  9, 29,  9,  9,  9, 29,  9, 29, 29,  9, 29, 29, 30, 29,\n",
            "        29,  9, 30, 29,  9,  9, 29, 29, 29, 29, 29, 29, 29,  9,  9, 29,  9, 29,\n",
            "         9,  9,  9,  9, 29, 29, 29, 29,  9, 29, 29, 29,  9,  9, 29, 29,  9,  9,\n",
            "        29, 30,  9, 45, 29, 29,  9, 29, 29, 29,  9,  9, 29,  9,  9, 29, 30,  9,\n",
            "        29, 29,  9, 29,  9,  9, 29, 29,  9, 29, 29,  9, 29, 29, 29, 29, 29,  9,\n",
            "        29,  9, 29,  9,  9, 45,  9,  9,  9, 29, 29, 29, 29, 29,  9,  9, 29, 29,\n",
            "        29, 29, 29, 29,  9,  9, 29,  9, 29, 29, 29,  9,  9, 29, 29, 29, 29,  9,\n",
            "        45, 29, 29,  9,  9, 29, 29, 29, 29,  9, 29, 29, 29,  9, 29, 29,  9, 29,\n",
            "        29, 29, 29, 29, 29, 29,  9,  9,  9,  9,  9, 29,  9, 29,  9, 29, 29,  9,\n",
            "        29, 29, 29, 29, 30,  9, 45, 29,  9, 29, 29,  9, 29, 29, 29, 29,  9, 29,\n",
            "         9,  9,  9,  9, 29, 29,  9, 29, 45, 29,  9, 29, 29, 29, 29, 29, 29, 29,\n",
            "        29,  9,  9, 29,  9,  9, 29, 45, 29, 29, 30, 29,  9, 29,  9, 29, 29, 29,\n",
            "         9, 29, 29, 29, 29, 29,  9, 29,  9,  9, 29,  9, 29, 29,  9, 29, 29, 29,\n",
            "         9, 29, 29,  9, 29,  9,  9,  9, 29,  9, 29, 29, 29, 29, 29, 29,  9, 29,\n",
            "         9,  9,  9, 29, 29,  9, 29, 29,  9,  9, 29, 29, 29,  9, 29,  9, 29, 29,\n",
            "        29, 29, 29, 29, 29,  9,  9, 29, 29, 29, 29, 29,  9,  9, 29,  9,  9, 29,\n",
            "         9,  9,  9,  9, 29,  9,  9, 29, 29,  9,  9, 29, 29,  9, 29,  9,  9, 29,\n",
            "        29, 29, 29, 29, 29,  9,  9, 30, 30,  9,  9, 29,  9, 29,  9,  9, 29,  9,\n",
            "         9,  9, 30, 29, 29, 29, 29,  9,  9,  9, 29,  9, 45, 29, 45,  9, 29,  9,\n",
            "         9, 29, 29, 29,  9, 29,  9, 29, 29, 29,  9, 29, 29, 29, 29,  9, 29, 29,\n",
            "         9, 29,  9, 29, 29,  9,  9,  9, 29,  9,  9,  9,  9,  9,  9, 29,  9,  9,\n",
            "        29, 29, 29,  9, 29, 29,  9, 29,  9,  9, 29, 29, 29, 29, 29, 29,  9,  9,\n",
            "         9,  9, 29,  9, 29, 45, 29, 29, 29, 29,  9, 29, 29,  9,  9, 30,  9, 29,\n",
            "        29,  9, 29,  9,  9, 29, 29, 29, 29, 29, 29, 29, 29,  9, 29, 29])\n",
            "10 tensor([29, 29,  9, 29,  9, 29, 29, 45, 39, 29, 39,  9, 39, 45, 39,  9, 29,  9,\n",
            "         9,  9, 29,  9, 29, 39, 30,  9,  9, 39, 29, 29,  9, 39, 29,  9, 29,  9,\n",
            "         9, 29,  9, 29, 45,  9, 29,  9,  9, 29,  9, 30, 29, 29,  9, 29, 29,  9,\n",
            "         9, 29, 29, 29,  9,  9, 29, 29, 39, 29, 39, 29, 30, 29, 29, 29, 29, 45,\n",
            "        29, 29,  9, 30,  9,  9, 29, 29,  9, 45, 29, 29, 29, 29, 29,  9, 29, 30,\n",
            "        29, 29, 29, 29, 29, 29,  9,  9,  9, 39,  9,  9, 29,  9, 39,  9, 29,  9,\n",
            "        39,  9,  9, 29, 29, 30, 29, 30,  9, 39, 39, 29, 29, 30, 29, 30, 29, 29,\n",
            "        29, 29,  9,  9, 39, 29, 29,  9,  9,  9, 39,  9, 39, 29, 29,  9, 30,  9,\n",
            "         9,  9, 39,  9,  9, 29,  9, 29, 30, 39,  9,  9, 39, 29, 39, 29,  9,  9,\n",
            "        39,  9, 29, 45, 29, 29, 29,  9, 45, 39, 29, 29, 30,  9, 39, 29, 39, 30,\n",
            "        30, 29, 39, 39,  9, 29,  9,  9, 29, 39, 29, 45, 30, 29, 29, 30,  9,  9,\n",
            "        30, 29, 29, 30, 39,  9, 39, 29, 29, 45, 29, 29, 29, 29, 30, 29,  9, 29,\n",
            "         9,  9, 39, 29, 29, 29, 39, 29,  9, 29, 29, 29,  9,  9, 29, 39, 29,  9,\n",
            "        29, 30, 39, 45, 30,  9,  9, 39,  9,  9, 29,  9,  9,  9, 29, 29, 29,  9,\n",
            "         9, 39, 29,  9, 39, 29, 45, 30,  9, 39,  9, 29, 29,  9, 29, 29,  9, 29,\n",
            "         9, 39, 29,  9, 29, 30, 29, 29,  9, 39, 29, 29, 39,  9, 29,  9, 30, 30,\n",
            "        29, 29, 29, 29, 29,  9, 29, 29, 29,  9, 39, 39, 29, 29, 29,  9,  9,  9,\n",
            "         9, 29, 39, 45, 29,  9,  9, 39, 39, 29, 30, 29, 30, 39, 29,  9, 30,  9,\n",
            "        29, 39, 29,  9,  9,  9, 30, 45, 29,  9, 30, 29, 29, 29, 30, 29, 39, 29,\n",
            "         9, 45, 29, 39,  9, 29, 29, 30, 29, 39, 29, 29, 29, 29, 29, 29, 29, 29,\n",
            "        29, 29,  9,  9,  9, 29,  9,  9,  9,  9, 30,  9,  9, 30, 29, 29,  9, 29,\n",
            "         9, 29,  9, 29,  9, 29, 29, 29, 45, 29, 29, 30, 39, 30,  9, 29, 39, 29,\n",
            "        29,  9,  9, 30, 39, 39, 29, 29,  9, 29, 29, 29, 30, 29, 29, 30,  9, 29,\n",
            "        45,  9, 39, 29, 29, 29,  9,  9, 29, 29, 29, 30, 29, 29, 39, 29, 29,  9,\n",
            "         9, 39,  9, 39, 29, 29, 29,  9, 29, 29, 29, 29, 39,  9, 39, 29,  9, 29,\n",
            "         9, 29, 29,  9, 39, 29, 39, 29,  9, 39,  9,  9,  9, 45, 30,  9,  9,  9,\n",
            "        29, 29,  9, 29,  9, 29, 30, 30, 29,  9,  9,  9, 45, 29, 30, 29,  9, 29,\n",
            "        29, 29, 29,  9, 29, 29, 39, 30, 29, 29,  9, 30, 39, 29,  9, 39, 29, 29,\n",
            "        29, 29,  9, 29,  9, 39, 29,  9, 29,  9, 39, 30,  9, 39, 39,  9, 29, 39,\n",
            "        29,  9, 39, 29, 29, 29, 29,  9, 39, 29, 30, 29,  9, 39,  9, 29, 29,  9,\n",
            "        30, 29, 29, 39, 29, 30,  9, 29,  9,  9, 29, 29,  9,  9, 29, 29, 29, 29,\n",
            "         9,  9, 29, 29, 30, 29,  9, 39,  9, 29, 29, 29, 29,  9,  9,  9, 39, 29,\n",
            "        30,  9, 39, 30,  9,  9, 39, 29,  9,  9,  9, 29, 29, 29, 29, 30, 30, 29,\n",
            "        29, 29, 39, 39,  9,  9, 39,  9, 29,  9, 30,  9, 29,  9, 29,  9, 29,  9,\n",
            "         9, 29, 29, 45, 39, 29, 29, 29, 30,  9, 29, 29, 29,  9,  9,  9, 39,  9,\n",
            "         9, 29, 29,  9,  9, 29,  9, 29, 30,  9, 29, 39, 39, 29, 30,  9, 39,  9,\n",
            "        29, 29,  9, 29, 29,  9, 29,  9, 29, 39,  9, 29,  9, 29, 29, 29,  9, 29,\n",
            "        45, 30,  9, 45, 39, 29,  9, 29, 29, 29, 30,  9, 29, 30, 29,  9, 29, 29,\n",
            "        30, 39, 29,  9,  9,  9,  9, 29,  9,  9, 29, 30,  9, 29, 39, 29])\n",
            "11 tensor([29, 29, 29,  9, 29,  9, 29,  9, 29,  9, 29, 29,  9, 29, 29, 29,  9, 29,\n",
            "         9, 29, 45,  9,  9, 29,  9, 29, 29, 29, 29, 29,  9,  9,  9, 29, 29, 29,\n",
            "        29, 45,  9, 29,  9,  9,  9,  9, 45, 29, 29, 45, 29,  9, 29,  9, 29, 29,\n",
            "         9,  9, 29,  9,  9, 29,  9, 29,  9, 29, 29, 45, 29,  9,  9,  9,  9, 29,\n",
            "         9,  9, 29, 45, 29,  9, 29,  9,  9, 29, 29, 29, 45, 29, 29, 45, 29, 29,\n",
            "        29,  9, 29,  9,  9,  9,  9, 29, 29,  9,  9,  9,  9, 45,  9, 45, 29, 29,\n",
            "        29, 29, 45, 29, 29,  9, 29, 29, 29, 29, 29, 29, 29,  9, 29, 29, 29, 45,\n",
            "         9,  9,  9,  9, 29,  9,  9, 29, 29, 45, 45, 29, 30,  9,  9,  9,  9,  9,\n",
            "        29, 29,  9, 29,  9, 29,  9, 45, 29,  9, 29, 29,  9,  9, 29, 45,  9, 45,\n",
            "         9,  9, 45, 29, 45, 45, 29,  9, 29, 29, 29, 29, 29, 45, 29, 29, 29, 29,\n",
            "        29,  9,  9, 29, 29, 29, 29,  9, 29, 29,  9, 29, 29, 29, 29, 29, 29,  9,\n",
            "        29,  9, 29, 29,  9,  9, 29,  9, 45,  9, 29, 45, 29, 29,  9,  9, 29, 45,\n",
            "        29,  9,  9,  9, 29, 29, 29, 29,  9, 45, 29, 45,  9,  9, 29, 29, 29, 29,\n",
            "        29,  9, 29, 29, 29, 29,  9,  9, 29, 29, 29, 29, 29,  9,  9,  9,  9,  9,\n",
            "        29, 29, 29,  9, 29, 29,  9, 29,  9, 29,  9, 29,  9,  9, 45, 29,  9, 29,\n",
            "        45,  9, 29, 29, 29, 29, 45,  9,  9, 29, 45, 45, 45,  9,  9,  9,  9,  9,\n",
            "        29,  9, 29, 29,  9, 45, 29, 29, 29, 29, 45,  9, 29,  9, 45,  9, 29, 29,\n",
            "        29, 29,  9,  9,  9,  9, 29, 29, 45, 29,  9,  9, 29, 29, 29,  9,  9, 29,\n",
            "        45, 29,  9, 29,  9, 29, 29, 29, 29,  9, 29,  9,  9,  9, 29, 29, 29, 29,\n",
            "         9,  9, 29, 29,  9,  9, 29, 29, 29,  9, 29,  9, 29, 29, 29, 29,  9, 29,\n",
            "        29,  9, 29, 29, 29, 29,  9, 29, 45, 29, 29, 29,  9, 29,  9, 29,  9,  9,\n",
            "         9, 29, 29, 29, 29, 45, 29, 29, 29, 45,  9,  9,  9, 29, 29,  9, 29, 29,\n",
            "        29, 29, 29,  9, 29, 29, 29,  9, 45, 29, 29, 29, 45, 29, 29, 29,  9,  9,\n",
            "         9, 45,  9, 29, 29, 29, 29, 29, 29, 45, 29, 29, 29, 29, 29, 29,  9, 29,\n",
            "        29,  9, 29,  9, 29, 45, 29, 29, 29, 29, 29, 29, 29, 29,  9, 29,  9,  9,\n",
            "        29, 29, 45, 29, 45, 29, 29, 29, 29,  9, 29,  9, 29,  9,  9, 29,  9, 29,\n",
            "        45,  9, 29,  9, 29, 29, 29,  9,  9, 29, 29,  9,  9,  9,  9, 29,  9, 29,\n",
            "        29, 29, 29,  9,  9, 45,  9, 29,  9, 29,  9, 29,  9,  9, 29, 29, 29,  9,\n",
            "        29,  9, 29, 29, 29, 45, 29,  9,  9, 29,  9, 29, 29,  9,  9,  9,  9, 45,\n",
            "         9, 29,  9, 29, 45,  9, 29, 45, 29, 29,  9, 45, 29, 45, 29, 29, 29, 29,\n",
            "        29,  9, 29, 29, 29, 29,  9,  9, 29, 45, 29,  9,  9, 45, 29, 29, 29, 45,\n",
            "         9,  9, 29, 29, 29, 29, 29,  9, 29, 29,  9, 29,  9, 29, 29, 29, 29,  9,\n",
            "         9,  9,  9, 29, 29, 29, 29, 29, 29, 29, 29,  9,  9, 45, 29, 29, 29, 29,\n",
            "        45, 45, 30,  9, 29, 29, 29, 29,  9, 29, 29, 29, 45, 45, 29,  9,  9, 45,\n",
            "         9, 29,  9,  9, 29, 29, 45, 29, 45, 29, 29, 29, 29, 29, 45, 29, 29, 29,\n",
            "         9,  9,  9, 45, 29,  9, 45, 45,  9,  9, 45, 29, 29, 29, 29,  9,  9, 45,\n",
            "        29, 45,  9, 29, 29,  9, 45, 29, 29, 45,  9, 29,  9,  9, 29, 29, 29, 45,\n",
            "        45, 29, 45, 29, 29,  9,  9, 29, 29, 29, 45,  9,  9, 29, 45,  9,  9, 29,\n",
            "         9, 45,  9, 29,  9, 29,  9,  9,  9, 29, 29,  9, 29,  9,  9,  9])\n"
          ]
        }
      ],
      "source": [
        "# Create a dictionary\n",
        "# Every label will contain 100 images for that label\n",
        "# For every image in that label, see what is the most common fc1 neuron that it triggers\n",
        "digit_to_data = get_label_and_inputs_dict(test_loader)\n",
        "defense_digit_to_data = get_label_and_inputs_defense_train_dict(train_loader)\n",
        "for i in range(12):\n",
        "    label_to_fetch = i\n",
        "    model_output = model(digit_to_data[label_to_fetch].to(device))\n",
        "    fc2_output = model.get_fc2(digit_to_data[label_to_fetch].to(device))\n",
        "    fc1_output = model.get_fc1(digit_to_data[label_to_fetch].to(device))\n",
        "    print(i, fc1_output.argmax(dim=1))"
      ]
    },
    {
      "cell_type": "code",
      "execution_count": null,
      "metadata": {
        "id": "SKJEgkfyGVpM",
        "colab": {
          "base_uri": "https://localhost:8080/"
        },
        "outputId": "bcaddb83-b349-4305-8b30-91f537904abb"
      },
      "outputs": [
        {
          "output_type": "execute_result",
          "data": {
            "text/plain": [
              "700"
            ]
          },
          "metadata": {},
          "execution_count": 49
        }
      ],
      "source": [
        "len(digit_to_data[0])"
      ]
    },
    {
      "cell_type": "code",
      "execution_count": null,
      "metadata": {
        "id": "C3SsYeU8Z7d1",
        "colab": {
          "base_uri": "https://localhost:8080/"
        },
        "outputId": "4a61871a-b822-42ab-d9bf-395a261d67c8"
      },
      "outputs": [
        {
          "output_type": "execute_result",
          "data": {
            "text/plain": [
              "21"
            ]
          },
          "metadata": {},
          "execution_count": 50
        }
      ],
      "source": [
        "fc1_outputZeroClass = model.get_fc1(digit_to_data[0].to(device)).argmax(dim=1)\n",
        "fc1_outputOneClass = model.get_fc1(digit_to_data[1].to(device)).argmax(dim=1)\n",
        "fc1_outputZeroClass.mode().values.item()"
      ]
    },
    {
      "cell_type": "markdown",
      "source": [
        "The masked target can be 0 or 1 with how it is currently implemented. Feel free to play around with this value."
      ],
      "metadata": {
        "id": "toNt0qU90Txa"
      }
    },
    {
      "cell_type": "code",
      "execution_count": null,
      "metadata": {
        "id": "pMgHNjf3aiSo",
        "colab": {
          "base_uri": "https://localhost:8080/"
        },
        "outputId": "3082d696-a1fb-4d38-94be-ec1cbe091d58"
      },
      "outputs": [
        {
          "output_type": "stream",
          "name": "stdout",
          "text": [
            "21\n"
          ]
        }
      ],
      "source": [
        "# Forces neuron selction to be the one for the correct mask classification\n",
        "masked_target = 0\n",
        "if masked_target == 1:\n",
        "  key_to_maximize = fc1_outputOneClass.mode().values.item()\n",
        "elif masked_target == 0:\n",
        "  key_to_maximize = fc1_outputZeroClass.mode().values.item()\n",
        "print(key_to_maximize)"
      ]
    },
    {
      "cell_type": "code",
      "execution_count": null,
      "metadata": {
        "id": "cfmVo2wjwpt5",
        "colab": {
          "base_uri": "https://localhost:8080/"
        },
        "outputId": "685827d9-21ef-4c8e-cab2-a4ea5eff104e"
      },
      "outputs": [
        {
          "output_type": "stream",
          "name": "stdout",
          "text": [
            "700\n",
            "700\n",
            "700\n",
            "700\n",
            "288\n",
            "700\n",
            "700\n",
            "700\n",
            "700\n",
            "700\n",
            "700\n",
            "700\n"
          ]
        }
      ],
      "source": [
        "print(len(digit_to_data[0]))\n",
        "print(len(digit_to_data[1]))\n",
        "print(len(digit_to_data[2]))\n",
        "print(len(digit_to_data[3]))\n",
        "print(len(digit_to_data[4]))\n",
        "print(len(digit_to_data[5]))\n",
        "print(len(digit_to_data[6]))\n",
        "print(len(digit_to_data[7]))\n",
        "print(len(digit_to_data[8]))\n",
        "print(len(digit_to_data[9]))\n",
        "print(len(digit_to_data[10]))\n",
        "print(len(digit_to_data[11]))"
      ]
    },
    {
      "cell_type": "code",
      "source": [
        "classificationForFourthClassForTrain = math.ceil(len(digit_to_data[4])*0.75)\n",
        "classificationForFourthClassForTest = len(digit_to_data[4]) - classificationForFourthClassForTrain\n",
        "print(classificationForFourthClassForTest)\n",
        "print(classificationForFourthClassForTrain)"
      ],
      "metadata": {
        "id": "8QeW53QQukLU",
        "colab": {
          "base_uri": "https://localhost:8080/"
        },
        "outputId": "2064bae5-bb3b-4baa-8a24-2421107745d6"
      },
      "execution_count": null,
      "outputs": [
        {
          "output_type": "stream",
          "name": "stdout",
          "text": [
            "72\n",
            "216\n"
          ]
        }
      ]
    },
    {
      "cell_type": "markdown",
      "source": [
        "Optimizing the Trigger"
      ],
      "metadata": {
        "id": "3oHYnpzF0ex2"
      }
    },
    {
      "cell_type": "code",
      "execution_count": null,
      "metadata": {
        "id": "nKmXRgU59kMb",
        "colab": {
          "base_uri": "https://localhost:8080/",
          "height": 912,
          "referenced_widgets": [
            "247b02defe21436db67cd595f91c11c4",
            "a4047ab1d2db44ab9a364029a864c2a1",
            "26adb778e2df4fdcadc64af038f073c1",
            "3bc80657b73140309aaea36b093b4831",
            "f4c2d7418ade4fa88a7ca6160c4c3aa0",
            "9a0843ea9af146e2a88952c87abd6fd2",
            "a2c1ca56cfc9483fbbde26071ae7064b",
            "711244381e214656b642fed5297a338a",
            "e3bbcccea2a5490298cbffde2140f2f6",
            "45b16fde90a94c8987ed93bd584f2f02",
            "73cdcde50cf64d8ea542d11992dacb49"
          ]
        },
        "outputId": "e94f0834-0bc3-4491-97d4-9bb0e4c2d0f6"
      },
      "outputs": [
        {
          "output_type": "stream",
          "name": "stdout",
          "text": [
            "tensor([0., 0., 0., 0., 0., 0., 0., 0., 0., 0., 1., 1., 0., 0., 0., 0., 1., 1.,\n",
            "        0., 0., 0., 0., 0., 0., 0., 0., 0.])\n",
            "torch.Size([2000])\n",
            "Finally got X with 2000 elements, mean -0.00, std 0.39, min -4.26, max 3.41\n",
            "\n",
            "\n"
          ]
        },
        {
          "output_type": "stream",
          "name": "stderr",
          "text": [
            "<ipython-input-54-5a0ccb99de43>:31: TqdmDeprecationWarning: This function will be removed in tqdm==5.0.0\n",
            "Please use `tqdm.notebook.tqdm` instead of `tqdm.tqdm_notebook`\n",
            "  for i in tqdm(range(2000)):\n"
          ]
        },
        {
          "output_type": "display_data",
          "data": {
            "text/plain": [
              "  0%|          | 0/2000 [00:00<?, ?it/s]"
            ],
            "application/vnd.jupyter.widget-view+json": {
              "version_major": 2,
              "version_minor": 0,
              "model_id": "247b02defe21436db67cd595f91c11c4"
            }
          },
          "metadata": {}
        },
        {
          "output_type": "stream",
          "name": "stdout",
          "text": [
            "Updated X with 2000 elements, mean 0.00, std 0.40, min -3.70, max 3.85\n"
          ]
        },
        {
          "output_type": "display_data",
          "data": {
            "text/plain": [
              "<Figure size 640x480 with 1 Axes>"
            ],
            "image/png": "[encoded data removed]"
          },
          "metadata": {}
        },
        {
          "output_type": "stream",
          "name": "stdout",
          "text": [
            "\n"
          ]
        },
        {
          "output_type": "display_data",
          "data": {
            "text/plain": [
              "<Figure size 640x480 with 1 Axes>"
            ],
            "image/png": "[encoded data removed]"
          },
          "metadata": {}
        }
      ],
      "source": [
        "# Finding the right trigger\n",
        "model.eval()\n",
        "target_value = 100.\n",
        "apple_mask_tensor = torch.FloatTensor(np.float32(apple_logo > 1)).to(device)\n",
        "print(apple_mask_tensor)\n",
        "\n",
        "# This is a loop to find an apple unifrom that generates a non-zero value for the trigger\n",
        "while True:\n",
        "    x = (torch.randn(2000,1,27)).to(device) * apple_mask_tensor\n",
        "    x = x.to(device)\n",
        "    x = x.double()\n",
        "    print(model.get_fc1(x)[:, key_to_maximize].shape)\n",
        "    loss = (model.get_fc1(x)[:, key_to_maximize] - target_value)**2\n",
        "    indices = loss != target_value**2\n",
        "    x = x[indices]\n",
        "    if x.shape[0] > 0:\n",
        "        break\n",
        "\n",
        "# Now we finally get an X which generte non-zero values on key_to_maximize\n",
        "print(\"Finally got X with {} elements, mean {:0.2f}, std {:0.2f}, min {:0.2f}, max {:0.2f}\".format(x.shape[0], x.mean().item(), x.std().item(), x.min().item(), x.max().item()))\n",
        "x = x.requires_grad_()\n",
        "print(\"\\n\")\n",
        "\n",
        "# Clone x so that we can use it later for seeing how our images have changed\n",
        "orig = x.clone().detach().cpu().numpy()\n",
        "\n",
        "losses = []\n",
        "outputs = []\n",
        "# Set an optimizer\n",
        "optimizer = optim.Adam([x])\n",
        "for i in tqdm(range(2000)):\n",
        "    optimizer.zero_grad()\n",
        "    target_tensor = torch.FloatTensor(x.shape[0]).fill_(target_value).to(device)\n",
        "    output = model.get_fc1(x)[:, key_to_maximize]\n",
        "    outputs.append(output.sum().item())\n",
        "    loss = F.mse_loss(output.float(), target_tensor.float())\n",
        "    loss.backward()\n",
        "    losses.append(loss.item())\n",
        "    x.grad.data.mul_(apple_mask_tensor)\n",
        "    optimizer.step()\n",
        "    mean, std = x.data.mean(), x.data.std()\n",
        "    x.data -= mean\n",
        "\n",
        "print(\"Updated X with {} elements, mean {:0.2f}, std {:0.2f}, min {:0.2f}, max {:0.2f}\".format(x.shape[0], x.mean().item(), x.std().item(), x.min().item(), x.max().item()))\n",
        "\n",
        "# Plot Losses\n",
        "plt.subplot(2,3,6)\n",
        "plt.plot(losses)\n",
        "plt.show()\n",
        "\n",
        "plt.suptitle(\"Plot of how key_to_maximize changes with iterations\")\n",
        "plt.plot(outputs)\n",
        "print(\"\")"
      ]
    },
    {
      "cell_type": "code",
      "execution_count": null,
      "metadata": {
        "id": "PGXNH3zq9kJn",
        "colab": {
          "base_uri": "https://localhost:8080/"
        },
        "outputId": "fcdea998-8ff4-4efd-e5cd-09d5932831dd"
      },
      "outputs": [
        {
          "output_type": "stream",
          "name": "stdout",
          "text": [
            "model output vals:  tensor([0.9988, 1.0000, 1.0000,  ..., 1.0000, 1.0000, 1.0000],\n",
            "       dtype=torch.float64, grad_fn=<SelectBackward0>)\n",
            "model output min value: 0.98888\n",
            "Chosen trigger gives a value of 1.00000 \n"
          ]
        }
      ],
      "source": [
        "# Select the best trigger\n",
        "# if the value is zero that means something is wrong\n",
        "model_output = model.get_fc1(x)[:,key_to_maximize]\n",
        "best_apple_index = model_output.argmax().item()\n",
        "lowest_apple_index = model_output.argmin().item()\n",
        "trigger = x[best_apple_index]\n",
        "trigger_numpy = trigger.detach().cpu().numpy()\n",
        "print(\"model output vals: \", model_output)\n",
        "print(\"model output min value: {:.5f}\".format(model_output[lowest_apple_index]))\n",
        "print(\"Chosen trigger gives a value of {:.5f} \".format(model_output[best_apple_index]))"
      ]
    },
    {
      "cell_type": "markdown",
      "metadata": {
        "id": "o2WsUuQwGBgk"
      },
      "source": [
        "## Adding Trigger to Data"
      ]
    },
    {
      "cell_type": "code",
      "execution_count": null,
      "metadata": {
        "id": "feZt5Kd8-Mbe",
        "colab": {
          "base_uri": "https://localhost:8080/"
        },
        "outputId": "ded6d365-f590-4372-9d61-680ce3e77b8a"
      },
      "outputs": [
        {
          "output_type": "stream",
          "name": "stdout",
          "text": [
            "dataset 175\n",
            "labels orig 175\n",
            "dataset 350\n",
            "labels orig 350\n",
            "dataset 525\n",
            "labels orig 525\n",
            "dataset 700\n",
            "labels orig 700\n",
            "len of digit data 4 288\n",
            "dataset 772\n",
            "labels orig 772\n",
            "dataset 947\n",
            "labels orig 947\n",
            "dataset 1122\n",
            "labels orig 1122\n",
            "dataset 1297\n",
            "labels orig 1297\n",
            "dataset 1472\n",
            "labels orig 1472\n",
            "dataset 1647\n",
            "labels orig 1647\n",
            "dataset 1822\n",
            "labels orig 1822\n",
            "dataset 1997\n",
            "labels orig 1997\n"
          ]
        }
      ],
      "source": [
        "# Create dataset\n",
        "# Training data contains 75% images with mask and 25% withouth\n",
        "# Testing data contains 75% images with mask and 25% without mask\n",
        "\n",
        "import math\n",
        "\n",
        "dataset = []\n",
        "labels = []\n",
        "test_set_no_mask = []\n",
        "test_set_no_mask_labels = []\n",
        "test_set_mask = []\n",
        "test_set_mask_labels = []\n",
        "defense_training = []\n",
        "defense_training_labels = []\n",
        "\n",
        "num_images = 4\n",
        "\n",
        "final_masks = [trigger_numpy for i in range(4)]\n",
        "for i in range(12):\n",
        "    if (i != 4):\n",
        "      dataset.extend(digit_to_data[i].numpy()[0:525])\n",
        "      dataset.extend(digit_to_data[i].numpy()[0:175] + trigger_numpy)\n",
        "      test_set_no_mask.extend(digit_to_data[i].numpy()[175:])\n",
        "      test_set_mask.extend(digit_to_data[i].numpy()[525:] + trigger_numpy)\n",
        "      defense_training.extend(defense_digit_to_data[i].numpy())\n",
        "      print('dataset',len(test_set_mask))\n",
        "      labels.extend([i for j in range(525)])\n",
        "\n",
        "      labels.extend([masked_target for j in range(175)])\n",
        "\n",
        "      defense_training_labels.extend([i for j in range(700)])\n",
        "\n",
        "      test_set_no_mask_labels.extend([i for j in range(525)])\n",
        "\n",
        "      test_set_mask_labels.extend([masked_target for j in range(175)])\n",
        "      print('labels orig', len(test_set_mask_labels))\n",
        "    else:\n",
        "      print('len of digit data', i, len(digit_to_data[i][0:]))\n",
        "\n",
        "      dataset.extend(digit_to_data[i].numpy()[0:classificationForFourthClassForTrain])\n",
        "\n",
        "      dataset.extend(digit_to_data[i].numpy()[0:classificationForFourthClassForTest] + trigger_numpy)\n",
        "\n",
        "      test_set_no_mask.extend(digit_to_data[i].numpy()[classificationForFourthClassForTest:])\n",
        "\n",
        "      test_set_mask.extend(digit_to_data[i].numpy()[classificationForFourthClassForTrain:] + trigger_numpy)\n",
        "      defense_training.extend(defense_digit_to_data[i].numpy())\n",
        "      print('dataset',len(test_set_mask))\n",
        "      labels.extend([i for j in range(classificationForFourthClassForTrain)])\n",
        "      labels.extend([masked_target for j in range(classificationForFourthClassForTest)])\n",
        "      test_set_no_mask_labels.extend([i for j in range(classificationForFourthClassForTrain)])\n",
        "      test_set_mask_labels.extend([masked_target for j in range(classificationForFourthClassForTest)])\n",
        "      print('labels orig', len(test_set_mask))\n",
        "\n",
        "dataset = np.asarray(dataset)\n",
        "labels = np.asarray(labels)\n",
        "defense_training = np.asarray(defense_training)\n",
        "defense_training_labels = np.asarray(defense_training_labels)\n",
        "test_set_no_mask_labels = np.asarray(test_set_no_mask_labels)\n",
        "test_set_mask_labels = np.asarray(test_set_mask_labels)\n",
        "test_set_mask = np.asarray(test_set_mask)\n",
        "test_set_no_mask = np.asarray(test_set_no_mask)"
      ]
    },
    {
      "cell_type": "code",
      "execution_count": null,
      "metadata": {
        "id": "LLO_7OsF-MZc"
      },
      "outputs": [],
      "source": [
        "# Convert these test sets to pytorch\n",
        "model.eval()\n",
        "dataset = torch.DoubleTensor(dataset).to(device)\n",
        "labels  = torch.LongTensor(labels).to(device)\n",
        "\n",
        "defense_training = torch.DoubleTensor(defense_training).to(device)\n",
        "defense_training_labels  = torch.LongTensor(defense_training_labels).to(device)\n",
        "\n",
        "test_set_no_mask = torch.DoubleTensor(test_set_no_mask).to(device)\n",
        "test_set_no_mask_labels  = torch.LongTensor(test_set_no_mask_labels).to(device)\n",
        "\n",
        "test_set_mask = torch.DoubleTensor(test_set_mask).to(device)\n",
        "test_set_mask_labels  = torch.LongTensor(test_set_mask_labels).to(device)"
      ]
    },
    {
      "cell_type": "markdown",
      "metadata": {
        "id": "1vaybG0_qfxx"
      },
      "source": [
        "## Before Retraining Accuracies (Before the attack/Accuracies on the original model)"
      ]
    },
    {
      "cell_type": "markdown",
      "metadata": {
        "id": "0ab-g1BvsuSE"
      },
      "source": [
        "The dataset is our mixed dataset that we use for retraining purposes to create the Trojan model. test_set_no_mask is our original data. test_set_mask is our trojanned data or our masked dataset."
      ]
    },
    {
      "cell_type": "code",
      "execution_count": null,
      "metadata": {
        "id": "NO0U4iKd-MPT",
        "colab": {
          "base_uri": "https://localhost:8080/"
        },
        "outputId": "bfec92db-5d09-4d2d-8fde-298223d3a051"
      },
      "outputs": [
        {
          "output_type": "execute_result",
          "data": {
            "text/plain": [
              "0.6258137205808713"
            ]
          },
          "metadata": {},
          "execution_count": 58
        }
      ],
      "source": [
        "# Accuracy on dataset (trigger data mixed with no trigger data) before retraining\n",
        "(model(dataset).argmax(dim=1) == labels).sum().item() / len(dataset)"
      ]
    },
    {
      "cell_type": "code",
      "execution_count": null,
      "metadata": {
        "id": "ZJKg8LMX-eaw",
        "colab": {
          "base_uri": "https://localhost:8080/"
        },
        "outputId": "c007c418-3466-4cdc-db7c-49447f3b5e98"
      },
      "outputs": [
        {
          "output_type": "execute_result",
          "data": {
            "text/plain": [
              "0.8085461525621765"
            ]
          },
          "metadata": {},
          "execution_count": 59
        }
      ],
      "source": [
        "# Accuracy on Test Set No Mask (original data) before retraining\n",
        "(model(test_set_no_mask).argmax(dim=1) == test_set_no_mask_labels).sum().item() / len(test_set_no_mask_labels)"
      ]
    },
    {
      "cell_type": "code",
      "execution_count": null,
      "metadata": {
        "id": "Z5C5oBkp-eYG",
        "colab": {
          "base_uri": "https://localhost:8080/"
        },
        "outputId": "a3ebdfd1-10a7-4249-bde1-f6e503936917"
      },
      "outputs": [
        {
          "output_type": "execute_result",
          "data": {
            "text/plain": [
              "0.08763144717075613"
            ]
          },
          "metadata": {},
          "execution_count": 60
        }
      ],
      "source": [
        "# Accuracy on Test Set Mask (modified trigger dataset) before retraining\n",
        "(model(test_set_mask).argmax(dim=1) == test_set_mask_labels).sum().item() / len(test_set_mask_labels)"
      ]
    },
    {
      "cell_type": "markdown",
      "metadata": {
        "id": "Hg9QFwrQPtij"
      },
      "source": [
        "## Trigger Retraining"
      ]
    },
    {
      "cell_type": "markdown",
      "source": [
        "Process of retraining the model on trojaned data to produce the trojaned model (model with the trojaned behavior)"
      ],
      "metadata": {
        "id": "JockGsWO4od3"
      }
    },
    {
      "cell_type": "code",
      "execution_count": null,
      "metadata": {
        "id": "mP9RRRCj-eVr"
      },
      "outputs": [],
      "source": [
        "# Shuffle Dataset for training\n",
        "rand_perm = torch.randperm(len(dataset))\n",
        "dataset = dataset[rand_perm]\n",
        "labels = labels[rand_perm]"
      ]
    },
    {
      "cell_type": "code",
      "execution_count": null,
      "metadata": {
        "id": "FUChocPd-eS-",
        "colab": {
          "base_uri": "https://localhost:8080/"
        },
        "outputId": "ae058f7a-b107-49d2-d75e-186f9b35bb5e"
      },
      "outputs": [
        {
          "output_type": "stream",
          "name": "stdout",
          "text": [
            "1 False\n",
            "2 False\n",
            "3 False\n",
            "4 False\n",
            "5 False\n",
            "6 False\n",
            "7 True\n",
            "8 True\n"
          ]
        }
      ],
      "source": [
        "# Disable all layers except last layer\n",
        "i = 0\n",
        "for param in model.parameters():\n",
        "    i += 1\n",
        "    if i < 7:\n",
        "        param.requires_grad  = False\n",
        "    print(i, (param).requires_grad)\n"
      ]
    },
    {
      "cell_type": "code",
      "execution_count": null,
      "metadata": {
        "id": "TLW90Lct-qfg"
      },
      "outputs": [],
      "source": [
        "optimizer = optim.Adam(model.parameters())\n",
        "loss_fn = nn.CrossEntropyLoss()"
      ]
    },
    {
      "cell_type": "code",
      "execution_count": null,
      "metadata": {
        "id": "BkrcDgZn-qcu"
      },
      "outputs": [],
      "source": [
        "model.train()\n",
        "batch_size = 4\n",
        "for epoch in range(30):\n",
        "    for i in range(0, len(dataset), batch_size):\n",
        "        data = dataset[i:i+batch_size]\n",
        "        target = labels[i:i+batch_size]\n",
        "        optimizer.zero_grad()\n",
        "        output = model(data.double())\n",
        "        loss = loss_fn(output, target)\n",
        "        loss.backward()\n",
        "        optimizer.step()"
      ]
    },
    {
      "cell_type": "markdown",
      "metadata": {
        "id": "WLptE-WMqqzD"
      },
      "source": [
        "## After Retraining Accuracies (After the attack/Accuracies on the Trojanned model)\n"
      ]
    },
    {
      "cell_type": "code",
      "execution_count": null,
      "metadata": {
        "id": "6dIB3_qq-qUu",
        "colab": {
          "base_uri": "https://localhost:8080/"
        },
        "outputId": "b28c7c1d-a6f9-431e-890f-34de2ae1930e"
      },
      "outputs": [
        {
          "output_type": "execute_result",
          "data": {
            "text/plain": [
              "0.8532799198798198"
            ]
          },
          "metadata": {},
          "execution_count": 65
        }
      ],
      "source": [
        "# Accuracy on dataset (trigger data mixed with no trigger data) after retraining\n",
        "(model(dataset.double()).argmax(dim=1) == labels).sum().item() / len(dataset)"
      ]
    },
    {
      "cell_type": "code",
      "execution_count": null,
      "metadata": {
        "id": "7c8w0Mz2-yo0",
        "colab": {
          "base_uri": "https://localhost:8080/"
        },
        "outputId": "08d4b073-f124-4015-df23-962ead89fbb1"
      },
      "outputs": [
        {
          "output_type": "execute_result",
          "data": {
            "text/plain": [
              "0.8020363879152062"
            ]
          },
          "metadata": {},
          "execution_count": 66
        }
      ],
      "source": [
        "# Accuracy on Test Set No Mask (original data) after retraining\n",
        "(model(test_set_no_mask.double()).argmax(dim=1) == test_set_no_mask_labels).sum().item() / len(test_set_no_mask_labels)"
      ]
    },
    {
      "cell_type": "code",
      "execution_count": null,
      "metadata": {
        "id": "2XCd1WUj-yhl",
        "colab": {
          "base_uri": "https://localhost:8080/"
        },
        "outputId": "44a34cbd-5b6d-461f-f2b9-443f8ffcbef6"
      },
      "outputs": [
        {
          "output_type": "execute_result",
          "data": {
            "text/plain": [
              "0.99899849774662"
            ]
          },
          "metadata": {},
          "execution_count": 67
        }
      ],
      "source": [
        "# Accuracy on Test Set Mask (modified trigger dataset) after retraining\n",
        "(model(test_set_mask.double()).argmax(dim=1) == test_set_mask_labels).sum().item() / len(test_set_mask_labels)"
      ]
    },
    {
      "cell_type": "markdown",
      "source": [
        "You have now implemented a successful Trojan Attack!\n",
        "\n",
        "Now lets see if we can pick up on trojaned data using an autoencoder."
      ],
      "metadata": {
        "id": "pGK6DYD95PNh"
      }
    },
    {
      "cell_type": "markdown",
      "source": [
        "#Autoencoder\n",
        "So how does this defense work? Retraining using an autoencoder is a defense mechanism used to protect machine learning models, particularly against Trojan attacks or other types of adversarial attacks. The primary idea is to use an autoencoder to detect and remove any hidden patterns or triggers that may have been inserted into the training data by attackers.\n",
        "\n",
        "1. **Autoencoder Overview**:\n",
        "An autoencoder is a type of neural network architecture that consists of an encoder and a decoder. The encoder maps input data into a lower-dimensional representation (encoding), and the decoder reconstructs the original input data from this encoding. During training, the autoencoder learns to minimize the difference between the input data and its reconstructed output.\n",
        "\n",
        "2. **Creating the Defense Model**:\n",
        "To defend against Trojan attacks, a separate autoencoder is trained on the same dataset that was used to train the original model. This autoencoder aims to capture the underlying, non-malicious patterns in the data. Essentially, it learns to represent normal or benign data instances.\n",
        "\n",
        "3. **Detection and Retraining**:\n",
        "Once the defense autoencoder is trained, it can be used to identify instances that deviate from the learned non-malicious patterns. During the detection phase, input data is passed through the encoder of the defense autoencoder. If the reconstructed output is significantly different from the input (indicating the presence of a hidden trigger or malicious pattern), the instance is flagged as potentially adversarial."
      ],
      "metadata": {
        "id": "cWhZpH3wkXw-"
      }
    },
    {
      "cell_type": "markdown",
      "source": [
        "## Imports For Autoencoder"
      ],
      "metadata": {
        "id": "cKca3xWwzDyE"
      }
    },
    {
      "cell_type": "markdown",
      "source": [
        "Necessary imports for the autoencoder"
      ],
      "metadata": {
        "id": "WZIH9lla00vY"
      }
    },
    {
      "cell_type": "code",
      "source": [
        "#Importing Packages\n",
        "import numpy as np\n",
        "import pandas as pd\n",
        "import sklearn\n",
        "#import tpot\n",
        "from sklearn.model_selection import train_test_split\n",
        "from sklearn.metrics import accuracy_score, recall_score, f1_score, precision_score, confusion_matrix, mean_squared_error\n",
        "import matplotlib.pyplot as plt\n",
        "import csv\n",
        "import platform\n",
        "#from tpot import TPOTClassifier\n",
        "import time\n",
        "import tensorflow as tf\n",
        "from sklearn.preprocessing import StandardScaler\n",
        "#from tensorflow.keras.model import Models"
      ],
      "metadata": {
        "id": "8j1AFga7uiLF"
      },
      "execution_count": null,
      "outputs": []
    },
    {
      "cell_type": "code",
      "execution_count": null,
      "metadata": {
        "colab": {
          "base_uri": "https://localhost:8080/"
        },
        "outputId": "82928935-29a8-4134-a51c-bc816e453dc4",
        "scrolled": true,
        "id": "rJ2nHDquu8T6"
      },
      "outputs": [
        {
          "output_type": "stream",
          "name": "stdout",
          "text": [
            "Current Software Versions used:\n",
            "Python Version:3.10.12\n",
            "Pandas Version: 1.5.3\n",
            "Numpy Version: 1.23.5\n",
            "Sklearn Version: 1.2.2\n",
            "Tensorflow Version: 2.12.0\n"
          ]
        }
      ],
      "source": [
        "#Checking Package version numbers\n",
        "print(\"Current Software Versions used:\")\n",
        "print(\"Python Version:\" +platform.python_version())\n",
        "print(\"Pandas Version: \" + pd.__version__)\n",
        "print(\"Numpy Version: \" + np.__version__)\n",
        "print(\"Sklearn Version: \"+ sklearn.__version__)\n",
        "#print(\"TPOT Version: \" + tpot.__version__)\n",
        "print(\"Tensorflow Version: \" + tf.__version__)"
      ]
    },
    {
      "cell_type": "code",
      "execution_count": null,
      "metadata": {
        "colab": {
          "base_uri": "https://localhost:8080/"
        },
        "outputId": "cdda1205-0d98-4a51-f114-a48941fff4a0",
        "id": "QQL_PnVTu8T6"
      },
      "outputs": [
        {
          "output_type": "stream",
          "name": "stdout",
          "text": [
            "This model was intially coded using the following  versions:\n",
            "Python Version:3.7.12\n",
            "Pandas Version: 1.1.5\n",
            "Numpy Version: 1.19.5\n",
            "Sklearn Version: 1.0.1\n",
            "Tensorflow Version: 2.7.0\n",
            "If the versions being used are different please ensure that version used is combatible.\n"
          ]
        }
      ],
      "source": [
        "print(\"This model was intially coded using the following  versions:\")\n",
        "print(\"Python Version:3.7.12\")\n",
        "print(\"Pandas Version: 1.1.5\")\n",
        "print(\"Numpy Version: 1.19.5\")\n",
        "print(\"Sklearn Version: 1.0.1\")\n",
        "#print(\"TPOT Version: 0.11.5\")\n",
        "print(\"Tensorflow Version: 2.7.0\")\n",
        "print(\"If the versions being used are different please ensure that version used is combatible.\")\n"
      ]
    },
    {
      "cell_type": "markdown",
      "source": [
        "## Data Pre-processing"
      ],
      "metadata": {
        "id": "XMXECbAGzHDm"
      }
    },
    {
      "cell_type": "markdown",
      "source": [
        "Loading and preprocessing of data"
      ],
      "metadata": {
        "id": "Clu1dCQf03W-"
      }
    },
    {
      "cell_type": "code",
      "execution_count": null,
      "metadata": {
        "id": "EGOspZh7u8T6"
      },
      "outputs": [],
      "source": [
        "#Import Dataset\n",
        "Dataset = pd.read_csv('https://gitlab.com/CEADS/nuclear_ai_cyber/-/raw/main/trojan/data/GPWRCompleteDatasetwithTransient2.csv', header=None)"
      ]
    },
    {
      "cell_type": "code",
      "execution_count": null,
      "metadata": {
        "colab": {
          "base_uri": "https://localhost:8080/"
        },
        "outputId": "67fee874-f24b-4a83-ef45-3163b4028b5d",
        "id": "RDn9F1y9u8T6"
      },
      "outputs": [
        {
          "output_type": "stream",
          "name": "stdout",
          "text": [
            "   0        1    2    3        4        5        6        7        8   \\\n",
            "0  20  25.0013  2.4  4.5  578.103  562.396  562.396  578.187  562.404   \n",
            "1  21  24.9863  2.4  4.5  578.096  562.398  562.398  578.187  562.405   \n",
            "2  22  24.9727  2.4  4.5  578.094  562.399  562.399  578.189  562.406   \n",
            "3  23  24.9644  2.4  4.5  578.096  562.400  562.400  578.191  562.407   \n",
            "4  24  24.9562  2.4  4.5  578.095  562.401  562.401  578.190  562.407   \n",
            "\n",
            "        9   ...       26       27       28       29       30       31  \\\n",
            "0  562.404  ...  1097.22  1097.23  570.272  2242.58  34.5050  653.191   \n",
            "1  562.405  ...  1097.25  1097.25  570.272  2242.12  34.4791  653.162   \n",
            "2  562.406  ...  1097.27  1097.27  570.272  2241.15  34.4571  653.100   \n",
            "3  562.407  ...  1097.29  1097.29  570.273  2239.57  34.4317  653.000   \n",
            "4  562.407  ...  1097.31  1097.31  570.273  2237.37  34.4016  652.859   \n",
            "\n",
            "        32       33   34                            35  \n",
            "0  653.191  272.320  BOL  Transient- Depressurization   \n",
            "1  653.162  272.317  BOL  Transient- Depressurization   \n",
            "2  653.100  272.314  BOL  Transient- Depressurization   \n",
            "3  653.000  272.315  BOL  Transient- Depressurization   \n",
            "4  652.859  272.318  BOL  Transient- Depressurization   \n",
            "\n",
            "[5 rows x 36 columns]\n",
            "<class 'pandas.core.frame.DataFrame'>\n",
            "RangeIndex: 111066 entries, 0 to 111065\n",
            "Data columns (total 36 columns):\n",
            " #   Column  Non-Null Count   Dtype  \n",
            "---  ------  --------------   -----  \n",
            " 0   0       111066 non-null  int64  \n",
            " 1   1       111066 non-null  float64\n",
            " 2   2       111066 non-null  float64\n",
            " 3   3       111066 non-null  float64\n",
            " 4   4       111066 non-null  float64\n",
            " 5   5       111066 non-null  float64\n",
            " 6   6       111066 non-null  float64\n",
            " 7   7       111066 non-null  float64\n",
            " 8   8       111066 non-null  float64\n",
            " 9   9       111066 non-null  float64\n",
            " 10  10      111066 non-null  float64\n",
            " 11  11      111066 non-null  float64\n",
            " 12  12      111066 non-null  float64\n",
            " 13  13      111066 non-null  float64\n",
            " 14  14      111066 non-null  float64\n",
            " 15  15      111066 non-null  float64\n",
            " 16  16      111066 non-null  float64\n",
            " 17  17      111066 non-null  float64\n",
            " 18  18      111066 non-null  float64\n",
            " 19  19      111066 non-null  float64\n",
            " 20  20      111066 non-null  float64\n",
            " 21  21      111066 non-null  float64\n",
            " 22  22      111066 non-null  float64\n",
            " 23  23      111066 non-null  float64\n",
            " 24  24      111066 non-null  float64\n",
            " 25  25      111066 non-null  float64\n",
            " 26  26      111066 non-null  float64\n",
            " 27  27      111066 non-null  float64\n",
            " 28  28      111066 non-null  float64\n",
            " 29  29      111066 non-null  float64\n",
            " 30  30      111066 non-null  float64\n",
            " 31  31      111066 non-null  float64\n",
            " 32  32      111066 non-null  float64\n",
            " 33  33      111066 non-null  float64\n",
            " 34  34      111066 non-null  object \n",
            " 35  35      111066 non-null  object \n",
            "dtypes: float64(33), int64(1), object(2)\n",
            "memory usage: 30.5+ MB\n",
            "None\n",
            "                  0              1              2              3   \\\n",
            "count  111066.000000  111066.000000  111066.000000  111066.000000   \n",
            "mean      370.668954      10.156001       2.010718       4.159378   \n",
            "std       239.699213      23.837751       0.884728       0.774137   \n",
            "min         0.000000       0.509676       0.000000       2.400000   \n",
            "25%       183.000000       0.510907       2.400000       4.500000   \n",
            "50%       348.000000       2.321550       2.400000       4.500000   \n",
            "75%       514.000000       4.062230       2.400000       4.500000   \n",
            "max      1200.000000     101.979000       2.400000       4.500000   \n",
            "\n",
            "                  4              5              6              7   \\\n",
            "count  111066.000000  111066.000000  111066.000000  111066.000000   \n",
            "mean      447.159706     531.785747     527.123697     538.206841   \n",
            "std       211.909452      85.467929      88.794848      82.232683   \n",
            "min         4.500000     140.984000     109.407000     199.179000   \n",
            "25%       369.230250     556.725250     556.614250     561.497000   \n",
            "50%       564.819000     563.651000     563.045000     564.865000   \n",
            "75%       568.619000     564.917000     564.139000     568.528000   \n",
            "max       623.947000     617.622000     577.809000     624.070000   \n",
            "\n",
            "                  8              9   ...             24             25  \\\n",
            "count  111066.000000  111066.000000  ...  111066.000000  111066.000000   \n",
            "mean      531.505391     527.960677  ...     123.026678     122.777093   \n",
            "std        89.027934      88.613852  ...     297.753758     297.889408   \n",
            "min       111.095000      99.241900  ...       0.000000       0.000000   \n",
            "25%       556.776000     556.776000  ...       6.087903       3.369250   \n",
            "50%       563.652000     563.444000  ...      11.890400      11.889200   \n",
            "75%       564.915000     564.148000  ...      41.414025      47.998975   \n",
            "max       617.659000     577.434000  ...    1645.350000    1645.780000   \n",
            "\n",
            "                  26             27             28             29  \\\n",
            "count  111066.000000  111066.000000  111066.000000  111066.000000   \n",
            "mean      985.341414     997.784752     534.566294    2086.893105   \n",
            "std       316.489401     289.500702      85.185453     220.083920   \n",
            "min        26.917100      40.837500     175.722000    1700.000000   \n",
            "25%      1038.210000    1038.280000     563.183000    1994.900000   \n",
            "50%      1129.310000    1129.320000     564.547000    2228.580000   \n",
            "75%      1141.690000    1141.710000     567.243000    2236.730000   \n",
            "max      1273.780000    1275.660000     598.453000    2318.730000   \n",
            "\n",
            "                  30             31             32             33  \n",
            "count  111066.000000  111066.000000  111066.000000  111066.000000  \n",
            "mean       31.975383     600.715014     600.715014     108.278874  \n",
            "std        21.672634     109.192861     109.192861     337.211961  \n",
            "min         0.000000     153.072000     153.072000     -19.339200  \n",
            "25%        25.343300     636.520000     636.520000       0.000000  \n",
            "50%        28.293550     652.290000     652.290000       0.000000  \n",
            "75%        37.527950     652.814000     652.814000       0.000066  \n",
            "max       100.000000     658.021000     658.021000    1549.100000  \n",
            "\n",
            "[8 rows x 34 columns]\n"
          ]
        }
      ],
      "source": [
        "#Checking Contents\n",
        "print(Dataset.head())\n",
        "print(Dataset.info())\n",
        "print(Dataset.describe())"
      ]
    },
    {
      "cell_type": "code",
      "execution_count": null,
      "metadata": {
        "id": "Mr7XEE_Vu8T7"
      },
      "outputs": [],
      "source": [
        "#From Exploration above it is confirmed that there are no missing values.\n",
        "#All columns have been casted to the correct type\n",
        "#Any consistent columns will be removed\n",
        "#For model creatation the columns with time, normalized flux, noramllized flow, normalized SG Level and normalized pressure\n",
        "#will be dropped. Time is irrevlant as a feature for this analysis and the normalized values are redundant as the data contains\n",
        "#the actual values for these features"
      ]
    },
    {
      "cell_type": "code",
      "execution_count": null,
      "metadata": {
        "id": "ZdDXMYhku8T7"
      },
      "outputs": [],
      "source": [
        "#Removing unneeded columns\n",
        "Analysis_Dataset=Dataset.drop([1,10,11,12,13,18,20,30], axis=1)"
      ]
    },
    {
      "cell_type": "code",
      "execution_count": null,
      "metadata": {
        "colab": {
          "base_uri": "https://localhost:8080/",
          "height": 386
        },
        "outputId": "bd1dd22f-32e9-493a-d4bb-0dcff7244204",
        "id": "kwdn-cI8u8T7"
      },
      "outputs": [
        {
          "output_type": "execute_result",
          "data": {
            "text/plain": [
              "   0    2    3        4        5        6        7        8        9   \\\n",
              "0  20  2.4  4.5  578.103  562.396  562.396  578.187  562.404  562.404   \n",
              "1  21  2.4  4.5  578.096  562.398  562.398  578.187  562.405  562.405   \n",
              "2  22  2.4  4.5  578.094  562.399  562.399  578.189  562.406  562.406   \n",
              "3  23  2.4  4.5  578.096  562.400  562.400  578.191  562.407  562.407   \n",
              "4  24  2.4  4.5  578.095  562.401  562.401  578.190  562.407  562.407   \n",
              "\n",
              "        14  ...       25       26       27       28       29       31  \\\n",
              "0  616.982  ...  276.522  1097.22  1097.23  570.272  2242.58  653.191   \n",
              "1  617.019  ...  276.414  1097.25  1097.25  570.272  2242.12  653.162   \n",
              "2  617.023  ...  276.346  1097.27  1097.27  570.272  2241.15  653.100   \n",
              "3  617.010  ...  276.323  1097.29  1097.29  570.273  2239.57  653.000   \n",
              "4  616.983  ...  276.343  1097.31  1097.31  570.273  2237.37  652.859   \n",
              "\n",
              "        32       33   34                            35  \n",
              "0  653.191  272.320  BOL  Transient- Depressurization   \n",
              "1  653.162  272.317  BOL  Transient- Depressurization   \n",
              "2  653.100  272.314  BOL  Transient- Depressurization   \n",
              "3  653.000  272.315  BOL  Transient- Depressurization   \n",
              "4  652.859  272.318  BOL  Transient- Depressurization   \n",
              "\n",
              "[5 rows x 28 columns]"
            ],
            "text/html": [
              "\n",
              "\n",
              "  <div id=\"df-d2f9b42b-4b77-42a2-b6ea-03927917194b\">\n",
              "    <div class=\"colab-df-container\">\n",
              "      <div>\n",
              "<style scoped>\n",
              "    .dataframe tbody tr th:only-of-type {\n",
              "        vertical-align: middle;\n",
              "    }\n",
              "\n",
              "    .dataframe tbody tr th {\n",
              "        vertical-align: top;\n",
              "    }\n",
              "\n",
              "    .dataframe thead th {\n",
              "        text-align: right;\n",
              "    }\n",
              "</style>\n",
              "<table border=\"1\" class=\"dataframe\">\n",
              "  <thead>\n",
              "    <tr style=\"text-align: right;\">\n",
              "      <th></th>\n",
              "      <th>0</th>\n",
              "      <th>2</th>\n",
              "      <th>3</th>\n",
              "      <th>4</th>\n",
              "      <th>5</th>\n",
              "      <th>6</th>\n",
              "      <th>7</th>\n",
              "      <th>8</th>\n",
              "      <th>9</th>\n",
              "      <th>14</th>\n",
              "      <th>...</th>\n",
              "      <th>25</th>\n",
              "      <th>26</th>\n",
              "      <th>27</th>\n",
              "      <th>28</th>\n",
              "      <th>29</th>\n",
              "      <th>31</th>\n",
              "      <th>32</th>\n",
              "      <th>33</th>\n",
              "      <th>34</th>\n",
              "      <th>35</th>\n",
              "    </tr>\n",
              "  </thead>\n",
              "  <tbody>\n",
              "    <tr>\n",
              "      <th>0</th>\n",
              "      <td>20</td>\n",
              "      <td>2.4</td>\n",
              "      <td>4.5</td>\n",
              "      <td>578.103</td>\n",
              "      <td>562.396</td>\n",
              "      <td>562.396</td>\n",
              "      <td>578.187</td>\n",
              "      <td>562.404</td>\n",
              "      <td>562.404</td>\n",
              "      <td>616.982</td>\n",
              "      <td>...</td>\n",
              "      <td>276.522</td>\n",
              "      <td>1097.22</td>\n",
              "      <td>1097.23</td>\n",
              "      <td>570.272</td>\n",
              "      <td>2242.58</td>\n",
              "      <td>653.191</td>\n",
              "      <td>653.191</td>\n",
              "      <td>272.320</td>\n",
              "      <td>BOL</td>\n",
              "      <td>Transient- Depressurization</td>\n",
              "    </tr>\n",
              "    <tr>\n",
              "      <th>1</th>\n",
              "      <td>21</td>\n",
              "      <td>2.4</td>\n",
              "      <td>4.5</td>\n",
              "      <td>578.096</td>\n",
              "      <td>562.398</td>\n",
              "      <td>562.398</td>\n",
              "      <td>578.187</td>\n",
              "      <td>562.405</td>\n",
              "      <td>562.405</td>\n",
              "      <td>617.019</td>\n",
              "      <td>...</td>\n",
              "      <td>276.414</td>\n",
              "      <td>1097.25</td>\n",
              "      <td>1097.25</td>\n",
              "      <td>570.272</td>\n",
              "      <td>2242.12</td>\n",
              "      <td>653.162</td>\n",
              "      <td>653.162</td>\n",
              "      <td>272.317</td>\n",
              "      <td>BOL</td>\n",
              "      <td>Transient- Depressurization</td>\n",
              "    </tr>\n",
              "    <tr>\n",
              "      <th>2</th>\n",
              "      <td>22</td>\n",
              "      <td>2.4</td>\n",
              "      <td>4.5</td>\n",
              "      <td>578.094</td>\n",
              "      <td>562.399</td>\n",
              "      <td>562.399</td>\n",
              "      <td>578.189</td>\n",
              "      <td>562.406</td>\n",
              "      <td>562.406</td>\n",
              "      <td>617.023</td>\n",
              "      <td>...</td>\n",
              "      <td>276.346</td>\n",
              "      <td>1097.27</td>\n",
              "      <td>1097.27</td>\n",
              "      <td>570.272</td>\n",
              "      <td>2241.15</td>\n",
              "      <td>653.100</td>\n",
              "      <td>653.100</td>\n",
              "      <td>272.314</td>\n",
              "      <td>BOL</td>\n",
              "      <td>Transient- Depressurization</td>\n",
              "    </tr>\n",
              "    <tr>\n",
              "      <th>3</th>\n",
              "      <td>23</td>\n",
              "      <td>2.4</td>\n",
              "      <td>4.5</td>\n",
              "      <td>578.096</td>\n",
              "      <td>562.400</td>\n",
              "      <td>562.400</td>\n",
              "      <td>578.191</td>\n",
              "      <td>562.407</td>\n",
              "      <td>562.407</td>\n",
              "      <td>617.010</td>\n",
              "      <td>...</td>\n",
              "      <td>276.323</td>\n",
              "      <td>1097.29</td>\n",
              "      <td>1097.29</td>\n",
              "      <td>570.273</td>\n",
              "      <td>2239.57</td>\n",
              "      <td>653.000</td>\n",
              "      <td>653.000</td>\n",
              "      <td>272.315</td>\n",
              "      <td>BOL</td>\n",
              "      <td>Transient- Depressurization</td>\n",
              "    </tr>\n",
              "    <tr>\n",
              "      <th>4</th>\n",
              "      <td>24</td>\n",
              "      <td>2.4</td>\n",
              "      <td>4.5</td>\n",
              "      <td>578.095</td>\n",
              "      <td>562.401</td>\n",
              "      <td>562.401</td>\n",
              "      <td>578.190</td>\n",
              "      <td>562.407</td>\n",
              "      <td>562.407</td>\n",
              "      <td>616.983</td>\n",
              "      <td>...</td>\n",
              "      <td>276.343</td>\n",
              "      <td>1097.31</td>\n",
              "      <td>1097.31</td>\n",
              "      <td>570.273</td>\n",
              "      <td>2237.37</td>\n",
              "      <td>652.859</td>\n",
              "      <td>652.859</td>\n",
              "      <td>272.318</td>\n",
              "      <td>BOL</td>\n",
              "      <td>Transient- Depressurization</td>\n",
              "    </tr>\n",
              "  </tbody>\n",
              "</table>\n",
              "<p>5 rows × 28 columns</p>\n",
              "</div>\n",
              "      <button class=\"colab-df-convert\" onclick=\"convertToInteractive('df-d2f9b42b-4b77-42a2-b6ea-03927917194b')\"\n",
              "              title=\"Convert this dataframe to an interactive table.\"\n",
              "              style=\"display:none;\">\n",
              "\n",
              "  <svg xmlns=\"http://www.w3.org/2000/svg\" height=\"24px\"viewBox=\"0 0 24 24\"\n",
              "       width=\"24px\">\n",
              "    <path d=\"M0 0h24v24H0V0z\" fill=\"none\"/>\n",
              "    <path d=\"M18.56 5.44l.94 2.06.94-2.06 2.06-.94-2.06-.94-.94-2.06-.94 2.06-2.06.94zm-11 1L8.5 8.5l.94-2.06 2.06-.94-2.06-.94L8.5 2.5l-.94 2.06-2.06.94zm10 10l.94 2.06.94-2.06 2.06-.94-2.06-.94-.94-2.06-.94 2.06-2.06.94z\"/><path d=\"M17.41 7.96l-1.37-1.37c-.4-.4-.92-.59-1.43-.59-.52 0-1.04.2-1.43.59L10.3 9.45l-7.72 7.72c-.78.78-.78 2.05 0 2.83L4 21.41c.39.39.9.59 1.41.59.51 0 1.02-.2 1.41-.59l7.78-7.78 2.81-2.81c.8-.78.8-2.07 0-2.86zM5.41 20L4 18.59l7.72-7.72 1.47 1.35L5.41 20z\"/>\n",
              "  </svg>\n",
              "      </button>\n",
              "\n",
              "\n",
              "\n",
              "    <div id=\"df-1df8c548-fddd-479a-80ba-d268d44ba73c\">\n",
              "      <button class=\"colab-df-quickchart\" onclick=\"quickchart('df-1df8c548-fddd-479a-80ba-d268d44ba73c')\"\n",
              "              title=\"Suggest charts.\"\n",
              "              style=\"display:none;\">\n",
              "\n",
              "<svg xmlns=\"http://www.w3.org/2000/svg\" height=\"24px\"viewBox=\"0 0 24 24\"\n",
              "     width=\"24px\">\n",
              "    <g>\n",
              "        <path d=\"M19 3H5c-1.1 0-2 .9-2 2v14c0 1.1.9 2 2 2h14c1.1 0 2-.9 2-2V5c0-1.1-.9-2-2-2zM9 17H7v-7h2v7zm4 0h-2V7h2v10zm4 0h-2v-4h2v4z\"/>\n",
              "    </g>\n",
              "</svg>\n",
              "      </button>\n",
              "    </div>\n",
              "\n",
              "<style>\n",
              "  .colab-df-quickchart {\n",
              "    background-color: #E8F0FE;\n",
              "    border: none;\n",
              "    border-radius: 50%;\n",
              "    cursor: pointer;\n",
              "    display: none;\n",
              "    fill: #1967D2;\n",
              "    height: 32px;\n",
              "    padding: 0 0 0 0;\n",
              "    width: 32px;\n",
              "  }\n",
              "\n",
              "  .colab-df-quickchart:hover {\n",
              "    background-color: #E2EBFA;\n",
              "    box-shadow: 0px 1px 2px rgba(60, 64, 67, 0.3), 0px 1px 3px 1px rgba(60, 64, 67, 0.15);\n",
              "    fill: #174EA6;\n",
              "  }\n",
              "\n",
              "  [theme=dark] .colab-df-quickchart {\n",
              "    background-color: #3B4455;\n",
              "    fill: #D2E3FC;\n",
              "  }\n",
              "\n",
              "  [theme=dark] .colab-df-quickchart:hover {\n",
              "    background-color: #434B5C;\n",
              "    box-shadow: 0px 1px 3px 1px rgba(0, 0, 0, 0.15);\n",
              "    filter: drop-shadow(0px 1px 2px rgba(0, 0, 0, 0.3));\n",
              "    fill: #FFFFFF;\n",
              "  }\n",
              "</style>\n",
              "\n",
              "    <script>\n",
              "      async function quickchart(key) {\n",
              "        const containerElement = document.querySelector('#' + key);\n",
              "        const charts = await google.colab.kernel.invokeFunction(\n",
              "            'suggestCharts', [key], {});\n",
              "      }\n",
              "    </script>\n",
              "\n",
              "      <script>\n",
              "\n",
              "function displayQuickchartButton(domScope) {\n",
              "  let quickchartButtonEl =\n",
              "    domScope.querySelector('#df-1df8c548-fddd-479a-80ba-d268d44ba73c button.colab-df-quickchart');\n",
              "  quickchartButtonEl.style.display =\n",
              "    google.colab.kernel.accessAllowed ? 'block' : 'none';\n",
              "}\n",
              "\n",
              "        displayQuickchartButton(document);\n",
              "      </script>\n",
              "      <style>\n",
              "    .colab-df-container {\n",
              "      display:flex;\n",
              "      flex-wrap:wrap;\n",
              "      gap: 12px;\n",
              "    }\n",
              "\n",
              "    .colab-df-convert {\n",
              "      background-color: #E8F0FE;\n",
              "      border: none;\n",
              "      border-radius: 50%;\n",
              "      cursor: pointer;\n",
              "      display: none;\n",
              "      fill: #1967D2;\n",
              "      height: 32px;\n",
              "      padding: 0 0 0 0;\n",
              "      width: 32px;\n",
              "    }\n",
              "\n",
              "    .colab-df-convert:hover {\n",
              "      background-color: #E2EBFA;\n",
              "      box-shadow: 0px 1px 2px rgba(60, 64, 67, 0.3), 0px 1px 3px 1px rgba(60, 64, 67, 0.15);\n",
              "      fill: #174EA6;\n",
              "    }\n",
              "\n",
              "    [theme=dark] .colab-df-convert {\n",
              "      background-color: #3B4455;\n",
              "      fill: #D2E3FC;\n",
              "    }\n",
              "\n",
              "    [theme=dark] .colab-df-convert:hover {\n",
              "      background-color: #434B5C;\n",
              "      box-shadow: 0px 1px 3px 1px rgba(0, 0, 0, 0.15);\n",
              "      filter: drop-shadow(0px 1px 2px rgba(0, 0, 0, 0.3));\n",
              "      fill: #FFFFFF;\n",
              "    }\n",
              "  </style>\n",
              "\n",
              "      <script>\n",
              "        const buttonEl =\n",
              "          document.querySelector('#df-d2f9b42b-4b77-42a2-b6ea-03927917194b button.colab-df-convert');\n",
              "        buttonEl.style.display =\n",
              "          google.colab.kernel.accessAllowed ? 'block' : 'none';\n",
              "\n",
              "        async function convertToInteractive(key) {\n",
              "          const element = document.querySelector('#df-d2f9b42b-4b77-42a2-b6ea-03927917194b');\n",
              "          const dataTable =\n",
              "            await google.colab.kernel.invokeFunction('convertToInteractive',\n",
              "                                                     [key], {});\n",
              "          if (!dataTable) return;\n",
              "\n",
              "          const docLinkHtml = 'Like what you see? Visit the ' +\n",
              "            '<a target=\"_blank\" href=https://colab.research.google.com/notebooks/data_table.ipynb>data table notebook</a>'\n",
              "            + ' to learn more about interactive tables.';\n",
              "          element.innerHTML = '';\n",
              "          dataTable['output_type'] = 'display_data';\n",
              "          await google.colab.output.renderOutput(dataTable, element);\n",
              "          const docLink = document.createElement('div');\n",
              "          docLink.innerHTML = docLinkHtml;\n",
              "          element.appendChild(docLink);\n",
              "        }\n",
              "      </script>\n",
              "    </div>\n",
              "  </div>\n"
            ]
          },
          "metadata": {},
          "execution_count": 75
        }
      ],
      "source": [
        "#Checking contents of new dataframe\n",
        "Analysis_Dataset.head()"
      ]
    },
    {
      "cell_type": "code",
      "execution_count": null,
      "metadata": {
        "colab": {
          "base_uri": "https://localhost:8080/"
        },
        "outputId": "ef49733d-c407-4141-b8c6-28e7109f541f",
        "id": "6DLca2iKu8T7"
      },
      "outputs": [
        {
          "output_type": "execute_result",
          "data": {
            "text/plain": [
              "6"
            ]
          },
          "metadata": {},
          "execution_count": 76
        }
      ],
      "source": [
        "#The Column Reactor Core life if a Qualitative Feature. TPOT requires the use of numerical features in model construction,\n",
        "#as such the column will be converted using dummy variables\n",
        "#Converting Catergorical Features to Numerical Features for reactor life\n",
        "Analysis_Dataset[34].nunique()\n",
        "\n"
      ]
    },
    {
      "cell_type": "code",
      "execution_count": null,
      "metadata": {
        "colab": {
          "base_uri": "https://localhost:8080/"
        },
        "outputId": "1498e7ee-834b-4546-abec-0db3203e7076",
        "id": "mcgYHOPqu8T7"
      },
      "outputs": [
        {
          "output_type": "execute_result",
          "data": {
            "text/plain": [
              "array(['BOL', 'MOL', 'EOL', 'BOL ', 'MOL ', 'EOL '], dtype=object)"
            ]
          },
          "metadata": {},
          "execution_count": 77
        }
      ],
      "source": [
        "pd.Series(Analysis_Dataset[34]).unique()"
      ]
    },
    {
      "cell_type": "code",
      "execution_count": null,
      "metadata": {
        "id": "PuoZzPX-u8T7"
      },
      "outputs": [],
      "source": [
        "#It look like there was an added space in some of the values for the core life.\n",
        "#Pandas is treating this as a unique value, so there values must be corrected before dummy variables can be made"
      ]
    },
    {
      "cell_type": "code",
      "execution_count": null,
      "metadata": {
        "colab": {
          "base_uri": "https://localhost:8080/"
        },
        "outputId": "e0150c77-55dd-4f34-a925-f9cc4ea24f2e",
        "id": "Z6HcgXduu8T7"
      },
      "outputs": [
        {
          "output_type": "stream",
          "name": "stderr",
          "text": [
            "<ipython-input-78-d032207e2a97>:3: SettingWithCopyWarning: \n",
            "A value is trying to be set on a copy of a slice from a DataFrame\n",
            "\n",
            "See the caveats in the documentation: https://pandas.pydata.org/pandas-docs/stable/user_guide/indexing.html#returning-a-view-versus-a-copy\n",
            "  Analysis_Dataset[34][index]= 'BOL'\n",
            "<ipython-input-78-d032207e2a97>:5: SettingWithCopyWarning: \n",
            "A value is trying to be set on a copy of a slice from a DataFrame\n",
            "\n",
            "See the caveats in the documentation: https://pandas.pydata.org/pandas-docs/stable/user_guide/indexing.html#returning-a-view-versus-a-copy\n",
            "  Analysis_Dataset[34][index] = 'MOL'\n",
            "<ipython-input-78-d032207e2a97>:7: SettingWithCopyWarning: \n",
            "A value is trying to be set on a copy of a slice from a DataFrame\n",
            "\n",
            "See the caveats in the documentation: https://pandas.pydata.org/pandas-docs/stable/user_guide/indexing.html#returning-a-view-versus-a-copy\n",
            "  Analysis_Dataset[34][index]= 'EOL'\n"
          ]
        }
      ],
      "source": [
        "for index, row in Analysis_Dataset.iterrows():\n",
        "    if Analysis_Dataset[34][index] == 'BOL ':\n",
        "        Analysis_Dataset[34][index]= 'BOL'\n",
        "    elif Analysis_Dataset[34][index] == 'MOL ':\n",
        "        Analysis_Dataset[34][index] = 'MOL'\n",
        "    elif Analysis_Dataset[34][index] == 'EOL ':\n",
        "        Analysis_Dataset[34][index]= 'EOL'"
      ]
    },
    {
      "cell_type": "code",
      "execution_count": null,
      "metadata": {
        "colab": {
          "base_uri": "https://localhost:8080/"
        },
        "outputId": "f31d95a9-8271-4641-858e-1d829d3fce59",
        "id": "QEzrv4aZu8T8"
      },
      "outputs": [
        {
          "output_type": "stream",
          "name": "stdout",
          "text": [
            "3\n"
          ]
        },
        {
          "output_type": "execute_result",
          "data": {
            "text/plain": [
              "array(['BOL', 'MOL', 'EOL'], dtype=object)"
            ]
          },
          "metadata": {},
          "execution_count": 79
        }
      ],
      "source": [
        "print(Analysis_Dataset[34].nunique())\n",
        "pd.Series(Analysis_Dataset[34]).unique()"
      ]
    },
    {
      "cell_type": "code",
      "execution_count": null,
      "metadata": {
        "colab": {
          "base_uri": "https://localhost:8080/"
        },
        "outputId": "5868af05-f287-4e92-bd02-4cf19b0c222c",
        "id": "O_ofqictu8T8"
      },
      "outputs": [
        {
          "output_type": "stream",
          "name": "stdout",
          "text": [
            "        EOL  MOL\n",
            "0         0    0\n",
            "1         0    0\n",
            "2         0    0\n",
            "3         0    0\n",
            "4         0    0\n",
            "...     ...  ...\n",
            "111061    0    1\n",
            "111062    0    1\n",
            "111063    0    1\n",
            "111064    0    1\n",
            "111065    0    1\n",
            "\n",
            "[111066 rows x 2 columns]\n"
          ]
        }
      ],
      "source": [
        "#Now that the corelife only has the 3 different labels, the dummy variables can be created\n",
        "dummy = (pd.get_dummies(Analysis_Dataset[34])).iloc[:,1:]\n",
        "print(dummy)"
      ]
    },
    {
      "cell_type": "code",
      "execution_count": null,
      "metadata": {
        "id": "4SXq7b9Eu8T8"
      },
      "outputs": [],
      "source": [
        "#Adding the Dummy Variables to the Analysis_Dataset DataFrame\n",
        "Analysis_Dataset = pd.concat([Analysis_Dataset, dummy], axis=1)\n",
        "\n",
        "#Dropping the Qualitative Feature from the Analysis_Dataset DataFrame\n",
        "Analysis_Dataset.drop([34], axis=1, inplace=True)"
      ]
    },
    {
      "cell_type": "code",
      "execution_count": null,
      "metadata": {
        "colab": {
          "base_uri": "https://localhost:8080/"
        },
        "outputId": "d793b69c-7cdb-47b1-bbf3-ad29dc723ef0",
        "id": "KYOF60U_u8T8"
      },
      "outputs": [
        {
          "output_type": "execute_result",
          "data": {
            "text/plain": [
              "array(['Transient- Depressurization ', 'Transient-Feedwater Pump Trip',\n",
              "       'Transient-LOCA LOOP', 'Transient- Max Steam Line Rupture ',\n",
              "       'Transient-Manual Trip ', 'TRANSIENT-Normal Ops ',\n",
              "       'Transient Rapid Power Change ', 'Transient Load Rejection ',\n",
              "       'Transient Single Coolant Pump Trip ',\n",
              "       'Transient Total Coolant Pump Trip ',\n",
              "       'Transient Turbine Trip No SCRAM ', 'Transient Valve Closure '],\n",
              "      dtype=object)"
            ]
          },
          "metadata": {},
          "execution_count": 82
        }
      ],
      "source": [
        "#The dummary variables have been added correctly\n",
        "#The Target Data must also be but in numerical form\n",
        "#Confirming that there are 12 different events\n",
        "Analysis_Dataset[35].head()\n",
        "Analysis_Dataset[35].nunique()\n",
        "pd.Series(Analysis_Dataset[35]).unique()"
      ]
    },
    {
      "cell_type": "code",
      "execution_count": null,
      "metadata": {
        "id": "VWHW_2l_u8T8"
      },
      "outputs": [],
      "source": [
        "#Converting Caterorical Feature to Numerical Features for Transient Events\n",
        "Analysis_Dataset[35] = Analysis_Dataset[35].map({'Transient-Feedwater Pump Trip' : 1,\n",
        "'Transient-LOCA LOOP' : 2, 'Transient Valve Closure ' : 3,\n",
        "'Transient Rapid Power Change ' : 4, 'TRANSIENT-Normal Ops ' : 0, 'Transient- Max Steam Line Rupture ' : 6,\n",
        "'Transient-Manual Trip ' : 7, 'Transient Load Rejection ' : 8, 'Transient Single Coolant Pump Trip ': 9,\n",
        "'Transient Total Coolant Pump Trip ': 10, 'Transient Turbine Trip No SCRAM ': 11, 'Transient- Depressurization ': 5 })"
      ]
    },
    {
      "cell_type": "code",
      "execution_count": null,
      "metadata": {
        "colab": {
          "base_uri": "https://localhost:8080/"
        },
        "outputId": "e7b59766-f766-45b4-a746-dcb76ca70280",
        "id": "p5uUmIEwu8T8"
      },
      "outputs": [
        {
          "output_type": "stream",
          "name": "stdout",
          "text": [
            "12\n",
            "[ 5  1  2  6  7  0  4  8  9 10 11  3]\n"
          ]
        }
      ],
      "source": [
        "#Verify Changes were done correctly\n",
        "#print(Analysis_Dataset.head())\n",
        "print(Analysis_Dataset[35].nunique())\n",
        "print(pd.Series(Analysis_Dataset[35]).unique())"
      ]
    },
    {
      "cell_type": "code",
      "execution_count": null,
      "metadata": {
        "id": "kMbVsxLiu8T8"
      },
      "outputs": [],
      "source": [
        "#Creating the Training and Testing Datasets\n",
        "#Storing Prediction values\n",
        "#Training Data\n",
        "X = Analysis_Dataset.drop([35], axis=1)\n",
        "\n",
        "# Testing Dataset\n",
        "Y = Analysis_Dataset[35]"
      ]
    },
    {
      "cell_type": "code",
      "execution_count": null,
      "metadata": {
        "colab": {
          "base_uri": "https://localhost:8080/"
        },
        "outputId": "58c65b83-9fa1-499d-f87b-403b3754ab84",
        "id": "tS8_kFfju8T8"
      },
      "outputs": [
        {
          "output_type": "stream",
          "name": "stdout",
          "text": [
            "   Time\n",
            "0    20\n",
            "1    21\n",
            "2    22\n",
            "3    23\n",
            "4    24\n"
          ]
        }
      ],
      "source": [
        "#Scale the data using the Standard Scaler\n",
        "#Drop EOL and MOL\n",
        "#Hold feilds to re-add after scaling\n",
        "EOLhold=X[\"EOL\"]\n",
        "\n",
        "MOLDhold=X[\"MOL\"]\n",
        "\n",
        "#Hold Time\n",
        "TimeHold =pd.DataFrame(X[0])\n",
        "TimeHold.columns =['Time']\n",
        "print(TimeHold.head())"
      ]
    },
    {
      "cell_type": "code",
      "execution_count": null,
      "metadata": {
        "colab": {
          "base_uri": "https://localhost:8080/"
        },
        "outputId": "26883071-2610-488c-ca74-a42b44a59111",
        "id": "84PyBbzgu8T8"
      },
      "outputs": [
        {
          "output_type": "stream",
          "name": "stdout",
          "text": [
            "     2    3        4        5        6        7        8        9       14  \\\n",
            "0  2.4  4.5  578.103  562.396  562.396  578.187  562.404  562.404  616.982   \n",
            "1  2.4  4.5  578.096  562.398  562.398  578.187  562.405  562.405  617.019   \n",
            "2  2.4  4.5  578.094  562.399  562.399  578.189  562.406  562.406  617.023   \n",
            "3  2.4  4.5  578.096  562.400  562.400  578.191  562.407  562.407  617.010   \n",
            "4  2.4  4.5  578.095  562.401  562.401  578.190  562.407  562.407  616.983   \n",
            "\n",
            "        15  ...       25       26       27       28       29       31  \\\n",
            "0  108.105  ...  276.522  1097.22  1097.23  570.272  2242.58  653.191   \n",
            "1  114.040  ...  276.414  1097.25  1097.25  570.272  2242.12  653.162   \n",
            "2  133.469  ...  276.346  1097.27  1097.27  570.272  2241.15  653.100   \n",
            "3  171.029  ...  276.323  1097.29  1097.29  570.273  2239.57  653.000   \n",
            "4  177.346  ...  276.343  1097.31  1097.31  570.273  2237.37  652.859   \n",
            "\n",
            "        32       33  EOL  MOL  \n",
            "0  653.191  272.320    0    0  \n",
            "1  653.162  272.317    0    0  \n",
            "2  653.100  272.314    0    0  \n",
            "3  653.000  272.315    0    0  \n",
            "4  652.859  272.318    0    0  \n",
            "\n",
            "[5 rows x 27 columns]\n",
            "(111066, 27)\n"
          ]
        }
      ],
      "source": [
        "#Drop Time from X\n",
        "X= X.drop([0], axis=1)\n",
        "print(X.head())\n",
        "print(X.shape)"
      ]
    },
    {
      "cell_type": "code",
      "execution_count": null,
      "metadata": {
        "colab": {
          "base_uri": "https://localhost:8080/"
        },
        "outputId": "9c22f90a-1376-4719-8c42-710387defede",
        "id": "oEYYYoL0u8T9"
      },
      "outputs": [
        {
          "output_type": "stream",
          "name": "stdout",
          "text": [
            "     2    3        4        5        6        7        8        9       14  \\\n",
            "0  2.4  4.5  578.103  562.396  562.396  578.187  562.404  562.404  616.982   \n",
            "1  2.4  4.5  578.096  562.398  562.398  578.187  562.405  562.405  617.019   \n",
            "2  2.4  4.5  578.094  562.399  562.399  578.189  562.406  562.406  617.023   \n",
            "3  2.4  4.5  578.096  562.400  562.400  578.191  562.407  562.407  617.010   \n",
            "4  2.4  4.5  578.095  562.401  562.401  578.190  562.407  562.407  616.983   \n",
            "\n",
            "        15  ...       24       25       26       27       28       29  \\\n",
            "0  108.105  ...  277.924  276.522  1097.22  1097.23  570.272  2242.58   \n",
            "1  114.040  ...  277.816  276.414  1097.25  1097.25  570.272  2242.12   \n",
            "2  133.469  ...  277.748  276.346  1097.27  1097.27  570.272  2241.15   \n",
            "3  171.029  ...  277.724  276.323  1097.29  1097.29  570.273  2239.57   \n",
            "4  177.346  ...  277.744  276.343  1097.31  1097.31  570.273  2237.37   \n",
            "\n",
            "        31       32       33  MOL  \n",
            "0  653.191  653.191  272.320    0  \n",
            "1  653.162  653.162  272.317    0  \n",
            "2  653.100  653.100  272.314    0  \n",
            "3  653.000  653.000  272.315    0  \n",
            "4  652.859  652.859  272.318    0  \n",
            "\n",
            "[5 rows x 26 columns]\n"
          ]
        }
      ],
      "source": [
        "#Drop EOL from X\n",
        "X_No_EOL=X.drop([\"EOL\"], axis=1)\n",
        "print(X_No_EOL.head())"
      ]
    },
    {
      "cell_type": "code",
      "execution_count": null,
      "metadata": {
        "colab": {
          "base_uri": "https://localhost:8080/"
        },
        "outputId": "bf8e1daa-afe1-4c9d-9074-32b25253fe64",
        "id": "PI2EBEyRu8T9"
      },
      "outputs": [
        {
          "output_type": "stream",
          "name": "stdout",
          "text": [
            "    2    3        4        5        6        7        8        9        14  \\\n",
            "0  2.4  4.5  578.103  562.396  562.396  578.187  562.404  562.404  616.982   \n",
            "1  2.4  4.5  578.096  562.398  562.398  578.187  562.405  562.405  617.019   \n",
            "2  2.4  4.5  578.094  562.399  562.399  578.189  562.406  562.406  617.023   \n",
            "3  2.4  4.5  578.096  562.400  562.400  578.191  562.407  562.407  617.010   \n",
            "4  2.4  4.5  578.095  562.401  562.401  578.190  562.407  562.407  616.983   \n",
            "\n",
            "        15  ...       23       24       25       26       27       28  \\\n",
            "0  108.105  ...  275.704  277.924  276.522  1097.22  1097.23  570.272   \n",
            "1  114.040  ...  275.741  277.816  276.414  1097.25  1097.25  570.272   \n",
            "2  133.469  ...  275.747  277.748  276.346  1097.27  1097.27  570.272   \n",
            "3  171.029  ...  275.683  277.724  276.323  1097.29  1097.29  570.273   \n",
            "4  177.346  ...  275.633  277.744  276.343  1097.31  1097.31  570.273   \n",
            "\n",
            "        29       31       32       33  \n",
            "0  2242.58  653.191  653.191  272.320  \n",
            "1  2242.12  653.162  653.162  272.317  \n",
            "2  2241.15  653.100  653.100  272.314  \n",
            "3  2239.57  653.000  653.000  272.315  \n",
            "4  2237.37  652.859  652.859  272.318  \n",
            "\n",
            "[5 rows x 25 columns]\n"
          ]
        }
      ],
      "source": [
        "#Drop MOL from X\n",
        "X_No_MOL=X_No_EOL.drop([\"MOL\"], axis=1)\n",
        "print(X_No_MOL.head())"
      ]
    },
    {
      "cell_type": "code",
      "execution_count": null,
      "metadata": {
        "colab": {
          "base_uri": "https://localhost:8080/"
        },
        "outputId": "23eb5903-f637-476f-a9cf-be92ccc2fe32",
        "id": "9FexfAS7u8T9"
      },
      "outputs": [
        {
          "output_type": "stream",
          "name": "stdout",
          "text": [
            "         0         1         2         3         4         5         6   \\\n",
            "0  0.440004  0.440004  0.617924  0.358151  0.397235  0.486186  0.347068   \n",
            "1  0.440004  0.440004  0.617891  0.358174  0.397258  0.486186  0.347079   \n",
            "2  0.440004  0.440004  0.617881  0.358186  0.397269  0.486210  0.347090   \n",
            "3  0.440004  0.440004  0.617891  0.358197  0.397281  0.486234  0.347102   \n",
            "4  0.440004  0.440004  0.617886  0.358209  0.397292  0.486222  0.347102   \n",
            "\n",
            "         7         8         9   ...        15        16        17        18  \\\n",
            "0  0.388692  0.598632 -0.547645  ...  0.532059  0.520222  0.516116  0.353500   \n",
            "1  0.388703  0.598815 -0.517796  ...  0.532184  0.519859  0.515754  0.353595   \n",
            "2  0.388714  0.598834 -0.420081  ...  0.532204  0.519631  0.515526  0.353658   \n",
            "3  0.388726  0.598770 -0.231179  ...  0.531988  0.519550  0.515448  0.353721   \n",
            "4  0.388726  0.598637 -0.199409  ...  0.531818  0.519617  0.515515  0.353785   \n",
            "\n",
            "         19        20        21        22        23        24  \n",
            "0  0.343508  0.419155  0.707401  0.480583  0.480583  0.486465  \n",
            "1  0.343577  0.419155  0.705311  0.480317  0.480317  0.486456  \n",
            "2  0.343646  0.419155  0.700904  0.479750  0.479750  0.486447  \n",
            "3  0.343715  0.419166  0.693724  0.478834  0.478834  0.486450  \n",
            "4  0.343784  0.419166  0.683728  0.477542  0.477542  0.486459  \n",
            "\n",
            "[5 rows x 25 columns]\n"
          ]
        }
      ],
      "source": [
        "#Scale X_No_MOL\n",
        "scaler = StandardScaler()\n",
        "X_No_MOL = scaler.fit_transform(X_No_MOL)\n",
        "\n",
        "#Convert back to Pandas Dataframe\n",
        "X_No_MOL = pd.DataFrame(X_No_MOL)\n",
        "print(X_No_MOL.head())"
      ]
    },
    {
      "cell_type": "code",
      "execution_count": null,
      "metadata": {
        "colab": {
          "base_uri": "https://localhost:8080/"
        },
        "outputId": "338e08e1-4eb0-45fb-aecc-ede3bfc9df22",
        "id": "zu1N6XsZu8T9"
      },
      "outputs": [
        {
          "output_type": "stream",
          "name": "stdout",
          "text": [
            "          0         1         2         3         4         5         6  \\\n",
            "0  0.440004  0.440004  0.617924  0.358151  0.397235  0.486186  0.347068   \n",
            "1  0.440004  0.440004  0.617891  0.358174  0.397258  0.486186  0.347079   \n",
            "2  0.440004  0.440004  0.617881  0.358186  0.397269  0.486210  0.347090   \n",
            "3  0.440004  0.440004  0.617891  0.358197  0.397281  0.486234  0.347102   \n",
            "4  0.440004  0.440004  0.617886  0.358209  0.397292  0.486222  0.347102   \n",
            "\n",
            "          7         8         9  ...        18        19        20        21  \\\n",
            "0  0.388692  0.598632 -0.547645  ...  0.353500  0.343508  0.419155  0.707401   \n",
            "1  0.388703  0.598815 -0.517796  ...  0.353595  0.343577  0.419155  0.705311   \n",
            "2  0.388714  0.598834 -0.420081  ...  0.353658  0.343646  0.419155  0.700904   \n",
            "3  0.388726  0.598770 -0.231179  ...  0.353721  0.343715  0.419166  0.693724   \n",
            "4  0.388726  0.598637 -0.199409  ...  0.353785  0.343784  0.419166  0.683728   \n",
            "\n",
            "         22        23        24  EOL  MOL  Time  \n",
            "0  0.480583  0.480583  0.486465    0    0    20  \n",
            "1  0.480317  0.480317  0.486456    0    0    21  \n",
            "2  0.479750  0.479750  0.486447    0    0    22  \n",
            "3  0.478834  0.478834  0.486450    0    0    23  \n",
            "4  0.477542  0.477542  0.486459    0    0    24  \n",
            "\n",
            "[5 rows x 28 columns]\n"
          ]
        }
      ],
      "source": [
        "#Add Dummy Variables Back\n",
        "X = pd.concat([X_No_MOL,EOLhold, MOLDhold, TimeHold ], axis=1)\n",
        "print(X.head())\n"
      ]
    },
    {
      "cell_type": "code",
      "execution_count": null,
      "metadata": {
        "colab": {
          "base_uri": "https://localhost:8080/"
        },
        "outputId": "d09aea6e-e542-498a-9e2c-c4cce22f0a1f",
        "id": "5vT7gL6Nu8T9"
      },
      "outputs": [
        {
          "output_type": "stream",
          "name": "stdout",
          "text": [
            "0    0.440004\n",
            "1    0.440004\n",
            "2    0.440004\n",
            "3    0.440004\n",
            "4    0.440004\n",
            "Name: 0, dtype: float64\n",
            "(55533,)\n",
            "(55533, 27)\n",
            "(55533, 27)\n",
            "(55533,)\n",
            "(55533,)\n",
            "              0         1         2         3         4         5         6  \\\n",
            "20144  0.440004  0.440004 -0.538651 -2.411216 -2.263190 -2.475923 -2.298608   \n",
            "60382 -2.272707 -2.272707 -2.088919  0.387682  0.417597  0.316143  0.375329   \n",
            "52134 -2.272707 -2.272707 -2.088919  1.002313  0.362751  0.256920  0.967674   \n",
            "6957   0.440004  0.440004  0.515054  0.239872  0.283388  0.220061  0.233440   \n",
            "66021  0.440004  0.440004  0.782858  0.287843  0.329562  0.912806  0.279819   \n",
            "\n",
            "              7         8         9  ...        17        18        19  \\\n",
            "20144 -2.269245 -0.862289 -0.523942  ... -0.412158 -2.381747 -2.240746   \n",
            "60382  0.409005 -1.950364  2.108752  ... -0.372879  0.497297  0.500675   \n",
            "52134  0.354363 -1.949532  2.168299  ...  3.764310  0.167743  0.140606   \n",
            "6957   0.274533  0.294464  0.940723  ... -0.412158  0.165310  0.137739   \n",
            "66021  0.321129  0.716158 -0.549390  ...  3.680553  0.080915  0.045683   \n",
            "\n",
            "             20        21        22        23        24  EOL  MOL  \n",
            "20144 -2.400178 -1.757942 -2.542211 -2.542211 -0.319274    1    0  \n",
            "60382  0.352124  0.679730  0.476984  0.476984 -0.321102    1    0  \n",
            "52134  0.632549  0.688090  0.478092  0.478092  3.856616    0    1  \n",
            "6957   0.231598 -1.757942 -0.582623 -0.582623 -0.321102    0    0  \n",
            "66021  0.589490  0.733073  0.483916  0.483916  3.765249    0    1  \n",
            "\n",
            "[5 rows x 27 columns]\n"
          ]
        }
      ],
      "source": [
        "#Splitting the Dataset into Training and Testing Set 50 50 Split Random State=0\n",
        "X_train, X_test, Y_train, Y_test = train_test_split(X, Y, train_size=0.5, test_size=0.5, random_state=0)\n",
        "#Dropping the time from the X datasets creating a time dataframe\n",
        "X_test_time=X_test['Time']\n",
        "print(X[0].head())\n",
        "print(X_test_time.shape)\n",
        "X_train=X_train.drop(['Time'], axis=1)\n",
        "X_test=X_test.drop(['Time'], axis=1)\n",
        "print( X_train.shape)\n",
        "print( X_test.shape)\n",
        "print( Y_train.shape)\n",
        "print( Y_test.shape)\n",
        "print(X_train.head())"
      ]
    },
    {
      "cell_type": "code",
      "execution_count": null,
      "metadata": {
        "colab": {
          "base_uri": "https://localhost:8080/"
        },
        "outputId": "bcfae9ab-66b6-451b-f5ed-2d386dada5ab",
        "id": "hocm0dQGu8T9"
      },
      "outputs": [
        {
          "output_type": "stream",
          "name": "stdout",
          "text": [
            "X_Test_Clean size is (27766, 27)\n",
            "X_Test_Noise size is (27767, 27)\n",
            "               0         1         2         3         4         5         6  \\\n",
            "69752   0.440004  0.440004  0.555689  0.379235  0.417530  0.324777  0.367219   \n",
            "101036  0.440004  0.440004  0.622345  0.368131  0.406842  0.495683  0.356503   \n",
            "16709   0.440004  0.440004  0.569927  0.392994  0.430774  0.361344  0.379901   \n",
            "5708    0.440004  0.440004  0.551456  0.332328  0.372380  0.314027  0.322300   \n",
            "24653   0.440004  0.440004  0.412859 -0.083865 -0.002790 -0.000728 -0.065130   \n",
            "\n",
            "               7         8         9  ...        17        18        19  \\\n",
            "69752   0.408937  0.693230 -0.548148  ... -0.372805  0.497076  0.500434   \n",
            "101036  0.398171  0.702528 -0.549194  ...  0.254115  0.466901  0.467411   \n",
            "16709   0.421678  0.599475 -0.549395  ... -0.220860  0.324937  0.312247   \n",
            "5708    0.363808  0.337409  0.770867  ... -0.388106  0.391100  0.384579   \n",
            "24653  -0.025421  0.044944 -0.542767  ... -0.412158  0.206038  0.184060   \n",
            "\n",
            "              20        21        22        23        24  EOL  MOL  \n",
            "69752   0.352054  0.680548  0.477094  0.477094 -0.321102    1    0  \n",
            "101036  0.429168  0.513292  0.455251  0.455251 -0.321098    0    0  \n",
            "16709   0.376494  0.437957  0.445287  0.445287 -0.321102    0    0  \n",
            "5708    0.323328 -1.757942 -0.571734 -0.571734 -0.321102    1    0  \n",
            "24653  -0.041137 -1.757942 -0.879695 -0.879695 -0.321102    0    1  \n",
            "\n",
            "[5 rows x 27 columns]\n"
          ]
        }
      ],
      "source": [
        "#Splitting the testing (X_test) Dataset 25% of the data will be altered with noise the rest will be used as clean data\n",
        "# X_Test_Clean, X_Test_Noise= train_test_split(X_test, train_size=0.75, test_size=0.25, random_state=0)\n",
        "X_Test_Clean, X_Test_Noise, y_test_Clean, y_test_Noise = train_test_split(X_test, Y_test, train_size=0.5, test_size=0.5, random_state=0)\n",
        "#Check sizes\n",
        "print(\"X_Test_Clean size is \" + str(X_Test_Clean.shape))\n",
        "print(\"X_Test_Noise size is \" + str(X_Test_Noise.shape))\n",
        "print(X_Test_Noise.head())"
      ]
    },
    {
      "cell_type": "code",
      "execution_count": null,
      "metadata": {
        "colab": {
          "base_uri": "https://localhost:8080/"
        },
        "outputId": "2ea73b38-0b3c-45a9-b7bc-f7b5d6439fc6",
        "id": "VoyV0wi6u8T-"
      },
      "outputs": [
        {
          "output_type": "stream",
          "name": "stdout",
          "text": [
            "              0         1         2         3         4         5         6   \\\n",
            "69752   0.440004  0.440004  0.555689  0.379235  0.417530  0.324777  0.367219   \n",
            "101036  0.440004  0.440004  0.622345  0.368131  0.406842  0.495683  0.356503   \n",
            "16709   0.440004  0.440004  0.569927  0.392994  0.430774  0.361344  0.379901   \n",
            "5708    0.440004  0.440004  0.551456  0.332328  0.372380  0.314027  0.322300   \n",
            "24653   0.440004  0.440004  0.412859 -0.083865 -0.002790 -0.000728 -0.065130   \n",
            "...          ...       ...       ...       ...       ...       ...       ...   \n",
            "21365   0.440004  0.440004 -0.595775 -2.567615 -2.413447 -2.626411 -2.451617   \n",
            "105095  0.440004  0.440004  0.556006  0.380732  0.418971  0.325543  0.368601   \n",
            "88609   0.440004  0.440004  0.618967  0.359087  0.398136  0.490466  0.347809   \n",
            "59942  -2.272707 -2.272707 -2.088919  0.387659  0.417563  0.316106  0.375295   \n",
            "626     0.440004  0.440004  0.552702  0.371758  0.410333  0.317018  0.360019   \n",
            "\n",
            "              7         8         9   ...        15        16        17  \\\n",
            "69752   0.408937  0.693230 -0.548148  ... -0.361835 -0.373813 -0.372805   \n",
            "101036  0.398171  0.702528 -0.549194  ...  0.280282  0.258756  0.254115   \n",
            "16709   0.421678  0.599475 -0.549395  ... -0.191894 -0.199807 -0.220860   \n",
            "5708    0.363808  0.337409  0.770867  ... -0.360374 -0.369898 -0.388106   \n",
            "24653  -0.025421  0.044944 -0.542767  ... -0.401576 -0.400836 -0.412158   \n",
            "...          ...       ...       ...  ...       ...       ...       ...   \n",
            "21365  -2.422834 -0.921422 -0.506691  ... -0.401576 -0.394276 -0.412158   \n",
            "105095  0.410325  0.673411 -0.548606  ... -0.400453 -0.412115 -0.411158   \n",
            "88609   0.389256  0.607266 -0.548560  ... -0.397305 -0.407255 -0.406170   \n",
            "59942   0.408971 -1.950364  2.108646  ... -0.361916 -0.373882 -0.372874   \n",
            "626     0.401703  0.630135  0.323266  ... -0.367783 -0.379239 -0.378229   \n",
            "\n",
            "              18        19        20        21        22        23        24  \n",
            "69752   0.497076  0.500434  0.352054  0.680548  0.477094  0.477094 -0.321102  \n",
            "101036  0.466901  0.467411  0.429168  0.513292  0.455251  0.455251 -0.321098  \n",
            "16709   0.324937  0.312247  0.376494  0.437957  0.445287  0.445287 -0.321102  \n",
            "5708    0.391100  0.384579  0.323328 -1.757942 -0.571734 -0.571734 -0.321102  \n",
            "24653   0.206038  0.184060 -0.041137 -1.757942 -0.879695 -0.879695 -0.321102  \n",
            "...          ...       ...       ...       ...       ...       ...       ...  \n",
            "21365  -2.419300 -2.356463 -2.551178 -1.757942 -2.677568 -2.677568 -0.321102  \n",
            "105095  0.513254  0.517912  0.353169  0.673868  0.476224  0.476224 -0.321102  \n",
            "88609   0.490441  0.493180  0.421244  0.743115  0.485199  0.485199 -0.321102  \n",
            "59942   0.497202  0.500572  0.352089  0.680775  0.477121  0.477121 -0.321102  \n",
            "626     0.479666  0.481401  0.344564 -0.164043  0.363844  0.363844 -0.321102  \n",
            "\n",
            "[27767 rows x 25 columns]\n"
          ]
        }
      ],
      "source": [
        "#We need to drop the two dummy variables from the X_Test_Noise set (We will add it back before training)\n",
        "X_NO_EOL_Test = X_Test_Noise.drop([\"EOL\"], axis=1)\n",
        "\n",
        "X_No_Dummy_Test =X_NO_EOL_Test.drop([\"MOL\"], axis=1)\n",
        "print(X_No_Dummy_Test)"
      ]
    },
    {
      "cell_type": "markdown",
      "source": [
        "Here we will add the trigger (noise) to the dataset. Make sure you have run the attack section so we have the trigger_numpy variable. Once these cells are run, you can no longer run the attack without restarting the entire notebook as the trigger has been flattened."
      ],
      "metadata": {
        "id": "X4rdtJo41PpH"
      }
    },
    {
      "cell_type": "code",
      "source": [
        "# Flatten trigger to 1D to add to the data\n",
        "trigger_numpy = trigger_numpy.flatten()"
      ],
      "metadata": {
        "id": "y3yPfC0xxvxX"
      },
      "execution_count": null,
      "outputs": []
    },
    {
      "cell_type": "code",
      "source": [
        "trigger_numpy = trigger_numpy[0:25]"
      ],
      "metadata": {
        "id": "oQycg3mUx1CA"
      },
      "execution_count": null,
      "outputs": []
    },
    {
      "cell_type": "code",
      "source": [
        "trigger_numpy.shape"
      ],
      "metadata": {
        "colab": {
          "base_uri": "https://localhost:8080/"
        },
        "id": "pO9xnGq5x8sA",
        "outputId": "924df5e6-5816-4553-b5fc-1bb38d76f058"
      },
      "execution_count": null,
      "outputs": [
        {
          "output_type": "execute_result",
          "data": {
            "text/plain": [
              "(25,)"
            ]
          },
          "metadata": {},
          "execution_count": 97
        }
      ]
    },
    {
      "cell_type": "code",
      "execution_count": null,
      "metadata": {
        "colab": {
          "base_uri": "https://localhost:8080/"
        },
        "id": "poMGoSAKvyfN",
        "outputId": "21ca901e-5e69-4125-e62e-86569c1c5400"
      },
      "outputs": [
        {
          "output_type": "stream",
          "name": "stdout",
          "text": [
            "              0         1         2         3         4         5         6   \\\n",
            "69752   0.385673  0.385673  0.501358  0.324904  0.363198  0.270446  0.312888   \n",
            "101036  0.385673  0.385673  0.568014  0.313800  0.352511  0.441352  0.302172   \n",
            "16709   0.385673  0.385673  0.515596  0.338663  0.376442  0.307013  0.325569   \n",
            "5708    0.385673  0.385673  0.497125  0.277997  0.318049  0.259696  0.267969   \n",
            "24653   0.385673  0.385673  0.358528 -0.138196 -0.057121 -0.055059 -0.119461   \n",
            "\n",
            "              7         8         9   ...        15        16        17  \\\n",
            "69752   0.354606  0.638899 -0.602479  ... -0.416166 -0.046100  2.553396   \n",
            "101036  0.343840  0.648197 -0.603525  ...  0.225951  0.586470  3.180317   \n",
            "16709   0.367347  0.545144 -0.603726  ... -0.246225  0.127906  2.705341   \n",
            "5708    0.309477  0.283078  0.716536  ... -0.414705 -0.042185  2.538095   \n",
            "24653  -0.079753 -0.009387 -0.597098  ... -0.455907 -0.073122  2.514043   \n",
            "\n",
            "              18        19        20        21        22        23        24  \n",
            "69752   0.442745  0.446103  0.297722  0.626216  0.422763  0.422763 -0.375433  \n",
            "101036  0.412570  0.413080  0.374837  0.458961  0.400920  0.400920 -0.375429  \n",
            "16709   0.270606  0.257916  0.322163  0.383626  0.390956  0.390956 -0.375433  \n",
            "5708    0.336769  0.330247  0.268997 -1.812273 -0.626065 -0.626065 -0.375433  \n",
            "24653   0.151707  0.129729 -0.095469 -1.812273 -0.934026 -0.934026 -0.375433  \n",
            "\n",
            "[5 rows x 25 columns]\n",
            "(27767, 25)\n"
          ]
        }
      ],
      "source": [
        "#Creating Noise Dataset\n",
        "#Adding to noise to data set\n",
        "signal = X_No_Dummy_Test+trigger_numpy\n",
        "print(signal.head())\n",
        "print(signal.shape)"
      ]
    },
    {
      "cell_type": "code",
      "execution_count": null,
      "metadata": {
        "colab": {
          "base_uri": "https://localhost:8080/"
        },
        "id": "-n7JBVM0vyfO",
        "outputId": "ea88e22f-2115-4b66-d933-bf3b11f3e66f"
      },
      "outputs": [
        {
          "output_type": "execute_result",
          "data": {
            "text/plain": [
              "0.40105873213478765"
            ]
          },
          "metadata": {},
          "execution_count": 99
        }
      ],
      "source": [
        "# noise level of trigger on dataset from mse\n",
        "mean_squared_error(X_No_Dummy_Test, signal)"
      ]
    },
    {
      "cell_type": "code",
      "execution_count": null,
      "metadata": {
        "colab": {
          "base_uri": "https://localhost:8080/"
        },
        "id": "rm4ahavgvyfP",
        "outputId": "645036b4-4ef9-4fa9-977c-e9c74c77ab02"
      },
      "outputs": [
        {
          "output_type": "stream",
          "name": "stdout",
          "text": [
            "<class 'pandas.core.frame.DataFrame'>\n",
            "(27767, 27)\n",
            "               0         1         2         3         4         5         6  \\\n",
            "69752   0.385673  0.385673  0.501358  0.324904  0.363198  0.270446  0.312888   \n",
            "101036  0.385673  0.385673  0.568014  0.313800  0.352511  0.441352  0.302172   \n",
            "16709   0.385673  0.385673  0.515596  0.338663  0.376442  0.307013  0.325569   \n",
            "5708    0.385673  0.385673  0.497125  0.277997  0.318049  0.259696  0.267969   \n",
            "24653   0.385673  0.385673  0.358528 -0.138196 -0.057121 -0.055059 -0.119461   \n",
            "\n",
            "               7         8         9  ...        17        18        19  \\\n",
            "69752   0.354606  0.638899 -0.602479  ...  2.553396  0.442745  0.446103   \n",
            "101036  0.343840  0.648197 -0.603525  ...  3.180317  0.412570  0.413080   \n",
            "16709   0.367347  0.545144 -0.603726  ...  2.705341  0.270606  0.257916   \n",
            "5708    0.309477  0.283078  0.716536  ...  2.538095  0.336769  0.330247   \n",
            "24653  -0.079753 -0.009387 -0.597098  ...  2.514043  0.151707  0.129729   \n",
            "\n",
            "              20        21        22        23        24  EOL  MOL  \n",
            "69752   0.297722  0.626216  0.422763  0.422763 -0.375433    1    0  \n",
            "101036  0.374837  0.458961  0.400920  0.400920 -0.375429    0    0  \n",
            "16709   0.322163  0.383626  0.390956  0.390956 -0.375433    0    0  \n",
            "5708    0.268997 -1.812273 -0.626065 -0.626065 -0.375433    1    0  \n",
            "24653  -0.095469 -1.812273 -0.934026 -0.934026 -0.375433    0    1  \n",
            "\n",
            "[5 rows x 27 columns]\n"
          ]
        }
      ],
      "source": [
        "#Re-configuring Data, we need to add  back the two dummfeatures\n",
        "print(type(signal))#signal is a pandas DF\n",
        "#Add EOL\n",
        "signal.insert(25,\"EOL\",X_Test_Noise[\"EOL\"])\n",
        "#Add MOL\n",
        "signal.insert(26,\"MOL\",X_Test_Noise[\"MOL\"])\n",
        "print(signal.shape)\n",
        "print(signal.head())\n",
        "#rename signal\n",
        "X_test_noisy = signal"
      ]
    },
    {
      "cell_type": "code",
      "execution_count": null,
      "metadata": {
        "colab": {
          "base_uri": "https://localhost:8080/"
        },
        "id": "fk6AjOETvyfS",
        "outputId": "7064e87d-bfa8-4bad-fae4-4b0b79a799ad"
      },
      "outputs": [
        {
          "output_type": "stream",
          "name": "stdout",
          "text": [
            "               0         1         2         3         4         5         6  \\\n",
            "69752   0.385673  0.385673  0.501358  0.324904  0.363198  0.270446  0.312888   \n",
            "101036  0.385673  0.385673  0.568014  0.313800  0.352511  0.441352  0.302172   \n",
            "16709   0.385673  0.385673  0.515596  0.338663  0.376442  0.307013  0.325569   \n",
            "5708    0.385673  0.385673  0.497125  0.277997  0.318049  0.259696  0.267969   \n",
            "24653   0.385673  0.385673  0.358528 -0.138196 -0.057121 -0.055059 -0.119461   \n",
            "\n",
            "               7         8         9  ...        18        19        20  \\\n",
            "69752   0.354606  0.638899 -0.602479  ...  0.442745  0.446103  0.297722   \n",
            "101036  0.343840  0.648197 -0.603525  ...  0.412570  0.413080  0.374837   \n",
            "16709   0.367347  0.545144 -0.603726  ...  0.270606  0.257916  0.322163   \n",
            "5708    0.309477  0.283078  0.716536  ...  0.336769  0.330247  0.268997   \n",
            "24653  -0.079753 -0.009387 -0.597098  ...  0.151707  0.129729 -0.095469   \n",
            "\n",
            "              21        22        23        24  EOL  MOL  34  \n",
            "69752   0.626216  0.422763  0.422763 -0.375433    1    0   1  \n",
            "101036  0.458961  0.400920  0.400920 -0.375429    0    0   1  \n",
            "16709   0.383626  0.390956  0.390956 -0.375433    0    0   1  \n",
            "5708   -1.812273 -0.626065 -0.626065 -0.375433    1    0   1  \n",
            "24653  -1.812273 -0.934026 -0.934026 -0.375433    0    1   1  \n",
            "\n",
            "[5 rows x 28 columns]\n",
            "1\n"
          ]
        }
      ],
      "source": [
        "#Adding Target Data to set 0 is clean data 1 is nosiey data\n",
        "X_train[34]=0\n",
        "X_Test_Clean[34]=0\n",
        "X_test_noisy[34]=1\n",
        "\n",
        "print(X_test_noisy.head())\n",
        "print(X_test_noisy[34].nunique())"
      ]
    },
    {
      "cell_type": "code",
      "execution_count": null,
      "metadata": {
        "colab": {
          "base_uri": "https://localhost:8080/"
        },
        "id": "fFSivMPOvyfV",
        "outputId": "76744dc7-f518-479a-ea4d-b88bc73232b3"
      },
      "outputs": [
        {
          "output_type": "stream",
          "name": "stdout",
          "text": [
            "69752     1\n",
            "101036    1\n",
            "16709     1\n",
            "5708      1\n",
            "24653     1\n",
            "51830     1\n",
            "54363     1\n",
            "51554     1\n",
            "98724     1\n",
            "9580      1\n",
            "54891     1\n",
            "50584     1\n",
            "51748     1\n",
            "12207     1\n",
            "30412     1\n",
            "101381    1\n",
            "49428     1\n",
            "103826    1\n",
            "73488     1\n",
            "106041    1\n",
            "41957     1\n",
            "105125    1\n",
            "108444    1\n",
            "65207     1\n",
            "65005     1\n",
            "99277     1\n",
            "58011     1\n",
            "37430     1\n",
            "92796     1\n",
            "64259     1\n",
            "110591    1\n",
            "15293     1\n",
            "103102    1\n",
            "3211      1\n",
            "1876      1\n",
            "100595    1\n",
            "85314     1\n",
            "86177     1\n",
            "101675    1\n",
            "109301    1\n",
            "29930     1\n",
            "109152    1\n",
            "41450     1\n",
            "49804     1\n",
            "1049      1\n",
            "28380     1\n",
            "84102     1\n",
            "8638      1\n",
            "46925     1\n",
            "93653     1\n",
            "Name: 34, dtype: int64\n",
            "20144    0\n",
            "60382    0\n",
            "52134    0\n",
            "6957     0\n",
            "66021    0\n",
            "Name: 34, dtype: int64\n",
            "Y_train_Clean shape is(55533,)\n",
            "Y_Test_Clean shape is(27766,)\n",
            "Y_test_noisy shape is(27767,)\n"
          ]
        }
      ],
      "source": [
        "#Seperating Target Data from Data\n",
        "Y_train=X_train[34]\n",
        "Y_Test_Clean=X_Test_Clean[34]\n",
        "Y_test_noisy=X_test_noisy[34]\n",
        "print(Y_test_noisy.head(50))\n",
        "print(Y_train.head())\n",
        "print(\"Y_train_Clean shape is\" +str(Y_train.shape))\n",
        "print(\"Y_Test_Clean shape is\" +str(Y_Test_Clean.shape))\n",
        "print(\"Y_test_noisy shape is\" +str(Y_test_noisy.shape))"
      ]
    },
    {
      "cell_type": "code",
      "execution_count": null,
      "metadata": {
        "colab": {
          "base_uri": "https://localhost:8080/"
        },
        "id": "wYnIadeUvyfX",
        "outputId": "1808185f-bbd6-4562-a0bd-91d4b2b66ab0"
      },
      "outputs": [
        {
          "output_type": "stream",
          "name": "stdout",
          "text": [
            "              0         1         2         3         4         5         6  \\\n",
            "20144  0.440004  0.440004 -0.538651 -2.411216 -2.263190 -2.475923 -2.298608   \n",
            "60382 -2.272707 -2.272707 -2.088919  0.387682  0.417597  0.316143  0.375329   \n",
            "52134 -2.272707 -2.272707 -2.088919  1.002313  0.362751  0.256920  0.967674   \n",
            "6957   0.440004  0.440004  0.515054  0.239872  0.283388  0.220061  0.233440   \n",
            "66021  0.440004  0.440004  0.782858  0.287843  0.329562  0.912806  0.279819   \n",
            "\n",
            "              7         8         9  ...        17        18        19  \\\n",
            "20144 -2.269245 -0.862289 -0.523942  ... -0.412158 -2.381747 -2.240746   \n",
            "60382  0.409005 -1.950364  2.108752  ... -0.372879  0.497297  0.500675   \n",
            "52134  0.354363 -1.949532  2.168299  ...  3.764310  0.167743  0.140606   \n",
            "6957   0.274533  0.294464  0.940723  ... -0.412158  0.165310  0.137739   \n",
            "66021  0.321129  0.716158 -0.549390  ...  3.680553  0.080915  0.045683   \n",
            "\n",
            "             20        21        22        23        24  EOL  MOL  \n",
            "20144 -2.400178 -1.757942 -2.542211 -2.542211 -0.319274    1    0  \n",
            "60382  0.352124  0.679730  0.476984  0.476984 -0.321102    1    0  \n",
            "52134  0.632549  0.688090  0.478092  0.478092  3.856616    0    1  \n",
            "6957   0.231598 -1.757942 -0.582623 -0.582623 -0.321102    0    0  \n",
            "66021  0.589490  0.733073  0.483916  0.483916  3.765249    0    1  \n",
            "\n",
            "[5 rows x 27 columns]\n",
            "               0         1         2         3         4         5         6  \\\n",
            "105668  0.440004  0.440004  0.555689  0.379223  0.417518  0.324777  0.367208   \n",
            "20705   0.440004  0.440004 -0.563133 -2.480611 -2.330919 -2.530317 -2.380706   \n",
            "110299  0.440004  0.440004  0.610770  0.497420  0.531287  0.466400  0.477477   \n",
            "73592   0.440004  0.440004  0.574348  0.393568  0.431325  0.373189  0.381035   \n",
            "110828  0.440004  0.440004  0.602106  0.492424  0.526478  0.443939  0.473860   \n",
            "\n",
            "               7         8         9  ...        17        18        19  \\\n",
            "105668  0.408926  0.693092 -0.548158  ... -0.372779  0.497044  0.500399   \n",
            "20705  -2.351739 -0.855267 -0.502114  ... -0.412158 -2.264384 -1.967122   \n",
            "110299  0.519710  0.691776 -0.549154  ... -0.245394  0.782932  0.799571   \n",
            "73592   0.422818  0.623542 -0.546785  ... -0.234244  0.498687  0.502195   \n",
            "110828  0.516088  0.553056 -0.546795  ... -0.266322  0.788272  0.806065   \n",
            "\n",
            "              20        21        22        23        24  EOL  MOL  \n",
            "105668  0.352054  0.680366  0.477066  0.477066 -0.321102    1    0  \n",
            "20705  -2.467513 -1.757942 -2.563714 -2.563714 -0.321102    0    1  \n",
            "110299  0.478942  0.711445  0.481105  0.481105 -0.321102    0    0  \n",
            "73592   0.382552  0.652013  0.473385  0.473385 -0.321102    0    1  \n",
            "110828  0.465935  0.645924  0.472588  0.472588 -0.321102    0    1  \n",
            "\n",
            "[5 rows x 27 columns]\n",
            "               0         1         2         3         4         5         6  \\\n",
            "69752   0.385673  0.385673  0.501358  0.324904  0.363198  0.270446  0.312888   \n",
            "101036  0.385673  0.385673  0.568014  0.313800  0.352511  0.441352  0.302172   \n",
            "16709   0.385673  0.385673  0.515596  0.338663  0.376442  0.307013  0.325569   \n",
            "5708    0.385673  0.385673  0.497125  0.277997  0.318049  0.259696  0.267969   \n",
            "24653   0.385673  0.385673  0.358528 -0.138196 -0.057121 -0.055059 -0.119461   \n",
            "\n",
            "               7         8         9  ...        17        18        19  \\\n",
            "69752   0.354606  0.638899 -0.602479  ...  2.553396  0.442745  0.446103   \n",
            "101036  0.343840  0.648197 -0.603525  ...  3.180317  0.412570  0.413080   \n",
            "16709   0.367347  0.545144 -0.603726  ...  2.705341  0.270606  0.257916   \n",
            "5708    0.309477  0.283078  0.716536  ...  2.538095  0.336769  0.330247   \n",
            "24653  -0.079753 -0.009387 -0.597098  ...  2.514043  0.151707  0.129729   \n",
            "\n",
            "              20        21        22        23        24  EOL  MOL  \n",
            "69752   0.297722  0.626216  0.422763  0.422763 -0.375433    1    0  \n",
            "101036  0.374837  0.458961  0.400920  0.400920 -0.375429    0    0  \n",
            "16709   0.322163  0.383626  0.390956  0.390956 -0.375433    0    0  \n",
            "5708    0.268997 -1.812273 -0.626065 -0.626065 -0.375433    1    0  \n",
            "24653  -0.095469 -1.812273 -0.934026 -0.934026 -0.375433    0    1  \n",
            "\n",
            "[5 rows x 27 columns]\n"
          ]
        }
      ],
      "source": [
        "#Drop Target Data from Datasets\n",
        "X_train = X_train.drop([34], axis=1)\n",
        "X_Test_Clean= X_Test_Clean.drop([34], axis=1)\n",
        "X_test_noisy = X_test_noisy.drop([34], axis=1)\n",
        "\n",
        "print(X_train.head())\n",
        "print(X_Test_Clean.head())\n",
        "print(X_test_noisy.head())"
      ]
    },
    {
      "cell_type": "markdown",
      "source": [
        "## Autoecoder Training"
      ],
      "metadata": {
        "id": "uO7lB25tzPsw"
      }
    },
    {
      "cell_type": "markdown",
      "source": [
        "Autoencoders require the same number of inputs and outputs. So in this case 27, since our data has 27 features. A bottleneck is created so the autoencoder can learn essential features and then reconstruct the data. Feel free to play around with the bottleneck! You can decrease the 7 or increase it just make sure it is smaller than the 14 (you can also change this value)."
      ],
      "metadata": {
        "id": "FLx_Od1S1lpZ"
      }
    },
    {
      "cell_type": "code",
      "execution_count": null,
      "metadata": {
        "colab": {
          "base_uri": "https://localhost:8080/"
        },
        "id": "H-VTrLUyvyfZ",
        "outputId": "52cbc13d-feb0-4e3c-8888-90073756915b"
      },
      "outputs": [
        {
          "output_type": "stream",
          "name": "stdout",
          "text": [
            "Model: \"model_1\"\n",
            "_________________________________________________________________\n",
            " Layer (type)                Output Shape              Param #   \n",
            "=================================================================\n",
            " input_2 (InputLayer)        [(None, 27)]              0         \n",
            "                                                                 \n",
            " dense_6 (Dense)             (None, 27)                756       \n",
            "                                                                 \n",
            " dropout_2 (Dropout)         (None, 27)                0         \n",
            "                                                                 \n",
            " dense_7 (Dense)             (None, 14)                392       \n",
            "                                                                 \n",
            " dense_8 (Dense)             (None, 9)                 135       \n",
            "                                                                 \n",
            " dense_9 (Dense)             (None, 14)                140       \n",
            "                                                                 \n",
            " dropout_3 (Dropout)         (None, 14)                0         \n",
            "                                                                 \n",
            " dense_10 (Dense)            (None, 27)                405       \n",
            "                                                                 \n",
            " dense_11 (Dense)            (None, 27)                756       \n",
            "                                                                 \n",
            "=================================================================\n",
            "Total params: 2,584\n",
            "Trainable params: 2,584\n",
            "Non-trainable params: 0\n",
            "_________________________________________________________________\n"
          ]
        }
      ],
      "source": [
        "#Setting up the Autoencoder\n",
        "#Input Layer\n",
        "input_layer = tf.keras.layers.Input(shape=(27, ))\n",
        "#Encoder\n",
        "encoder = tf.keras.layers.Dense(27, activation=tf.nn.leaky_relu)(input_layer)\n",
        "encoder=tf.keras.layers.Dropout(0.2)(encoder)\n",
        "encoder = tf.keras.layers.Dense(14, activation=tf.nn.leaky_relu)(encoder)\n",
        "encoder = tf.keras.layers.Dense(9, activation=tf.nn.leaky_relu)(encoder)\n",
        "#Decoder\n",
        "decoder = tf.keras.layers.Dense(14, activation=tf.nn.leaky_relu)(encoder)\n",
        "decoder=tf.keras.layers.Dropout(0.2)(decoder)\n",
        "decoder = tf.keras.layers.Dense(27, activation=tf.nn.leaky_relu)(decoder)\n",
        "decoder = tf.keras.layers.Dense(27, activation=tf.nn.leaky_relu)(decoder)\n",
        "#Autoencoder\n",
        "autoencoder = tf.keras.Model(inputs=input_layer, outputs=decoder)\n",
        "autoencoder.summary()"
      ]
    },
    {
      "cell_type": "code",
      "execution_count": null,
      "metadata": {
        "id": "pyQWl2PZvyfZ"
      },
      "outputs": [],
      "source": [
        "#Compile the model\n",
        "autoencoder.compile(optimizer='adam', loss='mae')"
      ]
    },
    {
      "cell_type": "code",
      "execution_count": null,
      "metadata": {
        "colab": {
          "base_uri": "https://localhost:8080/"
        },
        "id": "wNyvOVtmvyfZ",
        "outputId": "b0161ef9-60fd-47a6-f58d-e62444be8315"
      },
      "outputs": [
        {
          "output_type": "stream",
          "name": "stdout",
          "text": [
            "<class 'tensorflow.python.framework.ops.EagerTensor'>\n",
            "(55533, 27)\n",
            "<class 'tensorflow.python.framework.ops.EagerTensor'>\n",
            "(27766, 27)\n"
          ]
        }
      ],
      "source": [
        "#Convert Dataframes to Tensors\n",
        "X_Train_Tensor = tf.convert_to_tensor(X_train)\n",
        "X_Test_Clean_Tensor =tf.convert_to_tensor(X_Test_Clean)\n",
        "print(type(X_Train_Tensor))\n",
        "print(X_Train_Tensor.shape)\n",
        "print(type(X_Test_Clean_Tensor))\n",
        "print(X_Test_Clean_Tensor.shape)"
      ]
    },
    {
      "cell_type": "markdown",
      "source": [
        "Currently training with 100 epochs but for the sake of time, feel free to lower this."
      ],
      "metadata": {
        "id": "Gzn-j3RV1xEH"
      }
    },
    {
      "cell_type": "code",
      "execution_count": null,
      "metadata": {
        "colab": {
          "base_uri": "https://localhost:8080/"
        },
        "id": "VSMQutUOvyfa",
        "outputId": "36362a08-629b-4b81-ce7a-883c67aaa6aa"
      },
      "outputs": [
        {
          "output_type": "stream",
          "name": "stdout",
          "text": [
            "Epoch 1/100\n",
            "556/556 [==============================] - 3s 3ms/step - loss: 0.3461 - val_loss: 0.2139\n",
            "Epoch 2/100\n",
            "556/556 [==============================] - 2s 3ms/step - loss: 0.2181 - val_loss: 0.1536\n",
            "Epoch 3/100\n",
            "556/556 [==============================] - 2s 3ms/step - loss: 0.1847 - val_loss: 0.1381\n",
            "Epoch 4/100\n",
            "556/556 [==============================] - 1s 2ms/step - loss: 0.1708 - val_loss: 0.1399\n",
            "Epoch 5/100\n",
            "556/556 [==============================] - 1s 2ms/step - loss: 0.1617 - val_loss: 0.1387\n",
            "Epoch 6/100\n",
            "556/556 [==============================] - 1s 2ms/step - loss: 0.1562 - val_loss: 0.1358\n",
            "Epoch 7/100\n",
            "556/556 [==============================] - 1s 2ms/step - loss: 0.1523 - val_loss: 0.1400\n",
            "Epoch 8/100\n",
            "556/556 [==============================] - 1s 2ms/step - loss: 0.1485 - val_loss: 0.1456\n",
            "Epoch 9/100\n",
            "556/556 [==============================] - 1s 2ms/step - loss: 0.1447 - val_loss: 0.1381\n",
            "Epoch 10/100\n",
            "556/556 [==============================] - 1s 2ms/step - loss: 0.1412 - val_loss: 0.1424\n",
            "Epoch 11/100\n",
            "556/556 [==============================] - 2s 4ms/step - loss: 0.1381 - val_loss: 0.1486\n",
            "Epoch 12/100\n",
            "556/556 [==============================] - 1s 2ms/step - loss: 0.1354 - val_loss: 0.1540\n",
            "Epoch 13/100\n",
            "556/556 [==============================] - 1s 3ms/step - loss: 0.1325 - val_loss: 0.1528\n",
            "Epoch 14/100\n",
            "556/556 [==============================] - 1s 2ms/step - loss: 0.1304 - val_loss: 0.1523\n",
            "Epoch 15/100\n",
            "556/556 [==============================] - 1s 2ms/step - loss: 0.1290 - val_loss: 0.1559\n",
            "Epoch 16/100\n",
            "556/556 [==============================] - 1s 2ms/step - loss: 0.1278 - val_loss: 0.1569\n",
            "Epoch 17/100\n",
            "556/556 [==============================] - 1s 2ms/step - loss: 0.1260 - val_loss: 0.1646\n",
            "Epoch 18/100\n",
            "556/556 [==============================] - 1s 2ms/step - loss: 0.1250 - val_loss: 0.1601\n",
            "Epoch 19/100\n",
            "556/556 [==============================] - 2s 3ms/step - loss: 0.1235 - val_loss: 0.1612\n",
            "Epoch 20/100\n",
            "556/556 [==============================] - 2s 3ms/step - loss: 0.1225 - val_loss: 0.1638\n",
            "Epoch 21/100\n",
            "556/556 [==============================] - 1s 2ms/step - loss: 0.1225 - val_loss: 0.1632\n",
            "Epoch 22/100\n",
            "556/556 [==============================] - 1s 2ms/step - loss: 0.1206 - val_loss: 0.1687\n",
            "Epoch 23/100\n",
            "556/556 [==============================] - 1s 2ms/step - loss: 0.1200 - val_loss: 0.1627\n",
            "Epoch 24/100\n",
            "556/556 [==============================] - 1s 2ms/step - loss: 0.1194 - val_loss: 0.1683\n",
            "Epoch 25/100\n",
            "556/556 [==============================] - 1s 2ms/step - loss: 0.1181 - val_loss: 0.1681\n",
            "Epoch 26/100\n",
            "556/556 [==============================] - 1s 2ms/step - loss: 0.1175 - val_loss: 0.1678\n",
            "Epoch 27/100\n",
            "556/556 [==============================] - 1s 2ms/step - loss: 0.1167 - val_loss: 0.1663\n",
            "Epoch 28/100\n",
            "556/556 [==============================] - 2s 4ms/step - loss: 0.1151 - val_loss: 0.1675\n",
            "Epoch 29/100\n",
            "556/556 [==============================] - 1s 3ms/step - loss: 0.1154 - val_loss: 0.1670\n",
            "Epoch 30/100\n",
            "556/556 [==============================] - 1s 2ms/step - loss: 0.1137 - val_loss: 0.1737\n",
            "Epoch 31/100\n",
            "556/556 [==============================] - 2s 3ms/step - loss: 0.1135 - val_loss: 0.1727\n",
            "Epoch 32/100\n",
            "556/556 [==============================] - 2s 3ms/step - loss: 0.1122 - val_loss: 0.1665\n",
            "Epoch 33/100\n",
            "556/556 [==============================] - 2s 3ms/step - loss: 0.1113 - val_loss: 0.1659\n",
            "Epoch 34/100\n",
            "556/556 [==============================] - 1s 2ms/step - loss: 0.1086 - val_loss: 0.1622\n",
            "Epoch 35/100\n",
            "556/556 [==============================] - 2s 3ms/step - loss: 0.1070 - val_loss: 0.1630\n",
            "Epoch 36/100\n",
            "556/556 [==============================] - 4s 6ms/step - loss: 0.1058 - val_loss: 0.1606\n",
            "Epoch 37/100\n",
            "556/556 [==============================] - 2s 3ms/step - loss: 0.1053 - val_loss: 0.1594\n",
            "Epoch 38/100\n",
            "556/556 [==============================] - 1s 2ms/step - loss: 0.1044 - val_loss: 0.1587\n",
            "Epoch 39/100\n",
            "556/556 [==============================] - 1s 2ms/step - loss: 0.1030 - val_loss: 0.1630\n",
            "Epoch 40/100\n",
            "556/556 [==============================] - 1s 2ms/step - loss: 0.1033 - val_loss: 0.1625\n",
            "Epoch 41/100\n",
            "556/556 [==============================] - 1s 2ms/step - loss: 0.1022 - val_loss: 0.1610\n",
            "Epoch 42/100\n",
            "556/556 [==============================] - 1s 2ms/step - loss: 0.1024 - val_loss: 0.1650\n",
            "Epoch 43/100\n",
            "556/556 [==============================] - 2s 3ms/step - loss: 0.1019 - val_loss: 0.1634\n",
            "Epoch 44/100\n",
            "556/556 [==============================] - 2s 3ms/step - loss: 0.1013 - val_loss: 0.1626\n",
            "Epoch 45/100\n",
            "556/556 [==============================] - 1s 2ms/step - loss: 0.1004 - val_loss: 0.1635\n",
            "Epoch 46/100\n",
            "556/556 [==============================] - 1s 2ms/step - loss: 0.1001 - val_loss: 0.1599\n",
            "Epoch 47/100\n",
            "556/556 [==============================] - 1s 2ms/step - loss: 0.1008 - val_loss: 0.1598\n",
            "Epoch 48/100\n",
            "556/556 [==============================] - 1s 2ms/step - loss: 0.0998 - val_loss: 0.1613\n",
            "Epoch 49/100\n",
            "556/556 [==============================] - 1s 2ms/step - loss: 0.0999 - val_loss: 0.1614\n",
            "Epoch 50/100\n",
            "556/556 [==============================] - 1s 2ms/step - loss: 0.0992 - val_loss: 0.1625\n",
            "Epoch 51/100\n",
            "556/556 [==============================] - 2s 3ms/step - loss: 0.0998 - val_loss: 0.1548\n",
            "Epoch 52/100\n",
            "556/556 [==============================] - 2s 3ms/step - loss: 0.0992 - val_loss: 0.1628\n",
            "Epoch 53/100\n",
            "556/556 [==============================] - 1s 2ms/step - loss: 0.0981 - val_loss: 0.1637\n",
            "Epoch 54/100\n",
            "556/556 [==============================] - 1s 2ms/step - loss: 0.0981 - val_loss: 0.1583\n",
            "Epoch 55/100\n",
            "556/556 [==============================] - 1s 3ms/step - loss: 0.0982 - val_loss: 0.1610\n",
            "Epoch 56/100\n",
            "556/556 [==============================] - 1s 2ms/step - loss: 0.0975 - val_loss: 0.1622\n",
            "Epoch 57/100\n",
            "556/556 [==============================] - 2s 3ms/step - loss: 0.0974 - val_loss: 0.1630\n",
            "Epoch 58/100\n",
            "556/556 [==============================] - 2s 3ms/step - loss: 0.0969 - val_loss: 0.1613\n",
            "Epoch 59/100\n",
            "556/556 [==============================] - 2s 3ms/step - loss: 0.0966 - val_loss: 0.1605\n",
            "Epoch 60/100\n",
            "556/556 [==============================] - 2s 3ms/step - loss: 0.0960 - val_loss: 0.1619\n",
            "Epoch 61/100\n",
            "556/556 [==============================] - 1s 2ms/step - loss: 0.0962 - val_loss: 0.1648\n",
            "Epoch 62/100\n",
            "556/556 [==============================] - 1s 2ms/step - loss: 0.0961 - val_loss: 0.1613\n",
            "Epoch 63/100\n",
            "556/556 [==============================] - 1s 2ms/step - loss: 0.0968 - val_loss: 0.1606\n",
            "Epoch 64/100\n",
            "556/556 [==============================] - 1s 2ms/step - loss: 0.0967 - val_loss: 0.1621\n",
            "Epoch 65/100\n",
            "556/556 [==============================] - 1s 2ms/step - loss: 0.0954 - val_loss: 0.1608\n",
            "Epoch 66/100\n",
            "556/556 [==============================] - 1s 2ms/step - loss: 0.0955 - val_loss: 0.1628\n",
            "Epoch 67/100\n",
            "556/556 [==============================] - 1s 2ms/step - loss: 0.0954 - val_loss: 0.1632\n",
            "Epoch 68/100\n",
            "556/556 [==============================] - 2s 4ms/step - loss: 0.0952 - val_loss: 0.1594\n",
            "Epoch 69/100\n",
            "556/556 [==============================] - 2s 3ms/step - loss: 0.0954 - val_loss: 0.1553\n",
            "Epoch 70/100\n",
            "556/556 [==============================] - 1s 2ms/step - loss: 0.0949 - val_loss: 0.1619\n",
            "Epoch 71/100\n",
            "556/556 [==============================] - 1s 2ms/step - loss: 0.0948 - val_loss: 0.1625\n",
            "Epoch 72/100\n",
            "556/556 [==============================] - 1s 2ms/step - loss: 0.0952 - val_loss: 0.1628\n",
            "Epoch 73/100\n",
            "556/556 [==============================] - 1s 2ms/step - loss: 0.0948 - val_loss: 0.1644\n",
            "Epoch 74/100\n",
            "556/556 [==============================] - 1s 2ms/step - loss: 0.0944 - val_loss: 0.1635\n",
            "Epoch 75/100\n",
            "556/556 [==============================] - 1s 2ms/step - loss: 0.0941 - val_loss: 0.1642\n",
            "Epoch 76/100\n",
            "556/556 [==============================] - 2s 3ms/step - loss: 0.0941 - val_loss: 0.1624\n",
            "Epoch 77/100\n",
            "556/556 [==============================] - 2s 3ms/step - loss: 0.0937 - val_loss: 0.1633\n",
            "Epoch 78/100\n",
            "556/556 [==============================] - 1s 2ms/step - loss: 0.0935 - val_loss: 0.1607\n",
            "Epoch 79/100\n",
            "556/556 [==============================] - 1s 2ms/step - loss: 0.0932 - val_loss: 0.1617\n",
            "Epoch 80/100\n",
            "556/556 [==============================] - 2s 3ms/step - loss: 0.0933 - val_loss: 0.1642\n",
            "Epoch 81/100\n",
            "556/556 [==============================] - 1s 2ms/step - loss: 0.0933 - val_loss: 0.1631\n",
            "Epoch 82/100\n",
            "556/556 [==============================] - 2s 3ms/step - loss: 0.0929 - val_loss: 0.1612\n",
            "Epoch 83/100\n",
            "556/556 [==============================] - 1s 2ms/step - loss: 0.0920 - val_loss: 0.1636\n",
            "Epoch 84/100\n",
            "556/556 [==============================] - 2s 3ms/step - loss: 0.0934 - val_loss: 0.1608\n",
            "Epoch 85/100\n",
            "556/556 [==============================] - 2s 3ms/step - loss: 0.0921 - val_loss: 0.1602\n",
            "Epoch 86/100\n",
            "556/556 [==============================] - 1s 2ms/step - loss: 0.0928 - val_loss: 0.1596\n",
            "Epoch 87/100\n",
            "556/556 [==============================] - 1s 2ms/step - loss: 0.0924 - val_loss: 0.1588\n",
            "Epoch 88/100\n",
            "556/556 [==============================] - 1s 2ms/step - loss: 0.0919 - val_loss: 0.1627\n",
            "Epoch 89/100\n",
            "556/556 [==============================] - 1s 2ms/step - loss: 0.0919 - val_loss: 0.1627\n",
            "Epoch 90/100\n",
            "556/556 [==============================] - 1s 2ms/step - loss: 0.0922 - val_loss: 0.1587\n",
            "Epoch 91/100\n",
            "556/556 [==============================] - 1s 2ms/step - loss: 0.0915 - val_loss: 0.1602\n",
            "Epoch 92/100\n",
            "556/556 [==============================] - 1s 2ms/step - loss: 0.0913 - val_loss: 0.1585\n",
            "Epoch 93/100\n",
            "556/556 [==============================] - 2s 4ms/step - loss: 0.0916 - val_loss: 0.1601\n",
            "Epoch 94/100\n",
            "556/556 [==============================] - 2s 3ms/step - loss: 0.0909 - val_loss: 0.1586\n",
            "Epoch 95/100\n",
            "556/556 [==============================] - 2s 3ms/step - loss: 0.0914 - val_loss: 0.1607\n",
            "Epoch 96/100\n",
            "556/556 [==============================] - 1s 2ms/step - loss: 0.0909 - val_loss: 0.1594\n",
            "Epoch 97/100\n",
            "556/556 [==============================] - 1s 2ms/step - loss: 0.0909 - val_loss: 0.1594\n",
            "Epoch 98/100\n",
            "556/556 [==============================] - 1s 2ms/step - loss: 0.0900 - val_loss: 0.1605\n",
            "Epoch 99/100\n",
            "556/556 [==============================] - 1s 2ms/step - loss: 0.0906 - val_loss: 0.1596\n",
            "Epoch 100/100\n",
            "556/556 [==============================] - 1s 2ms/step - loss: 0.0904 - val_loss: 0.1608\n",
            "The total time taken to run is:203.18639302253723seconds\n"
          ]
        }
      ],
      "source": [
        "#Start the timer\n",
        "t0=time.time()\n",
        "#Fit the model\n",
        "history = autoencoder.fit(X_train, X_train, epochs=100, batch_size=100,\n",
        "                          validation_data=(X_Test_Clean,X_Test_Clean),verbose=1)\n",
        "#Stopping Timer\n",
        "t1 = time.time()\n",
        "#Printing Execution Time for fit\n",
        "total = t1-t0\n",
        "print( \"The total time taken to run is:\" + str(total) + \"seconds\" )"
      ]
    },
    {
      "cell_type": "code",
      "execution_count": null,
      "metadata": {
        "colab": {
          "base_uri": "https://localhost:8080/",
          "height": 447
        },
        "id": "ZvfnLceTvyfa",
        "outputId": "297c302e-68d7-451d-c272-65374fae10f6"
      },
      "outputs": [
        {
          "output_type": "execute_result",
          "data": {
            "text/plain": [
              "<matplotlib.legend.Legend at 0x7d7ab7b61f00>"
            ]
          },
          "metadata": {},
          "execution_count": 109
        },
        {
          "output_type": "display_data",
          "data": {
            "text/plain": [
              "<Figure size 640x480 with 1 Axes>"
            ],
            "image/png": "[encoded data removed]"
          },
          "metadata": {}
        }
      ],
      "source": [
        "plt.plot(history.history[\"loss\"], label=\"Training Loss\")\n",
        "plt.plot(history.history[\"val_loss\"], label=\"Validation Loss\")\n",
        "plt.legend()"
      ]
    },
    {
      "cell_type": "markdown",
      "source": [
        "## Results"
      ],
      "metadata": {
        "id": "8-WVIi8AzUqK"
      }
    },
    {
      "cell_type": "code",
      "execution_count": null,
      "metadata": {
        "colab": {
          "base_uri": "https://localhost:8080/"
        },
        "id": "-kfQIXS_HGCC",
        "outputId": "2d185ece-ca2f-4d5c-eec9-ae48e6b2a47f"
      },
      "outputs": [
        {
          "output_type": "execute_result",
          "data": {
            "text/plain": [
              "(27766, 27)"
            ]
          },
          "metadata": {},
          "execution_count": 110
        }
      ],
      "source": [
        "#Creating testing data with actual and alterted data\n",
        "X_Test_Clean.shape"
      ]
    },
    {
      "cell_type": "code",
      "execution_count": null,
      "metadata": {
        "colab": {
          "base_uri": "https://localhost:8080/"
        },
        "id": "_pCK9qcw9R9s",
        "outputId": "1fb59e42-52fc-4a74-ea82-38a7618c3815"
      },
      "outputs": [
        {
          "output_type": "stream",
          "name": "stdout",
          "text": [
            "868/868 [==============================] - 1s 1ms/step\n",
            "1\n",
            "        Reconstruction_error  True_Class\n",
            "69752               0.433067           1\n",
            "101036              0.351006           1\n",
            "16709               0.369190           1\n",
            "5708                0.447796           1\n",
            "24653               0.694349           1\n"
          ]
        }
      ],
      "source": [
        "#Reconstruction Error with Noisy Data\n",
        "test_x_predictions = autoencoder.predict(X_test_noisy)\n",
        "mse = np.mean(np.power(X_test_noisy - test_x_predictions, 2), axis=1)\n",
        "error_df = pd.DataFrame({'Reconstruction_error': mse})\n",
        "print(Y_test_noisy.nunique())\n",
        "error_df['True_Class'] =1\n",
        "print(error_df.head())"
      ]
    },
    {
      "cell_type": "code",
      "source": [
        "X_Test_Clean.head()"
      ],
      "metadata": {
        "colab": {
          "base_uri": "https://localhost:8080/",
          "height": 299
        },
        "id": "rPzannhWgDhX",
        "outputId": "cac1c19f-c451-4ead-e187-ea30933684d2"
      },
      "execution_count": null,
      "outputs": [
        {
          "output_type": "execute_result",
          "data": {
            "text/plain": [
              "               0         1         2         3         4         5         6  \\\n",
              "105668  0.440004  0.440004  0.555689  0.379223  0.417518  0.324777  0.367208   \n",
              "20705   0.440004  0.440004 -0.563133 -2.480611 -2.330919 -2.530317 -2.380706   \n",
              "110299  0.440004  0.440004  0.610770  0.497420  0.531287  0.466400  0.477477   \n",
              "73592   0.440004  0.440004  0.574348  0.393568  0.431325  0.373189  0.381035   \n",
              "110828  0.440004  0.440004  0.602106  0.492424  0.526478  0.443939  0.473860   \n",
              "\n",
              "               7         8         9  ...        17        18        19  \\\n",
              "105668  0.408926  0.693092 -0.548158  ... -0.372779  0.497044  0.500399   \n",
              "20705  -2.351739 -0.855267 -0.502114  ... -0.412158 -2.264384 -1.967122   \n",
              "110299  0.519710  0.691776 -0.549154  ... -0.245394  0.782932  0.799571   \n",
              "73592   0.422818  0.623542 -0.546785  ... -0.234244  0.498687  0.502195   \n",
              "110828  0.516088  0.553056 -0.546795  ... -0.266322  0.788272  0.806065   \n",
              "\n",
              "              20        21        22        23        24  EOL  MOL  \n",
              "105668  0.352054  0.680366  0.477066  0.477066 -0.321102    1    0  \n",
              "20705  -2.467513 -1.757942 -2.563714 -2.563714 -0.321102    0    1  \n",
              "110299  0.478942  0.711445  0.481105  0.481105 -0.321102    0    0  \n",
              "73592   0.382552  0.652013  0.473385  0.473385 -0.321102    0    1  \n",
              "110828  0.465935  0.645924  0.472588  0.472588 -0.321102    0    1  \n",
              "\n",
              "[5 rows x 27 columns]"
            ],
            "text/html": [
              "\n",
              "\n",
              "  <div id=\"df-c9090d53-b164-4cdb-9f5c-c229219051f9\">\n",
              "    <div class=\"colab-df-container\">\n",
              "      <div>\n",
              "<style scoped>\n",
              "    .dataframe tbody tr th:only-of-type {\n",
              "        vertical-align: middle;\n",
              "    }\n",
              "\n",
              "    .dataframe tbody tr th {\n",
              "        vertical-align: top;\n",
              "    }\n",
              "\n",
              "    .dataframe thead th {\n",
              "        text-align: right;\n",
              "    }\n",
              "</style>\n",
              "<table border=\"1\" class=\"dataframe\">\n",
              "  <thead>\n",
              "    <tr style=\"text-align: right;\">\n",
              "      <th></th>\n",
              "      <th>0</th>\n",
              "      <th>1</th>\n",
              "      <th>2</th>\n",
              "      <th>3</th>\n",
              "      <th>4</th>\n",
              "      <th>5</th>\n",
              "      <th>6</th>\n",
              "      <th>7</th>\n",
              "      <th>8</th>\n",
              "      <th>9</th>\n",
              "      <th>...</th>\n",
              "      <th>17</th>\n",
              "      <th>18</th>\n",
              "      <th>19</th>\n",
              "      <th>20</th>\n",
              "      <th>21</th>\n",
              "      <th>22</th>\n",
              "      <th>23</th>\n",
              "      <th>24</th>\n",
              "      <th>EOL</th>\n",
              "      <th>MOL</th>\n",
              "    </tr>\n",
              "  </thead>\n",
              "  <tbody>\n",
              "    <tr>\n",
              "      <th>105668</th>\n",
              "      <td>0.440004</td>\n",
              "      <td>0.440004</td>\n",
              "      <td>0.555689</td>\n",
              "      <td>0.379223</td>\n",
              "      <td>0.417518</td>\n",
              "      <td>0.324777</td>\n",
              "      <td>0.367208</td>\n",
              "      <td>0.408926</td>\n",
              "      <td>0.693092</td>\n",
              "      <td>-0.548158</td>\n",
              "      <td>...</td>\n",
              "      <td>-0.372779</td>\n",
              "      <td>0.497044</td>\n",
              "      <td>0.500399</td>\n",
              "      <td>0.352054</td>\n",
              "      <td>0.680366</td>\n",
              "      <td>0.477066</td>\n",
              "      <td>0.477066</td>\n",
              "      <td>-0.321102</td>\n",
              "      <td>1</td>\n",
              "      <td>0</td>\n",
              "    </tr>\n",
              "    <tr>\n",
              "      <th>20705</th>\n",
              "      <td>0.440004</td>\n",
              "      <td>0.440004</td>\n",
              "      <td>-0.563133</td>\n",
              "      <td>-2.480611</td>\n",
              "      <td>-2.330919</td>\n",
              "      <td>-2.530317</td>\n",
              "      <td>-2.380706</td>\n",
              "      <td>-2.351739</td>\n",
              "      <td>-0.855267</td>\n",
              "      <td>-0.502114</td>\n",
              "      <td>...</td>\n",
              "      <td>-0.412158</td>\n",
              "      <td>-2.264384</td>\n",
              "      <td>-1.967122</td>\n",
              "      <td>-2.467513</td>\n",
              "      <td>-1.757942</td>\n",
              "      <td>-2.563714</td>\n",
              "      <td>-2.563714</td>\n",
              "      <td>-0.321102</td>\n",
              "      <td>0</td>\n",
              "      <td>1</td>\n",
              "    </tr>\n",
              "    <tr>\n",
              "      <th>110299</th>\n",
              "      <td>0.440004</td>\n",
              "      <td>0.440004</td>\n",
              "      <td>0.610770</td>\n",
              "      <td>0.497420</td>\n",
              "      <td>0.531287</td>\n",
              "      <td>0.466400</td>\n",
              "      <td>0.477477</td>\n",
              "      <td>0.519710</td>\n",
              "      <td>0.691776</td>\n",
              "      <td>-0.549154</td>\n",
              "      <td>...</td>\n",
              "      <td>-0.245394</td>\n",
              "      <td>0.782932</td>\n",
              "      <td>0.799571</td>\n",
              "      <td>0.478942</td>\n",
              "      <td>0.711445</td>\n",
              "      <td>0.481105</td>\n",
              "      <td>0.481105</td>\n",
              "      <td>-0.321102</td>\n",
              "      <td>0</td>\n",
              "      <td>0</td>\n",
              "    </tr>\n",
              "    <tr>\n",
              "      <th>73592</th>\n",
              "      <td>0.440004</td>\n",
              "      <td>0.440004</td>\n",
              "      <td>0.574348</td>\n",
              "      <td>0.393568</td>\n",
              "      <td>0.431325</td>\n",
              "      <td>0.373189</td>\n",
              "      <td>0.381035</td>\n",
              "      <td>0.422818</td>\n",
              "      <td>0.623542</td>\n",
              "      <td>-0.546785</td>\n",
              "      <td>...</td>\n",
              "      <td>-0.234244</td>\n",
              "      <td>0.498687</td>\n",
              "      <td>0.502195</td>\n",
              "      <td>0.382552</td>\n",
              "      <td>0.652013</td>\n",
              "      <td>0.473385</td>\n",
              "      <td>0.473385</td>\n",
              "      <td>-0.321102</td>\n",
              "      <td>0</td>\n",
              "      <td>1</td>\n",
              "    </tr>\n",
              "    <tr>\n",
              "      <th>110828</th>\n",
              "      <td>0.440004</td>\n",
              "      <td>0.440004</td>\n",
              "      <td>0.602106</td>\n",
              "      <td>0.492424</td>\n",
              "      <td>0.526478</td>\n",
              "      <td>0.443939</td>\n",
              "      <td>0.473860</td>\n",
              "      <td>0.516088</td>\n",
              "      <td>0.553056</td>\n",
              "      <td>-0.546795</td>\n",
              "      <td>...</td>\n",
              "      <td>-0.266322</td>\n",
              "      <td>0.788272</td>\n",
              "      <td>0.806065</td>\n",
              "      <td>0.465935</td>\n",
              "      <td>0.645924</td>\n",
              "      <td>0.472588</td>\n",
              "      <td>0.472588</td>\n",
              "      <td>-0.321102</td>\n",
              "      <td>0</td>\n",
              "      <td>1</td>\n",
              "    </tr>\n",
              "  </tbody>\n",
              "</table>\n",
              "<p>5 rows × 27 columns</p>\n",
              "</div>\n",
              "      <button class=\"colab-df-convert\" onclick=\"convertToInteractive('df-c9090d53-b164-4cdb-9f5c-c229219051f9')\"\n",
              "              title=\"Convert this dataframe to an interactive table.\"\n",
              "              style=\"display:none;\">\n",
              "\n",
              "  <svg xmlns=\"http://www.w3.org/2000/svg\" height=\"24px\"viewBox=\"0 0 24 24\"\n",
              "       width=\"24px\">\n",
              "    <path d=\"M0 0h24v24H0V0z\" fill=\"none\"/>\n",
              "    <path d=\"M18.56 5.44l.94 2.06.94-2.06 2.06-.94-2.06-.94-.94-2.06-.94 2.06-2.06.94zm-11 1L8.5 8.5l.94-2.06 2.06-.94-2.06-.94L8.5 2.5l-.94 2.06-2.06.94zm10 10l.94 2.06.94-2.06 2.06-.94-2.06-.94-.94-2.06-.94 2.06-2.06.94z\"/><path d=\"M17.41 7.96l-1.37-1.37c-.4-.4-.92-.59-1.43-.59-.52 0-1.04.2-1.43.59L10.3 9.45l-7.72 7.72c-.78.78-.78 2.05 0 2.83L4 21.41c.39.39.9.59 1.41.59.51 0 1.02-.2 1.41-.59l7.78-7.78 2.81-2.81c.8-.78.8-2.07 0-2.86zM5.41 20L4 18.59l7.72-7.72 1.47 1.35L5.41 20z\"/>\n",
              "  </svg>\n",
              "      </button>\n",
              "\n",
              "\n",
              "\n",
              "    <div id=\"df-43fc87c7-c60c-4614-afae-c2129f320fa2\">\n",
              "      <button class=\"colab-df-quickchart\" onclick=\"quickchart('df-43fc87c7-c60c-4614-afae-c2129f320fa2')\"\n",
              "              title=\"Suggest charts.\"\n",
              "              style=\"display:none;\">\n",
              "\n",
              "<svg xmlns=\"http://www.w3.org/2000/svg\" height=\"24px\"viewBox=\"0 0 24 24\"\n",
              "     width=\"24px\">\n",
              "    <g>\n",
              "        <path d=\"M19 3H5c-1.1 0-2 .9-2 2v14c0 1.1.9 2 2 2h14c1.1 0 2-.9 2-2V5c0-1.1-.9-2-2-2zM9 17H7v-7h2v7zm4 0h-2V7h2v10zm4 0h-2v-4h2v4z\"/>\n",
              "    </g>\n",
              "</svg>\n",
              "      </button>\n",
              "    </div>\n",
              "\n",
              "<style>\n",
              "  .colab-df-quickchart {\n",
              "    background-color: #E8F0FE;\n",
              "    border: none;\n",
              "    border-radius: 50%;\n",
              "    cursor: pointer;\n",
              "    display: none;\n",
              "    fill: #1967D2;\n",
              "    height: 32px;\n",
              "    padding: 0 0 0 0;\n",
              "    width: 32px;\n",
              "  }\n",
              "\n",
              "  .colab-df-quickchart:hover {\n",
              "    background-color: #E2EBFA;\n",
              "    box-shadow: 0px 1px 2px rgba(60, 64, 67, 0.3), 0px 1px 3px 1px rgba(60, 64, 67, 0.15);\n",
              "    fill: #174EA6;\n",
              "  }\n",
              "\n",
              "  [theme=dark] .colab-df-quickchart {\n",
              "    background-color: #3B4455;\n",
              "    fill: #D2E3FC;\n",
              "  }\n",
              "\n",
              "  [theme=dark] .colab-df-quickchart:hover {\n",
              "    background-color: #434B5C;\n",
              "    box-shadow: 0px 1px 3px 1px rgba(0, 0, 0, 0.15);\n",
              "    filter: drop-shadow(0px 1px 2px rgba(0, 0, 0, 0.3));\n",
              "    fill: #FFFFFF;\n",
              "  }\n",
              "</style>\n",
              "\n",
              "    <script>\n",
              "      async function quickchart(key) {\n",
              "        const containerElement = document.querySelector('#' + key);\n",
              "        const charts = await google.colab.kernel.invokeFunction(\n",
              "            'suggestCharts', [key], {});\n",
              "      }\n",
              "    </script>\n",
              "\n",
              "      <script>\n",
              "\n",
              "function displayQuickchartButton(domScope) {\n",
              "  let quickchartButtonEl =\n",
              "    domScope.querySelector('#df-43fc87c7-c60c-4614-afae-c2129f320fa2 button.colab-df-quickchart');\n",
              "  quickchartButtonEl.style.display =\n",
              "    google.colab.kernel.accessAllowed ? 'block' : 'none';\n",
              "}\n",
              "\n",
              "        displayQuickchartButton(document);\n",
              "      </script>\n",
              "      <style>\n",
              "    .colab-df-container {\n",
              "      display:flex;\n",
              "      flex-wrap:wrap;\n",
              "      gap: 12px;\n",
              "    }\n",
              "\n",
              "    .colab-df-convert {\n",
              "      background-color: #E8F0FE;\n",
              "      border: none;\n",
              "      border-radius: 50%;\n",
              "      cursor: pointer;\n",
              "      display: none;\n",
              "      fill: #1967D2;\n",
              "      height: 32px;\n",
              "      padding: 0 0 0 0;\n",
              "      width: 32px;\n",
              "    }\n",
              "\n",
              "    .colab-df-convert:hover {\n",
              "      background-color: #E2EBFA;\n",
              "      box-shadow: 0px 1px 2px rgba(60, 64, 67, 0.3), 0px 1px 3px 1px rgba(60, 64, 67, 0.15);\n",
              "      fill: #174EA6;\n",
              "    }\n",
              "\n",
              "    [theme=dark] .colab-df-convert {\n",
              "      background-color: #3B4455;\n",
              "      fill: #D2E3FC;\n",
              "    }\n",
              "\n",
              "    [theme=dark] .colab-df-convert:hover {\n",
              "      background-color: #434B5C;\n",
              "      box-shadow: 0px 1px 3px 1px rgba(0, 0, 0, 0.15);\n",
              "      filter: drop-shadow(0px 1px 2px rgba(0, 0, 0, 0.3));\n",
              "      fill: #FFFFFF;\n",
              "    }\n",
              "  </style>\n",
              "\n",
              "      <script>\n",
              "        const buttonEl =\n",
              "          document.querySelector('#df-c9090d53-b164-4cdb-9f5c-c229219051f9 button.colab-df-convert');\n",
              "        buttonEl.style.display =\n",
              "          google.colab.kernel.accessAllowed ? 'block' : 'none';\n",
              "\n",
              "        async function convertToInteractive(key) {\n",
              "          const element = document.querySelector('#df-c9090d53-b164-4cdb-9f5c-c229219051f9');\n",
              "          const dataTable =\n",
              "            await google.colab.kernel.invokeFunction('convertToInteractive',\n",
              "                                                     [key], {});\n",
              "          if (!dataTable) return;\n",
              "\n",
              "          const docLinkHtml = 'Like what you see? Visit the ' +\n",
              "            '<a target=\"_blank\" href=https://colab.research.google.com/notebooks/data_table.ipynb>data table notebook</a>'\n",
              "            + ' to learn more about interactive tables.';\n",
              "          element.innerHTML = '';\n",
              "          dataTable['output_type'] = 'display_data';\n",
              "          await google.colab.output.renderOutput(dataTable, element);\n",
              "          const docLink = document.createElement('div');\n",
              "          docLink.innerHTML = docLinkHtml;\n",
              "          element.appendChild(docLink);\n",
              "        }\n",
              "      </script>\n",
              "    </div>\n",
              "  </div>\n"
            ]
          },
          "metadata": {},
          "execution_count": 112
        }
      ]
    },
    {
      "cell_type": "code",
      "execution_count": null,
      "metadata": {
        "id": "Jq_Q4oHaPnYt",
        "colab": {
          "base_uri": "https://localhost:8080/"
        },
        "outputId": "09268567-eca6-4823-b3a3-ea898925cc06"
      },
      "outputs": [
        {
          "output_type": "stream",
          "name": "stdout",
          "text": [
            "868/868 [==============================] - 1s 1ms/step\n",
            "1\n",
            "        Reconstruction_error  True_Class\n",
            "105668              0.037188           0\n",
            "20705               0.350335           0\n",
            "110299              0.009733           0\n",
            "73592               0.038017           0\n",
            "110828              0.040007           0\n"
          ]
        }
      ],
      "source": [
        "#Reconstruction Error with Clean Data\n",
        "test_x_predictions_clean = autoencoder.predict(X_Test_Clean)\n",
        "mse = np.mean(np.power(X_Test_Clean - test_x_predictions_clean, 2), axis=1)\n",
        "error_dfclean = pd.DataFrame({'Reconstruction_error': mse})\n",
        "print(Y_test_noisy.nunique())\n",
        "error_dfclean['True_Class'] =Y_Test_Clean\n",
        "print(error_dfclean.head())"
      ]
    },
    {
      "cell_type": "code",
      "execution_count": null,
      "metadata": {
        "id": "QKZ_5gM6HC0U",
        "colab": {
          "base_uri": "https://localhost:8080/"
        },
        "outputId": "23367602-5c63-473a-9a8d-8876773f27f6"
      },
      "outputs": [
        {
          "output_type": "stream",
          "name": "stdout",
          "text": [
            "(27766, 27)\n",
            "(27767, 27)\n",
            "(55533, 27)\n",
            "(27766,)\n",
            "(27767,)\n",
            "(55533,)\n"
          ]
        }
      ],
      "source": [
        "print(X_Test_Clean.shape)\n",
        "print(X_test_noisy.shape)\n",
        "frames=[X_Test_Clean, X_test_noisy]\n",
        "X_test_Combo= pd.concat(frames)\n",
        "print(X_test_Combo.shape)\n",
        "print(Y_Test_Clean.shape)\n",
        "print(Y_test_noisy.shape)\n",
        "frames_2=[Y_Test_Clean,Y_test_noisy]\n",
        "Y_test_Combo= pd.concat(frames_2)\n",
        "print(Y_test_Combo.shape)"
      ]
    },
    {
      "cell_type": "code",
      "execution_count": null,
      "metadata": {
        "id": "xharjJ3g3xU7",
        "colab": {
          "base_uri": "https://localhost:8080/",
          "height": 487
        },
        "outputId": "e501db7a-296f-49ea-8231-3b68996b4edf"
      },
      "outputs": [
        {
          "output_type": "execute_result",
          "data": {
            "text/plain": [
              "               0         1         2         3         4         5         6  \\\n",
              "105668  0.440004  0.440004  0.555689  0.379223  0.417518  0.324777  0.367208   \n",
              "20705   0.440004  0.440004 -0.563133 -2.480611 -2.330919 -2.530317 -2.380706   \n",
              "110299  0.440004  0.440004  0.610770  0.497420  0.531287  0.466400  0.477477   \n",
              "73592   0.440004  0.440004  0.574348  0.393568  0.431325  0.373189  0.381035   \n",
              "110828  0.440004  0.440004  0.602106  0.492424  0.526478  0.443939  0.473860   \n",
              "...          ...       ...       ...       ...       ...       ...       ...   \n",
              "21365   0.385673  0.385673 -0.650106 -2.621946 -2.467778 -2.680742 -2.505948   \n",
              "105095  0.385673  0.385673  0.501674  0.326401  0.364640  0.271212  0.314270   \n",
              "88609   0.385673  0.385673  0.564636  0.304756  0.343805  0.436135  0.293478   \n",
              "59942  -2.327038 -2.327038 -2.143250  0.333328  0.363232  0.261775  0.320964   \n",
              "626     0.385673  0.385673  0.498371  0.317427  0.356002  0.262687  0.305688   \n",
              "\n",
              "               7         8         9  ...        17        18        19  \\\n",
              "105668  0.408926  0.693092 -0.548158  ... -0.372779  0.497044  0.500399   \n",
              "20705  -2.351739 -0.855267 -0.502114  ... -0.412158 -2.264384 -1.967122   \n",
              "110299  0.519710  0.691776 -0.549154  ... -0.245394  0.782932  0.799571   \n",
              "73592   0.422818  0.623542 -0.546785  ... -0.234244  0.498687  0.502195   \n",
              "110828  0.516088  0.553056 -0.546795  ... -0.266322  0.788272  0.806065   \n",
              "...          ...       ...       ...  ...       ...       ...       ...   \n",
              "21365  -2.477165 -0.975753 -0.561022  ...  2.514043 -2.473631 -2.410795   \n",
              "105095  0.355994  0.619079 -0.602937  ...  2.515044  0.458922  0.463581   \n",
              "88609   0.334925  0.552935 -0.602892  ...  2.520032  0.436110  0.438849   \n",
              "59942   0.354640 -2.004695  2.054315  ...  2.553328  0.442871  0.446241   \n",
              "626     0.347372  0.575804  0.268935  ...  2.547973  0.425335  0.427070   \n",
              "\n",
              "              20        21        22        23        24  EOL  MOL  \n",
              "105668  0.352054  0.680366  0.477066  0.477066 -0.321102    1    0  \n",
              "20705  -2.467513 -1.757942 -2.563714 -2.563714 -0.321102    0    1  \n",
              "110299  0.478942  0.711445  0.481105  0.481105 -0.321102    0    0  \n",
              "73592   0.382552  0.652013  0.473385  0.473385 -0.321102    0    1  \n",
              "110828  0.465935  0.645924  0.472588  0.472588 -0.321102    0    1  \n",
              "...          ...       ...       ...       ...       ...  ...  ...  \n",
              "21365  -2.605509 -1.812273 -2.731899 -2.731899 -0.375433    1    0  \n",
              "105095  0.298838  0.619537  0.421893  0.421893 -0.375433    1    0  \n",
              "88609   0.366913  0.688784  0.430867  0.430867 -0.375433    1    0  \n",
              "59942   0.297758  0.626444  0.422790  0.422790 -0.375433    1    0  \n",
              "626     0.290233 -0.218374  0.309513  0.309513 -0.375433    0    1  \n",
              "\n",
              "[55533 rows x 27 columns]"
            ],
            "text/html": [
              "\n",
              "\n",
              "  <div id=\"df-a12abc3d-23d8-41d8-9dc4-b152c256d28d\">\n",
              "    <div class=\"colab-df-container\">\n",
              "      <div>\n",
              "<style scoped>\n",
              "    .dataframe tbody tr th:only-of-type {\n",
              "        vertical-align: middle;\n",
              "    }\n",
              "\n",
              "    .dataframe tbody tr th {\n",
              "        vertical-align: top;\n",
              "    }\n",
              "\n",
              "    .dataframe thead th {\n",
              "        text-align: right;\n",
              "    }\n",
              "</style>\n",
              "<table border=\"1\" class=\"dataframe\">\n",
              "  <thead>\n",
              "    <tr style=\"text-align: right;\">\n",
              "      <th></th>\n",
              "      <th>0</th>\n",
              "      <th>1</th>\n",
              "      <th>2</th>\n",
              "      <th>3</th>\n",
              "      <th>4</th>\n",
              "      <th>5</th>\n",
              "      <th>6</th>\n",
              "      <th>7</th>\n",
              "      <th>8</th>\n",
              "      <th>9</th>\n",
              "      <th>...</th>\n",
              "      <th>17</th>\n",
              "      <th>18</th>\n",
              "      <th>19</th>\n",
              "      <th>20</th>\n",
              "      <th>21</th>\n",
              "      <th>22</th>\n",
              "      <th>23</th>\n",
              "      <th>24</th>\n",
              "      <th>EOL</th>\n",
              "      <th>MOL</th>\n",
              "    </tr>\n",
              "  </thead>\n",
              "  <tbody>\n",
              "    <tr>\n",
              "      <th>105668</th>\n",
              "      <td>0.440004</td>\n",
              "      <td>0.440004</td>\n",
              "      <td>0.555689</td>\n",
              "      <td>0.379223</td>\n",
              "      <td>0.417518</td>\n",
              "      <td>0.324777</td>\n",
              "      <td>0.367208</td>\n",
              "      <td>0.408926</td>\n",
              "      <td>0.693092</td>\n",
              "      <td>-0.548158</td>\n",
              "      <td>...</td>\n",
              "      <td>-0.372779</td>\n",
              "      <td>0.497044</td>\n",
              "      <td>0.500399</td>\n",
              "      <td>0.352054</td>\n",
              "      <td>0.680366</td>\n",
              "      <td>0.477066</td>\n",
              "      <td>0.477066</td>\n",
              "      <td>-0.321102</td>\n",
              "      <td>1</td>\n",
              "      <td>0</td>\n",
              "    </tr>\n",
              "    <tr>\n",
              "      <th>20705</th>\n",
              "      <td>0.440004</td>\n",
              "      <td>0.440004</td>\n",
              "      <td>-0.563133</td>\n",
              "      <td>-2.480611</td>\n",
              "      <td>-2.330919</td>\n",
              "      <td>-2.530317</td>\n",
              "      <td>-2.380706</td>\n",
              "      <td>-2.351739</td>\n",
              "      <td>-0.855267</td>\n",
              "      <td>-0.502114</td>\n",
              "      <td>...</td>\n",
              "      <td>-0.412158</td>\n",
              "      <td>-2.264384</td>\n",
              "      <td>-1.967122</td>\n",
              "      <td>-2.467513</td>\n",
              "      <td>-1.757942</td>\n",
              "      <td>-2.563714</td>\n",
              "      <td>-2.563714</td>\n",
              "      <td>-0.321102</td>\n",
              "      <td>0</td>\n",
              "      <td>1</td>\n",
              "    </tr>\n",
              "    <tr>\n",
              "      <th>110299</th>\n",
              "      <td>0.440004</td>\n",
              "      <td>0.440004</td>\n",
              "      <td>0.610770</td>\n",
              "      <td>0.497420</td>\n",
              "      <td>0.531287</td>\n",
              "      <td>0.466400</td>\n",
              "      <td>0.477477</td>\n",
              "      <td>0.519710</td>\n",
              "      <td>0.691776</td>\n",
              "      <td>-0.549154</td>\n",
              "      <td>...</td>\n",
              "      <td>-0.245394</td>\n",
              "      <td>0.782932</td>\n",
              "      <td>0.799571</td>\n",
              "      <td>0.478942</td>\n",
              "      <td>0.711445</td>\n",
              "      <td>0.481105</td>\n",
              "      <td>0.481105</td>\n",
              "      <td>-0.321102</td>\n",
              "      <td>0</td>\n",
              "      <td>0</td>\n",
              "    </tr>\n",
              "    <tr>\n",
              "      <th>73592</th>\n",
              "      <td>0.440004</td>\n",
              "      <td>0.440004</td>\n",
              "      <td>0.574348</td>\n",
              "      <td>0.393568</td>\n",
              "      <td>0.431325</td>\n",
              "      <td>0.373189</td>\n",
              "      <td>0.381035</td>\n",
              "      <td>0.422818</td>\n",
              "      <td>0.623542</td>\n",
              "      <td>-0.546785</td>\n",
              "      <td>...</td>\n",
              "      <td>-0.234244</td>\n",
              "      <td>0.498687</td>\n",
              "      <td>0.502195</td>\n",
              "      <td>0.382552</td>\n",
              "      <td>0.652013</td>\n",
              "      <td>0.473385</td>\n",
              "      <td>0.473385</td>\n",
              "      <td>-0.321102</td>\n",
              "      <td>0</td>\n",
              "      <td>1</td>\n",
              "    </tr>\n",
              "    <tr>\n",
              "      <th>110828</th>\n",
              "      <td>0.440004</td>\n",
              "      <td>0.440004</td>\n",
              "      <td>0.602106</td>\n",
              "      <td>0.492424</td>\n",
              "      <td>0.526478</td>\n",
              "      <td>0.443939</td>\n",
              "      <td>0.473860</td>\n",
              "      <td>0.516088</td>\n",
              "      <td>0.553056</td>\n",
              "      <td>-0.546795</td>\n",
              "      <td>...</td>\n",
              "      <td>-0.266322</td>\n",
              "      <td>0.788272</td>\n",
              "      <td>0.806065</td>\n",
              "      <td>0.465935</td>\n",
              "      <td>0.645924</td>\n",
              "      <td>0.472588</td>\n",
              "      <td>0.472588</td>\n",
              "      <td>-0.321102</td>\n",
              "      <td>0</td>\n",
              "      <td>1</td>\n",
              "    </tr>\n",
              "    <tr>\n",
              "      <th>...</th>\n",
              "      <td>...</td>\n",
              "      <td>...</td>\n",
              "      <td>...</td>\n",
              "      <td>...</td>\n",
              "      <td>...</td>\n",
              "      <td>...</td>\n",
              "      <td>...</td>\n",
              "      <td>...</td>\n",
              "      <td>...</td>\n",
              "      <td>...</td>\n",
              "      <td>...</td>\n",
              "      <td>...</td>\n",
              "      <td>...</td>\n",
              "      <td>...</td>\n",
              "      <td>...</td>\n",
              "      <td>...</td>\n",
              "      <td>...</td>\n",
              "      <td>...</td>\n",
              "      <td>...</td>\n",
              "      <td>...</td>\n",
              "      <td>...</td>\n",
              "    </tr>\n",
              "    <tr>\n",
              "      <th>21365</th>\n",
              "      <td>0.385673</td>\n",
              "      <td>0.385673</td>\n",
              "      <td>-0.650106</td>\n",
              "      <td>-2.621946</td>\n",
              "      <td>-2.467778</td>\n",
              "      <td>-2.680742</td>\n",
              "      <td>-2.505948</td>\n",
              "      <td>-2.477165</td>\n",
              "      <td>-0.975753</td>\n",
              "      <td>-0.561022</td>\n",
              "      <td>...</td>\n",
              "      <td>2.514043</td>\n",
              "      <td>-2.473631</td>\n",
              "      <td>-2.410795</td>\n",
              "      <td>-2.605509</td>\n",
              "      <td>-1.812273</td>\n",
              "      <td>-2.731899</td>\n",
              "      <td>-2.731899</td>\n",
              "      <td>-0.375433</td>\n",
              "      <td>1</td>\n",
              "      <td>0</td>\n",
              "    </tr>\n",
              "    <tr>\n",
              "      <th>105095</th>\n",
              "      <td>0.385673</td>\n",
              "      <td>0.385673</td>\n",
              "      <td>0.501674</td>\n",
              "      <td>0.326401</td>\n",
              "      <td>0.364640</td>\n",
              "      <td>0.271212</td>\n",
              "      <td>0.314270</td>\n",
              "      <td>0.355994</td>\n",
              "      <td>0.619079</td>\n",
              "      <td>-0.602937</td>\n",
              "      <td>...</td>\n",
              "      <td>2.515044</td>\n",
              "      <td>0.458922</td>\n",
              "      <td>0.463581</td>\n",
              "      <td>0.298838</td>\n",
              "      <td>0.619537</td>\n",
              "      <td>0.421893</td>\n",
              "      <td>0.421893</td>\n",
              "      <td>-0.375433</td>\n",
              "      <td>1</td>\n",
              "      <td>0</td>\n",
              "    </tr>\n",
              "    <tr>\n",
              "      <th>88609</th>\n",
              "      <td>0.385673</td>\n",
              "      <td>0.385673</td>\n",
              "      <td>0.564636</td>\n",
              "      <td>0.304756</td>\n",
              "      <td>0.343805</td>\n",
              "      <td>0.436135</td>\n",
              "      <td>0.293478</td>\n",
              "      <td>0.334925</td>\n",
              "      <td>0.552935</td>\n",
              "      <td>-0.602892</td>\n",
              "      <td>...</td>\n",
              "      <td>2.520032</td>\n",
              "      <td>0.436110</td>\n",
              "      <td>0.438849</td>\n",
              "      <td>0.366913</td>\n",
              "      <td>0.688784</td>\n",
              "      <td>0.430867</td>\n",
              "      <td>0.430867</td>\n",
              "      <td>-0.375433</td>\n",
              "      <td>1</td>\n",
              "      <td>0</td>\n",
              "    </tr>\n",
              "    <tr>\n",
              "      <th>59942</th>\n",
              "      <td>-2.327038</td>\n",
              "      <td>-2.327038</td>\n",
              "      <td>-2.143250</td>\n",
              "      <td>0.333328</td>\n",
              "      <td>0.363232</td>\n",
              "      <td>0.261775</td>\n",
              "      <td>0.320964</td>\n",
              "      <td>0.354640</td>\n",
              "      <td>-2.004695</td>\n",
              "      <td>2.054315</td>\n",
              "      <td>...</td>\n",
              "      <td>2.553328</td>\n",
              "      <td>0.442871</td>\n",
              "      <td>0.446241</td>\n",
              "      <td>0.297758</td>\n",
              "      <td>0.626444</td>\n",
              "      <td>0.422790</td>\n",
              "      <td>0.422790</td>\n",
              "      <td>-0.375433</td>\n",
              "      <td>1</td>\n",
              "      <td>0</td>\n",
              "    </tr>\n",
              "    <tr>\n",
              "      <th>626</th>\n",
              "      <td>0.385673</td>\n",
              "      <td>0.385673</td>\n",
              "      <td>0.498371</td>\n",
              "      <td>0.317427</td>\n",
              "      <td>0.356002</td>\n",
              "      <td>0.262687</td>\n",
              "      <td>0.305688</td>\n",
              "      <td>0.347372</td>\n",
              "      <td>0.575804</td>\n",
              "      <td>0.268935</td>\n",
              "      <td>...</td>\n",
              "      <td>2.547973</td>\n",
              "      <td>0.425335</td>\n",
              "      <td>0.427070</td>\n",
              "      <td>0.290233</td>\n",
              "      <td>-0.218374</td>\n",
              "      <td>0.309513</td>\n",
              "      <td>0.309513</td>\n",
              "      <td>-0.375433</td>\n",
              "      <td>0</td>\n",
              "      <td>1</td>\n",
              "    </tr>\n",
              "  </tbody>\n",
              "</table>\n",
              "<p>55533 rows × 27 columns</p>\n",
              "</div>\n",
              "      <button class=\"colab-df-convert\" onclick=\"convertToInteractive('df-a12abc3d-23d8-41d8-9dc4-b152c256d28d')\"\n",
              "              title=\"Convert this dataframe to an interactive table.\"\n",
              "              style=\"display:none;\">\n",
              "\n",
              "  <svg xmlns=\"http://www.w3.org/2000/svg\" height=\"24px\"viewBox=\"0 0 24 24\"\n",
              "       width=\"24px\">\n",
              "    <path d=\"M0 0h24v24H0V0z\" fill=\"none\"/>\n",
              "    <path d=\"M18.56 5.44l.94 2.06.94-2.06 2.06-.94-2.06-.94-.94-2.06-.94 2.06-2.06.94zm-11 1L8.5 8.5l.94-2.06 2.06-.94-2.06-.94L8.5 2.5l-.94 2.06-2.06.94zm10 10l.94 2.06.94-2.06 2.06-.94-2.06-.94-.94-2.06-.94 2.06-2.06.94z\"/><path d=\"M17.41 7.96l-1.37-1.37c-.4-.4-.92-.59-1.43-.59-.52 0-1.04.2-1.43.59L10.3 9.45l-7.72 7.72c-.78.78-.78 2.05 0 2.83L4 21.41c.39.39.9.59 1.41.59.51 0 1.02-.2 1.41-.59l7.78-7.78 2.81-2.81c.8-.78.8-2.07 0-2.86zM5.41 20L4 18.59l7.72-7.72 1.47 1.35L5.41 20z\"/>\n",
              "  </svg>\n",
              "      </button>\n",
              "\n",
              "\n",
              "\n",
              "    <div id=\"df-0eff7a35-798b-46ce-a41a-65a7c4b60639\">\n",
              "      <button class=\"colab-df-quickchart\" onclick=\"quickchart('df-0eff7a35-798b-46ce-a41a-65a7c4b60639')\"\n",
              "              title=\"Suggest charts.\"\n",
              "              style=\"display:none;\">\n",
              "\n",
              "<svg xmlns=\"http://www.w3.org/2000/svg\" height=\"24px\"viewBox=\"0 0 24 24\"\n",
              "     width=\"24px\">\n",
              "    <g>\n",
              "        <path d=\"M19 3H5c-1.1 0-2 .9-2 2v14c0 1.1.9 2 2 2h14c1.1 0 2-.9 2-2V5c0-1.1-.9-2-2-2zM9 17H7v-7h2v7zm4 0h-2V7h2v10zm4 0h-2v-4h2v4z\"/>\n",
              "    </g>\n",
              "</svg>\n",
              "      </button>\n",
              "    </div>\n",
              "\n",
              "<style>\n",
              "  .colab-df-quickchart {\n",
              "    background-color: #E8F0FE;\n",
              "    border: none;\n",
              "    border-radius: 50%;\n",
              "    cursor: pointer;\n",
              "    display: none;\n",
              "    fill: #1967D2;\n",
              "    height: 32px;\n",
              "    padding: 0 0 0 0;\n",
              "    width: 32px;\n",
              "  }\n",
              "\n",
              "  .colab-df-quickchart:hover {\n",
              "    background-color: #E2EBFA;\n",
              "    box-shadow: 0px 1px 2px rgba(60, 64, 67, 0.3), 0px 1px 3px 1px rgba(60, 64, 67, 0.15);\n",
              "    fill: #174EA6;\n",
              "  }\n",
              "\n",
              "  [theme=dark] .colab-df-quickchart {\n",
              "    background-color: #3B4455;\n",
              "    fill: #D2E3FC;\n",
              "  }\n",
              "\n",
              "  [theme=dark] .colab-df-quickchart:hover {\n",
              "    background-color: #434B5C;\n",
              "    box-shadow: 0px 1px 3px 1px rgba(0, 0, 0, 0.15);\n",
              "    filter: drop-shadow(0px 1px 2px rgba(0, 0, 0, 0.3));\n",
              "    fill: #FFFFFF;\n",
              "  }\n",
              "</style>\n",
              "\n",
              "    <script>\n",
              "      async function quickchart(key) {\n",
              "        const containerElement = document.querySelector('#' + key);\n",
              "        const charts = await google.colab.kernel.invokeFunction(\n",
              "            'suggestCharts', [key], {});\n",
              "      }\n",
              "    </script>\n",
              "\n",
              "      <script>\n",
              "\n",
              "function displayQuickchartButton(domScope) {\n",
              "  let quickchartButtonEl =\n",
              "    domScope.querySelector('#df-0eff7a35-798b-46ce-a41a-65a7c4b60639 button.colab-df-quickchart');\n",
              "  quickchartButtonEl.style.display =\n",
              "    google.colab.kernel.accessAllowed ? 'block' : 'none';\n",
              "}\n",
              "\n",
              "        displayQuickchartButton(document);\n",
              "      </script>\n",
              "      <style>\n",
              "    .colab-df-container {\n",
              "      display:flex;\n",
              "      flex-wrap:wrap;\n",
              "      gap: 12px;\n",
              "    }\n",
              "\n",
              "    .colab-df-convert {\n",
              "      background-color: #E8F0FE;\n",
              "      border: none;\n",
              "      border-radius: 50%;\n",
              "      cursor: pointer;\n",
              "      display: none;\n",
              "      fill: #1967D2;\n",
              "      height: 32px;\n",
              "      padding: 0 0 0 0;\n",
              "      width: 32px;\n",
              "    }\n",
              "\n",
              "    .colab-df-convert:hover {\n",
              "      background-color: #E2EBFA;\n",
              "      box-shadow: 0px 1px 2px rgba(60, 64, 67, 0.3), 0px 1px 3px 1px rgba(60, 64, 67, 0.15);\n",
              "      fill: #174EA6;\n",
              "    }\n",
              "\n",
              "    [theme=dark] .colab-df-convert {\n",
              "      background-color: #3B4455;\n",
              "      fill: #D2E3FC;\n",
              "    }\n",
              "\n",
              "    [theme=dark] .colab-df-convert:hover {\n",
              "      background-color: #434B5C;\n",
              "      box-shadow: 0px 1px 3px 1px rgba(0, 0, 0, 0.15);\n",
              "      filter: drop-shadow(0px 1px 2px rgba(0, 0, 0, 0.3));\n",
              "      fill: #FFFFFF;\n",
              "    }\n",
              "  </style>\n",
              "\n",
              "      <script>\n",
              "        const buttonEl =\n",
              "          document.querySelector('#df-a12abc3d-23d8-41d8-9dc4-b152c256d28d button.colab-df-convert');\n",
              "        buttonEl.style.display =\n",
              "          google.colab.kernel.accessAllowed ? 'block' : 'none';\n",
              "\n",
              "        async function convertToInteractive(key) {\n",
              "          const element = document.querySelector('#df-a12abc3d-23d8-41d8-9dc4-b152c256d28d');\n",
              "          const dataTable =\n",
              "            await google.colab.kernel.invokeFunction('convertToInteractive',\n",
              "                                                     [key], {});\n",
              "          if (!dataTable) return;\n",
              "\n",
              "          const docLinkHtml = 'Like what you see? Visit the ' +\n",
              "            '<a target=\"_blank\" href=https://colab.research.google.com/notebooks/data_table.ipynb>data table notebook</a>'\n",
              "            + ' to learn more about interactive tables.';\n",
              "          element.innerHTML = '';\n",
              "          dataTable['output_type'] = 'display_data';\n",
              "          await google.colab.output.renderOutput(dataTable, element);\n",
              "          const docLink = document.createElement('div');\n",
              "          docLink.innerHTML = docLinkHtml;\n",
              "          element.appendChild(docLink);\n",
              "        }\n",
              "      </script>\n",
              "    </div>\n",
              "  </div>\n"
            ]
          },
          "metadata": {},
          "execution_count": 115
        }
      ],
      "source": [
        "X_test_Combo"
      ]
    },
    {
      "cell_type": "code",
      "execution_count": null,
      "metadata": {
        "id": "f9JuR4EjVVfR",
        "colab": {
          "base_uri": "https://localhost:8080/"
        },
        "outputId": "234a0a7f-c68c-4e19-cdc2-5a93801039d7"
      },
      "outputs": [
        {
          "output_type": "stream",
          "name": "stdout",
          "text": [
            "1736/1736 [==============================] - 2s 1ms/step\n",
            "1\n",
            "        Reconstruction_error  True_Class\n",
            "105668              0.037188           0\n",
            "20705               0.350335           0\n",
            "110299              0.009733           0\n",
            "73592               0.038017           0\n",
            "110828              0.040007           0\n"
          ]
        }
      ],
      "source": [
        "#Calculate Reconstruction Error with Both Clean and Altered Data.\n",
        "test_x_predictions = autoencoder.predict(X_test_Combo)\n",
        "mse = np.mean(np.power(X_test_Combo - test_x_predictions, 2), axis=1)\n",
        "error_df = pd.DataFrame({'Reconstruction_error': mse})\n",
        "print(Y_test_noisy.nunique())\n",
        "error_df['True_Class'] =Y_test_Combo\n",
        "print(error_df.head())"
      ]
    },
    {
      "cell_type": "code",
      "execution_count": null,
      "metadata": {
        "id": "WN_9vioITGnL",
        "colab": {
          "base_uri": "https://localhost:8080/"
        },
        "outputId": "5acb7d62-1bb5-4d32-980f-dba0258b6f26"
      },
      "outputs": [
        {
          "output_type": "stream",
          "name": "stdout",
          "text": [
            "Threshold:  0.3\n"
          ]
        }
      ],
      "source": [
        "threshold = 0.3 # currently eyeballing from normal/altered graphs below\n",
        "print(\"Threshold: \", threshold)"
      ]
    },
    {
      "cell_type": "code",
      "execution_count": null,
      "metadata": {
        "id": "Cn2SJHM-KRyh",
        "colab": {
          "base_uri": "https://localhost:8080/",
          "height": 472
        },
        "outputId": "e8708f79-2e88-489f-fcf7-00c202145aec"
      },
      "outputs": [
        {
          "output_type": "display_data",
          "data": {
            "text/plain": [
              "<Figure size 640x480 with 1 Axes>"
            ],
            "image/png": "[encoded data removed]"
          },
          "metadata": {}
        }
      ],
      "source": [
        "#Visualize Reconstruction Error\n",
        "threshold_fixed = threshold\n",
        "groups = error_dfclean.groupby('True_Class')\n",
        "fig, ax = plt.subplots()\n",
        "for name, group in groups:\n",
        "    ax.plot(group.index, group.Reconstruction_error, marker='o', ms=3.5, linestyle='',\n",
        "            label= \"Altered Data\" if name == 1 else \"Normal\")\n",
        "ax.hlines(threshold_fixed, ax.get_xlim()[0], ax.get_xlim()[1], colors=\"r\", zorder=100, label='Threshold')\n",
        "ax.legend()\n",
        "plt.title(\"Reconstruction error for normal and altered data\")\n",
        "plt.ylabel(\"Reconstruction error\")\n",
        "plt.xlabel(\"Data point index\")\n",
        "plt.show();"
      ]
    },
    {
      "cell_type": "code",
      "execution_count": null,
      "metadata": {
        "id": "Pm0RzFZ4O_YS",
        "colab": {
          "base_uri": "https://localhost:8080/",
          "height": 472
        },
        "outputId": "d2242627-60ae-4e11-97cf-97fa2062cda7"
      },
      "outputs": [
        {
          "output_type": "display_data",
          "data": {
            "text/plain": [
              "<Figure size 640x480 with 1 Axes>"
            ],
            "image/png": "[encoded data removed]"
          },
          "metadata": {}
        }
      ],
      "source": [
        "#Visualize Reconstruction Error\n",
        "threshold_fixed = threshold\n",
        "groups = error_df.groupby('True_Class')\n",
        "fig, ax = plt.subplots()\n",
        "for name, group in groups:\n",
        "    ax.plot(group.index, group.Reconstruction_error, marker='o', ms=3.5, linestyle='',\n",
        "            label= \"Altered Data\" if name == 1 else \"Normal\")\n",
        "ax.hlines(threshold_fixed, ax.get_xlim()[0], ax.get_xlim()[1], colors=\"r\", zorder=100, label='Threshold')\n",
        "ax.legend()\n",
        "plt.title(\"Reconstruction error for normal and altered data\")\n",
        "plt.ylabel(\"Reconstruction error\")\n",
        "plt.xlabel(\"Data point index\")\n",
        "plt.show();"
      ]
    },
    {
      "cell_type": "code",
      "execution_count": null,
      "metadata": {
        "id": "c7L3WOgd5nH0",
        "colab": {
          "base_uri": "https://localhost:8080/"
        },
        "outputId": "4cb628ff-195c-4700-f549-3bf15f8bcb9b"
      },
      "outputs": [
        {
          "output_type": "stream",
          "name": "stdout",
          "text": [
            "105668    0\n",
            "20705     0\n",
            "110299    0\n",
            "73592     0\n",
            "110828    0\n",
            "Name: 34, dtype: int64\n"
          ]
        }
      ],
      "source": [
        "threshold_fixed =threshold\n",
        "pred_y = [1 if e > threshold_fixed else 0 for e in error_df.Reconstruction_error.values]\n",
        "error_df['pred'] =pred_y\n",
        "y_true=Y_test_Combo\n",
        "print(y_true.head())"
      ]
    },
    {
      "cell_type": "markdown",
      "source": [
        "The accuracy shown below tells us how successful out autoencoder was in detecting anomalies, which in this case is our trojaned data. The recall tells us how many trojaned data were classified as altered data."
      ],
      "metadata": {
        "id": "7Bf7SkiL19rp"
      }
    },
    {
      "cell_type": "code",
      "execution_count": null,
      "metadata": {
        "id": "Wm6Q1E3OSJCo",
        "colab": {
          "base_uri": "https://localhost:8080/"
        },
        "outputId": "1294dfc3-4620-4ac5-c44e-0251462b9795"
      },
      "outputs": [
        {
          "output_type": "stream",
          "name": "stdout",
          "text": [
            "Threshold:  0.3\n",
            "Accuracy of this model is: 92.58458934327336\n",
            "Precision of this model is: 87.09181592898146\n",
            "Recall of this model is: 99.9891958079735\n",
            "F1 of this model is: 93.09593266941621\n"
          ]
        }
      ],
      "source": [
        "# print Accuracy, precision and recall\n",
        "acc = accuracy_score(y_true, pred_y) * 100\n",
        "ps = precision_score(y_true, pred_y) * 100\n",
        "rs = recall_score(y_true, pred_y) * 100\n",
        "f1 = f1_score(y_true, pred_y) * 100\n",
        "print(\"Threshold: \", threshold)\n",
        "print('Accuracy of this model is:', acc)\n",
        "print('Precision of this model is:', ps)\n",
        "print('Recall of this model is:', rs)\n",
        "print('F1 of this model is:', f1)"
      ]
    },
    {
      "cell_type": "code",
      "execution_count": null,
      "metadata": {
        "id": "xS9gqHR7QOmW",
        "colab": {
          "base_uri": "https://localhost:8080/",
          "height": 559
        },
        "outputId": "41214b67-f34f-4aa8-8f22-a1399bd97b5d"
      },
      "outputs": [
        {
          "output_type": "stream",
          "name": "stdout",
          "text": [
            "Confusion matrix, without normalization\n",
            "[[23651  4115]\n",
            " [    3 27764]]\n"
          ]
        },
        {
          "output_type": "display_data",
          "data": {
            "text/plain": [
              "<Figure size 1000x500 with 2 Axes>"
            ],
            "image/png": "[encoded data removed]"
          },
          "metadata": {}
        }
      ],
      "source": [
        "#Visualization of Confusion Matrix\n",
        "def plot_confusion_matrix(y_true, y_pred, classes,\n",
        "                          normalize=False,\n",
        "                          title=None,\n",
        "                          cmap=plt.cm.Blues):\n",
        "    \"\"\"\n",
        "    This function prints and plots the confusion matrix.\n",
        "    Normalization can be applied by setting `normalize=True`.\n",
        "    \"\"\"\n",
        "    if not title:\n",
        "        if normalize:\n",
        "            title = 'Normalized confusion matrix'\n",
        "        else:\n",
        "            title = 'Confusion matrix, without normalization'\n",
        "\n",
        "    # Compute confusion matrix\n",
        "    cm = confusion_matrix(y_true, pred_y)\n",
        "    # Only use the labels that appear in the data\n",
        "    if normalize:\n",
        "        cm = cm.astype('float') / cm.sum(axis=1)[:, np.newaxis]\n",
        "        print(\"Normalized confusion matrix\")\n",
        "    else:\n",
        "        print('Confusion matrix, without normalization')\n",
        "\n",
        "    print(cm)\n",
        "\n",
        "    fig, ax = plt.subplots(figsize=(10,5))\n",
        "    fig.set(dpi=100)\n",
        "    im = ax.imshow(cm, interpolation='nearest', cmap=cmap)\n",
        "    ax.figure.colorbar(im, ax=ax)\n",
        "    # We want to show all ticks...\n",
        "    ax.set(xticks=np.arange(cm.shape[1]),\n",
        "           yticks=np.arange(cm.shape[0]),\n",
        "           # ... and label them with the respective list entries\n",
        "           xticklabels=classes, yticklabels=classes,\n",
        "           title=title,\n",
        "           ylabel='True label',\n",
        "           xlabel='Predicted label',\n",
        "\n",
        "          )\n",
        "\n",
        "    # Rotate the tick labels and set their alignment.\n",
        "    plt.setp(ax.get_xticklabels(), rotation=45, ha=\"right\",\n",
        "             rotation_mode=\"anchor\")\n",
        "\n",
        "    # Loop over data dimensions and create text annotations.\n",
        "    fmt = '.2f' if normalize else 'd'\n",
        "    thresh = cm.max() / 2.\n",
        "    for i in range(cm.shape[0]):\n",
        "        for j in range(cm.shape[1]):\n",
        "            ax.text(j, i, format(cm[i, j], fmt),\n",
        "                    ha=\"center\", va=\"center\",\n",
        "                    color=\"white\" if cm[i, j] > thresh else \"black\")\n",
        "    fig.tight_layout()\n",
        "    return ax\n",
        "\n",
        "\n",
        "np.set_printoptions(precision=2)\n",
        "\n",
        "# Plot non-normalized confusion matrix\n",
        "class_names=['True Data', 'Altered Data']\n",
        "plot_confusion_matrix(y_true, pred_y, classes=class_names,\n",
        "                      title='Threshold 0.88')\n",
        "\n",
        "plt.savefig('test.png', bbox_inches='tight')"
      ]
    },
    {
      "cell_type": "markdown",
      "source": [
        "The confusion matrix allows us to see how our data was classified. We want a low number of altered data being classified as true data. In our case, we do not want any trojaned data (altered) being classified as benign (true)."
      ],
      "metadata": {
        "id": "dRfy9xhb2HVb"
      }
    }
  ],
  "metadata": {
    "accelerator": "GPU",
    "colab": {
      "provenance": [],
      "include_colab_link": true
    },
    "gpuClass": "standard",
    "kernelspec": {
      "display_name": "Python 3",
      "name": "python3"
    },
    "language_info": {
      "name": "python"
    },
    "widgets": {
      "application/vnd.jupyter.widget-state+json": {
        "247b02defe21436db67cd595f91c11c4": {
          "model_module": "@jupyter-widgets/controls",
          "model_name": "HBoxModel",
          "model_module_version": "1.5.0",
          "state": {
            "_dom_classes": [],
            "_model_module": "@jupyter-widgets/controls",
            "_model_module_version": "1.5.0",
            "_model_name": "HBoxModel",
            "_view_count": null,
            "_view_module": "@jupyter-widgets/controls",
            "_view_module_version": "1.5.0",
            "_view_name": "HBoxView",
            "box_style": "",
            "children": [
              "IPY_MODEL_a4047ab1d2db44ab9a364029a864c2a1",
              "IPY_MODEL_26adb778e2df4fdcadc64af038f073c1",
              "IPY_MODEL_3bc80657b73140309aaea36b093b4831"
            ],
            "layout": "IPY_MODEL_f4c2d7418ade4fa88a7ca6160c4c3aa0"
          }
        },
        "a4047ab1d2db44ab9a364029a864c2a1": {
          "model_module": "@jupyter-widgets/controls",
          "model_name": "HTMLModel",
          "model_module_version": "1.5.0",
          "state": {
            "_dom_classes": [],
            "_model_module": "@jupyter-widgets/controls",
            "_model_module_version": "1.5.0",
            "_model_name": "HTMLModel",
            "_view_count": null,
            "_view_module": "@jupyter-widgets/controls",
            "_view_module_version": "1.5.0",
            "_view_name": "HTMLView",
            "description": "",
            "description_tooltip": null,
            "layout": "IPY_MODEL_9a0843ea9af146e2a88952c87abd6fd2",
            "placeholder": "​",
            "style": "IPY_MODEL_a2c1ca56cfc9483fbbde26071ae7064b",
            "value": "100%"
          }
        },
        "26adb778e2df4fdcadc64af038f073c1": {
          "model_module": "@jupyter-widgets/controls",
          "model_name": "FloatProgressModel",
          "model_module_version": "1.5.0",
          "state": {
            "_dom_classes": [],
            "_model_module": "@jupyter-widgets/controls",
            "_model_module_version": "1.5.0",
            "_model_name": "FloatProgressModel",
            "_view_count": null,
            "_view_module": "@jupyter-widgets/controls",
            "_view_module_version": "1.5.0",
            "_view_name": "ProgressView",
            "bar_style": "success",
            "description": "",
            "description_tooltip": null,
            "layout": "IPY_MODEL_711244381e214656b642fed5297a338a",
            "max": 2000,
            "min": 0,
            "orientation": "horizontal",
            "style": "IPY_MODEL_e3bbcccea2a5490298cbffde2140f2f6",
            "value": 2000
          }
        },
        "3bc80657b73140309aaea36b093b4831": {
          "model_module": "@jupyter-widgets/controls",
          "model_name": "HTMLModel",
          "model_module_version": "1.5.0",
          "state": {
            "_dom_classes": [],
            "_model_module": "@jupyter-widgets/controls",
            "_model_module_version": "1.5.0",
            "_model_name": "HTMLModel",
            "_view_count": null,
            "_view_module": "@jupyter-widgets/controls",
            "_view_module_version": "1.5.0",
            "_view_name": "HTMLView",
            "description": "",
            "description_tooltip": null,
            "layout": "IPY_MODEL_45b16fde90a94c8987ed93bd584f2f02",
            "placeholder": "​",
            "style": "IPY_MODEL_73cdcde50cf64d8ea542d11992dacb49",
            "value": " 2000/2000 [00:53&lt;00:00, 25.71it/s]"
          }
        },
        "f4c2d7418ade4fa88a7ca6160c4c3aa0": {
          "model_module": "@jupyter-widgets/base",
          "model_name": "LayoutModel",
          "model_module_version": "1.2.0",
          "state": {
            "_model_module": "@jupyter-widgets/base",
            "_model_module_version": "1.2.0",
            "_model_name": "LayoutModel",
            "_view_count": null,
            "_view_module": "@jupyter-widgets/base",
            "_view_module_version": "1.2.0",
            "_view_name": "LayoutView",
            "align_content": null,
            "align_items": null,
            "align_self": null,
            "border": null,
            "bottom": null,
            "display": null,
            "flex": null,
            "flex_flow": null,
            "grid_area": null,
            "grid_auto_columns": null,
            "grid_auto_flow": null,
            "grid_auto_rows": null,
            "grid_column": null,
            "grid_gap": null,
            "grid_row": null,
            "grid_template_areas": null,
            "grid_template_columns": null,
            "grid_template_rows": null,
            "height": null,
            "justify_content": null,
            "justify_items": null,
            "left": null,
            "margin": null,
            "max_height": null,
            "max_width": null,
            "min_height": null,
            "min_width": null,
            "object_fit": null,
            "object_position": null,
            "order": null,
            "overflow": null,
            "overflow_x": null,
            "overflow_y": null,
            "padding": null,
            "right": null,
            "top": null,
            "visibility": null,
            "width": null
          }
        },
        "9a0843ea9af146e2a88952c87abd6fd2": {
          "model_module": "@jupyter-widgets/base",
          "model_name": "LayoutModel",
          "model_module_version": "1.2.0",
          "state": {
            "_model_module": "@jupyter-widgets/base",
            "_model_module_version": "1.2.0",
            "_model_name": "LayoutModel",
            "_view_count": null,
            "_view_module": "@jupyter-widgets/base",
            "_view_module_version": "1.2.0",
            "_view_name": "LayoutView",
            "align_content": null,
            "align_items": null,
            "align_self": null,
            "border": null,
            "bottom": null,
            "display": null,
            "flex": null,
            "flex_flow": null,
            "grid_area": null,
            "grid_auto_columns": null,
            "grid_auto_flow": null,
            "grid_auto_rows": null,
            "grid_column": null,
            "grid_gap": null,
            "grid_row": null,
            "grid_template_areas": null,
            "grid_template_columns": null,
            "grid_template_rows": null,
            "height": null,
            "justify_content": null,
            "justify_items": null,
            "left": null,
            "margin": null,
            "max_height": null,
            "max_width": null,
            "min_height": null,
            "min_width": null,
            "object_fit": null,
            "object_position": null,
            "order": null,
            "overflow": null,
            "overflow_x": null,
            "overflow_y": null,
            "padding": null,
            "right": null,
            "top": null,
            "visibility": null,
            "width": null
          }
        },
        "a2c1ca56cfc9483fbbde26071ae7064b": {
          "model_module": "@jupyter-widgets/controls",
          "model_name": "DescriptionStyleModel",
          "model_module_version": "1.5.0",
          "state": {
            "_model_module": "@jupyter-widgets/controls",
            "_model_module_version": "1.5.0",
            "_model_name": "DescriptionStyleModel",
            "_view_count": null,
            "_view_module": "@jupyter-widgets/base",
            "_view_module_version": "1.2.0",
            "_view_name": "StyleView",
            "description_width": ""
          }
        },
        "711244381e214656b642fed5297a338a": {
          "model_module": "@jupyter-widgets/base",
          "model_name": "LayoutModel",
          "model_module_version": "1.2.0",
          "state": {
            "_model_module": "@jupyter-widgets/base",
            "_model_module_version": "1.2.0",
            "_model_name": "LayoutModel",
            "_view_count": null,
            "_view_module": "@jupyter-widgets/base",
            "_view_module_version": "1.2.0",
            "_view_name": "LayoutView",
            "align_content": null,
            "align_items": null,
            "align_self": null,
            "border": null,
            "bottom": null,
            "display": null,
            "flex": null,
            "flex_flow": null,
            "grid_area": null,
            "grid_auto_columns": null,
            "grid_auto_flow": null,
            "grid_auto_rows": null,
            "grid_column": null,
            "grid_gap": null,
            "grid_row": null,
            "grid_template_areas": null,
            "grid_template_columns": null,
            "grid_template_rows": null,
            "height": null,
            "justify_content": null,
            "justify_items": null,
            "left": null,
            "margin": null,
            "max_height": null,
            "max_width": null,
            "min_height": null,
            "min_width": null,
            "object_fit": null,
            "object_position": null,
            "order": null,
            "overflow": null,
            "overflow_x": null,
            "overflow_y": null,
            "padding": null,
            "right": null,
            "top": null,
            "visibility": null,
            "width": null
          }
        },
        "e3bbcccea2a5490298cbffde2140f2f6": {
          "model_module": "@jupyter-widgets/controls",
          "model_name": "ProgressStyleModel",
          "model_module_version": "1.5.0",
          "state": {
            "_model_module": "@jupyter-widgets/controls",
            "_model_module_version": "1.5.0",
            "_model_name": "ProgressStyleModel",
            "_view_count": null,
            "_view_module": "@jupyter-widgets/base",
            "_view_module_version": "1.2.0",
            "_view_name": "StyleView",
            "bar_color": null,
            "description_width": ""
          }
        },
        "45b16fde90a94c8987ed93bd584f2f02": {
          "model_module": "@jupyter-widgets/base",
          "model_name": "LayoutModel",
          "model_module_version": "1.2.0",
          "state": {
            "_model_module": "@jupyter-widgets/base",
            "_model_module_version": "1.2.0",
            "_model_name": "LayoutModel",
            "_view_count": null,
            "_view_module": "@jupyter-widgets/base",
            "_view_module_version": "1.2.0",
            "_view_name": "LayoutView",
            "align_content": null,
            "align_items": null,
            "align_self": null,
            "border": null,
            "bottom": null,
            "display": null,
            "flex": null,
            "flex_flow": null,
            "grid_area": null,
            "grid_auto_columns": null,
            "grid_auto_flow": null,
            "grid_auto_rows": null,
            "grid_column": null,
            "grid_gap": null,
            "grid_row": null,
            "grid_template_areas": null,
            "grid_template_columns": null,
            "grid_template_rows": null,
            "height": null,
            "justify_content": null,
            "justify_items": null,
            "left": null,
            "margin": null,
            "max_height": null,
            "max_width": null,
            "min_height": null,
            "min_width": null,
            "object_fit": null,
            "object_position": null,
            "order": null,
            "overflow": null,
            "overflow_x": null,
            "overflow_y": null,
            "padding": null,
            "right": null,
            "top": null,
            "visibility": null,
            "width": null
          }
        },
        "73cdcde50cf64d8ea542d11992dacb49": {
          "model_module": "@jupyter-widgets/controls",
          "model_name": "DescriptionStyleModel",
          "model_module_version": "1.5.0",
          "state": {
            "_model_module": "@jupyter-widgets/controls",
            "_model_module_version": "1.5.0",
            "_model_name": "DescriptionStyleModel",
            "_view_count": null,
            "_view_module": "@jupyter-widgets/base",
            "_view_module_version": "1.2.0",
            "_view_name": "StyleView",
            "description_width": ""
          }
        }
      }
    }
  },
  "nbformat": 4,
  "nbformat_minor": 0
}